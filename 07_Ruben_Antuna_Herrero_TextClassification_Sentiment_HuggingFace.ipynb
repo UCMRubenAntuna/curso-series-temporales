{
  "nbformat": 4,
  "nbformat_minor": 0,
  "metadata": {
    "colab": {
      "name": "Copiar_antes_de_usar_TextClassification_Sentiment_HuggingFace_copia_alumno.ipynb",
      "provenance": [],
      "collapsed_sections": [],
      "include_colab_link": true
    },
    "kernelspec": {
      "name": "python3",
      "display_name": "Python 3"
    },
    "language_info": {
      "name": "python"
    },
    "accelerator": "GPU",
    "widgets": {
      "application/vnd.jupyter.widget-state+json": {
        "27dac2b5a9794384b30d1b60c263c05f": {
          "model_module": "@jupyter-widgets/controls",
          "model_name": "HBoxModel",
          "model_module_version": "1.5.0",
          "state": {
            "_dom_classes": [],
            "_model_module": "@jupyter-widgets/controls",
            "_model_module_version": "1.5.0",
            "_model_name": "HBoxModel",
            "_view_count": null,
            "_view_module": "@jupyter-widgets/controls",
            "_view_module_version": "1.5.0",
            "_view_name": "HBoxView",
            "box_style": "",
            "children": [
              "IPY_MODEL_3246c1da801e40f78dc5cdd235c95499",
              "IPY_MODEL_2316e53aa27b4dc58413ac2d47848c4f",
              "IPY_MODEL_d1406fa653ff45eb811acfc015c42a0b"
            ],
            "layout": "IPY_MODEL_48b1fe7583fc4add9b0ac3a01e4f4dc6"
          }
        },
        "3246c1da801e40f78dc5cdd235c95499": {
          "model_module": "@jupyter-widgets/controls",
          "model_name": "HTMLModel",
          "model_module_version": "1.5.0",
          "state": {
            "_dom_classes": [],
            "_model_module": "@jupyter-widgets/controls",
            "_model_module_version": "1.5.0",
            "_model_name": "HTMLModel",
            "_view_count": null,
            "_view_module": "@jupyter-widgets/controls",
            "_view_module_version": "1.5.0",
            "_view_name": "HTMLView",
            "description": "",
            "description_tooltip": null,
            "layout": "IPY_MODEL_e249f079b3104ddbb78fe064912af68b",
            "placeholder": "​",
            "style": "IPY_MODEL_39536456ff2c4468a92e02224a4c8598",
            "value": "Downloading: 100%"
          }
        },
        "2316e53aa27b4dc58413ac2d47848c4f": {
          "model_module": "@jupyter-widgets/controls",
          "model_name": "FloatProgressModel",
          "model_module_version": "1.5.0",
          "state": {
            "_dom_classes": [],
            "_model_module": "@jupyter-widgets/controls",
            "_model_module_version": "1.5.0",
            "_model_name": "FloatProgressModel",
            "_view_count": null,
            "_view_module": "@jupyter-widgets/controls",
            "_view_module_version": "1.5.0",
            "_view_name": "ProgressView",
            "bar_style": "success",
            "description": "",
            "description_tooltip": null,
            "layout": "IPY_MODEL_966fe2c268454b33bc66b27d39b2d9f9",
            "max": 629,
            "min": 0,
            "orientation": "horizontal",
            "style": "IPY_MODEL_586b49acb1774fa8863a94efb4c26697",
            "value": 629
          }
        },
        "d1406fa653ff45eb811acfc015c42a0b": {
          "model_module": "@jupyter-widgets/controls",
          "model_name": "HTMLModel",
          "model_module_version": "1.5.0",
          "state": {
            "_dom_classes": [],
            "_model_module": "@jupyter-widgets/controls",
            "_model_module_version": "1.5.0",
            "_model_name": "HTMLModel",
            "_view_count": null,
            "_view_module": "@jupyter-widgets/controls",
            "_view_module_version": "1.5.0",
            "_view_name": "HTMLView",
            "description": "",
            "description_tooltip": null,
            "layout": "IPY_MODEL_f469bddf62f3415795dbb42e71b4e21a",
            "placeholder": "​",
            "style": "IPY_MODEL_d45b856c7eaf40b39a2c0d09872919c5",
            "value": " 629/629 [00:00&lt;00:00, 5.08kB/s]"
          }
        },
        "48b1fe7583fc4add9b0ac3a01e4f4dc6": {
          "model_module": "@jupyter-widgets/base",
          "model_name": "LayoutModel",
          "model_module_version": "1.2.0",
          "state": {
            "_model_module": "@jupyter-widgets/base",
            "_model_module_version": "1.2.0",
            "_model_name": "LayoutModel",
            "_view_count": null,
            "_view_module": "@jupyter-widgets/base",
            "_view_module_version": "1.2.0",
            "_view_name": "LayoutView",
            "align_content": null,
            "align_items": null,
            "align_self": null,
            "border": null,
            "bottom": null,
            "display": null,
            "flex": null,
            "flex_flow": null,
            "grid_area": null,
            "grid_auto_columns": null,
            "grid_auto_flow": null,
            "grid_auto_rows": null,
            "grid_column": null,
            "grid_gap": null,
            "grid_row": null,
            "grid_template_areas": null,
            "grid_template_columns": null,
            "grid_template_rows": null,
            "height": null,
            "justify_content": null,
            "justify_items": null,
            "left": null,
            "margin": null,
            "max_height": null,
            "max_width": null,
            "min_height": null,
            "min_width": null,
            "object_fit": null,
            "object_position": null,
            "order": null,
            "overflow": null,
            "overflow_x": null,
            "overflow_y": null,
            "padding": null,
            "right": null,
            "top": null,
            "visibility": null,
            "width": null
          }
        },
        "e249f079b3104ddbb78fe064912af68b": {
          "model_module": "@jupyter-widgets/base",
          "model_name": "LayoutModel",
          "model_module_version": "1.2.0",
          "state": {
            "_model_module": "@jupyter-widgets/base",
            "_model_module_version": "1.2.0",
            "_model_name": "LayoutModel",
            "_view_count": null,
            "_view_module": "@jupyter-widgets/base",
            "_view_module_version": "1.2.0",
            "_view_name": "LayoutView",
            "align_content": null,
            "align_items": null,
            "align_self": null,
            "border": null,
            "bottom": null,
            "display": null,
            "flex": null,
            "flex_flow": null,
            "grid_area": null,
            "grid_auto_columns": null,
            "grid_auto_flow": null,
            "grid_auto_rows": null,
            "grid_column": null,
            "grid_gap": null,
            "grid_row": null,
            "grid_template_areas": null,
            "grid_template_columns": null,
            "grid_template_rows": null,
            "height": null,
            "justify_content": null,
            "justify_items": null,
            "left": null,
            "margin": null,
            "max_height": null,
            "max_width": null,
            "min_height": null,
            "min_width": null,
            "object_fit": null,
            "object_position": null,
            "order": null,
            "overflow": null,
            "overflow_x": null,
            "overflow_y": null,
            "padding": null,
            "right": null,
            "top": null,
            "visibility": null,
            "width": null
          }
        },
        "39536456ff2c4468a92e02224a4c8598": {
          "model_module": "@jupyter-widgets/controls",
          "model_name": "DescriptionStyleModel",
          "model_module_version": "1.5.0",
          "state": {
            "_model_module": "@jupyter-widgets/controls",
            "_model_module_version": "1.5.0",
            "_model_name": "DescriptionStyleModel",
            "_view_count": null,
            "_view_module": "@jupyter-widgets/base",
            "_view_module_version": "1.2.0",
            "_view_name": "StyleView",
            "description_width": ""
          }
        },
        "966fe2c268454b33bc66b27d39b2d9f9": {
          "model_module": "@jupyter-widgets/base",
          "model_name": "LayoutModel",
          "model_module_version": "1.2.0",
          "state": {
            "_model_module": "@jupyter-widgets/base",
            "_model_module_version": "1.2.0",
            "_model_name": "LayoutModel",
            "_view_count": null,
            "_view_module": "@jupyter-widgets/base",
            "_view_module_version": "1.2.0",
            "_view_name": "LayoutView",
            "align_content": null,
            "align_items": null,
            "align_self": null,
            "border": null,
            "bottom": null,
            "display": null,
            "flex": null,
            "flex_flow": null,
            "grid_area": null,
            "grid_auto_columns": null,
            "grid_auto_flow": null,
            "grid_auto_rows": null,
            "grid_column": null,
            "grid_gap": null,
            "grid_row": null,
            "grid_template_areas": null,
            "grid_template_columns": null,
            "grid_template_rows": null,
            "height": null,
            "justify_content": null,
            "justify_items": null,
            "left": null,
            "margin": null,
            "max_height": null,
            "max_width": null,
            "min_height": null,
            "min_width": null,
            "object_fit": null,
            "object_position": null,
            "order": null,
            "overflow": null,
            "overflow_x": null,
            "overflow_y": null,
            "padding": null,
            "right": null,
            "top": null,
            "visibility": null,
            "width": null
          }
        },
        "586b49acb1774fa8863a94efb4c26697": {
          "model_module": "@jupyter-widgets/controls",
          "model_name": "ProgressStyleModel",
          "model_module_version": "1.5.0",
          "state": {
            "_model_module": "@jupyter-widgets/controls",
            "_model_module_version": "1.5.0",
            "_model_name": "ProgressStyleModel",
            "_view_count": null,
            "_view_module": "@jupyter-widgets/base",
            "_view_module_version": "1.2.0",
            "_view_name": "StyleView",
            "bar_color": null,
            "description_width": ""
          }
        },
        "f469bddf62f3415795dbb42e71b4e21a": {
          "model_module": "@jupyter-widgets/base",
          "model_name": "LayoutModel",
          "model_module_version": "1.2.0",
          "state": {
            "_model_module": "@jupyter-widgets/base",
            "_model_module_version": "1.2.0",
            "_model_name": "LayoutModel",
            "_view_count": null,
            "_view_module": "@jupyter-widgets/base",
            "_view_module_version": "1.2.0",
            "_view_name": "LayoutView",
            "align_content": null,
            "align_items": null,
            "align_self": null,
            "border": null,
            "bottom": null,
            "display": null,
            "flex": null,
            "flex_flow": null,
            "grid_area": null,
            "grid_auto_columns": null,
            "grid_auto_flow": null,
            "grid_auto_rows": null,
            "grid_column": null,
            "grid_gap": null,
            "grid_row": null,
            "grid_template_areas": null,
            "grid_template_columns": null,
            "grid_template_rows": null,
            "height": null,
            "justify_content": null,
            "justify_items": null,
            "left": null,
            "margin": null,
            "max_height": null,
            "max_width": null,
            "min_height": null,
            "min_width": null,
            "object_fit": null,
            "object_position": null,
            "order": null,
            "overflow": null,
            "overflow_x": null,
            "overflow_y": null,
            "padding": null,
            "right": null,
            "top": null,
            "visibility": null,
            "width": null
          }
        },
        "d45b856c7eaf40b39a2c0d09872919c5": {
          "model_module": "@jupyter-widgets/controls",
          "model_name": "DescriptionStyleModel",
          "model_module_version": "1.5.0",
          "state": {
            "_model_module": "@jupyter-widgets/controls",
            "_model_module_version": "1.5.0",
            "_model_name": "DescriptionStyleModel",
            "_view_count": null,
            "_view_module": "@jupyter-widgets/base",
            "_view_module_version": "1.2.0",
            "_view_name": "StyleView",
            "description_width": ""
          }
        },
        "8e635447a7e148eeb4735e42bc18ee26": {
          "model_module": "@jupyter-widgets/controls",
          "model_name": "HBoxModel",
          "model_module_version": "1.5.0",
          "state": {
            "_dom_classes": [],
            "_model_module": "@jupyter-widgets/controls",
            "_model_module_version": "1.5.0",
            "_model_name": "HBoxModel",
            "_view_count": null,
            "_view_module": "@jupyter-widgets/controls",
            "_view_module_version": "1.5.0",
            "_view_name": "HBoxView",
            "box_style": "",
            "children": [
              "IPY_MODEL_f6a43ed9997f4a0db9223cd7d146c534",
              "IPY_MODEL_fadcc2ddb0394fa5b276c655548d6058",
              "IPY_MODEL_6612ac3331ab41beb60a45878766d84b"
            ],
            "layout": "IPY_MODEL_27bb96a950054812a0723c842af4d04c"
          }
        },
        "f6a43ed9997f4a0db9223cd7d146c534": {
          "model_module": "@jupyter-widgets/controls",
          "model_name": "HTMLModel",
          "model_module_version": "1.5.0",
          "state": {
            "_dom_classes": [],
            "_model_module": "@jupyter-widgets/controls",
            "_model_module_version": "1.5.0",
            "_model_name": "HTMLModel",
            "_view_count": null,
            "_view_module": "@jupyter-widgets/controls",
            "_view_module_version": "1.5.0",
            "_view_name": "HTMLView",
            "description": "",
            "description_tooltip": null,
            "layout": "IPY_MODEL_23412d5c61ad4edd8b5b2c979fdcf876",
            "placeholder": "​",
            "style": "IPY_MODEL_57c07c59481d41f89bd2cb4489054236",
            "value": "Downloading: 100%"
          }
        },
        "fadcc2ddb0394fa5b276c655548d6058": {
          "model_module": "@jupyter-widgets/controls",
          "model_name": "FloatProgressModel",
          "model_module_version": "1.5.0",
          "state": {
            "_dom_classes": [],
            "_model_module": "@jupyter-widgets/controls",
            "_model_module_version": "1.5.0",
            "_model_name": "FloatProgressModel",
            "_view_count": null,
            "_view_module": "@jupyter-widgets/controls",
            "_view_module_version": "1.5.0",
            "_view_name": "ProgressView",
            "bar_style": "success",
            "description": "",
            "description_tooltip": null,
            "layout": "IPY_MODEL_247e8fd257b84c2193d203fa5ce7f145",
            "max": 267844284,
            "min": 0,
            "orientation": "horizontal",
            "style": "IPY_MODEL_dd5945b967be45b7aa975e22046a526f",
            "value": 267844284
          }
        },
        "6612ac3331ab41beb60a45878766d84b": {
          "model_module": "@jupyter-widgets/controls",
          "model_name": "HTMLModel",
          "model_module_version": "1.5.0",
          "state": {
            "_dom_classes": [],
            "_model_module": "@jupyter-widgets/controls",
            "_model_module_version": "1.5.0",
            "_model_name": "HTMLModel",
            "_view_count": null,
            "_view_module": "@jupyter-widgets/controls",
            "_view_module_version": "1.5.0",
            "_view_name": "HTMLView",
            "description": "",
            "description_tooltip": null,
            "layout": "IPY_MODEL_a30c7ec17b514a158e5fd5bea71ab1e9",
            "placeholder": "​",
            "style": "IPY_MODEL_9bc71e8713ac4e039f5761c758adb9cd",
            "value": " 255M/255M [00:14&lt;00:00, 26.6MB/s]"
          }
        },
        "27bb96a950054812a0723c842af4d04c": {
          "model_module": "@jupyter-widgets/base",
          "model_name": "LayoutModel",
          "model_module_version": "1.2.0",
          "state": {
            "_model_module": "@jupyter-widgets/base",
            "_model_module_version": "1.2.0",
            "_model_name": "LayoutModel",
            "_view_count": null,
            "_view_module": "@jupyter-widgets/base",
            "_view_module_version": "1.2.0",
            "_view_name": "LayoutView",
            "align_content": null,
            "align_items": null,
            "align_self": null,
            "border": null,
            "bottom": null,
            "display": null,
            "flex": null,
            "flex_flow": null,
            "grid_area": null,
            "grid_auto_columns": null,
            "grid_auto_flow": null,
            "grid_auto_rows": null,
            "grid_column": null,
            "grid_gap": null,
            "grid_row": null,
            "grid_template_areas": null,
            "grid_template_columns": null,
            "grid_template_rows": null,
            "height": null,
            "justify_content": null,
            "justify_items": null,
            "left": null,
            "margin": null,
            "max_height": null,
            "max_width": null,
            "min_height": null,
            "min_width": null,
            "object_fit": null,
            "object_position": null,
            "order": null,
            "overflow": null,
            "overflow_x": null,
            "overflow_y": null,
            "padding": null,
            "right": null,
            "top": null,
            "visibility": null,
            "width": null
          }
        },
        "23412d5c61ad4edd8b5b2c979fdcf876": {
          "model_module": "@jupyter-widgets/base",
          "model_name": "LayoutModel",
          "model_module_version": "1.2.0",
          "state": {
            "_model_module": "@jupyter-widgets/base",
            "_model_module_version": "1.2.0",
            "_model_name": "LayoutModel",
            "_view_count": null,
            "_view_module": "@jupyter-widgets/base",
            "_view_module_version": "1.2.0",
            "_view_name": "LayoutView",
            "align_content": null,
            "align_items": null,
            "align_self": null,
            "border": null,
            "bottom": null,
            "display": null,
            "flex": null,
            "flex_flow": null,
            "grid_area": null,
            "grid_auto_columns": null,
            "grid_auto_flow": null,
            "grid_auto_rows": null,
            "grid_column": null,
            "grid_gap": null,
            "grid_row": null,
            "grid_template_areas": null,
            "grid_template_columns": null,
            "grid_template_rows": null,
            "height": null,
            "justify_content": null,
            "justify_items": null,
            "left": null,
            "margin": null,
            "max_height": null,
            "max_width": null,
            "min_height": null,
            "min_width": null,
            "object_fit": null,
            "object_position": null,
            "order": null,
            "overflow": null,
            "overflow_x": null,
            "overflow_y": null,
            "padding": null,
            "right": null,
            "top": null,
            "visibility": null,
            "width": null
          }
        },
        "57c07c59481d41f89bd2cb4489054236": {
          "model_module": "@jupyter-widgets/controls",
          "model_name": "DescriptionStyleModel",
          "model_module_version": "1.5.0",
          "state": {
            "_model_module": "@jupyter-widgets/controls",
            "_model_module_version": "1.5.0",
            "_model_name": "DescriptionStyleModel",
            "_view_count": null,
            "_view_module": "@jupyter-widgets/base",
            "_view_module_version": "1.2.0",
            "_view_name": "StyleView",
            "description_width": ""
          }
        },
        "247e8fd257b84c2193d203fa5ce7f145": {
          "model_module": "@jupyter-widgets/base",
          "model_name": "LayoutModel",
          "model_module_version": "1.2.0",
          "state": {
            "_model_module": "@jupyter-widgets/base",
            "_model_module_version": "1.2.0",
            "_model_name": "LayoutModel",
            "_view_count": null,
            "_view_module": "@jupyter-widgets/base",
            "_view_module_version": "1.2.0",
            "_view_name": "LayoutView",
            "align_content": null,
            "align_items": null,
            "align_self": null,
            "border": null,
            "bottom": null,
            "display": null,
            "flex": null,
            "flex_flow": null,
            "grid_area": null,
            "grid_auto_columns": null,
            "grid_auto_flow": null,
            "grid_auto_rows": null,
            "grid_column": null,
            "grid_gap": null,
            "grid_row": null,
            "grid_template_areas": null,
            "grid_template_columns": null,
            "grid_template_rows": null,
            "height": null,
            "justify_content": null,
            "justify_items": null,
            "left": null,
            "margin": null,
            "max_height": null,
            "max_width": null,
            "min_height": null,
            "min_width": null,
            "object_fit": null,
            "object_position": null,
            "order": null,
            "overflow": null,
            "overflow_x": null,
            "overflow_y": null,
            "padding": null,
            "right": null,
            "top": null,
            "visibility": null,
            "width": null
          }
        },
        "dd5945b967be45b7aa975e22046a526f": {
          "model_module": "@jupyter-widgets/controls",
          "model_name": "ProgressStyleModel",
          "model_module_version": "1.5.0",
          "state": {
            "_model_module": "@jupyter-widgets/controls",
            "_model_module_version": "1.5.0",
            "_model_name": "ProgressStyleModel",
            "_view_count": null,
            "_view_module": "@jupyter-widgets/base",
            "_view_module_version": "1.2.0",
            "_view_name": "StyleView",
            "bar_color": null,
            "description_width": ""
          }
        },
        "a30c7ec17b514a158e5fd5bea71ab1e9": {
          "model_module": "@jupyter-widgets/base",
          "model_name": "LayoutModel",
          "model_module_version": "1.2.0",
          "state": {
            "_model_module": "@jupyter-widgets/base",
            "_model_module_version": "1.2.0",
            "_model_name": "LayoutModel",
            "_view_count": null,
            "_view_module": "@jupyter-widgets/base",
            "_view_module_version": "1.2.0",
            "_view_name": "LayoutView",
            "align_content": null,
            "align_items": null,
            "align_self": null,
            "border": null,
            "bottom": null,
            "display": null,
            "flex": null,
            "flex_flow": null,
            "grid_area": null,
            "grid_auto_columns": null,
            "grid_auto_flow": null,
            "grid_auto_rows": null,
            "grid_column": null,
            "grid_gap": null,
            "grid_row": null,
            "grid_template_areas": null,
            "grid_template_columns": null,
            "grid_template_rows": null,
            "height": null,
            "justify_content": null,
            "justify_items": null,
            "left": null,
            "margin": null,
            "max_height": null,
            "max_width": null,
            "min_height": null,
            "min_width": null,
            "object_fit": null,
            "object_position": null,
            "order": null,
            "overflow": null,
            "overflow_x": null,
            "overflow_y": null,
            "padding": null,
            "right": null,
            "top": null,
            "visibility": null,
            "width": null
          }
        },
        "9bc71e8713ac4e039f5761c758adb9cd": {
          "model_module": "@jupyter-widgets/controls",
          "model_name": "DescriptionStyleModel",
          "model_module_version": "1.5.0",
          "state": {
            "_model_module": "@jupyter-widgets/controls",
            "_model_module_version": "1.5.0",
            "_model_name": "DescriptionStyleModel",
            "_view_count": null,
            "_view_module": "@jupyter-widgets/base",
            "_view_module_version": "1.2.0",
            "_view_name": "StyleView",
            "description_width": ""
          }
        },
        "ef4874f5e6894897b76ea9b367e73b82": {
          "model_module": "@jupyter-widgets/controls",
          "model_name": "HBoxModel",
          "model_module_version": "1.5.0",
          "state": {
            "_dom_classes": [],
            "_model_module": "@jupyter-widgets/controls",
            "_model_module_version": "1.5.0",
            "_model_name": "HBoxModel",
            "_view_count": null,
            "_view_module": "@jupyter-widgets/controls",
            "_view_module_version": "1.5.0",
            "_view_name": "HBoxView",
            "box_style": "",
            "children": [
              "IPY_MODEL_66fa9a92fb47427594bb0c267bb2603f",
              "IPY_MODEL_0391c4f54fa24b0f9ba2aeb33dd6213d",
              "IPY_MODEL_ec99d893992543cc9bb81ea685a30687"
            ],
            "layout": "IPY_MODEL_18f9fda61a3349369a75f47d5427938c"
          }
        },
        "66fa9a92fb47427594bb0c267bb2603f": {
          "model_module": "@jupyter-widgets/controls",
          "model_name": "HTMLModel",
          "model_module_version": "1.5.0",
          "state": {
            "_dom_classes": [],
            "_model_module": "@jupyter-widgets/controls",
            "_model_module_version": "1.5.0",
            "_model_name": "HTMLModel",
            "_view_count": null,
            "_view_module": "@jupyter-widgets/controls",
            "_view_module_version": "1.5.0",
            "_view_name": "HTMLView",
            "description": "",
            "description_tooltip": null,
            "layout": "IPY_MODEL_db3b5d04ae024a3383a917436edd54a7",
            "placeholder": "​",
            "style": "IPY_MODEL_aa60c0fb8eb3448d84c4eddc700b957b",
            "value": "Downloading: 100%"
          }
        },
        "0391c4f54fa24b0f9ba2aeb33dd6213d": {
          "model_module": "@jupyter-widgets/controls",
          "model_name": "FloatProgressModel",
          "model_module_version": "1.5.0",
          "state": {
            "_dom_classes": [],
            "_model_module": "@jupyter-widgets/controls",
            "_model_module_version": "1.5.0",
            "_model_name": "FloatProgressModel",
            "_view_count": null,
            "_view_module": "@jupyter-widgets/controls",
            "_view_module_version": "1.5.0",
            "_view_name": "ProgressView",
            "bar_style": "success",
            "description": "",
            "description_tooltip": null,
            "layout": "IPY_MODEL_f60cc9c196d3483199626a896e3aec59",
            "max": 48,
            "min": 0,
            "orientation": "horizontal",
            "style": "IPY_MODEL_ebc6c430dd12456ba89b9919e9b77c27",
            "value": 48
          }
        },
        "ec99d893992543cc9bb81ea685a30687": {
          "model_module": "@jupyter-widgets/controls",
          "model_name": "HTMLModel",
          "model_module_version": "1.5.0",
          "state": {
            "_dom_classes": [],
            "_model_module": "@jupyter-widgets/controls",
            "_model_module_version": "1.5.0",
            "_model_name": "HTMLModel",
            "_view_count": null,
            "_view_module": "@jupyter-widgets/controls",
            "_view_module_version": "1.5.0",
            "_view_name": "HTMLView",
            "description": "",
            "description_tooltip": null,
            "layout": "IPY_MODEL_ac9c83b850204573ab412a895090a81f",
            "placeholder": "​",
            "style": "IPY_MODEL_ed4bd7cb19ed45dd9be2da5076c4e9d8",
            "value": " 48.0/48.0 [00:00&lt;00:00, 694B/s]"
          }
        },
        "18f9fda61a3349369a75f47d5427938c": {
          "model_module": "@jupyter-widgets/base",
          "model_name": "LayoutModel",
          "model_module_version": "1.2.0",
          "state": {
            "_model_module": "@jupyter-widgets/base",
            "_model_module_version": "1.2.0",
            "_model_name": "LayoutModel",
            "_view_count": null,
            "_view_module": "@jupyter-widgets/base",
            "_view_module_version": "1.2.0",
            "_view_name": "LayoutView",
            "align_content": null,
            "align_items": null,
            "align_self": null,
            "border": null,
            "bottom": null,
            "display": null,
            "flex": null,
            "flex_flow": null,
            "grid_area": null,
            "grid_auto_columns": null,
            "grid_auto_flow": null,
            "grid_auto_rows": null,
            "grid_column": null,
            "grid_gap": null,
            "grid_row": null,
            "grid_template_areas": null,
            "grid_template_columns": null,
            "grid_template_rows": null,
            "height": null,
            "justify_content": null,
            "justify_items": null,
            "left": null,
            "margin": null,
            "max_height": null,
            "max_width": null,
            "min_height": null,
            "min_width": null,
            "object_fit": null,
            "object_position": null,
            "order": null,
            "overflow": null,
            "overflow_x": null,
            "overflow_y": null,
            "padding": null,
            "right": null,
            "top": null,
            "visibility": null,
            "width": null
          }
        },
        "db3b5d04ae024a3383a917436edd54a7": {
          "model_module": "@jupyter-widgets/base",
          "model_name": "LayoutModel",
          "model_module_version": "1.2.0",
          "state": {
            "_model_module": "@jupyter-widgets/base",
            "_model_module_version": "1.2.0",
            "_model_name": "LayoutModel",
            "_view_count": null,
            "_view_module": "@jupyter-widgets/base",
            "_view_module_version": "1.2.0",
            "_view_name": "LayoutView",
            "align_content": null,
            "align_items": null,
            "align_self": null,
            "border": null,
            "bottom": null,
            "display": null,
            "flex": null,
            "flex_flow": null,
            "grid_area": null,
            "grid_auto_columns": null,
            "grid_auto_flow": null,
            "grid_auto_rows": null,
            "grid_column": null,
            "grid_gap": null,
            "grid_row": null,
            "grid_template_areas": null,
            "grid_template_columns": null,
            "grid_template_rows": null,
            "height": null,
            "justify_content": null,
            "justify_items": null,
            "left": null,
            "margin": null,
            "max_height": null,
            "max_width": null,
            "min_height": null,
            "min_width": null,
            "object_fit": null,
            "object_position": null,
            "order": null,
            "overflow": null,
            "overflow_x": null,
            "overflow_y": null,
            "padding": null,
            "right": null,
            "top": null,
            "visibility": null,
            "width": null
          }
        },
        "aa60c0fb8eb3448d84c4eddc700b957b": {
          "model_module": "@jupyter-widgets/controls",
          "model_name": "DescriptionStyleModel",
          "model_module_version": "1.5.0",
          "state": {
            "_model_module": "@jupyter-widgets/controls",
            "_model_module_version": "1.5.0",
            "_model_name": "DescriptionStyleModel",
            "_view_count": null,
            "_view_module": "@jupyter-widgets/base",
            "_view_module_version": "1.2.0",
            "_view_name": "StyleView",
            "description_width": ""
          }
        },
        "f60cc9c196d3483199626a896e3aec59": {
          "model_module": "@jupyter-widgets/base",
          "model_name": "LayoutModel",
          "model_module_version": "1.2.0",
          "state": {
            "_model_module": "@jupyter-widgets/base",
            "_model_module_version": "1.2.0",
            "_model_name": "LayoutModel",
            "_view_count": null,
            "_view_module": "@jupyter-widgets/base",
            "_view_module_version": "1.2.0",
            "_view_name": "LayoutView",
            "align_content": null,
            "align_items": null,
            "align_self": null,
            "border": null,
            "bottom": null,
            "display": null,
            "flex": null,
            "flex_flow": null,
            "grid_area": null,
            "grid_auto_columns": null,
            "grid_auto_flow": null,
            "grid_auto_rows": null,
            "grid_column": null,
            "grid_gap": null,
            "grid_row": null,
            "grid_template_areas": null,
            "grid_template_columns": null,
            "grid_template_rows": null,
            "height": null,
            "justify_content": null,
            "justify_items": null,
            "left": null,
            "margin": null,
            "max_height": null,
            "max_width": null,
            "min_height": null,
            "min_width": null,
            "object_fit": null,
            "object_position": null,
            "order": null,
            "overflow": null,
            "overflow_x": null,
            "overflow_y": null,
            "padding": null,
            "right": null,
            "top": null,
            "visibility": null,
            "width": null
          }
        },
        "ebc6c430dd12456ba89b9919e9b77c27": {
          "model_module": "@jupyter-widgets/controls",
          "model_name": "ProgressStyleModel",
          "model_module_version": "1.5.0",
          "state": {
            "_model_module": "@jupyter-widgets/controls",
            "_model_module_version": "1.5.0",
            "_model_name": "ProgressStyleModel",
            "_view_count": null,
            "_view_module": "@jupyter-widgets/base",
            "_view_module_version": "1.2.0",
            "_view_name": "StyleView",
            "bar_color": null,
            "description_width": ""
          }
        },
        "ac9c83b850204573ab412a895090a81f": {
          "model_module": "@jupyter-widgets/base",
          "model_name": "LayoutModel",
          "model_module_version": "1.2.0",
          "state": {
            "_model_module": "@jupyter-widgets/base",
            "_model_module_version": "1.2.0",
            "_model_name": "LayoutModel",
            "_view_count": null,
            "_view_module": "@jupyter-widgets/base",
            "_view_module_version": "1.2.0",
            "_view_name": "LayoutView",
            "align_content": null,
            "align_items": null,
            "align_self": null,
            "border": null,
            "bottom": null,
            "display": null,
            "flex": null,
            "flex_flow": null,
            "grid_area": null,
            "grid_auto_columns": null,
            "grid_auto_flow": null,
            "grid_auto_rows": null,
            "grid_column": null,
            "grid_gap": null,
            "grid_row": null,
            "grid_template_areas": null,
            "grid_template_columns": null,
            "grid_template_rows": null,
            "height": null,
            "justify_content": null,
            "justify_items": null,
            "left": null,
            "margin": null,
            "max_height": null,
            "max_width": null,
            "min_height": null,
            "min_width": null,
            "object_fit": null,
            "object_position": null,
            "order": null,
            "overflow": null,
            "overflow_x": null,
            "overflow_y": null,
            "padding": null,
            "right": null,
            "top": null,
            "visibility": null,
            "width": null
          }
        },
        "ed4bd7cb19ed45dd9be2da5076c4e9d8": {
          "model_module": "@jupyter-widgets/controls",
          "model_name": "DescriptionStyleModel",
          "model_module_version": "1.5.0",
          "state": {
            "_model_module": "@jupyter-widgets/controls",
            "_model_module_version": "1.5.0",
            "_model_name": "DescriptionStyleModel",
            "_view_count": null,
            "_view_module": "@jupyter-widgets/base",
            "_view_module_version": "1.2.0",
            "_view_name": "StyleView",
            "description_width": ""
          }
        },
        "173d044c714f4f0ebf821550ce6d2b97": {
          "model_module": "@jupyter-widgets/controls",
          "model_name": "HBoxModel",
          "model_module_version": "1.5.0",
          "state": {
            "_dom_classes": [],
            "_model_module": "@jupyter-widgets/controls",
            "_model_module_version": "1.5.0",
            "_model_name": "HBoxModel",
            "_view_count": null,
            "_view_module": "@jupyter-widgets/controls",
            "_view_module_version": "1.5.0",
            "_view_name": "HBoxView",
            "box_style": "",
            "children": [
              "IPY_MODEL_28991e7c40514e4cba318b33738eb970",
              "IPY_MODEL_5142d0564fd64c55a114c642aa1e41da",
              "IPY_MODEL_aba7fe77c76c4e539d29bbcde4f913dd"
            ],
            "layout": "IPY_MODEL_4b04226534a84c6c8c2581e8329c480d"
          }
        },
        "28991e7c40514e4cba318b33738eb970": {
          "model_module": "@jupyter-widgets/controls",
          "model_name": "HTMLModel",
          "model_module_version": "1.5.0",
          "state": {
            "_dom_classes": [],
            "_model_module": "@jupyter-widgets/controls",
            "_model_module_version": "1.5.0",
            "_model_name": "HTMLModel",
            "_view_count": null,
            "_view_module": "@jupyter-widgets/controls",
            "_view_module_version": "1.5.0",
            "_view_name": "HTMLView",
            "description": "",
            "description_tooltip": null,
            "layout": "IPY_MODEL_896c375e2e4f4f7199e324d985fa7956",
            "placeholder": "​",
            "style": "IPY_MODEL_66540241a3914e4381c0ff9224612eb7",
            "value": "Downloading: 100%"
          }
        },
        "5142d0564fd64c55a114c642aa1e41da": {
          "model_module": "@jupyter-widgets/controls",
          "model_name": "FloatProgressModel",
          "model_module_version": "1.5.0",
          "state": {
            "_dom_classes": [],
            "_model_module": "@jupyter-widgets/controls",
            "_model_module_version": "1.5.0",
            "_model_name": "FloatProgressModel",
            "_view_count": null,
            "_view_module": "@jupyter-widgets/controls",
            "_view_module_version": "1.5.0",
            "_view_name": "ProgressView",
            "bar_style": "success",
            "description": "",
            "description_tooltip": null,
            "layout": "IPY_MODEL_8d8c38318b4e4f4fa4bd8e2c1e1597a1",
            "max": 231508,
            "min": 0,
            "orientation": "horizontal",
            "style": "IPY_MODEL_2f6632752e6f493ab1876684edf0b3af",
            "value": 231508
          }
        },
        "aba7fe77c76c4e539d29bbcde4f913dd": {
          "model_module": "@jupyter-widgets/controls",
          "model_name": "HTMLModel",
          "model_module_version": "1.5.0",
          "state": {
            "_dom_classes": [],
            "_model_module": "@jupyter-widgets/controls",
            "_model_module_version": "1.5.0",
            "_model_name": "HTMLModel",
            "_view_count": null,
            "_view_module": "@jupyter-widgets/controls",
            "_view_module_version": "1.5.0",
            "_view_name": "HTMLView",
            "description": "",
            "description_tooltip": null,
            "layout": "IPY_MODEL_c41979ef703848dfbe37a61f4aebd637",
            "placeholder": "​",
            "style": "IPY_MODEL_82f1f4811b4f4e94b00cbd17196e83ec",
            "value": " 226k/226k [00:00&lt;00:00, 8.47kB/s]"
          }
        },
        "4b04226534a84c6c8c2581e8329c480d": {
          "model_module": "@jupyter-widgets/base",
          "model_name": "LayoutModel",
          "model_module_version": "1.2.0",
          "state": {
            "_model_module": "@jupyter-widgets/base",
            "_model_module_version": "1.2.0",
            "_model_name": "LayoutModel",
            "_view_count": null,
            "_view_module": "@jupyter-widgets/base",
            "_view_module_version": "1.2.0",
            "_view_name": "LayoutView",
            "align_content": null,
            "align_items": null,
            "align_self": null,
            "border": null,
            "bottom": null,
            "display": null,
            "flex": null,
            "flex_flow": null,
            "grid_area": null,
            "grid_auto_columns": null,
            "grid_auto_flow": null,
            "grid_auto_rows": null,
            "grid_column": null,
            "grid_gap": null,
            "grid_row": null,
            "grid_template_areas": null,
            "grid_template_columns": null,
            "grid_template_rows": null,
            "height": null,
            "justify_content": null,
            "justify_items": null,
            "left": null,
            "margin": null,
            "max_height": null,
            "max_width": null,
            "min_height": null,
            "min_width": null,
            "object_fit": null,
            "object_position": null,
            "order": null,
            "overflow": null,
            "overflow_x": null,
            "overflow_y": null,
            "padding": null,
            "right": null,
            "top": null,
            "visibility": null,
            "width": null
          }
        },
        "896c375e2e4f4f7199e324d985fa7956": {
          "model_module": "@jupyter-widgets/base",
          "model_name": "LayoutModel",
          "model_module_version": "1.2.0",
          "state": {
            "_model_module": "@jupyter-widgets/base",
            "_model_module_version": "1.2.0",
            "_model_name": "LayoutModel",
            "_view_count": null,
            "_view_module": "@jupyter-widgets/base",
            "_view_module_version": "1.2.0",
            "_view_name": "LayoutView",
            "align_content": null,
            "align_items": null,
            "align_self": null,
            "border": null,
            "bottom": null,
            "display": null,
            "flex": null,
            "flex_flow": null,
            "grid_area": null,
            "grid_auto_columns": null,
            "grid_auto_flow": null,
            "grid_auto_rows": null,
            "grid_column": null,
            "grid_gap": null,
            "grid_row": null,
            "grid_template_areas": null,
            "grid_template_columns": null,
            "grid_template_rows": null,
            "height": null,
            "justify_content": null,
            "justify_items": null,
            "left": null,
            "margin": null,
            "max_height": null,
            "max_width": null,
            "min_height": null,
            "min_width": null,
            "object_fit": null,
            "object_position": null,
            "order": null,
            "overflow": null,
            "overflow_x": null,
            "overflow_y": null,
            "padding": null,
            "right": null,
            "top": null,
            "visibility": null,
            "width": null
          }
        },
        "66540241a3914e4381c0ff9224612eb7": {
          "model_module": "@jupyter-widgets/controls",
          "model_name": "DescriptionStyleModel",
          "model_module_version": "1.5.0",
          "state": {
            "_model_module": "@jupyter-widgets/controls",
            "_model_module_version": "1.5.0",
            "_model_name": "DescriptionStyleModel",
            "_view_count": null,
            "_view_module": "@jupyter-widgets/base",
            "_view_module_version": "1.2.0",
            "_view_name": "StyleView",
            "description_width": ""
          }
        },
        "8d8c38318b4e4f4fa4bd8e2c1e1597a1": {
          "model_module": "@jupyter-widgets/base",
          "model_name": "LayoutModel",
          "model_module_version": "1.2.0",
          "state": {
            "_model_module": "@jupyter-widgets/base",
            "_model_module_version": "1.2.0",
            "_model_name": "LayoutModel",
            "_view_count": null,
            "_view_module": "@jupyter-widgets/base",
            "_view_module_version": "1.2.0",
            "_view_name": "LayoutView",
            "align_content": null,
            "align_items": null,
            "align_self": null,
            "border": null,
            "bottom": null,
            "display": null,
            "flex": null,
            "flex_flow": null,
            "grid_area": null,
            "grid_auto_columns": null,
            "grid_auto_flow": null,
            "grid_auto_rows": null,
            "grid_column": null,
            "grid_gap": null,
            "grid_row": null,
            "grid_template_areas": null,
            "grid_template_columns": null,
            "grid_template_rows": null,
            "height": null,
            "justify_content": null,
            "justify_items": null,
            "left": null,
            "margin": null,
            "max_height": null,
            "max_width": null,
            "min_height": null,
            "min_width": null,
            "object_fit": null,
            "object_position": null,
            "order": null,
            "overflow": null,
            "overflow_x": null,
            "overflow_y": null,
            "padding": null,
            "right": null,
            "top": null,
            "visibility": null,
            "width": null
          }
        },
        "2f6632752e6f493ab1876684edf0b3af": {
          "model_module": "@jupyter-widgets/controls",
          "model_name": "ProgressStyleModel",
          "model_module_version": "1.5.0",
          "state": {
            "_model_module": "@jupyter-widgets/controls",
            "_model_module_version": "1.5.0",
            "_model_name": "ProgressStyleModel",
            "_view_count": null,
            "_view_module": "@jupyter-widgets/base",
            "_view_module_version": "1.2.0",
            "_view_name": "StyleView",
            "bar_color": null,
            "description_width": ""
          }
        },
        "c41979ef703848dfbe37a61f4aebd637": {
          "model_module": "@jupyter-widgets/base",
          "model_name": "LayoutModel",
          "model_module_version": "1.2.0",
          "state": {
            "_model_module": "@jupyter-widgets/base",
            "_model_module_version": "1.2.0",
            "_model_name": "LayoutModel",
            "_view_count": null,
            "_view_module": "@jupyter-widgets/base",
            "_view_module_version": "1.2.0",
            "_view_name": "LayoutView",
            "align_content": null,
            "align_items": null,
            "align_self": null,
            "border": null,
            "bottom": null,
            "display": null,
            "flex": null,
            "flex_flow": null,
            "grid_area": null,
            "grid_auto_columns": null,
            "grid_auto_flow": null,
            "grid_auto_rows": null,
            "grid_column": null,
            "grid_gap": null,
            "grid_row": null,
            "grid_template_areas": null,
            "grid_template_columns": null,
            "grid_template_rows": null,
            "height": null,
            "justify_content": null,
            "justify_items": null,
            "left": null,
            "margin": null,
            "max_height": null,
            "max_width": null,
            "min_height": null,
            "min_width": null,
            "object_fit": null,
            "object_position": null,
            "order": null,
            "overflow": null,
            "overflow_x": null,
            "overflow_y": null,
            "padding": null,
            "right": null,
            "top": null,
            "visibility": null,
            "width": null
          }
        },
        "82f1f4811b4f4e94b00cbd17196e83ec": {
          "model_module": "@jupyter-widgets/controls",
          "model_name": "DescriptionStyleModel",
          "model_module_version": "1.5.0",
          "state": {
            "_model_module": "@jupyter-widgets/controls",
            "_model_module_version": "1.5.0",
            "_model_name": "DescriptionStyleModel",
            "_view_count": null,
            "_view_module": "@jupyter-widgets/base",
            "_view_module_version": "1.2.0",
            "_view_name": "StyleView",
            "description_width": ""
          }
        },
        "13c63bf53aec4f69b3166efeab304cf6": {
          "model_module": "@jupyter-widgets/controls",
          "model_name": "HBoxModel",
          "model_module_version": "1.5.0",
          "state": {
            "_dom_classes": [],
            "_model_module": "@jupyter-widgets/controls",
            "_model_module_version": "1.5.0",
            "_model_name": "HBoxModel",
            "_view_count": null,
            "_view_module": "@jupyter-widgets/controls",
            "_view_module_version": "1.5.0",
            "_view_name": "HBoxView",
            "box_style": "",
            "children": [
              "IPY_MODEL_0deaf7d1563f4c7e9b8c422e5ef424a4",
              "IPY_MODEL_c06dad2d51b14e05aa6da7a26e4d7100",
              "IPY_MODEL_b890a4dae4c3422889ad49e2824d6ff1"
            ],
            "layout": "IPY_MODEL_e8f71692acf143c1876cf0ee48ee4db6"
          }
        },
        "0deaf7d1563f4c7e9b8c422e5ef424a4": {
          "model_module": "@jupyter-widgets/controls",
          "model_name": "HTMLModel",
          "model_module_version": "1.5.0",
          "state": {
            "_dom_classes": [],
            "_model_module": "@jupyter-widgets/controls",
            "_model_module_version": "1.5.0",
            "_model_name": "HTMLModel",
            "_view_count": null,
            "_view_module": "@jupyter-widgets/controls",
            "_view_module_version": "1.5.0",
            "_view_name": "HTMLView",
            "description": "",
            "description_tooltip": null,
            "layout": "IPY_MODEL_da6ff747bca443b8993ba92a85f5a41e",
            "placeholder": "​",
            "style": "IPY_MODEL_bbd2fc5c460c480cbf9165a72b444107",
            "value": "Downloading: 100%"
          }
        },
        "c06dad2d51b14e05aa6da7a26e4d7100": {
          "model_module": "@jupyter-widgets/controls",
          "model_name": "FloatProgressModel",
          "model_module_version": "1.5.0",
          "state": {
            "_dom_classes": [],
            "_model_module": "@jupyter-widgets/controls",
            "_model_module_version": "1.5.0",
            "_model_name": "FloatProgressModel",
            "_view_count": null,
            "_view_module": "@jupyter-widgets/controls",
            "_view_module_version": "1.5.0",
            "_view_name": "ProgressView",
            "bar_style": "success",
            "description": "",
            "description_tooltip": null,
            "layout": "IPY_MODEL_f12a8934a6824fa8aa2d9b2c9241f9e5",
            "max": 28,
            "min": 0,
            "orientation": "horizontal",
            "style": "IPY_MODEL_45e5ea4daba546e0a86c5ec22b66b88d",
            "value": 28
          }
        },
        "b890a4dae4c3422889ad49e2824d6ff1": {
          "model_module": "@jupyter-widgets/controls",
          "model_name": "HTMLModel",
          "model_module_version": "1.5.0",
          "state": {
            "_dom_classes": [],
            "_model_module": "@jupyter-widgets/controls",
            "_model_module_version": "1.5.0",
            "_model_name": "HTMLModel",
            "_view_count": null,
            "_view_module": "@jupyter-widgets/controls",
            "_view_module_version": "1.5.0",
            "_view_name": "HTMLView",
            "description": "",
            "description_tooltip": null,
            "layout": "IPY_MODEL_1e03e84db7224d28b758d891c8e394fe",
            "placeholder": "​",
            "style": "IPY_MODEL_2a4947e671c246d39da8ce05399a21f7",
            "value": " 28.0/28.0 [00:00&lt;00:00, 873B/s]"
          }
        },
        "e8f71692acf143c1876cf0ee48ee4db6": {
          "model_module": "@jupyter-widgets/base",
          "model_name": "LayoutModel",
          "model_module_version": "1.2.0",
          "state": {
            "_model_module": "@jupyter-widgets/base",
            "_model_module_version": "1.2.0",
            "_model_name": "LayoutModel",
            "_view_count": null,
            "_view_module": "@jupyter-widgets/base",
            "_view_module_version": "1.2.0",
            "_view_name": "LayoutView",
            "align_content": null,
            "align_items": null,
            "align_self": null,
            "border": null,
            "bottom": null,
            "display": null,
            "flex": null,
            "flex_flow": null,
            "grid_area": null,
            "grid_auto_columns": null,
            "grid_auto_flow": null,
            "grid_auto_rows": null,
            "grid_column": null,
            "grid_gap": null,
            "grid_row": null,
            "grid_template_areas": null,
            "grid_template_columns": null,
            "grid_template_rows": null,
            "height": null,
            "justify_content": null,
            "justify_items": null,
            "left": null,
            "margin": null,
            "max_height": null,
            "max_width": null,
            "min_height": null,
            "min_width": null,
            "object_fit": null,
            "object_position": null,
            "order": null,
            "overflow": null,
            "overflow_x": null,
            "overflow_y": null,
            "padding": null,
            "right": null,
            "top": null,
            "visibility": null,
            "width": null
          }
        },
        "da6ff747bca443b8993ba92a85f5a41e": {
          "model_module": "@jupyter-widgets/base",
          "model_name": "LayoutModel",
          "model_module_version": "1.2.0",
          "state": {
            "_model_module": "@jupyter-widgets/base",
            "_model_module_version": "1.2.0",
            "_model_name": "LayoutModel",
            "_view_count": null,
            "_view_module": "@jupyter-widgets/base",
            "_view_module_version": "1.2.0",
            "_view_name": "LayoutView",
            "align_content": null,
            "align_items": null,
            "align_self": null,
            "border": null,
            "bottom": null,
            "display": null,
            "flex": null,
            "flex_flow": null,
            "grid_area": null,
            "grid_auto_columns": null,
            "grid_auto_flow": null,
            "grid_auto_rows": null,
            "grid_column": null,
            "grid_gap": null,
            "grid_row": null,
            "grid_template_areas": null,
            "grid_template_columns": null,
            "grid_template_rows": null,
            "height": null,
            "justify_content": null,
            "justify_items": null,
            "left": null,
            "margin": null,
            "max_height": null,
            "max_width": null,
            "min_height": null,
            "min_width": null,
            "object_fit": null,
            "object_position": null,
            "order": null,
            "overflow": null,
            "overflow_x": null,
            "overflow_y": null,
            "padding": null,
            "right": null,
            "top": null,
            "visibility": null,
            "width": null
          }
        },
        "bbd2fc5c460c480cbf9165a72b444107": {
          "model_module": "@jupyter-widgets/controls",
          "model_name": "DescriptionStyleModel",
          "model_module_version": "1.5.0",
          "state": {
            "_model_module": "@jupyter-widgets/controls",
            "_model_module_version": "1.5.0",
            "_model_name": "DescriptionStyleModel",
            "_view_count": null,
            "_view_module": "@jupyter-widgets/base",
            "_view_module_version": "1.2.0",
            "_view_name": "StyleView",
            "description_width": ""
          }
        },
        "f12a8934a6824fa8aa2d9b2c9241f9e5": {
          "model_module": "@jupyter-widgets/base",
          "model_name": "LayoutModel",
          "model_module_version": "1.2.0",
          "state": {
            "_model_module": "@jupyter-widgets/base",
            "_model_module_version": "1.2.0",
            "_model_name": "LayoutModel",
            "_view_count": null,
            "_view_module": "@jupyter-widgets/base",
            "_view_module_version": "1.2.0",
            "_view_name": "LayoutView",
            "align_content": null,
            "align_items": null,
            "align_self": null,
            "border": null,
            "bottom": null,
            "display": null,
            "flex": null,
            "flex_flow": null,
            "grid_area": null,
            "grid_auto_columns": null,
            "grid_auto_flow": null,
            "grid_auto_rows": null,
            "grid_column": null,
            "grid_gap": null,
            "grid_row": null,
            "grid_template_areas": null,
            "grid_template_columns": null,
            "grid_template_rows": null,
            "height": null,
            "justify_content": null,
            "justify_items": null,
            "left": null,
            "margin": null,
            "max_height": null,
            "max_width": null,
            "min_height": null,
            "min_width": null,
            "object_fit": null,
            "object_position": null,
            "order": null,
            "overflow": null,
            "overflow_x": null,
            "overflow_y": null,
            "padding": null,
            "right": null,
            "top": null,
            "visibility": null,
            "width": null
          }
        },
        "45e5ea4daba546e0a86c5ec22b66b88d": {
          "model_module": "@jupyter-widgets/controls",
          "model_name": "ProgressStyleModel",
          "model_module_version": "1.5.0",
          "state": {
            "_model_module": "@jupyter-widgets/controls",
            "_model_module_version": "1.5.0",
            "_model_name": "ProgressStyleModel",
            "_view_count": null,
            "_view_module": "@jupyter-widgets/base",
            "_view_module_version": "1.2.0",
            "_view_name": "StyleView",
            "bar_color": null,
            "description_width": ""
          }
        },
        "1e03e84db7224d28b758d891c8e394fe": {
          "model_module": "@jupyter-widgets/base",
          "model_name": "LayoutModel",
          "model_module_version": "1.2.0",
          "state": {
            "_model_module": "@jupyter-widgets/base",
            "_model_module_version": "1.2.0",
            "_model_name": "LayoutModel",
            "_view_count": null,
            "_view_module": "@jupyter-widgets/base",
            "_view_module_version": "1.2.0",
            "_view_name": "LayoutView",
            "align_content": null,
            "align_items": null,
            "align_self": null,
            "border": null,
            "bottom": null,
            "display": null,
            "flex": null,
            "flex_flow": null,
            "grid_area": null,
            "grid_auto_columns": null,
            "grid_auto_flow": null,
            "grid_auto_rows": null,
            "grid_column": null,
            "grid_gap": null,
            "grid_row": null,
            "grid_template_areas": null,
            "grid_template_columns": null,
            "grid_template_rows": null,
            "height": null,
            "justify_content": null,
            "justify_items": null,
            "left": null,
            "margin": null,
            "max_height": null,
            "max_width": null,
            "min_height": null,
            "min_width": null,
            "object_fit": null,
            "object_position": null,
            "order": null,
            "overflow": null,
            "overflow_x": null,
            "overflow_y": null,
            "padding": null,
            "right": null,
            "top": null,
            "visibility": null,
            "width": null
          }
        },
        "2a4947e671c246d39da8ce05399a21f7": {
          "model_module": "@jupyter-widgets/controls",
          "model_name": "DescriptionStyleModel",
          "model_module_version": "1.5.0",
          "state": {
            "_model_module": "@jupyter-widgets/controls",
            "_model_module_version": "1.5.0",
            "_model_name": "DescriptionStyleModel",
            "_view_count": null,
            "_view_module": "@jupyter-widgets/base",
            "_view_module_version": "1.2.0",
            "_view_name": "StyleView",
            "description_width": ""
          }
        },
        "264702567f13429b8f9d37818ba6dddf": {
          "model_module": "@jupyter-widgets/controls",
          "model_name": "HBoxModel",
          "model_module_version": "1.5.0",
          "state": {
            "_dom_classes": [],
            "_model_module": "@jupyter-widgets/controls",
            "_model_module_version": "1.5.0",
            "_model_name": "HBoxModel",
            "_view_count": null,
            "_view_module": "@jupyter-widgets/controls",
            "_view_module_version": "1.5.0",
            "_view_name": "HBoxView",
            "box_style": "",
            "children": [
              "IPY_MODEL_36e13f4fe73841ecb3433407fc848c84",
              "IPY_MODEL_b15bafc718464ba0ba89392354047c09",
              "IPY_MODEL_7e4a324bf7a94636a7694bc6a0f15664"
            ],
            "layout": "IPY_MODEL_8336b296eb7c4b4ca2d9fbed0f821610"
          }
        },
        "36e13f4fe73841ecb3433407fc848c84": {
          "model_module": "@jupyter-widgets/controls",
          "model_name": "HTMLModel",
          "model_module_version": "1.5.0",
          "state": {
            "_dom_classes": [],
            "_model_module": "@jupyter-widgets/controls",
            "_model_module_version": "1.5.0",
            "_model_name": "HTMLModel",
            "_view_count": null,
            "_view_module": "@jupyter-widgets/controls",
            "_view_module_version": "1.5.0",
            "_view_name": "HTMLView",
            "description": "",
            "description_tooltip": null,
            "layout": "IPY_MODEL_ea9c569a65e74ef5819859ef25e18a50",
            "placeholder": "​",
            "style": "IPY_MODEL_c4ad85860cab4d8fa8228580a83849f9",
            "value": "Downloading: 100%"
          }
        },
        "b15bafc718464ba0ba89392354047c09": {
          "model_module": "@jupyter-widgets/controls",
          "model_name": "FloatProgressModel",
          "model_module_version": "1.5.0",
          "state": {
            "_dom_classes": [],
            "_model_module": "@jupyter-widgets/controls",
            "_model_module_version": "1.5.0",
            "_model_name": "FloatProgressModel",
            "_view_count": null,
            "_view_module": "@jupyter-widgets/controls",
            "_view_module_version": "1.5.0",
            "_view_name": "ProgressView",
            "bar_style": "success",
            "description": "",
            "description_tooltip": null,
            "layout": "IPY_MODEL_25a44aa3a9134aeaaf186584566b3e52",
            "max": 570,
            "min": 0,
            "orientation": "horizontal",
            "style": "IPY_MODEL_ad87f2dfb9e346819e1d5acaf31f16cb",
            "value": 570
          }
        },
        "7e4a324bf7a94636a7694bc6a0f15664": {
          "model_module": "@jupyter-widgets/controls",
          "model_name": "HTMLModel",
          "model_module_version": "1.5.0",
          "state": {
            "_dom_classes": [],
            "_model_module": "@jupyter-widgets/controls",
            "_model_module_version": "1.5.0",
            "_model_name": "HTMLModel",
            "_view_count": null,
            "_view_module": "@jupyter-widgets/controls",
            "_view_module_version": "1.5.0",
            "_view_name": "HTMLView",
            "description": "",
            "description_tooltip": null,
            "layout": "IPY_MODEL_103ed9d859ae4f30af2f31590cf1000a",
            "placeholder": "​",
            "style": "IPY_MODEL_3142335935c4413788c83419554a1033",
            "value": " 570/570 [00:00&lt;00:00, 17.7kB/s]"
          }
        },
        "8336b296eb7c4b4ca2d9fbed0f821610": {
          "model_module": "@jupyter-widgets/base",
          "model_name": "LayoutModel",
          "model_module_version": "1.2.0",
          "state": {
            "_model_module": "@jupyter-widgets/base",
            "_model_module_version": "1.2.0",
            "_model_name": "LayoutModel",
            "_view_count": null,
            "_view_module": "@jupyter-widgets/base",
            "_view_module_version": "1.2.0",
            "_view_name": "LayoutView",
            "align_content": null,
            "align_items": null,
            "align_self": null,
            "border": null,
            "bottom": null,
            "display": null,
            "flex": null,
            "flex_flow": null,
            "grid_area": null,
            "grid_auto_columns": null,
            "grid_auto_flow": null,
            "grid_auto_rows": null,
            "grid_column": null,
            "grid_gap": null,
            "grid_row": null,
            "grid_template_areas": null,
            "grid_template_columns": null,
            "grid_template_rows": null,
            "height": null,
            "justify_content": null,
            "justify_items": null,
            "left": null,
            "margin": null,
            "max_height": null,
            "max_width": null,
            "min_height": null,
            "min_width": null,
            "object_fit": null,
            "object_position": null,
            "order": null,
            "overflow": null,
            "overflow_x": null,
            "overflow_y": null,
            "padding": null,
            "right": null,
            "top": null,
            "visibility": null,
            "width": null
          }
        },
        "ea9c569a65e74ef5819859ef25e18a50": {
          "model_module": "@jupyter-widgets/base",
          "model_name": "LayoutModel",
          "model_module_version": "1.2.0",
          "state": {
            "_model_module": "@jupyter-widgets/base",
            "_model_module_version": "1.2.0",
            "_model_name": "LayoutModel",
            "_view_count": null,
            "_view_module": "@jupyter-widgets/base",
            "_view_module_version": "1.2.0",
            "_view_name": "LayoutView",
            "align_content": null,
            "align_items": null,
            "align_self": null,
            "border": null,
            "bottom": null,
            "display": null,
            "flex": null,
            "flex_flow": null,
            "grid_area": null,
            "grid_auto_columns": null,
            "grid_auto_flow": null,
            "grid_auto_rows": null,
            "grid_column": null,
            "grid_gap": null,
            "grid_row": null,
            "grid_template_areas": null,
            "grid_template_columns": null,
            "grid_template_rows": null,
            "height": null,
            "justify_content": null,
            "justify_items": null,
            "left": null,
            "margin": null,
            "max_height": null,
            "max_width": null,
            "min_height": null,
            "min_width": null,
            "object_fit": null,
            "object_position": null,
            "order": null,
            "overflow": null,
            "overflow_x": null,
            "overflow_y": null,
            "padding": null,
            "right": null,
            "top": null,
            "visibility": null,
            "width": null
          }
        },
        "c4ad85860cab4d8fa8228580a83849f9": {
          "model_module": "@jupyter-widgets/controls",
          "model_name": "DescriptionStyleModel",
          "model_module_version": "1.5.0",
          "state": {
            "_model_module": "@jupyter-widgets/controls",
            "_model_module_version": "1.5.0",
            "_model_name": "DescriptionStyleModel",
            "_view_count": null,
            "_view_module": "@jupyter-widgets/base",
            "_view_module_version": "1.2.0",
            "_view_name": "StyleView",
            "description_width": ""
          }
        },
        "25a44aa3a9134aeaaf186584566b3e52": {
          "model_module": "@jupyter-widgets/base",
          "model_name": "LayoutModel",
          "model_module_version": "1.2.0",
          "state": {
            "_model_module": "@jupyter-widgets/base",
            "_model_module_version": "1.2.0",
            "_model_name": "LayoutModel",
            "_view_count": null,
            "_view_module": "@jupyter-widgets/base",
            "_view_module_version": "1.2.0",
            "_view_name": "LayoutView",
            "align_content": null,
            "align_items": null,
            "align_self": null,
            "border": null,
            "bottom": null,
            "display": null,
            "flex": null,
            "flex_flow": null,
            "grid_area": null,
            "grid_auto_columns": null,
            "grid_auto_flow": null,
            "grid_auto_rows": null,
            "grid_column": null,
            "grid_gap": null,
            "grid_row": null,
            "grid_template_areas": null,
            "grid_template_columns": null,
            "grid_template_rows": null,
            "height": null,
            "justify_content": null,
            "justify_items": null,
            "left": null,
            "margin": null,
            "max_height": null,
            "max_width": null,
            "min_height": null,
            "min_width": null,
            "object_fit": null,
            "object_position": null,
            "order": null,
            "overflow": null,
            "overflow_x": null,
            "overflow_y": null,
            "padding": null,
            "right": null,
            "top": null,
            "visibility": null,
            "width": null
          }
        },
        "ad87f2dfb9e346819e1d5acaf31f16cb": {
          "model_module": "@jupyter-widgets/controls",
          "model_name": "ProgressStyleModel",
          "model_module_version": "1.5.0",
          "state": {
            "_model_module": "@jupyter-widgets/controls",
            "_model_module_version": "1.5.0",
            "_model_name": "ProgressStyleModel",
            "_view_count": null,
            "_view_module": "@jupyter-widgets/base",
            "_view_module_version": "1.2.0",
            "_view_name": "StyleView",
            "bar_color": null,
            "description_width": ""
          }
        },
        "103ed9d859ae4f30af2f31590cf1000a": {
          "model_module": "@jupyter-widgets/base",
          "model_name": "LayoutModel",
          "model_module_version": "1.2.0",
          "state": {
            "_model_module": "@jupyter-widgets/base",
            "_model_module_version": "1.2.0",
            "_model_name": "LayoutModel",
            "_view_count": null,
            "_view_module": "@jupyter-widgets/base",
            "_view_module_version": "1.2.0",
            "_view_name": "LayoutView",
            "align_content": null,
            "align_items": null,
            "align_self": null,
            "border": null,
            "bottom": null,
            "display": null,
            "flex": null,
            "flex_flow": null,
            "grid_area": null,
            "grid_auto_columns": null,
            "grid_auto_flow": null,
            "grid_auto_rows": null,
            "grid_column": null,
            "grid_gap": null,
            "grid_row": null,
            "grid_template_areas": null,
            "grid_template_columns": null,
            "grid_template_rows": null,
            "height": null,
            "justify_content": null,
            "justify_items": null,
            "left": null,
            "margin": null,
            "max_height": null,
            "max_width": null,
            "min_height": null,
            "min_width": null,
            "object_fit": null,
            "object_position": null,
            "order": null,
            "overflow": null,
            "overflow_x": null,
            "overflow_y": null,
            "padding": null,
            "right": null,
            "top": null,
            "visibility": null,
            "width": null
          }
        },
        "3142335935c4413788c83419554a1033": {
          "model_module": "@jupyter-widgets/controls",
          "model_name": "DescriptionStyleModel",
          "model_module_version": "1.5.0",
          "state": {
            "_model_module": "@jupyter-widgets/controls",
            "_model_module_version": "1.5.0",
            "_model_name": "DescriptionStyleModel",
            "_view_count": null,
            "_view_module": "@jupyter-widgets/base",
            "_view_module_version": "1.2.0",
            "_view_name": "StyleView",
            "description_width": ""
          }
        },
        "f38e42dc31254072865520740fc4a4ae": {
          "model_module": "@jupyter-widgets/controls",
          "model_name": "HBoxModel",
          "model_module_version": "1.5.0",
          "state": {
            "_dom_classes": [],
            "_model_module": "@jupyter-widgets/controls",
            "_model_module_version": "1.5.0",
            "_model_name": "HBoxModel",
            "_view_count": null,
            "_view_module": "@jupyter-widgets/controls",
            "_view_module_version": "1.5.0",
            "_view_name": "HBoxView",
            "box_style": "",
            "children": [
              "IPY_MODEL_57aae1bb274445c0a7adde1c8f17c66a",
              "IPY_MODEL_14f1d4bfd1444cdc9ef258ee15814d83",
              "IPY_MODEL_612b62bd3ff24a949ba507b8f4e6613e"
            ],
            "layout": "IPY_MODEL_06e6200aa5df4062b1bd3e8de12b313d"
          }
        },
        "57aae1bb274445c0a7adde1c8f17c66a": {
          "model_module": "@jupyter-widgets/controls",
          "model_name": "HTMLModel",
          "model_module_version": "1.5.0",
          "state": {
            "_dom_classes": [],
            "_model_module": "@jupyter-widgets/controls",
            "_model_module_version": "1.5.0",
            "_model_name": "HTMLModel",
            "_view_count": null,
            "_view_module": "@jupyter-widgets/controls",
            "_view_module_version": "1.5.0",
            "_view_name": "HTMLView",
            "description": "",
            "description_tooltip": null,
            "layout": "IPY_MODEL_18fec29e564a4ddaac7d3c920675ea45",
            "placeholder": "​",
            "style": "IPY_MODEL_60aa566e29fa49a8aa7fbd7a03308d76",
            "value": "Downloading: 100%"
          }
        },
        "14f1d4bfd1444cdc9ef258ee15814d83": {
          "model_module": "@jupyter-widgets/controls",
          "model_name": "FloatProgressModel",
          "model_module_version": "1.5.0",
          "state": {
            "_dom_classes": [],
            "_model_module": "@jupyter-widgets/controls",
            "_model_module_version": "1.5.0",
            "_model_name": "FloatProgressModel",
            "_view_count": null,
            "_view_module": "@jupyter-widgets/controls",
            "_view_module_version": "1.5.0",
            "_view_name": "ProgressView",
            "bar_style": "success",
            "description": "",
            "description_tooltip": null,
            "layout": "IPY_MODEL_ec69e3cdf2d049ad900f9c28bbb9231d",
            "max": 231508,
            "min": 0,
            "orientation": "horizontal",
            "style": "IPY_MODEL_64ad12d0bc38449aa9b1c05d0b104879",
            "value": 231508
          }
        },
        "612b62bd3ff24a949ba507b8f4e6613e": {
          "model_module": "@jupyter-widgets/controls",
          "model_name": "HTMLModel",
          "model_module_version": "1.5.0",
          "state": {
            "_dom_classes": [],
            "_model_module": "@jupyter-widgets/controls",
            "_model_module_version": "1.5.0",
            "_model_name": "HTMLModel",
            "_view_count": null,
            "_view_module": "@jupyter-widgets/controls",
            "_view_module_version": "1.5.0",
            "_view_name": "HTMLView",
            "description": "",
            "description_tooltip": null,
            "layout": "IPY_MODEL_69e8b1f57a26430e84f3a8fa311d458f",
            "placeholder": "​",
            "style": "IPY_MODEL_43dcd38c93a3401582d62d30ca6a6bc9",
            "value": " 226k/226k [00:00&lt;00:00, 5.02MB/s]"
          }
        },
        "06e6200aa5df4062b1bd3e8de12b313d": {
          "model_module": "@jupyter-widgets/base",
          "model_name": "LayoutModel",
          "model_module_version": "1.2.0",
          "state": {
            "_model_module": "@jupyter-widgets/base",
            "_model_module_version": "1.2.0",
            "_model_name": "LayoutModel",
            "_view_count": null,
            "_view_module": "@jupyter-widgets/base",
            "_view_module_version": "1.2.0",
            "_view_name": "LayoutView",
            "align_content": null,
            "align_items": null,
            "align_self": null,
            "border": null,
            "bottom": null,
            "display": null,
            "flex": null,
            "flex_flow": null,
            "grid_area": null,
            "grid_auto_columns": null,
            "grid_auto_flow": null,
            "grid_auto_rows": null,
            "grid_column": null,
            "grid_gap": null,
            "grid_row": null,
            "grid_template_areas": null,
            "grid_template_columns": null,
            "grid_template_rows": null,
            "height": null,
            "justify_content": null,
            "justify_items": null,
            "left": null,
            "margin": null,
            "max_height": null,
            "max_width": null,
            "min_height": null,
            "min_width": null,
            "object_fit": null,
            "object_position": null,
            "order": null,
            "overflow": null,
            "overflow_x": null,
            "overflow_y": null,
            "padding": null,
            "right": null,
            "top": null,
            "visibility": null,
            "width": null
          }
        },
        "18fec29e564a4ddaac7d3c920675ea45": {
          "model_module": "@jupyter-widgets/base",
          "model_name": "LayoutModel",
          "model_module_version": "1.2.0",
          "state": {
            "_model_module": "@jupyter-widgets/base",
            "_model_module_version": "1.2.0",
            "_model_name": "LayoutModel",
            "_view_count": null,
            "_view_module": "@jupyter-widgets/base",
            "_view_module_version": "1.2.0",
            "_view_name": "LayoutView",
            "align_content": null,
            "align_items": null,
            "align_self": null,
            "border": null,
            "bottom": null,
            "display": null,
            "flex": null,
            "flex_flow": null,
            "grid_area": null,
            "grid_auto_columns": null,
            "grid_auto_flow": null,
            "grid_auto_rows": null,
            "grid_column": null,
            "grid_gap": null,
            "grid_row": null,
            "grid_template_areas": null,
            "grid_template_columns": null,
            "grid_template_rows": null,
            "height": null,
            "justify_content": null,
            "justify_items": null,
            "left": null,
            "margin": null,
            "max_height": null,
            "max_width": null,
            "min_height": null,
            "min_width": null,
            "object_fit": null,
            "object_position": null,
            "order": null,
            "overflow": null,
            "overflow_x": null,
            "overflow_y": null,
            "padding": null,
            "right": null,
            "top": null,
            "visibility": null,
            "width": null
          }
        },
        "60aa566e29fa49a8aa7fbd7a03308d76": {
          "model_module": "@jupyter-widgets/controls",
          "model_name": "DescriptionStyleModel",
          "model_module_version": "1.5.0",
          "state": {
            "_model_module": "@jupyter-widgets/controls",
            "_model_module_version": "1.5.0",
            "_model_name": "DescriptionStyleModel",
            "_view_count": null,
            "_view_module": "@jupyter-widgets/base",
            "_view_module_version": "1.2.0",
            "_view_name": "StyleView",
            "description_width": ""
          }
        },
        "ec69e3cdf2d049ad900f9c28bbb9231d": {
          "model_module": "@jupyter-widgets/base",
          "model_name": "LayoutModel",
          "model_module_version": "1.2.0",
          "state": {
            "_model_module": "@jupyter-widgets/base",
            "_model_module_version": "1.2.0",
            "_model_name": "LayoutModel",
            "_view_count": null,
            "_view_module": "@jupyter-widgets/base",
            "_view_module_version": "1.2.0",
            "_view_name": "LayoutView",
            "align_content": null,
            "align_items": null,
            "align_self": null,
            "border": null,
            "bottom": null,
            "display": null,
            "flex": null,
            "flex_flow": null,
            "grid_area": null,
            "grid_auto_columns": null,
            "grid_auto_flow": null,
            "grid_auto_rows": null,
            "grid_column": null,
            "grid_gap": null,
            "grid_row": null,
            "grid_template_areas": null,
            "grid_template_columns": null,
            "grid_template_rows": null,
            "height": null,
            "justify_content": null,
            "justify_items": null,
            "left": null,
            "margin": null,
            "max_height": null,
            "max_width": null,
            "min_height": null,
            "min_width": null,
            "object_fit": null,
            "object_position": null,
            "order": null,
            "overflow": null,
            "overflow_x": null,
            "overflow_y": null,
            "padding": null,
            "right": null,
            "top": null,
            "visibility": null,
            "width": null
          }
        },
        "64ad12d0bc38449aa9b1c05d0b104879": {
          "model_module": "@jupyter-widgets/controls",
          "model_name": "ProgressStyleModel",
          "model_module_version": "1.5.0",
          "state": {
            "_model_module": "@jupyter-widgets/controls",
            "_model_module_version": "1.5.0",
            "_model_name": "ProgressStyleModel",
            "_view_count": null,
            "_view_module": "@jupyter-widgets/base",
            "_view_module_version": "1.2.0",
            "_view_name": "StyleView",
            "bar_color": null,
            "description_width": ""
          }
        },
        "69e8b1f57a26430e84f3a8fa311d458f": {
          "model_module": "@jupyter-widgets/base",
          "model_name": "LayoutModel",
          "model_module_version": "1.2.0",
          "state": {
            "_model_module": "@jupyter-widgets/base",
            "_model_module_version": "1.2.0",
            "_model_name": "LayoutModel",
            "_view_count": null,
            "_view_module": "@jupyter-widgets/base",
            "_view_module_version": "1.2.0",
            "_view_name": "LayoutView",
            "align_content": null,
            "align_items": null,
            "align_self": null,
            "border": null,
            "bottom": null,
            "display": null,
            "flex": null,
            "flex_flow": null,
            "grid_area": null,
            "grid_auto_columns": null,
            "grid_auto_flow": null,
            "grid_auto_rows": null,
            "grid_column": null,
            "grid_gap": null,
            "grid_row": null,
            "grid_template_areas": null,
            "grid_template_columns": null,
            "grid_template_rows": null,
            "height": null,
            "justify_content": null,
            "justify_items": null,
            "left": null,
            "margin": null,
            "max_height": null,
            "max_width": null,
            "min_height": null,
            "min_width": null,
            "object_fit": null,
            "object_position": null,
            "order": null,
            "overflow": null,
            "overflow_x": null,
            "overflow_y": null,
            "padding": null,
            "right": null,
            "top": null,
            "visibility": null,
            "width": null
          }
        },
        "43dcd38c93a3401582d62d30ca6a6bc9": {
          "model_module": "@jupyter-widgets/controls",
          "model_name": "DescriptionStyleModel",
          "model_module_version": "1.5.0",
          "state": {
            "_model_module": "@jupyter-widgets/controls",
            "_model_module_version": "1.5.0",
            "_model_name": "DescriptionStyleModel",
            "_view_count": null,
            "_view_module": "@jupyter-widgets/base",
            "_view_module_version": "1.2.0",
            "_view_name": "StyleView",
            "description_width": ""
          }
        },
        "814f3d3c1bbd47c8b0ed2f241549063e": {
          "model_module": "@jupyter-widgets/controls",
          "model_name": "HBoxModel",
          "model_module_version": "1.5.0",
          "state": {
            "_dom_classes": [],
            "_model_module": "@jupyter-widgets/controls",
            "_model_module_version": "1.5.0",
            "_model_name": "HBoxModel",
            "_view_count": null,
            "_view_module": "@jupyter-widgets/controls",
            "_view_module_version": "1.5.0",
            "_view_name": "HBoxView",
            "box_style": "",
            "children": [
              "IPY_MODEL_941b0d316c02420b95f77e4e18f29967",
              "IPY_MODEL_e3685369aa1d43dcb8b3bdd820aac7c0",
              "IPY_MODEL_047d561d422c4acf86139c80d1785332"
            ],
            "layout": "IPY_MODEL_40baedbf6b4a45ebb839dbcfdc4af3f0"
          }
        },
        "941b0d316c02420b95f77e4e18f29967": {
          "model_module": "@jupyter-widgets/controls",
          "model_name": "HTMLModel",
          "model_module_version": "1.5.0",
          "state": {
            "_dom_classes": [],
            "_model_module": "@jupyter-widgets/controls",
            "_model_module_version": "1.5.0",
            "_model_name": "HTMLModel",
            "_view_count": null,
            "_view_module": "@jupyter-widgets/controls",
            "_view_module_version": "1.5.0",
            "_view_name": "HTMLView",
            "description": "",
            "description_tooltip": null,
            "layout": "IPY_MODEL_b8d525fc2cf04dac87abdc735a15352e",
            "placeholder": "​",
            "style": "IPY_MODEL_fc5577eb916e4dac877079382053507c",
            "value": "Downloading: 100%"
          }
        },
        "e3685369aa1d43dcb8b3bdd820aac7c0": {
          "model_module": "@jupyter-widgets/controls",
          "model_name": "FloatProgressModel",
          "model_module_version": "1.5.0",
          "state": {
            "_dom_classes": [],
            "_model_module": "@jupyter-widgets/controls",
            "_model_module_version": "1.5.0",
            "_model_name": "FloatProgressModel",
            "_view_count": null,
            "_view_module": "@jupyter-widgets/controls",
            "_view_module_version": "1.5.0",
            "_view_name": "ProgressView",
            "bar_style": "success",
            "description": "",
            "description_tooltip": null,
            "layout": "IPY_MODEL_a8cb90809322410d90ae394d3f8bf1c6",
            "max": 466062,
            "min": 0,
            "orientation": "horizontal",
            "style": "IPY_MODEL_bebbd06d56bb4cf3a4d730eef902b22d",
            "value": 466062
          }
        },
        "047d561d422c4acf86139c80d1785332": {
          "model_module": "@jupyter-widgets/controls",
          "model_name": "HTMLModel",
          "model_module_version": "1.5.0",
          "state": {
            "_dom_classes": [],
            "_model_module": "@jupyter-widgets/controls",
            "_model_module_version": "1.5.0",
            "_model_name": "HTMLModel",
            "_view_count": null,
            "_view_module": "@jupyter-widgets/controls",
            "_view_module_version": "1.5.0",
            "_view_name": "HTMLView",
            "description": "",
            "description_tooltip": null,
            "layout": "IPY_MODEL_680c80954fa341ee9a35f80d5dfc3880",
            "placeholder": "​",
            "style": "IPY_MODEL_50a79a68756f4b398f5d054cbbdedd2f",
            "value": " 455k/455k [00:00&lt;00:00, 7.02MB/s]"
          }
        },
        "40baedbf6b4a45ebb839dbcfdc4af3f0": {
          "model_module": "@jupyter-widgets/base",
          "model_name": "LayoutModel",
          "model_module_version": "1.2.0",
          "state": {
            "_model_module": "@jupyter-widgets/base",
            "_model_module_version": "1.2.0",
            "_model_name": "LayoutModel",
            "_view_count": null,
            "_view_module": "@jupyter-widgets/base",
            "_view_module_version": "1.2.0",
            "_view_name": "LayoutView",
            "align_content": null,
            "align_items": null,
            "align_self": null,
            "border": null,
            "bottom": null,
            "display": null,
            "flex": null,
            "flex_flow": null,
            "grid_area": null,
            "grid_auto_columns": null,
            "grid_auto_flow": null,
            "grid_auto_rows": null,
            "grid_column": null,
            "grid_gap": null,
            "grid_row": null,
            "grid_template_areas": null,
            "grid_template_columns": null,
            "grid_template_rows": null,
            "height": null,
            "justify_content": null,
            "justify_items": null,
            "left": null,
            "margin": null,
            "max_height": null,
            "max_width": null,
            "min_height": null,
            "min_width": null,
            "object_fit": null,
            "object_position": null,
            "order": null,
            "overflow": null,
            "overflow_x": null,
            "overflow_y": null,
            "padding": null,
            "right": null,
            "top": null,
            "visibility": null,
            "width": null
          }
        },
        "b8d525fc2cf04dac87abdc735a15352e": {
          "model_module": "@jupyter-widgets/base",
          "model_name": "LayoutModel",
          "model_module_version": "1.2.0",
          "state": {
            "_model_module": "@jupyter-widgets/base",
            "_model_module_version": "1.2.0",
            "_model_name": "LayoutModel",
            "_view_count": null,
            "_view_module": "@jupyter-widgets/base",
            "_view_module_version": "1.2.0",
            "_view_name": "LayoutView",
            "align_content": null,
            "align_items": null,
            "align_self": null,
            "border": null,
            "bottom": null,
            "display": null,
            "flex": null,
            "flex_flow": null,
            "grid_area": null,
            "grid_auto_columns": null,
            "grid_auto_flow": null,
            "grid_auto_rows": null,
            "grid_column": null,
            "grid_gap": null,
            "grid_row": null,
            "grid_template_areas": null,
            "grid_template_columns": null,
            "grid_template_rows": null,
            "height": null,
            "justify_content": null,
            "justify_items": null,
            "left": null,
            "margin": null,
            "max_height": null,
            "max_width": null,
            "min_height": null,
            "min_width": null,
            "object_fit": null,
            "object_position": null,
            "order": null,
            "overflow": null,
            "overflow_x": null,
            "overflow_y": null,
            "padding": null,
            "right": null,
            "top": null,
            "visibility": null,
            "width": null
          }
        },
        "fc5577eb916e4dac877079382053507c": {
          "model_module": "@jupyter-widgets/controls",
          "model_name": "DescriptionStyleModel",
          "model_module_version": "1.5.0",
          "state": {
            "_model_module": "@jupyter-widgets/controls",
            "_model_module_version": "1.5.0",
            "_model_name": "DescriptionStyleModel",
            "_view_count": null,
            "_view_module": "@jupyter-widgets/base",
            "_view_module_version": "1.2.0",
            "_view_name": "StyleView",
            "description_width": ""
          }
        },
        "a8cb90809322410d90ae394d3f8bf1c6": {
          "model_module": "@jupyter-widgets/base",
          "model_name": "LayoutModel",
          "model_module_version": "1.2.0",
          "state": {
            "_model_module": "@jupyter-widgets/base",
            "_model_module_version": "1.2.0",
            "_model_name": "LayoutModel",
            "_view_count": null,
            "_view_module": "@jupyter-widgets/base",
            "_view_module_version": "1.2.0",
            "_view_name": "LayoutView",
            "align_content": null,
            "align_items": null,
            "align_self": null,
            "border": null,
            "bottom": null,
            "display": null,
            "flex": null,
            "flex_flow": null,
            "grid_area": null,
            "grid_auto_columns": null,
            "grid_auto_flow": null,
            "grid_auto_rows": null,
            "grid_column": null,
            "grid_gap": null,
            "grid_row": null,
            "grid_template_areas": null,
            "grid_template_columns": null,
            "grid_template_rows": null,
            "height": null,
            "justify_content": null,
            "justify_items": null,
            "left": null,
            "margin": null,
            "max_height": null,
            "max_width": null,
            "min_height": null,
            "min_width": null,
            "object_fit": null,
            "object_position": null,
            "order": null,
            "overflow": null,
            "overflow_x": null,
            "overflow_y": null,
            "padding": null,
            "right": null,
            "top": null,
            "visibility": null,
            "width": null
          }
        },
        "bebbd06d56bb4cf3a4d730eef902b22d": {
          "model_module": "@jupyter-widgets/controls",
          "model_name": "ProgressStyleModel",
          "model_module_version": "1.5.0",
          "state": {
            "_model_module": "@jupyter-widgets/controls",
            "_model_module_version": "1.5.0",
            "_model_name": "ProgressStyleModel",
            "_view_count": null,
            "_view_module": "@jupyter-widgets/base",
            "_view_module_version": "1.2.0",
            "_view_name": "StyleView",
            "bar_color": null,
            "description_width": ""
          }
        },
        "680c80954fa341ee9a35f80d5dfc3880": {
          "model_module": "@jupyter-widgets/base",
          "model_name": "LayoutModel",
          "model_module_version": "1.2.0",
          "state": {
            "_model_module": "@jupyter-widgets/base",
            "_model_module_version": "1.2.0",
            "_model_name": "LayoutModel",
            "_view_count": null,
            "_view_module": "@jupyter-widgets/base",
            "_view_module_version": "1.2.0",
            "_view_name": "LayoutView",
            "align_content": null,
            "align_items": null,
            "align_self": null,
            "border": null,
            "bottom": null,
            "display": null,
            "flex": null,
            "flex_flow": null,
            "grid_area": null,
            "grid_auto_columns": null,
            "grid_auto_flow": null,
            "grid_auto_rows": null,
            "grid_column": null,
            "grid_gap": null,
            "grid_row": null,
            "grid_template_areas": null,
            "grid_template_columns": null,
            "grid_template_rows": null,
            "height": null,
            "justify_content": null,
            "justify_items": null,
            "left": null,
            "margin": null,
            "max_height": null,
            "max_width": null,
            "min_height": null,
            "min_width": null,
            "object_fit": null,
            "object_position": null,
            "order": null,
            "overflow": null,
            "overflow_x": null,
            "overflow_y": null,
            "padding": null,
            "right": null,
            "top": null,
            "visibility": null,
            "width": null
          }
        },
        "50a79a68756f4b398f5d054cbbdedd2f": {
          "model_module": "@jupyter-widgets/controls",
          "model_name": "DescriptionStyleModel",
          "model_module_version": "1.5.0",
          "state": {
            "_model_module": "@jupyter-widgets/controls",
            "_model_module_version": "1.5.0",
            "_model_name": "DescriptionStyleModel",
            "_view_count": null,
            "_view_module": "@jupyter-widgets/base",
            "_view_module_version": "1.2.0",
            "_view_name": "StyleView",
            "description_width": ""
          }
        },
        "2b81014eabf74a8f9e5a471788a82419": {
          "model_module": "@jupyter-widgets/controls",
          "model_name": "HBoxModel",
          "model_module_version": "1.5.0",
          "state": {
            "_dom_classes": [],
            "_model_module": "@jupyter-widgets/controls",
            "_model_module_version": "1.5.0",
            "_model_name": "HBoxModel",
            "_view_count": null,
            "_view_module": "@jupyter-widgets/controls",
            "_view_module_version": "1.5.0",
            "_view_name": "HBoxView",
            "box_style": "",
            "children": [
              "IPY_MODEL_c173b5a5702847849664ebbb84344b27",
              "IPY_MODEL_80ccf49cfa0e48238edada58a34c60fb",
              "IPY_MODEL_439fa1359f2b4f41b10d3511e082b208"
            ],
            "layout": "IPY_MODEL_4db6c648911e42719303e95167afe2e2"
          }
        },
        "c173b5a5702847849664ebbb84344b27": {
          "model_module": "@jupyter-widgets/controls",
          "model_name": "HTMLModel",
          "model_module_version": "1.5.0",
          "state": {
            "_dom_classes": [],
            "_model_module": "@jupyter-widgets/controls",
            "_model_module_version": "1.5.0",
            "_model_name": "HTMLModel",
            "_view_count": null,
            "_view_module": "@jupyter-widgets/controls",
            "_view_module_version": "1.5.0",
            "_view_name": "HTMLView",
            "description": "",
            "description_tooltip": null,
            "layout": "IPY_MODEL_4ce70041363e48439c2fdd5634548743",
            "placeholder": "​",
            "style": "IPY_MODEL_56afde48e774473a90dbb9065a3894f1",
            "value": "Downloading: 100%"
          }
        },
        "80ccf49cfa0e48238edada58a34c60fb": {
          "model_module": "@jupyter-widgets/controls",
          "model_name": "FloatProgressModel",
          "model_module_version": "1.5.0",
          "state": {
            "_dom_classes": [],
            "_model_module": "@jupyter-widgets/controls",
            "_model_module_version": "1.5.0",
            "_model_name": "FloatProgressModel",
            "_view_count": null,
            "_view_module": "@jupyter-widgets/controls",
            "_view_module_version": "1.5.0",
            "_view_name": "ProgressView",
            "bar_style": "success",
            "description": "",
            "description_tooltip": null,
            "layout": "IPY_MODEL_7060f86789ac4b0ebbcf5330ec925c6f",
            "max": 536063208,
            "min": 0,
            "orientation": "horizontal",
            "style": "IPY_MODEL_752ad4c497f14c94937546f808ab3622",
            "value": 536063208
          }
        },
        "439fa1359f2b4f41b10d3511e082b208": {
          "model_module": "@jupyter-widgets/controls",
          "model_name": "HTMLModel",
          "model_module_version": "1.5.0",
          "state": {
            "_dom_classes": [],
            "_model_module": "@jupyter-widgets/controls",
            "_model_module_version": "1.5.0",
            "_model_name": "HTMLModel",
            "_view_count": null,
            "_view_module": "@jupyter-widgets/controls",
            "_view_module_version": "1.5.0",
            "_view_name": "HTMLView",
            "description": "",
            "description_tooltip": null,
            "layout": "IPY_MODEL_8c0cbaa10f7a4887b7ac0f75d590b0a6",
            "placeholder": "​",
            "style": "IPY_MODEL_42a9f8dd8a8d4ce4bf1b70f18fe9fef8",
            "value": " 511M/511M [00:21&lt;00:00, 14.7MB/s]"
          }
        },
        "4db6c648911e42719303e95167afe2e2": {
          "model_module": "@jupyter-widgets/base",
          "model_name": "LayoutModel",
          "model_module_version": "1.2.0",
          "state": {
            "_model_module": "@jupyter-widgets/base",
            "_model_module_version": "1.2.0",
            "_model_name": "LayoutModel",
            "_view_count": null,
            "_view_module": "@jupyter-widgets/base",
            "_view_module_version": "1.2.0",
            "_view_name": "LayoutView",
            "align_content": null,
            "align_items": null,
            "align_self": null,
            "border": null,
            "bottom": null,
            "display": null,
            "flex": null,
            "flex_flow": null,
            "grid_area": null,
            "grid_auto_columns": null,
            "grid_auto_flow": null,
            "grid_auto_rows": null,
            "grid_column": null,
            "grid_gap": null,
            "grid_row": null,
            "grid_template_areas": null,
            "grid_template_columns": null,
            "grid_template_rows": null,
            "height": null,
            "justify_content": null,
            "justify_items": null,
            "left": null,
            "margin": null,
            "max_height": null,
            "max_width": null,
            "min_height": null,
            "min_width": null,
            "object_fit": null,
            "object_position": null,
            "order": null,
            "overflow": null,
            "overflow_x": null,
            "overflow_y": null,
            "padding": null,
            "right": null,
            "top": null,
            "visibility": null,
            "width": null
          }
        },
        "4ce70041363e48439c2fdd5634548743": {
          "model_module": "@jupyter-widgets/base",
          "model_name": "LayoutModel",
          "model_module_version": "1.2.0",
          "state": {
            "_model_module": "@jupyter-widgets/base",
            "_model_module_version": "1.2.0",
            "_model_name": "LayoutModel",
            "_view_count": null,
            "_view_module": "@jupyter-widgets/base",
            "_view_module_version": "1.2.0",
            "_view_name": "LayoutView",
            "align_content": null,
            "align_items": null,
            "align_self": null,
            "border": null,
            "bottom": null,
            "display": null,
            "flex": null,
            "flex_flow": null,
            "grid_area": null,
            "grid_auto_columns": null,
            "grid_auto_flow": null,
            "grid_auto_rows": null,
            "grid_column": null,
            "grid_gap": null,
            "grid_row": null,
            "grid_template_areas": null,
            "grid_template_columns": null,
            "grid_template_rows": null,
            "height": null,
            "justify_content": null,
            "justify_items": null,
            "left": null,
            "margin": null,
            "max_height": null,
            "max_width": null,
            "min_height": null,
            "min_width": null,
            "object_fit": null,
            "object_position": null,
            "order": null,
            "overflow": null,
            "overflow_x": null,
            "overflow_y": null,
            "padding": null,
            "right": null,
            "top": null,
            "visibility": null,
            "width": null
          }
        },
        "56afde48e774473a90dbb9065a3894f1": {
          "model_module": "@jupyter-widgets/controls",
          "model_name": "DescriptionStyleModel",
          "model_module_version": "1.5.0",
          "state": {
            "_model_module": "@jupyter-widgets/controls",
            "_model_module_version": "1.5.0",
            "_model_name": "DescriptionStyleModel",
            "_view_count": null,
            "_view_module": "@jupyter-widgets/base",
            "_view_module_version": "1.2.0",
            "_view_name": "StyleView",
            "description_width": ""
          }
        },
        "7060f86789ac4b0ebbcf5330ec925c6f": {
          "model_module": "@jupyter-widgets/base",
          "model_name": "LayoutModel",
          "model_module_version": "1.2.0",
          "state": {
            "_model_module": "@jupyter-widgets/base",
            "_model_module_version": "1.2.0",
            "_model_name": "LayoutModel",
            "_view_count": null,
            "_view_module": "@jupyter-widgets/base",
            "_view_module_version": "1.2.0",
            "_view_name": "LayoutView",
            "align_content": null,
            "align_items": null,
            "align_self": null,
            "border": null,
            "bottom": null,
            "display": null,
            "flex": null,
            "flex_flow": null,
            "grid_area": null,
            "grid_auto_columns": null,
            "grid_auto_flow": null,
            "grid_auto_rows": null,
            "grid_column": null,
            "grid_gap": null,
            "grid_row": null,
            "grid_template_areas": null,
            "grid_template_columns": null,
            "grid_template_rows": null,
            "height": null,
            "justify_content": null,
            "justify_items": null,
            "left": null,
            "margin": null,
            "max_height": null,
            "max_width": null,
            "min_height": null,
            "min_width": null,
            "object_fit": null,
            "object_position": null,
            "order": null,
            "overflow": null,
            "overflow_x": null,
            "overflow_y": null,
            "padding": null,
            "right": null,
            "top": null,
            "visibility": null,
            "width": null
          }
        },
        "752ad4c497f14c94937546f808ab3622": {
          "model_module": "@jupyter-widgets/controls",
          "model_name": "ProgressStyleModel",
          "model_module_version": "1.5.0",
          "state": {
            "_model_module": "@jupyter-widgets/controls",
            "_model_module_version": "1.5.0",
            "_model_name": "ProgressStyleModel",
            "_view_count": null,
            "_view_module": "@jupyter-widgets/base",
            "_view_module_version": "1.2.0",
            "_view_name": "StyleView",
            "bar_color": null,
            "description_width": ""
          }
        },
        "8c0cbaa10f7a4887b7ac0f75d590b0a6": {
          "model_module": "@jupyter-widgets/base",
          "model_name": "LayoutModel",
          "model_module_version": "1.2.0",
          "state": {
            "_model_module": "@jupyter-widgets/base",
            "_model_module_version": "1.2.0",
            "_model_name": "LayoutModel",
            "_view_count": null,
            "_view_module": "@jupyter-widgets/base",
            "_view_module_version": "1.2.0",
            "_view_name": "LayoutView",
            "align_content": null,
            "align_items": null,
            "align_self": null,
            "border": null,
            "bottom": null,
            "display": null,
            "flex": null,
            "flex_flow": null,
            "grid_area": null,
            "grid_auto_columns": null,
            "grid_auto_flow": null,
            "grid_auto_rows": null,
            "grid_column": null,
            "grid_gap": null,
            "grid_row": null,
            "grid_template_areas": null,
            "grid_template_columns": null,
            "grid_template_rows": null,
            "height": null,
            "justify_content": null,
            "justify_items": null,
            "left": null,
            "margin": null,
            "max_height": null,
            "max_width": null,
            "min_height": null,
            "min_width": null,
            "object_fit": null,
            "object_position": null,
            "order": null,
            "overflow": null,
            "overflow_x": null,
            "overflow_y": null,
            "padding": null,
            "right": null,
            "top": null,
            "visibility": null,
            "width": null
          }
        },
        "42a9f8dd8a8d4ce4bf1b70f18fe9fef8": {
          "model_module": "@jupyter-widgets/controls",
          "model_name": "DescriptionStyleModel",
          "model_module_version": "1.5.0",
          "state": {
            "_model_module": "@jupyter-widgets/controls",
            "_model_module_version": "1.5.0",
            "_model_name": "DescriptionStyleModel",
            "_view_count": null,
            "_view_module": "@jupyter-widgets/base",
            "_view_module_version": "1.2.0",
            "_view_name": "StyleView",
            "description_width": ""
          }
        }
      }
    }
  },
  "cells": [
    {
      "cell_type": "markdown",
      "metadata": {
        "id": "view-in-github",
        "colab_type": "text"
      },
      "source": [
        "<a href=\"https://colab.research.google.com/github/ruben9324/curso-series-temporales/blob/master/07_Ruben_Antuna_Herrero_TextClassification_Sentiment_HuggingFace.ipynb\" target=\"_parent\"><img src=\"https://colab.research.google.com/assets/colab-badge.svg\" alt=\"Open In Colab\"/></a>"
      ]
    },
    {
      "cell_type": "code",
      "execution_count": 1,
      "metadata": {
        "id": "9AOkOomQoiIk",
        "colab": {
          "base_uri": "https://localhost:8080/"
        },
        "outputId": "011a26c8-0582-4e9c-f748-78e37459ccb1"
      },
      "outputs": [
        {
          "output_type": "stream",
          "name": "stdout",
          "text": [
            "Looking in indexes: https://pypi.org/simple, https://us-python.pkg.dev/colab-wheels/public/simple/\n",
            "Collecting transformers\n",
            "  Downloading transformers-4.19.2-py3-none-any.whl (4.2 MB)\n",
            "\u001b[K     |████████████████████████████████| 4.2 MB 18.4 MB/s \n",
            "\u001b[?25hRequirement already satisfied: packaging>=20.0 in /usr/local/lib/python3.7/dist-packages (from transformers) (21.3)\n",
            "Requirement already satisfied: numpy>=1.17 in /usr/local/lib/python3.7/dist-packages (from transformers) (1.21.6)\n",
            "Collecting tokenizers!=0.11.3,<0.13,>=0.11.1\n",
            "  Downloading tokenizers-0.12.1-cp37-cp37m-manylinux_2_12_x86_64.manylinux2010_x86_64.whl (6.6 MB)\n",
            "\u001b[K     |████████████████████████████████| 6.6 MB 61.9 MB/s \n",
            "\u001b[?25hRequirement already satisfied: requests in /usr/local/lib/python3.7/dist-packages (from transformers) (2.23.0)\n",
            "Requirement already satisfied: regex!=2019.12.17 in /usr/local/lib/python3.7/dist-packages (from transformers) (2019.12.20)\n",
            "Requirement already satisfied: importlib-metadata in /usr/local/lib/python3.7/dist-packages (from transformers) (4.11.3)\n",
            "Requirement already satisfied: tqdm>=4.27 in /usr/local/lib/python3.7/dist-packages (from transformers) (4.64.0)\n",
            "Requirement already satisfied: filelock in /usr/local/lib/python3.7/dist-packages (from transformers) (3.7.0)\n",
            "Collecting huggingface-hub<1.0,>=0.1.0\n",
            "  Downloading huggingface_hub-0.7.0-py3-none-any.whl (86 kB)\n",
            "\u001b[K     |████████████████████████████████| 86 kB 6.6 MB/s \n",
            "\u001b[?25hCollecting pyyaml>=5.1\n",
            "  Downloading PyYAML-6.0-cp37-cp37m-manylinux_2_5_x86_64.manylinux1_x86_64.manylinux_2_12_x86_64.manylinux2010_x86_64.whl (596 kB)\n",
            "\u001b[K     |████████████████████████████████| 596 kB 72.7 MB/s \n",
            "\u001b[?25hRequirement already satisfied: typing-extensions>=3.7.4.3 in /usr/local/lib/python3.7/dist-packages (from huggingface-hub<1.0,>=0.1.0->transformers) (4.2.0)\n",
            "Requirement already satisfied: pyparsing!=3.0.5,>=2.0.2 in /usr/local/lib/python3.7/dist-packages (from packaging>=20.0->transformers) (3.0.9)\n",
            "Requirement already satisfied: zipp>=0.5 in /usr/local/lib/python3.7/dist-packages (from importlib-metadata->transformers) (3.8.0)\n",
            "Requirement already satisfied: certifi>=2017.4.17 in /usr/local/lib/python3.7/dist-packages (from requests->transformers) (2022.5.18.1)\n",
            "Requirement already satisfied: chardet<4,>=3.0.2 in /usr/local/lib/python3.7/dist-packages (from requests->transformers) (3.0.4)\n",
            "Requirement already satisfied: idna<3,>=2.5 in /usr/local/lib/python3.7/dist-packages (from requests->transformers) (2.10)\n",
            "Requirement already satisfied: urllib3!=1.25.0,!=1.25.1,<1.26,>=1.21.1 in /usr/local/lib/python3.7/dist-packages (from requests->transformers) (1.24.3)\n",
            "Installing collected packages: pyyaml, tokenizers, huggingface-hub, transformers\n",
            "  Attempting uninstall: pyyaml\n",
            "    Found existing installation: PyYAML 3.13\n",
            "    Uninstalling PyYAML-3.13:\n",
            "      Successfully uninstalled PyYAML-3.13\n",
            "Successfully installed huggingface-hub-0.7.0 pyyaml-6.0 tokenizers-0.12.1 transformers-4.19.2\n"
          ]
        }
      ],
      "source": [
        "!pip install transformers\n"
      ]
    },
    {
      "cell_type": "code",
      "execution_count": 2,
      "metadata": {
        "id": "34GLY-lggwms"
      },
      "outputs": [],
      "source": [
        "\n",
        "from transformers import (\n",
        "   AutoConfig,\n",
        "   AutoTokenizer,\n",
        "   TFAutoModelForSequenceClassification,\n",
        "   AdamW\n",
        ")\n",
        "import tensorflow as tf\n",
        "import pandas as pd\n",
        "from sklearn.model_selection import train_test_split"
      ]
    },
    {
      "cell_type": "markdown",
      "metadata": {
        "id": "ui1lhunqkfGT"
      },
      "source": [
        "## Language models, transformers y fine-tuning\n"
      ]
    },
    {
      "cell_type": "markdown",
      "metadata": {
        "id": "ukj3_IA_pIgN"
      },
      "source": [
        "Los modelos de lenguaje han facilitado y democraizado el desarrollo del NLP y el Text Mining. Los modelos de lenguaje son capaces de _entender_ , al menos a nivel estadístico, la lengua en la que han sido entrenados. Aunque no son capaces de realizar la mayoría de las tareas, si que pueden ser afinados (_fine-tuned_) para que realicen tareas específicas, aprovechándose al máximo del conocimiento del idioma en el que fueron entrenados. \n",
        "\n",
        "Los modelos de lenguaje se sostienen sobre la arquitectura **Transformers**. GPT fue el primer modelo de lenguaje pre-entrenado con esta arquitectura, con capacidades de afinamiento. Desde entonces se han publicado modelos como BERT, GPT-2, XLM, DistilBERT, T5... que han sido entrenados con mayores volúmenes de textos y son capaces de realizar las tareas con mayor rendimiento. \n"
      ]
    },
    {
      "cell_type": "markdown",
      "metadata": {
        "id": "4io5WNvsmSrH"
      },
      "source": [
        "![asdasdasdasdasdsa.PNG](data:image/png;base64,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)"
      ]
    },
    {
      "cell_type": "markdown",
      "metadata": {
        "id": "15rhqmDUmSzM"
      },
      "source": [
        "Los modelos de lenguaje son publicados por organismos con grandes capacidades de cálculos como centros de investigación, universidades o empresas tecnológicas; para que puedan ser afinados por la comunidad cientifico-tecnológica para múltiples propósitos."
      ]
    },
    {
      "cell_type": "markdown",
      "metadata": {
        "id": "kkO-mwLDms5Q"
      },
      "source": [
        "El proceso de afinar los modelos actualmente puede ser **muy** sencillo gracias a librarías como [Transformers](https://huggingface.co/docs/transformers/index), desarrollada por el equipo de HuggingFace🤗. Esta librería permite seleccionar modelos de un hub público, preparar tus datos, y afinar un modelo para realizar la tarea que desees. Esta librería tiene un gran apoyo de la comunidad, que fomenta la reutilización y apertura tanto de los datos como de los modelos construidos. Gracias a todo esto es mucho más fácil que nunca conseguir rendimientos state-of-the-art sin disponer de grandes volúmenes de datos.\n"
      ]
    },
    {
      "cell_type": "markdown",
      "metadata": {
        "id": "AJjjREhQnf7I"
      },
      "source": [
        "## 🤗 HuggingFace Transformers"
      ]
    },
    {
      "cell_type": "markdown",
      "metadata": {
        "id": "tqijBBfEB_GF"
      },
      "source": [
        "HuggingFace está construido sobre el objeto ``pipeline()``. Esta función permite abstraerse de la complejidad del código y focalizar los esfuerzos en la atarea que se quiere conseguir realizar.\n",
        "\n",
        "Pipeline permite, entre otras cosas, cargar pipeline pre-entrenada para diferentes tareas como análisis de sentimiento, text-generation o traducción de forma muy sencilla."
      ]
    },
    {
      "cell_type": "markdown",
      "metadata": {
        "id": "mOrDLilQo5Xf"
      },
      "source": [
        "En primer lugar se cargaría el módulo"
      ]
    },
    {
      "cell_type": "code",
      "execution_count": 3,
      "metadata": {
        "id": "z_Lx0XXmonkK"
      },
      "outputs": [],
      "source": [
        "from transformers import pipeline"
      ]
    },
    {
      "cell_type": "markdown",
      "metadata": {
        "id": "be1_HJhvo8Y4"
      },
      "source": [
        "\n",
        "\n",
        "*   Análisis de sentimiento\n",
        "\n"
      ]
    },
    {
      "cell_type": "code",
      "execution_count": 4,
      "metadata": {
        "colab": {
          "base_uri": "https://localhost:8080/",
          "height": 202,
          "referenced_widgets": [
            "27dac2b5a9794384b30d1b60c263c05f",
            "3246c1da801e40f78dc5cdd235c95499",
            "2316e53aa27b4dc58413ac2d47848c4f",
            "d1406fa653ff45eb811acfc015c42a0b",
            "48b1fe7583fc4add9b0ac3a01e4f4dc6",
            "e249f079b3104ddbb78fe064912af68b",
            "39536456ff2c4468a92e02224a4c8598",
            "966fe2c268454b33bc66b27d39b2d9f9",
            "586b49acb1774fa8863a94efb4c26697",
            "f469bddf62f3415795dbb42e71b4e21a",
            "d45b856c7eaf40b39a2c0d09872919c5",
            "8e635447a7e148eeb4735e42bc18ee26",
            "f6a43ed9997f4a0db9223cd7d146c534",
            "fadcc2ddb0394fa5b276c655548d6058",
            "6612ac3331ab41beb60a45878766d84b",
            "27bb96a950054812a0723c842af4d04c",
            "23412d5c61ad4edd8b5b2c979fdcf876",
            "57c07c59481d41f89bd2cb4489054236",
            "247e8fd257b84c2193d203fa5ce7f145",
            "dd5945b967be45b7aa975e22046a526f",
            "a30c7ec17b514a158e5fd5bea71ab1e9",
            "9bc71e8713ac4e039f5761c758adb9cd",
            "ef4874f5e6894897b76ea9b367e73b82",
            "66fa9a92fb47427594bb0c267bb2603f",
            "0391c4f54fa24b0f9ba2aeb33dd6213d",
            "ec99d893992543cc9bb81ea685a30687",
            "18f9fda61a3349369a75f47d5427938c",
            "db3b5d04ae024a3383a917436edd54a7",
            "aa60c0fb8eb3448d84c4eddc700b957b",
            "f60cc9c196d3483199626a896e3aec59",
            "ebc6c430dd12456ba89b9919e9b77c27",
            "ac9c83b850204573ab412a895090a81f",
            "ed4bd7cb19ed45dd9be2da5076c4e9d8",
            "173d044c714f4f0ebf821550ce6d2b97",
            "28991e7c40514e4cba318b33738eb970",
            "5142d0564fd64c55a114c642aa1e41da",
            "aba7fe77c76c4e539d29bbcde4f913dd",
            "4b04226534a84c6c8c2581e8329c480d",
            "896c375e2e4f4f7199e324d985fa7956",
            "66540241a3914e4381c0ff9224612eb7",
            "8d8c38318b4e4f4fa4bd8e2c1e1597a1",
            "2f6632752e6f493ab1876684edf0b3af",
            "c41979ef703848dfbe37a61f4aebd637",
            "82f1f4811b4f4e94b00cbd17196e83ec"
          ]
        },
        "id": "Et8dmh_zpAkm",
        "outputId": "2216cdfb-88b2-4c73-b50a-319535f708d3"
      },
      "outputs": [
        {
          "output_type": "stream",
          "name": "stderr",
          "text": [
            "No model was supplied, defaulted to distilbert-base-uncased-finetuned-sst-2-english (https://huggingface.co/distilbert-base-uncased-finetuned-sst-2-english)\n"
          ]
        },
        {
          "output_type": "display_data",
          "data": {
            "text/plain": [
              "Downloading:   0%|          | 0.00/629 [00:00<?, ?B/s]"
            ],
            "application/vnd.jupyter.widget-view+json": {
              "version_major": 2,
              "version_minor": 0,
              "model_id": "27dac2b5a9794384b30d1b60c263c05f"
            }
          },
          "metadata": {}
        },
        {
          "output_type": "display_data",
          "data": {
            "text/plain": [
              "Downloading:   0%|          | 0.00/255M [00:00<?, ?B/s]"
            ],
            "application/vnd.jupyter.widget-view+json": {
              "version_major": 2,
              "version_minor": 0,
              "model_id": "8e635447a7e148eeb4735e42bc18ee26"
            }
          },
          "metadata": {}
        },
        {
          "output_type": "display_data",
          "data": {
            "text/plain": [
              "Downloading:   0%|          | 0.00/48.0 [00:00<?, ?B/s]"
            ],
            "application/vnd.jupyter.widget-view+json": {
              "version_major": 2,
              "version_minor": 0,
              "model_id": "ef4874f5e6894897b76ea9b367e73b82"
            }
          },
          "metadata": {}
        },
        {
          "output_type": "display_data",
          "data": {
            "text/plain": [
              "Downloading:   0%|          | 0.00/226k [00:00<?, ?B/s]"
            ],
            "application/vnd.jupyter.widget-view+json": {
              "version_major": 2,
              "version_minor": 0,
              "model_id": "173d044c714f4f0ebf821550ce6d2b97"
            }
          },
          "metadata": {}
        },
        {
          "output_type": "execute_result",
          "data": {
            "text/plain": [
              "[{'label': 'POSITIVE', 'score': 0.999613344669342}]"
            ]
          },
          "metadata": {},
          "execution_count": 4
        }
      ],
      "source": [
        "sent_class = pipeline(\"sentiment-analysis\")\n",
        "sent_class(\"I hate that rythm, but I love the guitar sound\")"
      ]
    },
    {
      "cell_type": "markdown",
      "metadata": {
        "id": "tY3s369PpA0R"
      },
      "source": [
        "*   Generación de texto\n"
      ]
    },
    {
      "cell_type": "code",
      "execution_count": 26,
      "metadata": {
        "colab": {
          "base_uri": "https://localhost:8080/"
        },
        "id": "vTdyiwTSpA8M",
        "outputId": "badb81cc-d1cd-4c45-f6dd-ad641de2ae84"
      },
      "outputs": [
        {
          "output_type": "stream",
          "name": "stderr",
          "text": [
            "Setting `pad_token_id` to `eos_token_id`:50256 for open-end generation.\n"
          ]
        },
        {
          "output_type": "execute_result",
          "data": {
            "text/plain": [
              "[{'generated_text': 'I hate that rythm, but we wanted to make it feel this way to be.\\n\\n\\n\"You can\\'t do that without putting that in your mind. You don\\'t have to worry about losing yourself; we\\'re going to lose all'}]"
            ]
          },
          "metadata": {},
          "execution_count": 26
        }
      ],
      "source": [
        "gen_text = pipeline(\"text-generation\", model=\"distilgpt2\")\n",
        "gen_text(\"I hate that rythm, but\", max_length=50)"
      ]
    },
    {
      "cell_type": "markdown",
      "metadata": {
        "id": "_aiAZHRVnl8z"
      },
      "source": [
        "## Fine-tuning para análisis de sentimiento"
      ]
    },
    {
      "cell_type": "markdown",
      "metadata": {
        "id": "Kc5ByF48tDz1"
      },
      "source": [
        "### Preparación de datos"
      ]
    },
    {
      "cell_type": "markdown",
      "metadata": {
        "id": "Xth-_iK9pzZz"
      },
      "source": [
        "En este caso, vamos a utilizar HuggingFace para hacer el fine-tuning de un modelo pre-entrenado para que realice una tarea de clasificación. \n",
        "Para empezar, descargaremos los datos etiquetados de la cuenta de github con datos para esta clase:"
      ]
    },
    {
      "cell_type": "code",
      "execution_count": 6,
      "metadata": {
        "colab": {
          "base_uri": "https://localhost:8080/"
        },
        "id": "ghYBCvd9hE5W",
        "outputId": "61cd1841-c402-4ae9-c1ac-1bc2ae63c8ad"
      },
      "outputs": [
        {
          "output_type": "stream",
          "name": "stderr",
          "text": [
            "/usr/local/lib/python3.7/dist-packages/IPython/core/interactiveshell.py:2882: FutureWarning: In a future version of pandas all arguments of read_csv except for the argument 'filepath_or_buffer' will be keyword-only\n",
            "  exec(code_obj, self.user_global_ns, self.user_ns)\n"
          ]
        }
      ],
      "source": [
        "path_to_tsv = \"https://raw.githubusercontent.com/luisgasco/ntic_master_datos/main/datasets/datos_twitter_master.tsv\"\n",
        "df = pd.read_csv(path_to_tsv,\"\\t\")"
      ]
    },
    {
      "cell_type": "markdown",
      "metadata": {
        "id": "dWl4fUASqMAG"
      },
      "source": [
        "Para seleccionar el modelo podemos acceder al [hub de modelos de HuggingFace](https://huggingface.co/models). Ahí podemos filtrar por modelos capaces de realizar distintos tipos de tareas que pueden ser descargados y utilizados directamente, o afinados para un funcionamiento mejor con nuestros datos.\n",
        "\n",
        "En este caso trabajaremos con el modelo bert-base-uncased, uno de los más populares y consolidados."
      ]
    },
    {
      "cell_type": "code",
      "execution_count": 7,
      "metadata": {
        "id": "EHP8AsUfqJlO"
      },
      "outputs": [],
      "source": [
        "model_name = 'bert-base-uncased'"
      ]
    },
    {
      "cell_type": "markdown",
      "metadata": {
        "id": "1ee7H0OIq3C4"
      },
      "source": [
        "Los datos necesitan ser procesados para que puedan ser introducidos al modelo Para ello utilizamos el tokenizador del modelo pre-entrenado con el que estamos trabajando. "
      ]
    },
    {
      "cell_type": "code",
      "execution_count": 8,
      "metadata": {
        "colab": {
          "base_uri": "https://localhost:8080/",
          "height": 145,
          "referenced_widgets": [
            "13c63bf53aec4f69b3166efeab304cf6",
            "0deaf7d1563f4c7e9b8c422e5ef424a4",
            "c06dad2d51b14e05aa6da7a26e4d7100",
            "b890a4dae4c3422889ad49e2824d6ff1",
            "e8f71692acf143c1876cf0ee48ee4db6",
            "da6ff747bca443b8993ba92a85f5a41e",
            "bbd2fc5c460c480cbf9165a72b444107",
            "f12a8934a6824fa8aa2d9b2c9241f9e5",
            "45e5ea4daba546e0a86c5ec22b66b88d",
            "1e03e84db7224d28b758d891c8e394fe",
            "2a4947e671c246d39da8ce05399a21f7",
            "264702567f13429b8f9d37818ba6dddf",
            "36e13f4fe73841ecb3433407fc848c84",
            "b15bafc718464ba0ba89392354047c09",
            "7e4a324bf7a94636a7694bc6a0f15664",
            "8336b296eb7c4b4ca2d9fbed0f821610",
            "ea9c569a65e74ef5819859ef25e18a50",
            "c4ad85860cab4d8fa8228580a83849f9",
            "25a44aa3a9134aeaaf186584566b3e52",
            "ad87f2dfb9e346819e1d5acaf31f16cb",
            "103ed9d859ae4f30af2f31590cf1000a",
            "3142335935c4413788c83419554a1033",
            "f38e42dc31254072865520740fc4a4ae",
            "57aae1bb274445c0a7adde1c8f17c66a",
            "14f1d4bfd1444cdc9ef258ee15814d83",
            "612b62bd3ff24a949ba507b8f4e6613e",
            "06e6200aa5df4062b1bd3e8de12b313d",
            "18fec29e564a4ddaac7d3c920675ea45",
            "60aa566e29fa49a8aa7fbd7a03308d76",
            "ec69e3cdf2d049ad900f9c28bbb9231d",
            "64ad12d0bc38449aa9b1c05d0b104879",
            "69e8b1f57a26430e84f3a8fa311d458f",
            "43dcd38c93a3401582d62d30ca6a6bc9",
            "814f3d3c1bbd47c8b0ed2f241549063e",
            "941b0d316c02420b95f77e4e18f29967",
            "e3685369aa1d43dcb8b3bdd820aac7c0",
            "047d561d422c4acf86139c80d1785332",
            "40baedbf6b4a45ebb839dbcfdc4af3f0",
            "b8d525fc2cf04dac87abdc735a15352e",
            "fc5577eb916e4dac877079382053507c",
            "a8cb90809322410d90ae394d3f8bf1c6",
            "bebbd06d56bb4cf3a4d730eef902b22d",
            "680c80954fa341ee9a35f80d5dfc3880",
            "50a79a68756f4b398f5d054cbbdedd2f"
          ]
        },
        "id": "dQmC-nb-CSIr",
        "outputId": "71265f97-bfdc-47f8-c04d-98a9a7f5dbf5"
      },
      "outputs": [
        {
          "output_type": "display_data",
          "data": {
            "text/plain": [
              "Downloading:   0%|          | 0.00/28.0 [00:00<?, ?B/s]"
            ],
            "application/vnd.jupyter.widget-view+json": {
              "version_major": 2,
              "version_minor": 0,
              "model_id": "13c63bf53aec4f69b3166efeab304cf6"
            }
          },
          "metadata": {}
        },
        {
          "output_type": "display_data",
          "data": {
            "text/plain": [
              "Downloading:   0%|          | 0.00/570 [00:00<?, ?B/s]"
            ],
            "application/vnd.jupyter.widget-view+json": {
              "version_major": 2,
              "version_minor": 0,
              "model_id": "264702567f13429b8f9d37818ba6dddf"
            }
          },
          "metadata": {}
        },
        {
          "output_type": "display_data",
          "data": {
            "text/plain": [
              "Downloading:   0%|          | 0.00/226k [00:00<?, ?B/s]"
            ],
            "application/vnd.jupyter.widget-view+json": {
              "version_major": 2,
              "version_minor": 0,
              "model_id": "f38e42dc31254072865520740fc4a4ae"
            }
          },
          "metadata": {}
        },
        {
          "output_type": "display_data",
          "data": {
            "text/plain": [
              "Downloading:   0%|          | 0.00/455k [00:00<?, ?B/s]"
            ],
            "application/vnd.jupyter.widget-view+json": {
              "version_major": 2,
              "version_minor": 0,
              "model_id": "814f3d3c1bbd47c8b0ed2f241549063e"
            }
          },
          "metadata": {}
        }
      ],
      "source": [
        "tokenizer = AutoTokenizer.from_pretrained(model_name)"
      ]
    },
    {
      "cell_type": "markdown",
      "metadata": {
        "id": "X8J7zoK2h8Db"
      },
      "source": [
        "A continuación, dividimos nuestro dataset para el proceso. Primero, seleccionamos los textos y etiquetas en variables separadas."
      ]
    },
    {
      "cell_type": "code",
      "execution_count": 9,
      "metadata": {
        "id": "dnSKL8xLh7fX"
      },
      "outputs": [],
      "source": [
        "texts = df.tweet_text.values  # an array of strings\n",
        "labels = df.molestia.values  # an array of integers"
      ]
    },
    {
      "cell_type": "markdown",
      "metadata": {
        "id": "0WdHorNhruQz"
      },
      "source": [
        "Despues dividimos el conjunto de datos en Train-Validation (90%) y Test (10%)."
      ]
    },
    {
      "cell_type": "code",
      "execution_count": 10,
      "metadata": {
        "id": "2cm6_EGhruYt"
      },
      "outputs": [],
      "source": [
        "train_texts, test_texts, train_labels, test_labels = train_test_split(texts, labels, test_size=.1)\n",
        "train_texts, val_texts, train_labels, val_labels = train_test_split(train_texts, train_labels, test_size=.2)"
      ]
    },
    {
      "cell_type": "markdown",
      "metadata": {
        "id": "bSu9hTpJsA3c"
      },
      "source": [
        "Antes de preprocesar la entrada, necesitamos definir la longitud de la secuencia (longitud maxima del documento en tokens) y el Batch size. En Colab, hay limitaciones (batch = 8 y secuencia=96). Si se reduciera el batch se podría incrementar el tamaño, pero en este caso nos es indiferente."
      ]
    },
    {
      "cell_type": "code",
      "execution_count": 11,
      "metadata": {
        "id": "yF3dWT6ahiOO"
      },
      "outputs": [],
      "source": [
        "max_seq_length = 96 #@param {type: \"integer\"}\n",
        "train_batch_size =  8#@param {type: \"integer\"} \n",
        "eval_batch_size = 8 #@param {type: \"integer\"}\n",
        "test_batch_size = 8 #@param {type: \"integer\"}"
      ]
    },
    {
      "cell_type": "markdown",
      "metadata": {
        "id": "YC_l8wIGsa13"
      },
      "source": [
        "Preprocesamos nuestros datos utilizando el tokenizador definido previamente:"
      ]
    },
    {
      "cell_type": "code",
      "execution_count": 12,
      "metadata": {
        "id": "y9Xh5cgWsa_6"
      },
      "outputs": [],
      "source": [
        "train_encodings = tokenizer(train_texts.tolist(), truncation=True, max_length=max_seq_length, padding=True)\n",
        "val_encodings = tokenizer(val_texts.tolist(), truncation=True, max_length=max_seq_length, padding=True)\n",
        "test_encodings = tokenizer(test_texts.tolist(), truncation=True, max_length=max_seq_length, padding=True)"
      ]
    },
    {
      "cell_type": "markdown",
      "metadata": {
        "id": "QaxBs5IZsrxo"
      },
      "source": [
        "Se observa que el texto se sustituye por valores numéricos en un vector de tamaño ``max_seq_length´´"
      ]
    },
    {
      "cell_type": "code",
      "execution_count": 13,
      "metadata": {
        "colab": {
          "base_uri": "https://localhost:8080/"
        },
        "id": "mGAFDZ3lsr7g",
        "outputId": "27effa8e-1aab-4fa9-eb90-86f551aea599"
      },
      "outputs": [
        {
          "output_type": "execute_result",
          "data": {
            "text/plain": [
              "{'input_ids': [[101, 5936, 1997, 5005, 2013, 2220, 2851, 7599, 2058, 12634, 3199, 4935, 16770, 1024, 1013, 1013, 1056, 1012, 2522, 1013, 15262, 2683, 16558, 9468, 2595, 2290, 102, 0, 0, 0, 0, 0, 0, 0, 0, 0, 0, 0, 0, 0, 0, 0, 0, 0, 0, 0, 0, 0, 0, 0, 0, 0, 0, 0, 0, 0, 0, 0, 0, 0, 0, 0], [101, 2047, 2259, 2103, 7885, 2007, 2129, 2000, 13764, 2091, 1996, 5005, 2007, 6627, 16770, 1024, 1013, 1013, 1056, 1012, 2522, 1013, 14021, 19968, 22203, 10536, 4160, 2080, 1001, 3698, 19738, 6826, 2075, 1001, 6047, 12972, 102, 0, 0, 0, 0, 0, 0, 0, 0, 0, 0, 0, 0, 0, 0, 0, 0, 0, 0, 0, 0, 0, 0, 0, 0, 0], [101, 2529, 5005, 1999, 1057, 1012, 1055, 1012, 6328, 17016, 6870, 16770, 1024, 1013, 1013, 1056, 1012, 2522, 1013, 1048, 21638, 2575, 2078, 27767, 2361, 2683, 3501, 1001, 2671, 102, 0, 0, 0, 0, 0, 0, 0, 0, 0, 0, 0, 0, 0, 0, 0, 0, 0, 0, 0, 0, 0, 0, 0, 0, 0, 0, 0, 0, 0, 0, 0, 0], [101, 2061, 1045, 2031, 1037, 2047, 11429, 2157, 2682, 2033, 1004, 23713, 1025, 2002, 1005, 1055, 2042, 2437, 2061, 2172, 5005, 1012, 1012, 1012, 1012, 2065, 2023, 16180, 2005, 2178, 2733, 1045, 1005, 1049, 6069, 14383, 4168, 2032, 1012, 102, 0, 0, 0, 0, 0, 0, 0, 0, 0, 0, 0, 0, 0, 0, 0, 0, 0, 0, 0, 0, 0, 0], [101, 10166, 2026, 20065, 2003, 2437, 2061, 2172, 5005, 1012, 2008, 2051, 2010, 2299, 3601, 2003, 11669, 100, 102, 0, 0, 0, 0, 0, 0, 0, 0, 0, 0, 0, 0, 0, 0, 0, 0, 0, 0, 0, 0, 0, 0, 0, 0, 0, 0, 0, 0, 0, 0, 0, 0, 0, 0, 0, 0, 0, 0, 0, 0, 0, 0, 0], [101, 2644, 2437, 1037, 6881, 5005, 1059, 24475, 102, 0, 0, 0, 0, 0, 0, 0, 0, 0, 0, 0, 0, 0, 0, 0, 0, 0, 0, 0, 0, 0, 0, 0, 0, 0, 0, 0, 0, 0, 0, 0, 0, 0, 0, 0, 0, 0, 0, 0, 0, 0, 0, 0, 0, 0, 0, 0, 0, 0, 0, 0, 0, 0], [101, 2678, 1024, 8063, 1521, 1055, 2352, 1997, 19817, 6784, 1516, 1037, 16012, 3269, 1010, 9989, 1997, 5437, 1010, 5005, 1998, 2757, 13734, 16770, 1024, 1013, 1013, 1056, 1012, 2522, 1013, 1018, 2063, 2692, 13592, 2546, 2860, 28400, 16770, 1024, 1013, 1013, 1056, 1012, 2522, 1013, 1057, 2080, 25746, 7677, 12902, 2102, 102, 0, 0, 0, 0, 0, 0, 0, 0, 0], [101, 7099, 9871, 2553, 2817, 12654, 2006, 5005, 2004, 1037, 15559, 4005, 1999, 1996, 2147, 2173, 16770, 1024, 1013, 1013, 1056, 1012, 2522, 1013, 1018, 17238, 2620, 4430, 2078, 22540, 102, 0, 0, 0, 0, 0, 0, 0, 0, 0, 0, 0, 0, 0, 0, 0, 0, 0, 0, 0, 0, 0, 0, 0, 0, 0, 0, 0, 0, 0, 0, 0], [101, 18196, 7917, 2013, 2652, 2189, 2138, 1997, 5005, 10821, 16770, 1024, 1013, 1013, 1056, 1012, 2522, 1013, 1052, 2480, 2278, 4160, 2546, 4160, 13668, 3490, 102, 0, 0, 0, 0, 0, 0, 0, 0, 0, 0, 0, 0, 0, 0, 0, 0, 0, 0, 0, 0, 0, 0, 0, 0, 0, 0, 0, 0, 0, 0, 0, 0, 0, 0, 0], [101, 2428, 2215, 2000, 4010, 2039, 2070, 2187, 24302, 2021, 2026, 3566, 2003, 2019, 5186, 2422, 24372, 1998, 2097, 2272, 10025, 1998, 5926, 2026, 4632, 2005, 1000, 2437, 1037, 5005, 1000, 102, 0, 0, 0, 0, 0, 0, 0, 0, 0, 0, 0, 0, 0, 0, 0, 0, 0, 0, 0, 0, 0, 0, 0, 0, 0, 0, 0, 0, 0, 0], [101, 5667, 2026, 10638, 2005, 2039, 5108, 8440, 1005, 1056, 2253, 2000, 2793, 1998, 2145, 2437, 5005, 100, 16770, 1024, 1013, 1013, 1056, 1012, 2522, 1013, 16545, 2100, 15992, 6169, 2226, 17040, 102, 0, 0, 0, 0, 0, 0, 0, 0, 0, 0, 0, 0, 0, 0, 0, 0, 0, 0, 0, 0, 0, 0, 0, 0, 0, 0, 0, 0, 0], [101, 2009, 1005, 1055, 1018, 1012, 2382, 3286, 1998, 2057, 2145, 4033, 1005, 1056, 7771, 2138, 1997, 1996, 5005, 1012, 1045, 2123, 1005, 1056, 2228, 1045, 1005, 2222, 2412, 2022, 1037, 2103, 2711, 5292, 3270, 102, 0, 0, 0, 0, 0, 0, 0, 0, 0, 0, 0, 0, 0, 0, 0, 0, 0, 0, 0, 0, 0, 0, 0, 0, 0, 0], [101, 3020, 2774, 1997, 2103, 5055, 2089, 2025, 2022, 2019, 3265, 3433, 2000, 5005, 16770, 1024, 1013, 1013, 1056, 1012, 2522, 1013, 1017, 4160, 2100, 2290, 2094, 2243, 4160, 2860, 2361, 2683, 1001, 2030, 3490, 2705, 6779, 1030, 12667, 10085, 14289, 16558, 21837, 16770, 1024, 1013, 1013, 1056, 1012, 2522, 1013, 21358, 15378, 13639, 2620, 4246, 102, 0, 0, 0, 0, 0], [101, 7142, 6892, 3194, 5005, 2038, 2042, 2746, 2013, 1059, 27798, 3070, 21034, 16770, 1024, 1013, 1013, 1056, 1012, 2522, 1013, 1046, 2487, 25856, 2860, 4160, 3676, 7974, 102, 0, 0, 0, 0, 0, 0, 0, 0, 0, 0, 0, 0, 0, 0, 0, 0, 0, 0, 0, 0, 0, 0, 0, 0, 0, 0, 0, 0, 0, 0, 0, 0, 0], [101, 1045, 8415, 2026, 14754, 3965, 3429, 1003, 1997, 5005, 10796, 1999, 1996, 11331, 2181, 102, 0, 0, 0, 0, 0, 0, 0, 0, 0, 0, 0, 0, 0, 0, 0, 0, 0, 0, 0, 0, 0, 0, 0, 0, 0, 0, 0, 0, 0, 0, 0, 0, 0, 0, 0, 0, 0, 0, 0, 0, 0, 0, 0, 0, 0, 0], [101, 2821, 2026, 2643, 1012, 1012, 1012, 1996, 5005, 2013, 9738, 2635, 2125, 1030, 2414, 12972, 11215, 2003, 4439, 2033, 5506, 999, 999, 2057, 2020, 2182, 2077, 2017, 1004, 23713, 1025, 2017, 2215, 2000, 7818, 1029, 999, 100, 102, 0, 0, 0, 0, 0, 0, 0, 0, 0, 0, 0, 0, 0, 0, 0, 0, 0, 0, 0, 0, 0, 0, 0], [101, 23701, 6299, 2000, 13057, 5005, 2375, 4844, 2005, 10493, 2092, 1011, 10443, 2622, 1064, 3516, 2335, 2586, 1001, 13109, 5880, 16770, 1024, 1013, 1013, 1056, 1012, 2522, 1013, 6131, 19098, 10536, 14289, 6292, 102, 0, 0, 0, 0, 0, 0, 0, 0, 0, 0, 0, 0, 0, 0, 0, 0, 0, 0, 0, 0, 0, 0, 0, 0, 0, 0, 0], [101, 2036, 1037, 3124, 2003, 2667, 2000, 2831, 2000, 2033, 2058, 1996, 3902, 3194, 5005, 2021, 1045, 1005, 1049, 2205, 9266, 2546, 2005, 2008, 4485, 1012, 1045, 1005, 1049, 2074, 5629, 1004, 23713, 1025, 11863, 1012, 102, 0, 0, 0, 0, 0, 0, 0, 0, 0, 0, 0, 0, 0, 0, 0, 0, 0, 0, 0, 0, 0, 0, 0, 0, 0], [101, 1523, 2123, 1521, 1056, 2292, 1996, 5005, 1997, 2500, 1521, 10740, 19549, 2041, 2115, 2219, 5110, 2376, 1012, 1000, 1011, 1011, 3889, 5841, 10261, 2017, 5544, 1010, 14954, 11450, 2007, 4426, 1012, 16770, 1024, 1013, 1013, 1056, 1012, 2522, 1013, 1062, 12848, 28745, 2546, 2232, 15136, 2595, 102, 0, 0, 0, 0, 0, 0, 0, 0, 0, 0, 0, 0, 0], [101, 5005, 16011, 2003, 1037, 8742, 3255, 2241, 8639, 102, 0, 0, 0, 0, 0, 0, 0, 0, 0, 0, 0, 0, 0, 0, 0, 0, 0, 0, 0, 0, 0, 0, 0, 0, 0, 0, 0, 0, 0, 0, 0, 0, 0, 0, 0, 0, 0, 0, 0, 0, 0, 0, 0, 0, 0, 0, 0, 0, 0, 0, 0, 0], [101, 1996, 5005, 1997, 2619, 5983, 2019, 6207, 3084, 2033, 5305, 102, 0, 0, 0, 0, 0, 0, 0, 0, 0, 0, 0, 0, 0, 0, 0, 0, 0, 0, 0, 0, 0, 0, 0, 0, 0, 0, 0, 0, 0, 0, 0, 0, 0, 0, 0, 0, 0, 0, 0, 0, 0, 0, 0, 0, 0, 0, 0, 0, 0, 0], [101, 10047, 6015, 2049, 2066, 1037, 4946, 2003, 2635, 2125, 2279, 2000, 2256, 4545, 1998, 2049, 1017, 1012, 2382, 2572, 1045, 2064, 2102, 2156, 2505, 1998, 1045, 2064, 2102, 3637, 4647, 1997, 1996, 5005, 102, 0, 0, 0, 0, 0, 0, 0, 0, 0, 0, 0, 0, 0, 0, 0, 0, 0, 0, 0, 0, 0, 0, 0, 0, 0, 0, 0], [101, 2821, 2026, 2643, 1010, 2119, 2026, 2210, 12334, 2024, 2006, 2037, 25249, 2015, 2012, 2440, 3872, 2007, 8292, 15878, 4402, 20536, 2006, 1998, 2023, 2003, 5005, 3109, 1012, 102, 0, 0, 0, 0, 0, 0, 0, 0, 0, 0, 0, 0, 0, 0, 0, 0, 0, 0, 0, 0, 0, 0, 0, 0, 0, 0, 0, 0, 0, 0, 0, 0], [101, 1996, 2168, 10506, 4691, 5005, 2038, 2042, 2183, 2125, 2648, 2026, 4545, 2144, 7483, 2851, 1010, 1998, 1045, 1005, 1049, 2055, 2000, 4558, 2009, 1012, 100, 102, 0, 0, 0, 0, 0, 0, 0, 0, 0, 0, 0, 0, 0, 0, 0, 0, 0, 0, 0, 0, 0, 0, 0, 0, 0, 0, 0, 0, 0, 0, 0, 0, 0, 0], [101, 2006, 8284, 3122, 3927, 1010, 2810, 2003, 2893, 2000, 3901, 1010, 2360, 5005, 1010, 2701, 28386, 2205, 2172, 1012, 1030, 3795, 1035, 5548, 16770, 1024, 1013, 1013, 1056, 1012, 2522, 1013, 1021, 6692, 2595, 5313, 2213, 2860, 2629, 2100, 102, 0, 0, 0, 0, 0, 0, 0, 0, 0, 0, 0, 0, 0, 0, 0, 0, 0, 0, 0, 0, 0], [101, 5374, 18079, 1012, 6554, 14851, 7670, 6998, 2006, 3199, 1001, 5005, 10821, 16770, 1024, 1013, 1013, 1056, 1012, 2522, 1013, 3027, 3351, 2692, 2549, 2869, 2575, 2015, 102, 0, 0, 0, 0, 0, 0, 0, 0, 0, 0, 0, 0, 0, 0, 0, 0, 0, 0, 0, 0, 0, 0, 0, 0, 0, 0, 0, 0, 0, 0, 0, 0, 0], [101, 1996, 6745, 11398, 1001, 5005, 2504, 2012, 3328, 7076, 4665, 3075, 2003, 4700, 1012, 2459, 16962, 1006, 1037, 1007, 1012, 2156, 16770, 1024, 1013, 1013, 1056, 1012, 2522, 1013, 1017, 2243, 2361, 8569, 2497, 2509, 2243, 2140, 2290, 2005, 2062, 4751, 1012, 102, 0, 0, 0, 0, 0, 0, 0, 0, 0, 0, 0, 0, 0, 0, 0, 0, 0, 0], [101, 4364, 2196, 5293, 2000, 4929, 4540, 24759, 15916, 2015, 2000, 6759, 1998, 4243, 1998, 3649, 1012, 1045, 2109, 2000, 2196, 2079, 2009, 1998, 2085, 1045, 2031, 1037, 4568, 5005, 1999, 2026, 100, 102, 0, 0, 0, 0, 0, 0, 0, 0, 0, 0, 0, 0, 0, 0, 0, 0, 0, 0, 0, 0, 0, 0, 0, 0, 0, 0, 0, 0], [101, 5189, 22255, 5005, 2013, 2250, 23245, 2015, 1030, 12256, 27184, 2099, 2860, 3613, 1012, 102, 0, 0, 0, 0, 0, 0, 0, 0, 0, 0, 0, 0, 0, 0, 0, 0, 0, 0, 0, 0, 0, 0, 0, 0, 0, 0, 0, 0, 0, 0, 0, 0, 0, 0, 0, 0, 0, 0, 0, 0, 0, 0, 0, 0, 0, 0], [101, 8239, 14754, 1998, 2045, 5189, 5005, 2012, 2023, 2051, 100, 102, 0, 0, 0, 0, 0, 0, 0, 0, 0, 0, 0, 0, 0, 0, 0, 0, 0, 0, 0, 0, 0, 0, 0, 0, 0, 0, 0, 0, 0, 0, 0, 0, 0, 0, 0, 0, 0, 0, 0, 0, 0, 0, 0, 0, 0, 0, 0, 0, 0, 0], [101, 11429, 1015, 2170, 10558, 2006, 11429, 1016, 2005, 5005, 1050, 2475, 2275, 2039, 7186, 4597, 2006, 1050, 2487, 2008, 2448, 2035, 2305, 1048, 2863, 2080, 102, 0, 0, 0, 0, 0, 0, 0, 0, 0, 0, 0, 0, 0, 0, 0, 0, 0, 0, 0, 0, 0, 0, 0, 0, 0, 0, 0, 0, 0, 0, 0, 0, 0, 0, 0], [101, 1061, 1005, 2035, 1045, 1005, 1049, 2012, 2026, 13055, 2015, 2160, 1999, 1996, 14832, 2282, 1998, 1045, 2963, 1037, 4326, 4632, 5005, 102, 0, 0, 0, 0, 0, 0, 0, 0, 0, 0, 0, 0, 0, 0, 0, 0, 0, 0, 0, 0, 0, 0, 0, 0, 0, 0, 0, 0, 0, 0, 0, 0, 0, 0, 0, 0, 0, 0], [101, 3901, 2097, 2954, 2006, 2000, 7969, 1001, 2740, 2013, 1001, 2250, 18155, 7630, 3508, 1001, 5005, 1004, 23713, 1025, 1001, 2422, 10796, 2013, 1017, 1011, 1018, 2243, 4026, 1030, 2305, 2044, 1001, 4041, 3247, 102, 0, 0, 0, 0, 0, 0, 0, 0, 0, 0, 0, 0, 0, 0, 0, 0, 0, 0, 0, 0, 0, 0, 0, 0, 0, 0], [101, 2079, 2025, 2377, 8401, 5005, 2012, 23842, 2213, 102, 0, 0, 0, 0, 0, 0, 0, 0, 0, 0, 0, 0, 0, 0, 0, 0, 0, 0, 0, 0, 0, 0, 0, 0, 0, 0, 0, 0, 0, 0, 0, 0, 0, 0, 0, 0, 0, 0, 0, 0, 0, 0, 0, 0, 0, 0, 0, 0, 0, 0, 0, 0], [101, 2817, 4858, 7254, 5005, 2064, 3623, 2152, 2668, 3778, 3891, 1012, 16770, 1024, 1013, 1013, 1056, 1012, 2522, 1013, 28134, 2692, 26230, 2213, 2549, 6806, 2243, 102, 0, 0, 0, 0, 0, 0, 0, 0, 0, 0, 0, 0, 0, 0, 0, 0, 0, 0, 0, 0, 0, 0, 0, 0, 0, 0, 0, 0, 0, 0, 0, 0, 0, 0], [101, 1045, 5223, 1996, 2091, 24352, 8592, 2138, 1996, 5005, 2013, 1996, 3765, 12665, 2026, 3899, 1013, 1024, 102, 0, 0, 0, 0, 0, 0, 0, 0, 0, 0, 0, 0, 0, 0, 0, 0, 0, 0, 0, 0, 0, 0, 0, 0, 0, 0, 0, 0, 0, 0, 0, 0, 0, 0, 0, 0, 0, 0, 0, 0, 0, 0, 0], [101, 2216, 18243, 7228, 4268, 2191, 2061, 2172, 1001, 5005, 999, 14705, 2015, 1010, 2399, 2752, 1010, 9047, 5822, 1998, 6821, 5134, 1012, 1012, 1012, 16770, 1024, 1013, 1013, 1056, 1012, 2522, 1013, 1023, 2595, 2546, 21724, 10936, 3676, 2629, 102, 0, 0, 0, 0, 0, 0, 0, 0, 0, 0, 0, 0, 0, 0, 0, 0, 0, 0, 0, 0, 0], [101, 1576, 11387, 21665, 5005, 8803, 6749, 2005, 6768, 4875, 7840, 16770, 1024, 1013, 1013, 1056, 1012, 2522, 1013, 1041, 4014, 2480, 2497, 2475, 2243, 2480, 20554, 3081, 1030, 16021, 27794, 22747, 18743, 18155, 7630, 3508, 1010, 4083, 3460, 7677, 3654, 2655, 2683, 19841, 15136, 24434, 12740, 2620, 102, 0, 0, 0, 0, 0, 0, 0, 0, 0, 0, 0, 0, 0], [101, 2103, 8801, 14300, 3818, 3431, 2000, 2414, 1521, 1055, 5005, 2011, 14919, 16770, 1024, 1013, 1013, 1056, 1012, 2522, 1013, 1042, 4160, 3501, 23858, 2278, 11329, 12031, 16770, 1024, 1013, 1013, 1056, 1012, 2522, 1013, 1047, 2595, 2638, 2692, 2480, 16523, 16872, 102, 0, 0, 0, 0, 0, 0, 0, 0, 0, 0, 0, 0, 0, 0, 0, 0, 0, 0], [101, 2007, 2039, 25465, 3645, 1010, 2017, 2097, 2131, 5770, 10548, 5005, 10796, 1999, 2115, 2188, 1012, 1001, 3313, 1035, 1043, 2721, 6774, 1035, 7597, 1001, 1043, 2721, 6774, 16770, 1024, 1013, 1013, 1056, 1012, 2522, 1013, 1049, 2480, 4757, 2692, 6968, 2629, 3489, 16770, 1024, 1013, 1013, 1056, 1012, 2522, 1013, 1050, 2581, 12083, 2232, 2480, 2683, 2290, 2094, 2860, 102], [101, 1996, 6569, 1997, 2542, 2379, 2000, 1037, 2364, 2346, 1029, 1037, 2200, 3835, 2158, 2007, 1037, 1052, 2638, 25360, 12913, 2038, 2074, 2357, 2039, 2000, 2507, 2033, 2070, 4281, 5005, 3892, 102, 0, 0, 0, 0, 0, 0, 0, 0, 0, 0, 0, 0, 0, 0, 0, 0, 0, 0, 0, 0, 0, 0, 0, 0, 0, 0, 0, 0, 0], [101, 2054, 1996, 6616, 2003, 2008, 4743, 5005, 1029, 102, 0, 0, 0, 0, 0, 0, 0, 0, 0, 0, 0, 0, 0, 0, 0, 0, 0, 0, 0, 0, 0, 0, 0, 0, 0, 0, 0, 0, 0, 0, 0, 0, 0, 0, 0, 0, 0, 0, 0, 0, 0, 0, 0, 0, 0, 0, 0, 0, 0, 0, 0, 0], [101, 1045, 2001, 2383, 1037, 3959, 1998, 2023, 15703, 5005, 2921, 6230, 1999, 2009, 1010, 4332, 2049, 2009, 2001, 1996, 1020, 4771, 4455, 2013, 2026, 2388, 1998, 1045, 1005, 1049, 1999, 4390, 1051, 11923, 102, 0, 0, 0, 0, 0, 0, 0, 0, 0, 0, 0, 0, 0, 0, 0, 0, 0, 0, 0, 0, 0, 0, 0, 0, 0, 0, 0], [101, 3071, 2038, 2051, 2000, 1056, 28394, 2102, 11113, 2102, 2250, 1013, 5005, 10796, 1066, 4487, 13476, 2072, 2300, 10796, 1066, 25957, 9953, 11834, 19585, 4048, 5005, 10796, 1066, 6583, 24516, 18886, 2021, 1010, 2006, 1041, 3593, 16770, 1024, 1013, 1013, 1056, 1012, 2522, 1013, 23746, 6679, 4609, 23314, 2546, 102, 0, 0, 0, 0, 0, 0, 0, 0, 0, 0, 0], [101, 19613, 1999, 1037, 9379, 1010, 3019, 4292, 1010, 2185, 2013, 2035, 1996, 2103, 5005, 100, 102, 0, 0, 0, 0, 0, 0, 0, 0, 0, 0, 0, 0, 0, 0, 0, 0, 0, 0, 0, 0, 0, 0, 0, 0, 0, 0, 0, 0, 0, 0, 0, 0, 0, 0, 0, 0, 0, 0, 0, 0, 0, 0, 0, 0, 0], [101, 2339, 2079, 2111, 2681, 1996, 15703, 11112, 1011, 11112, 9019, 5005, 2006, 2037, 11640, 1029, 2027, 2123, 1521, 1056, 2113, 2129, 2000, 2735, 2009, 2125, 1059, 1013, 1051, 5128, 3042, 2006, 4333, 1029, 102, 0, 0, 0, 0, 0, 0, 0, 0, 0, 0, 0, 0, 0, 0, 0, 0, 0, 0, 0, 0, 0, 0, 0, 0, 0, 0, 0], [101, 13325, 2011, 1996, 5005, 2008, 1005, 1055, 1038, 8017, 2075, 2083, 2026, 3332, 1010, 2023, 2003, 1037, 12142, 14404, 100, 16770, 1024, 1013, 1013, 1056, 1012, 2522, 1013, 1048, 2581, 2475, 10278, 2100, 2487, 12083, 102, 0, 0, 0, 0, 0, 0, 0, 0, 0, 0, 0, 0, 0, 0, 0, 0, 0, 0, 0, 0, 0, 0, 0, 0, 0], [101, 2542, 2279, 2000, 1037, 2082, 2003, 2061, 15703, 1012, 2035, 1996, 25674, 2027, 2191, 1010, 4268, 13175, 10126, 1010, 2070, 6881, 4632, 5005, 2027, 2022, 2437, 1012, 1057, 5603, 1012, 102, 0, 0, 0, 0, 0, 0, 0, 0, 0, 0, 0, 0, 0, 0, 0, 0, 0, 0, 0, 0, 0, 0, 0, 0, 0, 0, 0, 0, 0, 0], [101, 1031, 9927, 1033, 2182, 1005, 1055, 2256, 2047, 9927, 2006, 1000, 2644, 1996, 5005, 1516, 11027, 9499, 16342, 1000, 100, 16770, 1024, 1013, 1013, 1056, 1012, 2522, 1013, 1018, 9759, 2615, 2361, 2480, 4877, 2692, 2213, 16770, 1024, 1013, 1013, 1056, 1012, 2522, 1013, 7570, 25465, 14905, 6979, 3501, 2692, 102, 0, 0, 0, 0, 0, 0, 0, 0, 0, 0], [101, 2045, 1005, 1055, 1037, 14797, 15135, 5005, 2648, 1996, 2160, 1998, 1045, 1005, 1049, 2183, 2000, 2175, 9577, 4983, 1045, 2424, 2009, 1012, 102, 0, 0, 0, 0, 0, 0, 0, 0, 0, 0, 0, 0, 0, 0, 0, 0, 0, 0, 0, 0, 0, 0, 0, 0, 0, 0, 0, 0, 0, 0, 0, 0, 0, 0, 0, 0, 0], [101, 2129, 2000, 4013, 3630, 17457, 14448, 1011, 5005, 100, 16770, 1024, 1013, 1013, 1056, 1012, 2522, 1013, 1043, 2575, 2102, 4160, 23644, 2361, 4160, 3630, 1001, 102, 0, 0, 0, 0, 0, 0, 0, 0, 0, 0, 0, 0, 0, 0, 0, 0, 0, 0, 0, 0, 0, 0, 0, 0, 0, 0, 0, 0, 0, 0, 0, 0, 0, 0], [101, 1045, 2064, 1005, 1056, 2425, 2065, 1996, 5005, 2648, 2026, 3332, 2003, 1037, 20934, 10623, 8017, 2030, 2026, 10638, 2108, 15703, 2648, 2012, 2260, 1024, 2382, 2012, 2305, 1012, 2593, 2003, 24286, 1012, 102, 0, 0, 0, 0, 0, 0, 0, 0, 0, 0, 0, 0, 0, 0, 0, 0, 0, 0, 0, 0, 0, 0, 0, 0, 0, 0, 0], [101, 1996, 2417, 14160, 2081, 2037, 2219, 5005, 1012, 28349, 4455, 2881, 2000, 9958, 2500, 1012, 1996, 11333, 10322, 4183, 1998, 1996, 5544, 1997, 13945, 16770, 1024, 1013, 1013, 1056, 1012, 2522, 1013, 9616, 2100, 6292, 3695, 7875, 102, 0, 0, 0, 0, 0, 0, 0, 0, 0, 0, 0, 0, 0, 0, 0, 0, 0, 0, 0, 0, 0, 0, 0], [101, 2026, 3899, 11286, 2012, 2151, 2210, 5005, 2016, 2963, 100, 102, 0, 0, 0, 0, 0, 0, 0, 0, 0, 0, 0, 0, 0, 0, 0, 0, 0, 0, 0, 0, 0, 0, 0, 0, 0, 0, 0, 0, 0, 0, 0, 0, 0, 0, 0, 0, 0, 0, 0, 0, 0, 0, 0, 0, 0, 0, 0, 0, 0, 0], [101, 1001, 5193, 5005, 7457, 3891, 1997, 5996, 1024, 22935, 7870, 1010, 23760, 29048, 1010, 2540, 4945, 1998, 14671, 1012, 16770, 1024, 1013, 1013, 1056, 1012, 2522, 1013, 1049, 4478, 2480, 10841, 2480, 2549, 2015, 2549, 16770, 1024, 1013, 1013, 1056, 1012, 2522, 1013, 2004, 27487, 7274, 20974, 14277, 102, 0, 0, 0, 0, 0, 0, 0, 0, 0, 0, 0, 0], [101, 2026, 5413, 5428, 4571, 2180, 1005, 1056, 2644, 2437, 2061, 2172, 5005, 100, 102, 0, 0, 0, 0, 0, 0, 0, 0, 0, 0, 0, 0, 0, 0, 0, 0, 0, 0, 0, 0, 0, 0, 0, 0, 0, 0, 0, 0, 0, 0, 0, 0, 0, 0, 0, 0, 0, 0, 0, 0, 0, 0, 0, 0, 0, 0, 0], [101, 2599, 2386, 2003, 6603, 2055, 1996, 10293, 2000, 21573, 1000, 3321, 1000, 5005, 1011, 2013, 6759, 1010, 2502, 4243, 1010, 4385, 1012, 1006, 2036, 2124, 2004, 2659, 1011, 6075, 5005, 1012, 1007, 102, 0, 0, 0, 0, 0, 0, 0, 0, 0, 0, 0, 0, 0, 0, 0, 0, 0, 0, 0, 0, 0, 0, 0, 0, 0, 0, 0, 0], [101, 5374, 18079, 1012, 6554, 14851, 7670, 6998, 2006, 3199, 5005, 10821, 1064, 11333, 12274, 16770, 1024, 1013, 1013, 1056, 1012, 2522, 1013, 1018, 2094, 2480, 2629, 2618, 2487, 18317, 102, 0, 0, 0, 0, 0, 0, 0, 0, 0, 0, 0, 0, 0, 0, 0, 0, 0, 0, 0, 0, 0, 0, 0, 0, 0, 0, 0, 0, 0, 0, 0], [101, 2021, 1045, 2066, 2073, 2057, 2444, 1012, 1998, 2823, 5005, 2003, 15703, 1010, 2021, 2057, 4900, 2182, 1012, 102, 0, 0, 0, 0, 0, 0, 0, 0, 0, 0, 0, 0, 0, 0, 0, 0, 0, 0, 0, 0, 0, 0, 0, 0, 0, 0, 0, 0, 0, 0, 0, 0, 0, 0, 0, 0, 0, 0, 0, 0, 0, 0], [101, 2256, 19593, 2098, 1001, 11448, 1001, 10747, 2846, 2003, 3139, 2011, 2256, 6480, 10943, 2100, 1998, 2003, 2036, 11459, 2007, 1001, 2250, 2080, 6490, 2015, 1998, 5005, 2491, 16770, 1024, 1013, 1013, 1056, 1012, 2522, 1013, 17917, 2683, 10354, 2549, 10448, 26677, 102, 0, 0, 0, 0, 0, 0, 0, 0, 0, 0, 0, 0, 0, 0, 0, 0, 0, 0], [101, 2003, 2009, 1037, 5980, 2693, 2000, 3189, 2026, 5005, 20084, 11429, 2040, 23563, 2135, 3248, 5189, 2189, 2105, 7090, 1029, 102, 0, 0, 0, 0, 0, 0, 0, 0, 0, 0, 0, 0, 0, 0, 0, 0, 0, 0, 0, 0, 0, 0, 0, 0, 0, 0, 0, 0, 0, 0, 0, 0, 0, 0, 0, 0, 0, 0, 0, 0], [101, 2866, 5005, 10796, 1024, 1996, 2062, 2017, 2507, 7486, 2054, 2027, 5157, 1010, 1996, 2062, 2027, 2097, 5157, 1998, 1040, 1529, 16770, 1024, 1013, 1013, 1056, 1012, 2522, 1013, 6365, 2629, 2226, 2509, 12879, 5051, 2595, 3081, 1030, 6436, 2532, 8126, 2483, 10278, 102, 0, 0, 0, 0, 0, 0, 0, 0, 0, 0, 0, 0, 0, 0, 0, 0, 0], [101, 2064, 2119, 1997, 2026, 4176, 2644, 2437, 2061, 2172, 5005, 2049, 1016, 2572, 102, 0, 0, 0, 0, 0, 0, 0, 0, 0, 0, 0, 0, 0, 0, 0, 0, 0, 0, 0, 0, 0, 0, 0, 0, 0, 0, 0, 0, 0, 0, 0, 0, 0, 0, 0, 0, 0, 0, 0, 0, 0, 0, 0, 0, 0, 0, 0], [101, 2043, 2009, 1005, 1055, 1022, 1999, 1996, 2851, 1998, 2045, 1005, 1055, 4364, 2551, 1999, 1996, 14832, 1998, 2180, 1005, 1056, 2644, 2437, 5005, 2005, 2017, 2000, 8239, 3637, 100, 102, 0, 0, 0, 0, 0, 0, 0, 0, 0, 0, 0, 0, 0, 0, 0, 0, 0, 0, 0, 0, 0, 0, 0, 0, 0, 0, 0, 0, 0, 0], [101, 1001, 7064, 8167, 12417, 2667, 2000, 3637, 2064, 2017, 2562, 1996, 5005, 2091, 2000, 1037, 6263, 999, 2017, 1005, 2128, 2437, 2205, 2172, 4365, 5005, 2648, 2017, 8444, 999, 102, 0, 0, 0, 0, 0, 0, 0, 0, 0, 0, 0, 0, 0, 0, 0, 0, 0, 0, 0, 0, 0, 0, 0, 0, 0, 0, 0, 0, 0, 0, 0], [101, 1996, 2810, 5005, 1999, 2026, 2311, 2023, 2851, 4165, 1037, 2843, 2066, 2396, 1997, 5005, 1000, 2485, 1006, 2000, 1996, 10086, 1007, 1000, 1012, 102, 0, 0, 0, 0, 0, 0, 0, 0, 0, 0, 0, 0, 0, 0, 0, 0, 0, 0, 0, 0, 0, 0, 0, 0, 0, 0, 0, 0, 0, 0, 0, 0, 0, 0, 0, 0], [101, 2317, 5005, 2550, 2011, 3267, 2003, 2061, 23674, 1004, 23713, 1025, 1529, 16770, 1024, 1013, 1013, 1056, 1012, 2522, 1013, 1054, 13728, 2575, 2243, 5831, 2213, 2546, 2480, 102, 0, 0, 0, 0, 0, 0, 0, 0, 0, 0, 0, 0, 0, 0, 0, 0, 0, 0, 0, 0, 0, 0, 0, 0, 0, 0, 0, 0, 0, 0, 0, 0], [101, 3116, 2006, 5005, 10796, 3798, 1999, 16920, 2103, 2218, 2011, 24978, 9468, 1064, 16920, 1012, 1012, 1012, 1011, 18221, 5794, 2335, 1001, 16920, 16770, 1024, 1013, 1013, 1056, 1012, 2522, 1013, 1023, 4609, 2278, 4160, 2692, 5602, 2094, 2549, 102, 0, 0, 0, 0, 0, 0, 0, 0, 0, 0, 0, 0, 0, 0, 0, 0, 0, 0, 0, 0, 0], [101, 2070, 3203, 2003, 17979, 2012, 1996, 3902, 2644, 2007, 2035, 1996, 5005, 1012, 16770, 1024, 1013, 1013, 1056, 1012, 2522, 1013, 1051, 20518, 3501, 5149, 3630, 4160, 2290, 102, 0, 0, 0, 0, 0, 0, 0, 0, 0, 0, 0, 0, 0, 0, 0, 0, 0, 0, 0, 0, 0, 0, 0, 0, 0, 0, 0, 0, 0, 0, 0, 0], [101, 2428, 2123, 1005, 1056, 3305, 2339, 2026, 2155, 2024, 15896, 2007, 2437, 2061, 2172, 5005, 1999, 1996, 2851, 5819, 1045, 1005, 1049, 2667, 2000, 3637, 1029, 1029, 1029, 1029, 102, 0, 0, 0, 0, 0, 0, 0, 0, 0, 0, 0, 0, 0, 0, 0, 0, 0, 0, 0, 0, 0, 0, 0, 0, 0, 0, 0, 0, 0, 0, 0], [101, 1045, 2123, 1005, 1056, 3305, 2129, 2028, 2529, 2108, 2064, 2191, 2061, 2172, 8239, 5005, 1012, 102, 0, 0, 0, 0, 0, 0, 0, 0, 0, 0, 0, 0, 0, 0, 0, 0, 0, 0, 0, 0, 0, 0, 0, 0, 0, 0, 0, 0, 0, 0, 0, 0, 0, 0, 0, 0, 0, 0, 0, 0, 0, 0, 0, 0], [101, 4151, 4485, 2129, 2064, 2026, 3008, 3637, 2083, 12642, 1999, 2037, 2282, 1029, 1996, 3612, 4978, 1996, 3332, 1998, 3084, 1996, 5189, 4355, 8239, 5005, 1012, 1012, 1012, 102, 0, 0, 0, 0, 0, 0, 0, 0, 0, 0, 0, 0, 0, 0, 0, 0, 0, 0, 0, 0, 0, 0, 0, 0, 0, 0, 0, 0, 0, 0, 0, 0], [101, 1996, 2810, 2183, 2006, 2648, 2026, 2160, 2488, 2025, 2022, 2183, 2006, 2035, 2621, 2138, 1045, 2064, 2025, 2963, 2026, 2189, 2058, 1996, 4365, 4744, 5005, 102, 0, 0, 0, 0, 0, 0, 0, 0, 0, 0, 0, 0, 0, 0, 0, 0, 0, 0, 0, 0, 0, 0, 0, 0, 0, 0, 0, 0, 0, 0, 0, 0, 0, 0], [101, 2017, 2113, 2115, 2893, 2214, 2043, 1996, 5005, 2013, 1037, 2782, 5754, 27153, 2017, 1010, 100, 102, 0, 0, 0, 0, 0, 0, 0, 0, 0, 0, 0, 0, 0, 0, 0, 0, 0, 0, 0, 0, 0, 0, 0, 0, 0, 0, 0, 0, 0, 0, 0, 0, 0, 0, 0, 0, 0, 0, 0, 0, 0, 0, 0, 0], [101, 5005, 2012, 2147, 1011, 2024, 2017, 8650, 2115, 5126, 1029, 1001, 2740, 29560, 10354, 27405, 1001, 4903, 2063, 1001, 2866, 8286, 9961, 26896, 2818, 1030, 1056, 28394, 20689, 5638, 9759, 2243, 16770, 1024, 1013, 1013, 1056, 1012, 2522, 1013, 8038, 11057, 10790, 6968, 26775, 16770, 1024, 1013, 1013, 1056, 1012, 2522, 1013, 17207, 2509, 2278, 2860, 2549, 12193, 2497, 2290, 102], [101, 2023, 8026, 2017, 2156, 1012, 14572, 8073, 1998, 2009, 14572, 1998, 4332, 2006, 1996, 11891, 3508, 2012, 6721, 2847, 1012, 2009, 1005, 1055, 1037, 5005, 2066, 1037, 5016, 11641, 20133, 1012, 16770, 1024, 1013, 1013, 1056, 1012, 2522, 1013, 1060, 2860, 14905, 2615, 2629, 8586, 2595, 2683, 102, 0, 0, 0, 0, 0, 0, 0, 0, 0, 0, 0, 0, 0], [101, 9895, 10524, 4107, 2489, 5005, 25710, 2000, 6352, 5014, 16770, 1024, 1013, 1013, 1056, 1012, 2522, 1013, 1039, 2549, 15042, 4160, 2480, 10472, 102, 0, 0, 0, 0, 0, 0, 0, 0, 0, 0, 0, 0, 0, 0, 0, 0, 0, 0, 0, 0, 0, 0, 0, 0, 0, 0, 0, 0, 0, 0, 0, 0, 0, 0, 0, 0, 0], [101, 4439, 3808, 10247, 1528, 5005, 2064, 15886, 2017, 2013, 3579, 2006, 1996, 2346, 1528, 4468, 4439, 2043, 2017, 1005, 2128, 5458, 1528, 2224, 14046, 2043, 5278, 10914, 16770, 1024, 1013, 1013, 1056, 1012, 2522, 1013, 1046, 2509, 27147, 6977, 2620, 2615, 2860, 102, 0, 0, 0, 0, 0, 0, 0, 0, 0, 0, 0, 0, 0, 0, 0, 0, 0, 0], [101, 9925, 2248, 3199, 5005, 7591, 9271, 11371, 1022, 1013, 2570, 1013, 2418, 1021, 1024, 5641, 1024, 4008, 7610, 1001, 27339, 3736, 7959, 3723, 1001, 23401, 23565, 102, 0, 0, 0, 0, 0, 0, 0, 0, 0, 0, 0, 0, 0, 0, 0, 0, 0, 0, 0, 0, 0, 0, 0, 0, 0, 0, 0, 0, 0, 0, 0, 0, 0, 0], [101, 2205, 2080, 7349, 2039, 2007, 2023, 4281, 5005, 1997, 2775, 6933, 100, 1045, 17111, 2080, 10587, 2507, 2032, 1037, 11519, 15775, 13944, 4313, 100, 102, 0, 0, 0, 0, 0, 0, 0, 0, 0, 0, 0, 0, 0, 0, 0, 0, 0, 0, 0, 0, 0, 0, 0, 0, 0, 0, 0, 0, 0, 0, 0, 0, 0, 0, 0, 0], [101, 2359, 2019, 2220, 2305, 1010, 2021, 7739, 8964, 1012, 1045, 1005, 1049, 5341, 2438, 2000, 2444, 2006, 2019, 4728, 4251, 2395, 2061, 1996, 5005, 2428, 4832, 2041, 1012, 102, 0, 0, 0, 0, 0, 0, 0, 0, 0, 0, 0, 0, 0, 0, 0, 0, 0, 0, 0, 0, 0, 0, 0, 0, 0, 0, 0, 0, 0, 0, 0, 0], [101, 1996, 2069, 2518, 2919, 2055, 6595, 2012, 1037, 3360, 21071, 2003, 1996, 3360, 1024, 1996, 5005, 1998, 4297, 5644, 18688, 3370, 2484, 1013, 1021, 1012, 102, 0, 0, 0, 0, 0, 0, 0, 0, 0, 0, 0, 0, 0, 0, 0, 0, 0, 0, 0, 0, 0, 0, 0, 0, 0, 0, 0, 0, 0, 0, 0, 0, 0, 0, 0], [101, 28844, 2100, 2393, 2006, 2417, 23194, 1024, 2810, 5005, 6911, 2075, 26781, 2041, 1011, 16770, 1024, 1013, 1013, 1056, 1012, 2522, 1013, 1060, 2102, 2094, 4143, 7716, 2581, 2094, 2078, 1001, 4748, 14945, 8649, 102, 0, 0, 0, 0, 0, 0, 0, 0, 0, 0, 0, 0, 0, 0, 0, 0, 0, 0, 0, 0, 0, 0, 0, 0, 0, 0], [101, 1045, 1005, 1049, 2061, 5458, 1997, 2025, 2108, 2583, 2000, 3637, 3426, 2045, 1005, 1055, 2467, 2061, 2172, 5005, 2183, 2006, 2182, 102, 0, 0, 0, 0, 0, 0, 0, 0, 0, 0, 0, 0, 0, 0, 0, 0, 0, 0, 0, 0, 0, 0, 0, 0, 0, 0, 0, 0, 0, 0, 0, 0, 0, 0, 0, 0, 0, 0], [101, 3309, 6872, 1999, 12003, 2380, 2038, 5005, 3314, 1024, 2057, 23296, 2906, 2480, 2758, 3291, 2003, 3518, 4334, 14132, 1010, 2025, 12213, 3199, 16770, 1024, 1013, 1013, 1056, 1012, 2522, 1013, 1038, 3363, 13512, 2629, 14277, 2595, 2480, 102, 0, 0, 0, 0, 0, 0, 0, 0, 0, 0, 0, 0, 0, 0, 0, 0, 0, 0, 0, 0, 0, 0], [101, 6203, 5675, 1015, 1010, 3288, 2067, 2023, 5005, 16770, 1024, 1013, 1013, 1056, 1012, 2522, 1013, 1042, 2860, 9759, 2620, 2050, 2683, 16409, 2278, 102, 0, 0, 0, 0, 0, 0, 0, 0, 0, 0, 0, 0, 0, 0, 0, 0, 0, 0, 0, 0, 0, 0, 0, 0, 0, 0, 0, 0, 0, 0, 0, 0, 0, 0, 0, 0], [101, 1045, 3984, 1045, 4771, 1996, 24443, 2055, 1996, 2047, 5847, 1996, 3199, 2787, 2000, 3582, 1011, 1011, 1996, 8216, 3815, 1997, 5005, 2379, 2033, 2038, 4961, 1012, 100, 1001, 8423, 102, 0, 0, 0, 0, 0, 0, 0, 0, 0, 0, 0, 0, 0, 0, 0, 0, 0, 0, 0, 0, 0, 0, 0, 0, 0, 0, 0, 0, 0, 0], [101, 2016, 2052, 2031, 2000, 2131, 19203, 2437, 2035, 2008, 4365, 5005, 2096, 5983, 1012, 2485, 10930, 100, 102, 0, 0, 0, 0, 0, 0, 0, 0, 0, 0, 0, 0, 0, 0, 0, 0, 0, 0, 0, 0, 0, 0, 0, 0, 0, 0, 0, 0, 0, 0, 0, 0, 0, 0, 0, 0, 0, 0, 0, 0, 0, 0, 0], [101, 2070, 4326, 8044, 3892, 1010, 2601, 1998, 2007, 8505, 2074, 1999, 1996, 8044, 1010, 2053, 5005, 2012, 2035, 102, 0, 0, 0, 0, 0, 0, 0, 0, 0, 0, 0, 0, 0, 0, 0, 0, 0, 0, 0, 0, 0, 0, 0, 0, 0, 0, 0, 0, 0, 0, 0, 0, 0, 0, 0, 0, 0, 0, 0, 0, 0, 0], [101, 1037, 2482, 2074, 2106, 2008, 8301, 2094, 5005, 2006, 1996, 2346, 2030, 1037, 7006, 2030, 14732, 20573, 2074, 11402, 2648, 2393, 102, 0, 0, 0, 0, 0, 0, 0, 0, 0, 0, 0, 0, 0, 0, 0, 0, 0, 0, 0, 0, 0, 0, 0, 0, 0, 0, 0, 0, 0, 0, 0, 0, 0, 0, 0, 0, 0, 0, 0], [101, 7388, 4456, 1998, 7524, 2000, 2948, 1010, 2346, 1010, 1998, 2737, 1011, 5005, 1024, 1037, 2553, 1011, 2491, 2817, 2241, 2006, 2740, 1529, 16770, 1024, 1013, 1013, 1056, 1012, 2522, 1013, 18414, 2080, 2509, 2099, 2860, 2480, 4160, 2475, 2497, 102, 0, 0, 0, 0, 0, 0, 0, 0, 0, 0, 0, 0, 0, 0, 0, 0, 0, 0, 0, 0], [101, 2009, 1005, 1055, 2196, 2204, 2043, 1996, 3345, 8005, 2185, 2013, 1996, 2276, 1998, 3084, 1037, 4121, 25996, 5005, 2090, 1996, 17744, 100, 102, 0, 0, 0, 0, 0, 0, 0, 0, 0, 0, 0, 0, 0, 0, 0, 0, 0, 0, 0, 0, 0, 0, 0, 0, 0, 0, 0, 0, 0, 0, 0, 0, 0, 0, 0, 0, 0], [101, 1045, 4299, 2694, 3065, 2354, 2129, 2000, 2022, 24842, 3723, 1999, 3971, 2060, 2084, 1000, 10166, 2057, 2123, 1005, 1056, 2066, 3348, 3667, 2521, 2102, 5005, 1000, 102, 0, 0, 0, 0, 0, 0, 0, 0, 0, 0, 0, 0, 0, 0, 0, 0, 0, 0, 0, 0, 0, 0, 0, 0, 0, 0, 0, 0, 0, 0, 0, 0, 0], [101, 2735, 2091, 1996, 5005, 999, 16770, 1024, 1013, 1013, 1056, 1012, 2522, 1013, 1047, 5558, 2615, 4160, 4877, 2100, 2232, 2243, 16770, 1024, 1013, 1013, 1056, 1012, 2522, 1013, 1056, 7962, 2232, 2692, 5657, 20464, 2050, 102, 0, 0, 0, 0, 0, 0, 0, 0, 0, 0, 0, 0, 0, 0, 0, 0, 0, 0, 0, 0, 0, 0, 0, 0], [101, 100, 16571, 26416, 1011, 21360, 3597, 2177, 2031, 3325, 2000, 23735, 1010, 5005, 3471, 1010, 1999, 3703, 2008, 2342, 16888, 22100, 2504, 1012, 1001, 12945, 1001, 3330, 16770, 1024, 1013, 1013, 1056, 1012, 2522, 1013, 6131, 2290, 2615, 2487, 25036, 2615, 2361, 102, 0, 0, 0, 0, 0, 0, 0, 0, 0, 0, 0, 0, 0, 0, 0, 0, 0, 0], [101, 4593, 2045, 2003, 1037, 8248, 2543, 2379, 2149, 2061, 2045, 2003, 2061, 2172, 7739, 5005, 2183, 2006, 2157, 2085, 1998, 20675, 102, 0, 0, 0, 0, 0, 0, 0, 0, 0, 0, 0, 0, 0, 0, 0, 0, 0, 0, 0, 0, 0, 0, 0, 0, 0, 0, 0, 0, 0, 0, 0, 0, 0, 0, 0, 0, 0, 0, 0], [101, 5005, 2003, 15703, 1516, 2021, 2064, 2009, 2036, 2191, 2017, 1999, 7512, 15286, 1029, 16770, 1024, 1013, 1013, 1056, 1012, 2522, 1013, 21117, 15922, 5104, 2891, 20554, 102, 0, 0, 0, 0, 0, 0, 0, 0, 0, 0, 0, 0, 0, 0, 0, 0, 0, 0, 0, 0, 0, 0, 0, 0, 0, 0, 0, 0, 0, 0, 0, 0, 0], [101, 2293, 4078, 14238, 2078, 2000, 2331, 2021, 2065, 2002, 2123, 1005, 1056, 2644, 2437, 2061, 2172, 4365, 5005, 2096, 1045, 1005, 1049, 2667, 2000, 2079, 2023, 19453, 1012, 102, 0, 0, 0, 0, 0, 0, 0, 0, 0, 0, 0, 0, 0, 0, 0, 0, 0, 0, 0, 0, 0, 0, 0, 0, 0, 0, 0, 0, 0, 0, 0, 0], [101, 6719, 2042, 2039, 2144, 1021, 1024, 2382, 2023, 2851, 2349, 2000, 1996, 5005, 1997, 2149, 2893, 1037, 2047, 4412, 1012, 4151, 2003, 23644, 100, 102, 0, 0, 0, 0, 0, 0, 0, 0, 0, 0, 0, 0, 0, 0, 0, 0, 0, 0, 0, 0, 0, 0, 0, 0, 0, 0, 0, 0, 0, 0, 0, 0, 0, 0, 0, 0], [101, 2542, 2007, 1037, 8317, 5005, 8761, 16770, 1024, 1013, 1013, 1056, 1012, 2522, 1013, 4002, 20492, 2692, 18515, 28400, 2100, 1030, 28205, 3370, 1035, 1001, 28205, 4757, 14432, 2571, 16770, 1024, 1013, 1013, 1056, 1012, 2522, 1013, 1023, 11927, 2683, 22394, 4160, 28940, 2480, 102, 0, 0, 0, 0, 0, 0, 0, 0, 0, 0, 0, 0, 0, 0, 0, 0], [101, 2047, 2259, 4150, 1996, 2103, 2008, 2196, 3844, 2015, 2039, 1011, 1011, 5005, 6094, 3818, 16770, 1024, 1013, 1013, 1056, 1012, 2522, 1013, 6583, 2629, 2102, 2683, 18195, 14945, 2102, 102, 0, 0, 0, 0, 0, 0, 0, 0, 0, 0, 0, 0, 0, 0, 0, 0, 0, 0, 0, 0, 0, 0, 0, 0, 0, 0, 0, 0, 0, 0], [101, 2437, 2035, 2008, 4365, 5005, 100, 102, 0, 0, 0, 0, 0, 0, 0, 0, 0, 0, 0, 0, 0, 0, 0, 0, 0, 0, 0, 0, 0, 0, 0, 0, 0, 0, 0, 0, 0, 0, 0, 0, 0, 0, 0, 0, 0, 0, 0, 0, 0, 0, 0, 0, 0, 0, 0, 0, 0, 0, 0, 0, 0, 0]], 'token_type_ids': [[0, 0, 0, 0, 0, 0, 0, 0, 0, 0, 0, 0, 0, 0, 0, 0, 0, 0, 0, 0, 0, 0, 0, 0, 0, 0, 0, 0, 0, 0, 0, 0, 0, 0, 0, 0, 0, 0, 0, 0, 0, 0, 0, 0, 0, 0, 0, 0, 0, 0, 0, 0, 0, 0, 0, 0, 0, 0, 0, 0, 0, 0], [0, 0, 0, 0, 0, 0, 0, 0, 0, 0, 0, 0, 0, 0, 0, 0, 0, 0, 0, 0, 0, 0, 0, 0, 0, 0, 0, 0, 0, 0, 0, 0, 0, 0, 0, 0, 0, 0, 0, 0, 0, 0, 0, 0, 0, 0, 0, 0, 0, 0, 0, 0, 0, 0, 0, 0, 0, 0, 0, 0, 0, 0], [0, 0, 0, 0, 0, 0, 0, 0, 0, 0, 0, 0, 0, 0, 0, 0, 0, 0, 0, 0, 0, 0, 0, 0, 0, 0, 0, 0, 0, 0, 0, 0, 0, 0, 0, 0, 0, 0, 0, 0, 0, 0, 0, 0, 0, 0, 0, 0, 0, 0, 0, 0, 0, 0, 0, 0, 0, 0, 0, 0, 0, 0], [0, 0, 0, 0, 0, 0, 0, 0, 0, 0, 0, 0, 0, 0, 0, 0, 0, 0, 0, 0, 0, 0, 0, 0, 0, 0, 0, 0, 0, 0, 0, 0, 0, 0, 0, 0, 0, 0, 0, 0, 0, 0, 0, 0, 0, 0, 0, 0, 0, 0, 0, 0, 0, 0, 0, 0, 0, 0, 0, 0, 0, 0], [0, 0, 0, 0, 0, 0, 0, 0, 0, 0, 0, 0, 0, 0, 0, 0, 0, 0, 0, 0, 0, 0, 0, 0, 0, 0, 0, 0, 0, 0, 0, 0, 0, 0, 0, 0, 0, 0, 0, 0, 0, 0, 0, 0, 0, 0, 0, 0, 0, 0, 0, 0, 0, 0, 0, 0, 0, 0, 0, 0, 0, 0], [0, 0, 0, 0, 0, 0, 0, 0, 0, 0, 0, 0, 0, 0, 0, 0, 0, 0, 0, 0, 0, 0, 0, 0, 0, 0, 0, 0, 0, 0, 0, 0, 0, 0, 0, 0, 0, 0, 0, 0, 0, 0, 0, 0, 0, 0, 0, 0, 0, 0, 0, 0, 0, 0, 0, 0, 0, 0, 0, 0, 0, 0], [0, 0, 0, 0, 0, 0, 0, 0, 0, 0, 0, 0, 0, 0, 0, 0, 0, 0, 0, 0, 0, 0, 0, 0, 0, 0, 0, 0, 0, 0, 0, 0, 0, 0, 0, 0, 0, 0, 0, 0, 0, 0, 0, 0, 0, 0, 0, 0, 0, 0, 0, 0, 0, 0, 0, 0, 0, 0, 0, 0, 0, 0], [0, 0, 0, 0, 0, 0, 0, 0, 0, 0, 0, 0, 0, 0, 0, 0, 0, 0, 0, 0, 0, 0, 0, 0, 0, 0, 0, 0, 0, 0, 0, 0, 0, 0, 0, 0, 0, 0, 0, 0, 0, 0, 0, 0, 0, 0, 0, 0, 0, 0, 0, 0, 0, 0, 0, 0, 0, 0, 0, 0, 0, 0], [0, 0, 0, 0, 0, 0, 0, 0, 0, 0, 0, 0, 0, 0, 0, 0, 0, 0, 0, 0, 0, 0, 0, 0, 0, 0, 0, 0, 0, 0, 0, 0, 0, 0, 0, 0, 0, 0, 0, 0, 0, 0, 0, 0, 0, 0, 0, 0, 0, 0, 0, 0, 0, 0, 0, 0, 0, 0, 0, 0, 0, 0], [0, 0, 0, 0, 0, 0, 0, 0, 0, 0, 0, 0, 0, 0, 0, 0, 0, 0, 0, 0, 0, 0, 0, 0, 0, 0, 0, 0, 0, 0, 0, 0, 0, 0, 0, 0, 0, 0, 0, 0, 0, 0, 0, 0, 0, 0, 0, 0, 0, 0, 0, 0, 0, 0, 0, 0, 0, 0, 0, 0, 0, 0], [0, 0, 0, 0, 0, 0, 0, 0, 0, 0, 0, 0, 0, 0, 0, 0, 0, 0, 0, 0, 0, 0, 0, 0, 0, 0, 0, 0, 0, 0, 0, 0, 0, 0, 0, 0, 0, 0, 0, 0, 0, 0, 0, 0, 0, 0, 0, 0, 0, 0, 0, 0, 0, 0, 0, 0, 0, 0, 0, 0, 0, 0], [0, 0, 0, 0, 0, 0, 0, 0, 0, 0, 0, 0, 0, 0, 0, 0, 0, 0, 0, 0, 0, 0, 0, 0, 0, 0, 0, 0, 0, 0, 0, 0, 0, 0, 0, 0, 0, 0, 0, 0, 0, 0, 0, 0, 0, 0, 0, 0, 0, 0, 0, 0, 0, 0, 0, 0, 0, 0, 0, 0, 0, 0], [0, 0, 0, 0, 0, 0, 0, 0, 0, 0, 0, 0, 0, 0, 0, 0, 0, 0, 0, 0, 0, 0, 0, 0, 0, 0, 0, 0, 0, 0, 0, 0, 0, 0, 0, 0, 0, 0, 0, 0, 0, 0, 0, 0, 0, 0, 0, 0, 0, 0, 0, 0, 0, 0, 0, 0, 0, 0, 0, 0, 0, 0], [0, 0, 0, 0, 0, 0, 0, 0, 0, 0, 0, 0, 0, 0, 0, 0, 0, 0, 0, 0, 0, 0, 0, 0, 0, 0, 0, 0, 0, 0, 0, 0, 0, 0, 0, 0, 0, 0, 0, 0, 0, 0, 0, 0, 0, 0, 0, 0, 0, 0, 0, 0, 0, 0, 0, 0, 0, 0, 0, 0, 0, 0], [0, 0, 0, 0, 0, 0, 0, 0, 0, 0, 0, 0, 0, 0, 0, 0, 0, 0, 0, 0, 0, 0, 0, 0, 0, 0, 0, 0, 0, 0, 0, 0, 0, 0, 0, 0, 0, 0, 0, 0, 0, 0, 0, 0, 0, 0, 0, 0, 0, 0, 0, 0, 0, 0, 0, 0, 0, 0, 0, 0, 0, 0], [0, 0, 0, 0, 0, 0, 0, 0, 0, 0, 0, 0, 0, 0, 0, 0, 0, 0, 0, 0, 0, 0, 0, 0, 0, 0, 0, 0, 0, 0, 0, 0, 0, 0, 0, 0, 0, 0, 0, 0, 0, 0, 0, 0, 0, 0, 0, 0, 0, 0, 0, 0, 0, 0, 0, 0, 0, 0, 0, 0, 0, 0], [0, 0, 0, 0, 0, 0, 0, 0, 0, 0, 0, 0, 0, 0, 0, 0, 0, 0, 0, 0, 0, 0, 0, 0, 0, 0, 0, 0, 0, 0, 0, 0, 0, 0, 0, 0, 0, 0, 0, 0, 0, 0, 0, 0, 0, 0, 0, 0, 0, 0, 0, 0, 0, 0, 0, 0, 0, 0, 0, 0, 0, 0], [0, 0, 0, 0, 0, 0, 0, 0, 0, 0, 0, 0, 0, 0, 0, 0, 0, 0, 0, 0, 0, 0, 0, 0, 0, 0, 0, 0, 0, 0, 0, 0, 0, 0, 0, 0, 0, 0, 0, 0, 0, 0, 0, 0, 0, 0, 0, 0, 0, 0, 0, 0, 0, 0, 0, 0, 0, 0, 0, 0, 0, 0], [0, 0, 0, 0, 0, 0, 0, 0, 0, 0, 0, 0, 0, 0, 0, 0, 0, 0, 0, 0, 0, 0, 0, 0, 0, 0, 0, 0, 0, 0, 0, 0, 0, 0, 0, 0, 0, 0, 0, 0, 0, 0, 0, 0, 0, 0, 0, 0, 0, 0, 0, 0, 0, 0, 0, 0, 0, 0, 0, 0, 0, 0], [0, 0, 0, 0, 0, 0, 0, 0, 0, 0, 0, 0, 0, 0, 0, 0, 0, 0, 0, 0, 0, 0, 0, 0, 0, 0, 0, 0, 0, 0, 0, 0, 0, 0, 0, 0, 0, 0, 0, 0, 0, 0, 0, 0, 0, 0, 0, 0, 0, 0, 0, 0, 0, 0, 0, 0, 0, 0, 0, 0, 0, 0], [0, 0, 0, 0, 0, 0, 0, 0, 0, 0, 0, 0, 0, 0, 0, 0, 0, 0, 0, 0, 0, 0, 0, 0, 0, 0, 0, 0, 0, 0, 0, 0, 0, 0, 0, 0, 0, 0, 0, 0, 0, 0, 0, 0, 0, 0, 0, 0, 0, 0, 0, 0, 0, 0, 0, 0, 0, 0, 0, 0, 0, 0], [0, 0, 0, 0, 0, 0, 0, 0, 0, 0, 0, 0, 0, 0, 0, 0, 0, 0, 0, 0, 0, 0, 0, 0, 0, 0, 0, 0, 0, 0, 0, 0, 0, 0, 0, 0, 0, 0, 0, 0, 0, 0, 0, 0, 0, 0, 0, 0, 0, 0, 0, 0, 0, 0, 0, 0, 0, 0, 0, 0, 0, 0], [0, 0, 0, 0, 0, 0, 0, 0, 0, 0, 0, 0, 0, 0, 0, 0, 0, 0, 0, 0, 0, 0, 0, 0, 0, 0, 0, 0, 0, 0, 0, 0, 0, 0, 0, 0, 0, 0, 0, 0, 0, 0, 0, 0, 0, 0, 0, 0, 0, 0, 0, 0, 0, 0, 0, 0, 0, 0, 0, 0, 0, 0], [0, 0, 0, 0, 0, 0, 0, 0, 0, 0, 0, 0, 0, 0, 0, 0, 0, 0, 0, 0, 0, 0, 0, 0, 0, 0, 0, 0, 0, 0, 0, 0, 0, 0, 0, 0, 0, 0, 0, 0, 0, 0, 0, 0, 0, 0, 0, 0, 0, 0, 0, 0, 0, 0, 0, 0, 0, 0, 0, 0, 0, 0], [0, 0, 0, 0, 0, 0, 0, 0, 0, 0, 0, 0, 0, 0, 0, 0, 0, 0, 0, 0, 0, 0, 0, 0, 0, 0, 0, 0, 0, 0, 0, 0, 0, 0, 0, 0, 0, 0, 0, 0, 0, 0, 0, 0, 0, 0, 0, 0, 0, 0, 0, 0, 0, 0, 0, 0, 0, 0, 0, 0, 0, 0], [0, 0, 0, 0, 0, 0, 0, 0, 0, 0, 0, 0, 0, 0, 0, 0, 0, 0, 0, 0, 0, 0, 0, 0, 0, 0, 0, 0, 0, 0, 0, 0, 0, 0, 0, 0, 0, 0, 0, 0, 0, 0, 0, 0, 0, 0, 0, 0, 0, 0, 0, 0, 0, 0, 0, 0, 0, 0, 0, 0, 0, 0], [0, 0, 0, 0, 0, 0, 0, 0, 0, 0, 0, 0, 0, 0, 0, 0, 0, 0, 0, 0, 0, 0, 0, 0, 0, 0, 0, 0, 0, 0, 0, 0, 0, 0, 0, 0, 0, 0, 0, 0, 0, 0, 0, 0, 0, 0, 0, 0, 0, 0, 0, 0, 0, 0, 0, 0, 0, 0, 0, 0, 0, 0], [0, 0, 0, 0, 0, 0, 0, 0, 0, 0, 0, 0, 0, 0, 0, 0, 0, 0, 0, 0, 0, 0, 0, 0, 0, 0, 0, 0, 0, 0, 0, 0, 0, 0, 0, 0, 0, 0, 0, 0, 0, 0, 0, 0, 0, 0, 0, 0, 0, 0, 0, 0, 0, 0, 0, 0, 0, 0, 0, 0, 0, 0], [0, 0, 0, 0, 0, 0, 0, 0, 0, 0, 0, 0, 0, 0, 0, 0, 0, 0, 0, 0, 0, 0, 0, 0, 0, 0, 0, 0, 0, 0, 0, 0, 0, 0, 0, 0, 0, 0, 0, 0, 0, 0, 0, 0, 0, 0, 0, 0, 0, 0, 0, 0, 0, 0, 0, 0, 0, 0, 0, 0, 0, 0], [0, 0, 0, 0, 0, 0, 0, 0, 0, 0, 0, 0, 0, 0, 0, 0, 0, 0, 0, 0, 0, 0, 0, 0, 0, 0, 0, 0, 0, 0, 0, 0, 0, 0, 0, 0, 0, 0, 0, 0, 0, 0, 0, 0, 0, 0, 0, 0, 0, 0, 0, 0, 0, 0, 0, 0, 0, 0, 0, 0, 0, 0], [0, 0, 0, 0, 0, 0, 0, 0, 0, 0, 0, 0, 0, 0, 0, 0, 0, 0, 0, 0, 0, 0, 0, 0, 0, 0, 0, 0, 0, 0, 0, 0, 0, 0, 0, 0, 0, 0, 0, 0, 0, 0, 0, 0, 0, 0, 0, 0, 0, 0, 0, 0, 0, 0, 0, 0, 0, 0, 0, 0, 0, 0], [0, 0, 0, 0, 0, 0, 0, 0, 0, 0, 0, 0, 0, 0, 0, 0, 0, 0, 0, 0, 0, 0, 0, 0, 0, 0, 0, 0, 0, 0, 0, 0, 0, 0, 0, 0, 0, 0, 0, 0, 0, 0, 0, 0, 0, 0, 0, 0, 0, 0, 0, 0, 0, 0, 0, 0, 0, 0, 0, 0, 0, 0], [0, 0, 0, 0, 0, 0, 0, 0, 0, 0, 0, 0, 0, 0, 0, 0, 0, 0, 0, 0, 0, 0, 0, 0, 0, 0, 0, 0, 0, 0, 0, 0, 0, 0, 0, 0, 0, 0, 0, 0, 0, 0, 0, 0, 0, 0, 0, 0, 0, 0, 0, 0, 0, 0, 0, 0, 0, 0, 0, 0, 0, 0], [0, 0, 0, 0, 0, 0, 0, 0, 0, 0, 0, 0, 0, 0, 0, 0, 0, 0, 0, 0, 0, 0, 0, 0, 0, 0, 0, 0, 0, 0, 0, 0, 0, 0, 0, 0, 0, 0, 0, 0, 0, 0, 0, 0, 0, 0, 0, 0, 0, 0, 0, 0, 0, 0, 0, 0, 0, 0, 0, 0, 0, 0], [0, 0, 0, 0, 0, 0, 0, 0, 0, 0, 0, 0, 0, 0, 0, 0, 0, 0, 0, 0, 0, 0, 0, 0, 0, 0, 0, 0, 0, 0, 0, 0, 0, 0, 0, 0, 0, 0, 0, 0, 0, 0, 0, 0, 0, 0, 0, 0, 0, 0, 0, 0, 0, 0, 0, 0, 0, 0, 0, 0, 0, 0], [0, 0, 0, 0, 0, 0, 0, 0, 0, 0, 0, 0, 0, 0, 0, 0, 0, 0, 0, 0, 0, 0, 0, 0, 0, 0, 0, 0, 0, 0, 0, 0, 0, 0, 0, 0, 0, 0, 0, 0, 0, 0, 0, 0, 0, 0, 0, 0, 0, 0, 0, 0, 0, 0, 0, 0, 0, 0, 0, 0, 0, 0], [0, 0, 0, 0, 0, 0, 0, 0, 0, 0, 0, 0, 0, 0, 0, 0, 0, 0, 0, 0, 0, 0, 0, 0, 0, 0, 0, 0, 0, 0, 0, 0, 0, 0, 0, 0, 0, 0, 0, 0, 0, 0, 0, 0, 0, 0, 0, 0, 0, 0, 0, 0, 0, 0, 0, 0, 0, 0, 0, 0, 0, 0], [0, 0, 0, 0, 0, 0, 0, 0, 0, 0, 0, 0, 0, 0, 0, 0, 0, 0, 0, 0, 0, 0, 0, 0, 0, 0, 0, 0, 0, 0, 0, 0, 0, 0, 0, 0, 0, 0, 0, 0, 0, 0, 0, 0, 0, 0, 0, 0, 0, 0, 0, 0, 0, 0, 0, 0, 0, 0, 0, 0, 0, 0], [0, 0, 0, 0, 0, 0, 0, 0, 0, 0, 0, 0, 0, 0, 0, 0, 0, 0, 0, 0, 0, 0, 0, 0, 0, 0, 0, 0, 0, 0, 0, 0, 0, 0, 0, 0, 0, 0, 0, 0, 0, 0, 0, 0, 0, 0, 0, 0, 0, 0, 0, 0, 0, 0, 0, 0, 0, 0, 0, 0, 0, 0], [0, 0, 0, 0, 0, 0, 0, 0, 0, 0, 0, 0, 0, 0, 0, 0, 0, 0, 0, 0, 0, 0, 0, 0, 0, 0, 0, 0, 0, 0, 0, 0, 0, 0, 0, 0, 0, 0, 0, 0, 0, 0, 0, 0, 0, 0, 0, 0, 0, 0, 0, 0, 0, 0, 0, 0, 0, 0, 0, 0, 0, 0], [0, 0, 0, 0, 0, 0, 0, 0, 0, 0, 0, 0, 0, 0, 0, 0, 0, 0, 0, 0, 0, 0, 0, 0, 0, 0, 0, 0, 0, 0, 0, 0, 0, 0, 0, 0, 0, 0, 0, 0, 0, 0, 0, 0, 0, 0, 0, 0, 0, 0, 0, 0, 0, 0, 0, 0, 0, 0, 0, 0, 0, 0], [0, 0, 0, 0, 0, 0, 0, 0, 0, 0, 0, 0, 0, 0, 0, 0, 0, 0, 0, 0, 0, 0, 0, 0, 0, 0, 0, 0, 0, 0, 0, 0, 0, 0, 0, 0, 0, 0, 0, 0, 0, 0, 0, 0, 0, 0, 0, 0, 0, 0, 0, 0, 0, 0, 0, 0, 0, 0, 0, 0, 0, 0], [0, 0, 0, 0, 0, 0, 0, 0, 0, 0, 0, 0, 0, 0, 0, 0, 0, 0, 0, 0, 0, 0, 0, 0, 0, 0, 0, 0, 0, 0, 0, 0, 0, 0, 0, 0, 0, 0, 0, 0, 0, 0, 0, 0, 0, 0, 0, 0, 0, 0, 0, 0, 0, 0, 0, 0, 0, 0, 0, 0, 0, 0], [0, 0, 0, 0, 0, 0, 0, 0, 0, 0, 0, 0, 0, 0, 0, 0, 0, 0, 0, 0, 0, 0, 0, 0, 0, 0, 0, 0, 0, 0, 0, 0, 0, 0, 0, 0, 0, 0, 0, 0, 0, 0, 0, 0, 0, 0, 0, 0, 0, 0, 0, 0, 0, 0, 0, 0, 0, 0, 0, 0, 0, 0], [0, 0, 0, 0, 0, 0, 0, 0, 0, 0, 0, 0, 0, 0, 0, 0, 0, 0, 0, 0, 0, 0, 0, 0, 0, 0, 0, 0, 0, 0, 0, 0, 0, 0, 0, 0, 0, 0, 0, 0, 0, 0, 0, 0, 0, 0, 0, 0, 0, 0, 0, 0, 0, 0, 0, 0, 0, 0, 0, 0, 0, 0], [0, 0, 0, 0, 0, 0, 0, 0, 0, 0, 0, 0, 0, 0, 0, 0, 0, 0, 0, 0, 0, 0, 0, 0, 0, 0, 0, 0, 0, 0, 0, 0, 0, 0, 0, 0, 0, 0, 0, 0, 0, 0, 0, 0, 0, 0, 0, 0, 0, 0, 0, 0, 0, 0, 0, 0, 0, 0, 0, 0, 0, 0], [0, 0, 0, 0, 0, 0, 0, 0, 0, 0, 0, 0, 0, 0, 0, 0, 0, 0, 0, 0, 0, 0, 0, 0, 0, 0, 0, 0, 0, 0, 0, 0, 0, 0, 0, 0, 0, 0, 0, 0, 0, 0, 0, 0, 0, 0, 0, 0, 0, 0, 0, 0, 0, 0, 0, 0, 0, 0, 0, 0, 0, 0], [0, 0, 0, 0, 0, 0, 0, 0, 0, 0, 0, 0, 0, 0, 0, 0, 0, 0, 0, 0, 0, 0, 0, 0, 0, 0, 0, 0, 0, 0, 0, 0, 0, 0, 0, 0, 0, 0, 0, 0, 0, 0, 0, 0, 0, 0, 0, 0, 0, 0, 0, 0, 0, 0, 0, 0, 0, 0, 0, 0, 0, 0], [0, 0, 0, 0, 0, 0, 0, 0, 0, 0, 0, 0, 0, 0, 0, 0, 0, 0, 0, 0, 0, 0, 0, 0, 0, 0, 0, 0, 0, 0, 0, 0, 0, 0, 0, 0, 0, 0, 0, 0, 0, 0, 0, 0, 0, 0, 0, 0, 0, 0, 0, 0, 0, 0, 0, 0, 0, 0, 0, 0, 0, 0], [0, 0, 0, 0, 0, 0, 0, 0, 0, 0, 0, 0, 0, 0, 0, 0, 0, 0, 0, 0, 0, 0, 0, 0, 0, 0, 0, 0, 0, 0, 0, 0, 0, 0, 0, 0, 0, 0, 0, 0, 0, 0, 0, 0, 0, 0, 0, 0, 0, 0, 0, 0, 0, 0, 0, 0, 0, 0, 0, 0, 0, 0], [0, 0, 0, 0, 0, 0, 0, 0, 0, 0, 0, 0, 0, 0, 0, 0, 0, 0, 0, 0, 0, 0, 0, 0, 0, 0, 0, 0, 0, 0, 0, 0, 0, 0, 0, 0, 0, 0, 0, 0, 0, 0, 0, 0, 0, 0, 0, 0, 0, 0, 0, 0, 0, 0, 0, 0, 0, 0, 0, 0, 0, 0], [0, 0, 0, 0, 0, 0, 0, 0, 0, 0, 0, 0, 0, 0, 0, 0, 0, 0, 0, 0, 0, 0, 0, 0, 0, 0, 0, 0, 0, 0, 0, 0, 0, 0, 0, 0, 0, 0, 0, 0, 0, 0, 0, 0, 0, 0, 0, 0, 0, 0, 0, 0, 0, 0, 0, 0, 0, 0, 0, 0, 0, 0], [0, 0, 0, 0, 0, 0, 0, 0, 0, 0, 0, 0, 0, 0, 0, 0, 0, 0, 0, 0, 0, 0, 0, 0, 0, 0, 0, 0, 0, 0, 0, 0, 0, 0, 0, 0, 0, 0, 0, 0, 0, 0, 0, 0, 0, 0, 0, 0, 0, 0, 0, 0, 0, 0, 0, 0, 0, 0, 0, 0, 0, 0], [0, 0, 0, 0, 0, 0, 0, 0, 0, 0, 0, 0, 0, 0, 0, 0, 0, 0, 0, 0, 0, 0, 0, 0, 0, 0, 0, 0, 0, 0, 0, 0, 0, 0, 0, 0, 0, 0, 0, 0, 0, 0, 0, 0, 0, 0, 0, 0, 0, 0, 0, 0, 0, 0, 0, 0, 0, 0, 0, 0, 0, 0], [0, 0, 0, 0, 0, 0, 0, 0, 0, 0, 0, 0, 0, 0, 0, 0, 0, 0, 0, 0, 0, 0, 0, 0, 0, 0, 0, 0, 0, 0, 0, 0, 0, 0, 0, 0, 0, 0, 0, 0, 0, 0, 0, 0, 0, 0, 0, 0, 0, 0, 0, 0, 0, 0, 0, 0, 0, 0, 0, 0, 0, 0], [0, 0, 0, 0, 0, 0, 0, 0, 0, 0, 0, 0, 0, 0, 0, 0, 0, 0, 0, 0, 0, 0, 0, 0, 0, 0, 0, 0, 0, 0, 0, 0, 0, 0, 0, 0, 0, 0, 0, 0, 0, 0, 0, 0, 0, 0, 0, 0, 0, 0, 0, 0, 0, 0, 0, 0, 0, 0, 0, 0, 0, 0], [0, 0, 0, 0, 0, 0, 0, 0, 0, 0, 0, 0, 0, 0, 0, 0, 0, 0, 0, 0, 0, 0, 0, 0, 0, 0, 0, 0, 0, 0, 0, 0, 0, 0, 0, 0, 0, 0, 0, 0, 0, 0, 0, 0, 0, 0, 0, 0, 0, 0, 0, 0, 0, 0, 0, 0, 0, 0, 0, 0, 0, 0], [0, 0, 0, 0, 0, 0, 0, 0, 0, 0, 0, 0, 0, 0, 0, 0, 0, 0, 0, 0, 0, 0, 0, 0, 0, 0, 0, 0, 0, 0, 0, 0, 0, 0, 0, 0, 0, 0, 0, 0, 0, 0, 0, 0, 0, 0, 0, 0, 0, 0, 0, 0, 0, 0, 0, 0, 0, 0, 0, 0, 0, 0], [0, 0, 0, 0, 0, 0, 0, 0, 0, 0, 0, 0, 0, 0, 0, 0, 0, 0, 0, 0, 0, 0, 0, 0, 0, 0, 0, 0, 0, 0, 0, 0, 0, 0, 0, 0, 0, 0, 0, 0, 0, 0, 0, 0, 0, 0, 0, 0, 0, 0, 0, 0, 0, 0, 0, 0, 0, 0, 0, 0, 0, 0], [0, 0, 0, 0, 0, 0, 0, 0, 0, 0, 0, 0, 0, 0, 0, 0, 0, 0, 0, 0, 0, 0, 0, 0, 0, 0, 0, 0, 0, 0, 0, 0, 0, 0, 0, 0, 0, 0, 0, 0, 0, 0, 0, 0, 0, 0, 0, 0, 0, 0, 0, 0, 0, 0, 0, 0, 0, 0, 0, 0, 0, 0], [0, 0, 0, 0, 0, 0, 0, 0, 0, 0, 0, 0, 0, 0, 0, 0, 0, 0, 0, 0, 0, 0, 0, 0, 0, 0, 0, 0, 0, 0, 0, 0, 0, 0, 0, 0, 0, 0, 0, 0, 0, 0, 0, 0, 0, 0, 0, 0, 0, 0, 0, 0, 0, 0, 0, 0, 0, 0, 0, 0, 0, 0], [0, 0, 0, 0, 0, 0, 0, 0, 0, 0, 0, 0, 0, 0, 0, 0, 0, 0, 0, 0, 0, 0, 0, 0, 0, 0, 0, 0, 0, 0, 0, 0, 0, 0, 0, 0, 0, 0, 0, 0, 0, 0, 0, 0, 0, 0, 0, 0, 0, 0, 0, 0, 0, 0, 0, 0, 0, 0, 0, 0, 0, 0], [0, 0, 0, 0, 0, 0, 0, 0, 0, 0, 0, 0, 0, 0, 0, 0, 0, 0, 0, 0, 0, 0, 0, 0, 0, 0, 0, 0, 0, 0, 0, 0, 0, 0, 0, 0, 0, 0, 0, 0, 0, 0, 0, 0, 0, 0, 0, 0, 0, 0, 0, 0, 0, 0, 0, 0, 0, 0, 0, 0, 0, 0], [0, 0, 0, 0, 0, 0, 0, 0, 0, 0, 0, 0, 0, 0, 0, 0, 0, 0, 0, 0, 0, 0, 0, 0, 0, 0, 0, 0, 0, 0, 0, 0, 0, 0, 0, 0, 0, 0, 0, 0, 0, 0, 0, 0, 0, 0, 0, 0, 0, 0, 0, 0, 0, 0, 0, 0, 0, 0, 0, 0, 0, 0], [0, 0, 0, 0, 0, 0, 0, 0, 0, 0, 0, 0, 0, 0, 0, 0, 0, 0, 0, 0, 0, 0, 0, 0, 0, 0, 0, 0, 0, 0, 0, 0, 0, 0, 0, 0, 0, 0, 0, 0, 0, 0, 0, 0, 0, 0, 0, 0, 0, 0, 0, 0, 0, 0, 0, 0, 0, 0, 0, 0, 0, 0], [0, 0, 0, 0, 0, 0, 0, 0, 0, 0, 0, 0, 0, 0, 0, 0, 0, 0, 0, 0, 0, 0, 0, 0, 0, 0, 0, 0, 0, 0, 0, 0, 0, 0, 0, 0, 0, 0, 0, 0, 0, 0, 0, 0, 0, 0, 0, 0, 0, 0, 0, 0, 0, 0, 0, 0, 0, 0, 0, 0, 0, 0], [0, 0, 0, 0, 0, 0, 0, 0, 0, 0, 0, 0, 0, 0, 0, 0, 0, 0, 0, 0, 0, 0, 0, 0, 0, 0, 0, 0, 0, 0, 0, 0, 0, 0, 0, 0, 0, 0, 0, 0, 0, 0, 0, 0, 0, 0, 0, 0, 0, 0, 0, 0, 0, 0, 0, 0, 0, 0, 0, 0, 0, 0], [0, 0, 0, 0, 0, 0, 0, 0, 0, 0, 0, 0, 0, 0, 0, 0, 0, 0, 0, 0, 0, 0, 0, 0, 0, 0, 0, 0, 0, 0, 0, 0, 0, 0, 0, 0, 0, 0, 0, 0, 0, 0, 0, 0, 0, 0, 0, 0, 0, 0, 0, 0, 0, 0, 0, 0, 0, 0, 0, 0, 0, 0], [0, 0, 0, 0, 0, 0, 0, 0, 0, 0, 0, 0, 0, 0, 0, 0, 0, 0, 0, 0, 0, 0, 0, 0, 0, 0, 0, 0, 0, 0, 0, 0, 0, 0, 0, 0, 0, 0, 0, 0, 0, 0, 0, 0, 0, 0, 0, 0, 0, 0, 0, 0, 0, 0, 0, 0, 0, 0, 0, 0, 0, 0], [0, 0, 0, 0, 0, 0, 0, 0, 0, 0, 0, 0, 0, 0, 0, 0, 0, 0, 0, 0, 0, 0, 0, 0, 0, 0, 0, 0, 0, 0, 0, 0, 0, 0, 0, 0, 0, 0, 0, 0, 0, 0, 0, 0, 0, 0, 0, 0, 0, 0, 0, 0, 0, 0, 0, 0, 0, 0, 0, 0, 0, 0], [0, 0, 0, 0, 0, 0, 0, 0, 0, 0, 0, 0, 0, 0, 0, 0, 0, 0, 0, 0, 0, 0, 0, 0, 0, 0, 0, 0, 0, 0, 0, 0, 0, 0, 0, 0, 0, 0, 0, 0, 0, 0, 0, 0, 0, 0, 0, 0, 0, 0, 0, 0, 0, 0, 0, 0, 0, 0, 0, 0, 0, 0], [0, 0, 0, 0, 0, 0, 0, 0, 0, 0, 0, 0, 0, 0, 0, 0, 0, 0, 0, 0, 0, 0, 0, 0, 0, 0, 0, 0, 0, 0, 0, 0, 0, 0, 0, 0, 0, 0, 0, 0, 0, 0, 0, 0, 0, 0, 0, 0, 0, 0, 0, 0, 0, 0, 0, 0, 0, 0, 0, 0, 0, 0], [0, 0, 0, 0, 0, 0, 0, 0, 0, 0, 0, 0, 0, 0, 0, 0, 0, 0, 0, 0, 0, 0, 0, 0, 0, 0, 0, 0, 0, 0, 0, 0, 0, 0, 0, 0, 0, 0, 0, 0, 0, 0, 0, 0, 0, 0, 0, 0, 0, 0, 0, 0, 0, 0, 0, 0, 0, 0, 0, 0, 0, 0], [0, 0, 0, 0, 0, 0, 0, 0, 0, 0, 0, 0, 0, 0, 0, 0, 0, 0, 0, 0, 0, 0, 0, 0, 0, 0, 0, 0, 0, 0, 0, 0, 0, 0, 0, 0, 0, 0, 0, 0, 0, 0, 0, 0, 0, 0, 0, 0, 0, 0, 0, 0, 0, 0, 0, 0, 0, 0, 0, 0, 0, 0], [0, 0, 0, 0, 0, 0, 0, 0, 0, 0, 0, 0, 0, 0, 0, 0, 0, 0, 0, 0, 0, 0, 0, 0, 0, 0, 0, 0, 0, 0, 0, 0, 0, 0, 0, 0, 0, 0, 0, 0, 0, 0, 0, 0, 0, 0, 0, 0, 0, 0, 0, 0, 0, 0, 0, 0, 0, 0, 0, 0, 0, 0], [0, 0, 0, 0, 0, 0, 0, 0, 0, 0, 0, 0, 0, 0, 0, 0, 0, 0, 0, 0, 0, 0, 0, 0, 0, 0, 0, 0, 0, 0, 0, 0, 0, 0, 0, 0, 0, 0, 0, 0, 0, 0, 0, 0, 0, 0, 0, 0, 0, 0, 0, 0, 0, 0, 0, 0, 0, 0, 0, 0, 0, 0], [0, 0, 0, 0, 0, 0, 0, 0, 0, 0, 0, 0, 0, 0, 0, 0, 0, 0, 0, 0, 0, 0, 0, 0, 0, 0, 0, 0, 0, 0, 0, 0, 0, 0, 0, 0, 0, 0, 0, 0, 0, 0, 0, 0, 0, 0, 0, 0, 0, 0, 0, 0, 0, 0, 0, 0, 0, 0, 0, 0, 0, 0], [0, 0, 0, 0, 0, 0, 0, 0, 0, 0, 0, 0, 0, 0, 0, 0, 0, 0, 0, 0, 0, 0, 0, 0, 0, 0, 0, 0, 0, 0, 0, 0, 0, 0, 0, 0, 0, 0, 0, 0, 0, 0, 0, 0, 0, 0, 0, 0, 0, 0, 0, 0, 0, 0, 0, 0, 0, 0, 0, 0, 0, 0], [0, 0, 0, 0, 0, 0, 0, 0, 0, 0, 0, 0, 0, 0, 0, 0, 0, 0, 0, 0, 0, 0, 0, 0, 0, 0, 0, 0, 0, 0, 0, 0, 0, 0, 0, 0, 0, 0, 0, 0, 0, 0, 0, 0, 0, 0, 0, 0, 0, 0, 0, 0, 0, 0, 0, 0, 0, 0, 0, 0, 0, 0], [0, 0, 0, 0, 0, 0, 0, 0, 0, 0, 0, 0, 0, 0, 0, 0, 0, 0, 0, 0, 0, 0, 0, 0, 0, 0, 0, 0, 0, 0, 0, 0, 0, 0, 0, 0, 0, 0, 0, 0, 0, 0, 0, 0, 0, 0, 0, 0, 0, 0, 0, 0, 0, 0, 0, 0, 0, 0, 0, 0, 0, 0], [0, 0, 0, 0, 0, 0, 0, 0, 0, 0, 0, 0, 0, 0, 0, 0, 0, 0, 0, 0, 0, 0, 0, 0, 0, 0, 0, 0, 0, 0, 0, 0, 0, 0, 0, 0, 0, 0, 0, 0, 0, 0, 0, 0, 0, 0, 0, 0, 0, 0, 0, 0, 0, 0, 0, 0, 0, 0, 0, 0, 0, 0], [0, 0, 0, 0, 0, 0, 0, 0, 0, 0, 0, 0, 0, 0, 0, 0, 0, 0, 0, 0, 0, 0, 0, 0, 0, 0, 0, 0, 0, 0, 0, 0, 0, 0, 0, 0, 0, 0, 0, 0, 0, 0, 0, 0, 0, 0, 0, 0, 0, 0, 0, 0, 0, 0, 0, 0, 0, 0, 0, 0, 0, 0], [0, 0, 0, 0, 0, 0, 0, 0, 0, 0, 0, 0, 0, 0, 0, 0, 0, 0, 0, 0, 0, 0, 0, 0, 0, 0, 0, 0, 0, 0, 0, 0, 0, 0, 0, 0, 0, 0, 0, 0, 0, 0, 0, 0, 0, 0, 0, 0, 0, 0, 0, 0, 0, 0, 0, 0, 0, 0, 0, 0, 0, 0], [0, 0, 0, 0, 0, 0, 0, 0, 0, 0, 0, 0, 0, 0, 0, 0, 0, 0, 0, 0, 0, 0, 0, 0, 0, 0, 0, 0, 0, 0, 0, 0, 0, 0, 0, 0, 0, 0, 0, 0, 0, 0, 0, 0, 0, 0, 0, 0, 0, 0, 0, 0, 0, 0, 0, 0, 0, 0, 0, 0, 0, 0], [0, 0, 0, 0, 0, 0, 0, 0, 0, 0, 0, 0, 0, 0, 0, 0, 0, 0, 0, 0, 0, 0, 0, 0, 0, 0, 0, 0, 0, 0, 0, 0, 0, 0, 0, 0, 0, 0, 0, 0, 0, 0, 0, 0, 0, 0, 0, 0, 0, 0, 0, 0, 0, 0, 0, 0, 0, 0, 0, 0, 0, 0], [0, 0, 0, 0, 0, 0, 0, 0, 0, 0, 0, 0, 0, 0, 0, 0, 0, 0, 0, 0, 0, 0, 0, 0, 0, 0, 0, 0, 0, 0, 0, 0, 0, 0, 0, 0, 0, 0, 0, 0, 0, 0, 0, 0, 0, 0, 0, 0, 0, 0, 0, 0, 0, 0, 0, 0, 0, 0, 0, 0, 0, 0], [0, 0, 0, 0, 0, 0, 0, 0, 0, 0, 0, 0, 0, 0, 0, 0, 0, 0, 0, 0, 0, 0, 0, 0, 0, 0, 0, 0, 0, 0, 0, 0, 0, 0, 0, 0, 0, 0, 0, 0, 0, 0, 0, 0, 0, 0, 0, 0, 0, 0, 0, 0, 0, 0, 0, 0, 0, 0, 0, 0, 0, 0], [0, 0, 0, 0, 0, 0, 0, 0, 0, 0, 0, 0, 0, 0, 0, 0, 0, 0, 0, 0, 0, 0, 0, 0, 0, 0, 0, 0, 0, 0, 0, 0, 0, 0, 0, 0, 0, 0, 0, 0, 0, 0, 0, 0, 0, 0, 0, 0, 0, 0, 0, 0, 0, 0, 0, 0, 0, 0, 0, 0, 0, 0], [0, 0, 0, 0, 0, 0, 0, 0, 0, 0, 0, 0, 0, 0, 0, 0, 0, 0, 0, 0, 0, 0, 0, 0, 0, 0, 0, 0, 0, 0, 0, 0, 0, 0, 0, 0, 0, 0, 0, 0, 0, 0, 0, 0, 0, 0, 0, 0, 0, 0, 0, 0, 0, 0, 0, 0, 0, 0, 0, 0, 0, 0], [0, 0, 0, 0, 0, 0, 0, 0, 0, 0, 0, 0, 0, 0, 0, 0, 0, 0, 0, 0, 0, 0, 0, 0, 0, 0, 0, 0, 0, 0, 0, 0, 0, 0, 0, 0, 0, 0, 0, 0, 0, 0, 0, 0, 0, 0, 0, 0, 0, 0, 0, 0, 0, 0, 0, 0, 0, 0, 0, 0, 0, 0], [0, 0, 0, 0, 0, 0, 0, 0, 0, 0, 0, 0, 0, 0, 0, 0, 0, 0, 0, 0, 0, 0, 0, 0, 0, 0, 0, 0, 0, 0, 0, 0, 0, 0, 0, 0, 0, 0, 0, 0, 0, 0, 0, 0, 0, 0, 0, 0, 0, 0, 0, 0, 0, 0, 0, 0, 0, 0, 0, 0, 0, 0], [0, 0, 0, 0, 0, 0, 0, 0, 0, 0, 0, 0, 0, 0, 0, 0, 0, 0, 0, 0, 0, 0, 0, 0, 0, 0, 0, 0, 0, 0, 0, 0, 0, 0, 0, 0, 0, 0, 0, 0, 0, 0, 0, 0, 0, 0, 0, 0, 0, 0, 0, 0, 0, 0, 0, 0, 0, 0, 0, 0, 0, 0], [0, 0, 0, 0, 0, 0, 0, 0, 0, 0, 0, 0, 0, 0, 0, 0, 0, 0, 0, 0, 0, 0, 0, 0, 0, 0, 0, 0, 0, 0, 0, 0, 0, 0, 0, 0, 0, 0, 0, 0, 0, 0, 0, 0, 0, 0, 0, 0, 0, 0, 0, 0, 0, 0, 0, 0, 0, 0, 0, 0, 0, 0], [0, 0, 0, 0, 0, 0, 0, 0, 0, 0, 0, 0, 0, 0, 0, 0, 0, 0, 0, 0, 0, 0, 0, 0, 0, 0, 0, 0, 0, 0, 0, 0, 0, 0, 0, 0, 0, 0, 0, 0, 0, 0, 0, 0, 0, 0, 0, 0, 0, 0, 0, 0, 0, 0, 0, 0, 0, 0, 0, 0, 0, 0], [0, 0, 0, 0, 0, 0, 0, 0, 0, 0, 0, 0, 0, 0, 0, 0, 0, 0, 0, 0, 0, 0, 0, 0, 0, 0, 0, 0, 0, 0, 0, 0, 0, 0, 0, 0, 0, 0, 0, 0, 0, 0, 0, 0, 0, 0, 0, 0, 0, 0, 0, 0, 0, 0, 0, 0, 0, 0, 0, 0, 0, 0], [0, 0, 0, 0, 0, 0, 0, 0, 0, 0, 0, 0, 0, 0, 0, 0, 0, 0, 0, 0, 0, 0, 0, 0, 0, 0, 0, 0, 0, 0, 0, 0, 0, 0, 0, 0, 0, 0, 0, 0, 0, 0, 0, 0, 0, 0, 0, 0, 0, 0, 0, 0, 0, 0, 0, 0, 0, 0, 0, 0, 0, 0], [0, 0, 0, 0, 0, 0, 0, 0, 0, 0, 0, 0, 0, 0, 0, 0, 0, 0, 0, 0, 0, 0, 0, 0, 0, 0, 0, 0, 0, 0, 0, 0, 0, 0, 0, 0, 0, 0, 0, 0, 0, 0, 0, 0, 0, 0, 0, 0, 0, 0, 0, 0, 0, 0, 0, 0, 0, 0, 0, 0, 0, 0], [0, 0, 0, 0, 0, 0, 0, 0, 0, 0, 0, 0, 0, 0, 0, 0, 0, 0, 0, 0, 0, 0, 0, 0, 0, 0, 0, 0, 0, 0, 0, 0, 0, 0, 0, 0, 0, 0, 0, 0, 0, 0, 0, 0, 0, 0, 0, 0, 0, 0, 0, 0, 0, 0, 0, 0, 0, 0, 0, 0, 0, 0], [0, 0, 0, 0, 0, 0, 0, 0, 0, 0, 0, 0, 0, 0, 0, 0, 0, 0, 0, 0, 0, 0, 0, 0, 0, 0, 0, 0, 0, 0, 0, 0, 0, 0, 0, 0, 0, 0, 0, 0, 0, 0, 0, 0, 0, 0, 0, 0, 0, 0, 0, 0, 0, 0, 0, 0, 0, 0, 0, 0, 0, 0], [0, 0, 0, 0, 0, 0, 0, 0, 0, 0, 0, 0, 0, 0, 0, 0, 0, 0, 0, 0, 0, 0, 0, 0, 0, 0, 0, 0, 0, 0, 0, 0, 0, 0, 0, 0, 0, 0, 0, 0, 0, 0, 0, 0, 0, 0, 0, 0, 0, 0, 0, 0, 0, 0, 0, 0, 0, 0, 0, 0, 0, 0], [0, 0, 0, 0, 0, 0, 0, 0, 0, 0, 0, 0, 0, 0, 0, 0, 0, 0, 0, 0, 0, 0, 0, 0, 0, 0, 0, 0, 0, 0, 0, 0, 0, 0, 0, 0, 0, 0, 0, 0, 0, 0, 0, 0, 0, 0, 0, 0, 0, 0, 0, 0, 0, 0, 0, 0, 0, 0, 0, 0, 0, 0], [0, 0, 0, 0, 0, 0, 0, 0, 0, 0, 0, 0, 0, 0, 0, 0, 0, 0, 0, 0, 0, 0, 0, 0, 0, 0, 0, 0, 0, 0, 0, 0, 0, 0, 0, 0, 0, 0, 0, 0, 0, 0, 0, 0, 0, 0, 0, 0, 0, 0, 0, 0, 0, 0, 0, 0, 0, 0, 0, 0, 0, 0]], 'attention_mask': [[1, 1, 1, 1, 1, 1, 1, 1, 1, 1, 1, 1, 1, 1, 1, 1, 1, 1, 1, 1, 1, 1, 1, 1, 1, 1, 1, 0, 0, 0, 0, 0, 0, 0, 0, 0, 0, 0, 0, 0, 0, 0, 0, 0, 0, 0, 0, 0, 0, 0, 0, 0, 0, 0, 0, 0, 0, 0, 0, 0, 0, 0], [1, 1, 1, 1, 1, 1, 1, 1, 1, 1, 1, 1, 1, 1, 1, 1, 1, 1, 1, 1, 1, 1, 1, 1, 1, 1, 1, 1, 1, 1, 1, 1, 1, 1, 1, 1, 1, 0, 0, 0, 0, 0, 0, 0, 0, 0, 0, 0, 0, 0, 0, 0, 0, 0, 0, 0, 0, 0, 0, 0, 0, 0], [1, 1, 1, 1, 1, 1, 1, 1, 1, 1, 1, 1, 1, 1, 1, 1, 1, 1, 1, 1, 1, 1, 1, 1, 1, 1, 1, 1, 1, 1, 0, 0, 0, 0, 0, 0, 0, 0, 0, 0, 0, 0, 0, 0, 0, 0, 0, 0, 0, 0, 0, 0, 0, 0, 0, 0, 0, 0, 0, 0, 0, 0], [1, 1, 1, 1, 1, 1, 1, 1, 1, 1, 1, 1, 1, 1, 1, 1, 1, 1, 1, 1, 1, 1, 1, 1, 1, 1, 1, 1, 1, 1, 1, 1, 1, 1, 1, 1, 1, 1, 1, 1, 0, 0, 0, 0, 0, 0, 0, 0, 0, 0, 0, 0, 0, 0, 0, 0, 0, 0, 0, 0, 0, 0], [1, 1, 1, 1, 1, 1, 1, 1, 1, 1, 1, 1, 1, 1, 1, 1, 1, 1, 1, 0, 0, 0, 0, 0, 0, 0, 0, 0, 0, 0, 0, 0, 0, 0, 0, 0, 0, 0, 0, 0, 0, 0, 0, 0, 0, 0, 0, 0, 0, 0, 0, 0, 0, 0, 0, 0, 0, 0, 0, 0, 0, 0], [1, 1, 1, 1, 1, 1, 1, 1, 1, 0, 0, 0, 0, 0, 0, 0, 0, 0, 0, 0, 0, 0, 0, 0, 0, 0, 0, 0, 0, 0, 0, 0, 0, 0, 0, 0, 0, 0, 0, 0, 0, 0, 0, 0, 0, 0, 0, 0, 0, 0, 0, 0, 0, 0, 0, 0, 0, 0, 0, 0, 0, 0], [1, 1, 1, 1, 1, 1, 1, 1, 1, 1, 1, 1, 1, 1, 1, 1, 1, 1, 1, 1, 1, 1, 1, 1, 1, 1, 1, 1, 1, 1, 1, 1, 1, 1, 1, 1, 1, 1, 1, 1, 1, 1, 1, 1, 1, 1, 1, 1, 1, 1, 1, 1, 1, 0, 0, 0, 0, 0, 0, 0, 0, 0], [1, 1, 1, 1, 1, 1, 1, 1, 1, 1, 1, 1, 1, 1, 1, 1, 1, 1, 1, 1, 1, 1, 1, 1, 1, 1, 1, 1, 1, 1, 1, 0, 0, 0, 0, 0, 0, 0, 0, 0, 0, 0, 0, 0, 0, 0, 0, 0, 0, 0, 0, 0, 0, 0, 0, 0, 0, 0, 0, 0, 0, 0], [1, 1, 1, 1, 1, 1, 1, 1, 1, 1, 1, 1, 1, 1, 1, 1, 1, 1, 1, 1, 1, 1, 1, 1, 1, 1, 1, 0, 0, 0, 0, 0, 0, 0, 0, 0, 0, 0, 0, 0, 0, 0, 0, 0, 0, 0, 0, 0, 0, 0, 0, 0, 0, 0, 0, 0, 0, 0, 0, 0, 0, 0], [1, 1, 1, 1, 1, 1, 1, 1, 1, 1, 1, 1, 1, 1, 1, 1, 1, 1, 1, 1, 1, 1, 1, 1, 1, 1, 1, 1, 1, 1, 1, 1, 0, 0, 0, 0, 0, 0, 0, 0, 0, 0, 0, 0, 0, 0, 0, 0, 0, 0, 0, 0, 0, 0, 0, 0, 0, 0, 0, 0, 0, 0], [1, 1, 1, 1, 1, 1, 1, 1, 1, 1, 1, 1, 1, 1, 1, 1, 1, 1, 1, 1, 1, 1, 1, 1, 1, 1, 1, 1, 1, 1, 1, 1, 1, 0, 0, 0, 0, 0, 0, 0, 0, 0, 0, 0, 0, 0, 0, 0, 0, 0, 0, 0, 0, 0, 0, 0, 0, 0, 0, 0, 0, 0], [1, 1, 1, 1, 1, 1, 1, 1, 1, 1, 1, 1, 1, 1, 1, 1, 1, 1, 1, 1, 1, 1, 1, 1, 1, 1, 1, 1, 1, 1, 1, 1, 1, 1, 1, 1, 0, 0, 0, 0, 0, 0, 0, 0, 0, 0, 0, 0, 0, 0, 0, 0, 0, 0, 0, 0, 0, 0, 0, 0, 0, 0], [1, 1, 1, 1, 1, 1, 1, 1, 1, 1, 1, 1, 1, 1, 1, 1, 1, 1, 1, 1, 1, 1, 1, 1, 1, 1, 1, 1, 1, 1, 1, 1, 1, 1, 1, 1, 1, 1, 1, 1, 1, 1, 1, 1, 1, 1, 1, 1, 1, 1, 1, 1, 1, 1, 1, 1, 1, 0, 0, 0, 0, 0], [1, 1, 1, 1, 1, 1, 1, 1, 1, 1, 1, 1, 1, 1, 1, 1, 1, 1, 1, 1, 1, 1, 1, 1, 1, 1, 1, 1, 1, 0, 0, 0, 0, 0, 0, 0, 0, 0, 0, 0, 0, 0, 0, 0, 0, 0, 0, 0, 0, 0, 0, 0, 0, 0, 0, 0, 0, 0, 0, 0, 0, 0], [1, 1, 1, 1, 1, 1, 1, 1, 1, 1, 1, 1, 1, 1, 1, 1, 0, 0, 0, 0, 0, 0, 0, 0, 0, 0, 0, 0, 0, 0, 0, 0, 0, 0, 0, 0, 0, 0, 0, 0, 0, 0, 0, 0, 0, 0, 0, 0, 0, 0, 0, 0, 0, 0, 0, 0, 0, 0, 0, 0, 0, 0], [1, 1, 1, 1, 1, 1, 1, 1, 1, 1, 1, 1, 1, 1, 1, 1, 1, 1, 1, 1, 1, 1, 1, 1, 1, 1, 1, 1, 1, 1, 1, 1, 1, 1, 1, 1, 1, 1, 1, 0, 0, 0, 0, 0, 0, 0, 0, 0, 0, 0, 0, 0, 0, 0, 0, 0, 0, 0, 0, 0, 0, 0], [1, 1, 1, 1, 1, 1, 1, 1, 1, 1, 1, 1, 1, 1, 1, 1, 1, 1, 1, 1, 1, 1, 1, 1, 1, 1, 1, 1, 1, 1, 1, 1, 1, 1, 1, 0, 0, 0, 0, 0, 0, 0, 0, 0, 0, 0, 0, 0, 0, 0, 0, 0, 0, 0, 0, 0, 0, 0, 0, 0, 0, 0], [1, 1, 1, 1, 1, 1, 1, 1, 1, 1, 1, 1, 1, 1, 1, 1, 1, 1, 1, 1, 1, 1, 1, 1, 1, 1, 1, 1, 1, 1, 1, 1, 1, 1, 1, 1, 1, 0, 0, 0, 0, 0, 0, 0, 0, 0, 0, 0, 0, 0, 0, 0, 0, 0, 0, 0, 0, 0, 0, 0, 0, 0], [1, 1, 1, 1, 1, 1, 1, 1, 1, 1, 1, 1, 1, 1, 1, 1, 1, 1, 1, 1, 1, 1, 1, 1, 1, 1, 1, 1, 1, 1, 1, 1, 1, 1, 1, 1, 1, 1, 1, 1, 1, 1, 1, 1, 1, 1, 1, 1, 1, 0, 0, 0, 0, 0, 0, 0, 0, 0, 0, 0, 0, 0], [1, 1, 1, 1, 1, 1, 1, 1, 1, 1, 0, 0, 0, 0, 0, 0, 0, 0, 0, 0, 0, 0, 0, 0, 0, 0, 0, 0, 0, 0, 0, 0, 0, 0, 0, 0, 0, 0, 0, 0, 0, 0, 0, 0, 0, 0, 0, 0, 0, 0, 0, 0, 0, 0, 0, 0, 0, 0, 0, 0, 0, 0], [1, 1, 1, 1, 1, 1, 1, 1, 1, 1, 1, 1, 0, 0, 0, 0, 0, 0, 0, 0, 0, 0, 0, 0, 0, 0, 0, 0, 0, 0, 0, 0, 0, 0, 0, 0, 0, 0, 0, 0, 0, 0, 0, 0, 0, 0, 0, 0, 0, 0, 0, 0, 0, 0, 0, 0, 0, 0, 0, 0, 0, 0], [1, 1, 1, 1, 1, 1, 1, 1, 1, 1, 1, 1, 1, 1, 1, 1, 1, 1, 1, 1, 1, 1, 1, 1, 1, 1, 1, 1, 1, 1, 1, 1, 1, 1, 1, 0, 0, 0, 0, 0, 0, 0, 0, 0, 0, 0, 0, 0, 0, 0, 0, 0, 0, 0, 0, 0, 0, 0, 0, 0, 0, 0], [1, 1, 1, 1, 1, 1, 1, 1, 1, 1, 1, 1, 1, 1, 1, 1, 1, 1, 1, 1, 1, 1, 1, 1, 1, 1, 1, 1, 1, 1, 0, 0, 0, 0, 0, 0, 0, 0, 0, 0, 0, 0, 0, 0, 0, 0, 0, 0, 0, 0, 0, 0, 0, 0, 0, 0, 0, 0, 0, 0, 0, 0], [1, 1, 1, 1, 1, 1, 1, 1, 1, 1, 1, 1, 1, 1, 1, 1, 1, 1, 1, 1, 1, 1, 1, 1, 1, 1, 1, 1, 0, 0, 0, 0, 0, 0, 0, 0, 0, 0, 0, 0, 0, 0, 0, 0, 0, 0, 0, 0, 0, 0, 0, 0, 0, 0, 0, 0, 0, 0, 0, 0, 0, 0], [1, 1, 1, 1, 1, 1, 1, 1, 1, 1, 1, 1, 1, 1, 1, 1, 1, 1, 1, 1, 1, 1, 1, 1, 1, 1, 1, 1, 1, 1, 1, 1, 1, 1, 1, 1, 1, 1, 1, 1, 1, 0, 0, 0, 0, 0, 0, 0, 0, 0, 0, 0, 0, 0, 0, 0, 0, 0, 0, 0, 0, 0], [1, 1, 1, 1, 1, 1, 1, 1, 1, 1, 1, 1, 1, 1, 1, 1, 1, 1, 1, 1, 1, 1, 1, 1, 1, 1, 1, 1, 1, 0, 0, 0, 0, 0, 0, 0, 0, 0, 0, 0, 0, 0, 0, 0, 0, 0, 0, 0, 0, 0, 0, 0, 0, 0, 0, 0, 0, 0, 0, 0, 0, 0], [1, 1, 1, 1, 1, 1, 1, 1, 1, 1, 1, 1, 1, 1, 1, 1, 1, 1, 1, 1, 1, 1, 1, 1, 1, 1, 1, 1, 1, 1, 1, 1, 1, 1, 1, 1, 1, 1, 1, 1, 1, 1, 1, 1, 0, 0, 0, 0, 0, 0, 0, 0, 0, 0, 0, 0, 0, 0, 0, 0, 0, 0], [1, 1, 1, 1, 1, 1, 1, 1, 1, 1, 1, 1, 1, 1, 1, 1, 1, 1, 1, 1, 1, 1, 1, 1, 1, 1, 1, 1, 1, 1, 1, 1, 1, 1, 0, 0, 0, 0, 0, 0, 0, 0, 0, 0, 0, 0, 0, 0, 0, 0, 0, 0, 0, 0, 0, 0, 0, 0, 0, 0, 0, 0], [1, 1, 1, 1, 1, 1, 1, 1, 1, 1, 1, 1, 1, 1, 1, 1, 0, 0, 0, 0, 0, 0, 0, 0, 0, 0, 0, 0, 0, 0, 0, 0, 0, 0, 0, 0, 0, 0, 0, 0, 0, 0, 0, 0, 0, 0, 0, 0, 0, 0, 0, 0, 0, 0, 0, 0, 0, 0, 0, 0, 0, 0], [1, 1, 1, 1, 1, 1, 1, 1, 1, 1, 1, 1, 0, 0, 0, 0, 0, 0, 0, 0, 0, 0, 0, 0, 0, 0, 0, 0, 0, 0, 0, 0, 0, 0, 0, 0, 0, 0, 0, 0, 0, 0, 0, 0, 0, 0, 0, 0, 0, 0, 0, 0, 0, 0, 0, 0, 0, 0, 0, 0, 0, 0], [1, 1, 1, 1, 1, 1, 1, 1, 1, 1, 1, 1, 1, 1, 1, 1, 1, 1, 1, 1, 1, 1, 1, 1, 1, 1, 1, 0, 0, 0, 0, 0, 0, 0, 0, 0, 0, 0, 0, 0, 0, 0, 0, 0, 0, 0, 0, 0, 0, 0, 0, 0, 0, 0, 0, 0, 0, 0, 0, 0, 0, 0], [1, 1, 1, 1, 1, 1, 1, 1, 1, 1, 1, 1, 1, 1, 1, 1, 1, 1, 1, 1, 1, 1, 1, 1, 0, 0, 0, 0, 0, 0, 0, 0, 0, 0, 0, 0, 0, 0, 0, 0, 0, 0, 0, 0, 0, 0, 0, 0, 0, 0, 0, 0, 0, 0, 0, 0, 0, 0, 0, 0, 0, 0], [1, 1, 1, 1, 1, 1, 1, 1, 1, 1, 1, 1, 1, 1, 1, 1, 1, 1, 1, 1, 1, 1, 1, 1, 1, 1, 1, 1, 1, 1, 1, 1, 1, 1, 1, 1, 0, 0, 0, 0, 0, 0, 0, 0, 0, 0, 0, 0, 0, 0, 0, 0, 0, 0, 0, 0, 0, 0, 0, 0, 0, 0], [1, 1, 1, 1, 1, 1, 1, 1, 1, 1, 0, 0, 0, 0, 0, 0, 0, 0, 0, 0, 0, 0, 0, 0, 0, 0, 0, 0, 0, 0, 0, 0, 0, 0, 0, 0, 0, 0, 0, 0, 0, 0, 0, 0, 0, 0, 0, 0, 0, 0, 0, 0, 0, 0, 0, 0, 0, 0, 0, 0, 0, 0], [1, 1, 1, 1, 1, 1, 1, 1, 1, 1, 1, 1, 1, 1, 1, 1, 1, 1, 1, 1, 1, 1, 1, 1, 1, 1, 1, 1, 0, 0, 0, 0, 0, 0, 0, 0, 0, 0, 0, 0, 0, 0, 0, 0, 0, 0, 0, 0, 0, 0, 0, 0, 0, 0, 0, 0, 0, 0, 0, 0, 0, 0], [1, 1, 1, 1, 1, 1, 1, 1, 1, 1, 1, 1, 1, 1, 1, 1, 1, 1, 1, 0, 0, 0, 0, 0, 0, 0, 0, 0, 0, 0, 0, 0, 0, 0, 0, 0, 0, 0, 0, 0, 0, 0, 0, 0, 0, 0, 0, 0, 0, 0, 0, 0, 0, 0, 0, 0, 0, 0, 0, 0, 0, 0], [1, 1, 1, 1, 1, 1, 1, 1, 1, 1, 1, 1, 1, 1, 1, 1, 1, 1, 1, 1, 1, 1, 1, 1, 1, 1, 1, 1, 1, 1, 1, 1, 1, 1, 1, 1, 1, 1, 1, 1, 1, 0, 0, 0, 0, 0, 0, 0, 0, 0, 0, 0, 0, 0, 0, 0, 0, 0, 0, 0, 0, 0], [1, 1, 1, 1, 1, 1, 1, 1, 1, 1, 1, 1, 1, 1, 1, 1, 1, 1, 1, 1, 1, 1, 1, 1, 1, 1, 1, 1, 1, 1, 1, 1, 1, 1, 1, 1, 1, 1, 1, 1, 1, 1, 1, 1, 1, 1, 1, 1, 1, 0, 0, 0, 0, 0, 0, 0, 0, 0, 0, 0, 0, 0], [1, 1, 1, 1, 1, 1, 1, 1, 1, 1, 1, 1, 1, 1, 1, 1, 1, 1, 1, 1, 1, 1, 1, 1, 1, 1, 1, 1, 1, 1, 1, 1, 1, 1, 1, 1, 1, 1, 1, 1, 1, 1, 1, 1, 0, 0, 0, 0, 0, 0, 0, 0, 0, 0, 0, 0, 0, 0, 0, 0, 0, 0], [1, 1, 1, 1, 1, 1, 1, 1, 1, 1, 1, 1, 1, 1, 1, 1, 1, 1, 1, 1, 1, 1, 1, 1, 1, 1, 1, 1, 1, 1, 1, 1, 1, 1, 1, 1, 1, 1, 1, 1, 1, 1, 1, 1, 1, 1, 1, 1, 1, 1, 1, 1, 1, 1, 1, 1, 1, 1, 1, 1, 1, 1], [1, 1, 1, 1, 1, 1, 1, 1, 1, 1, 1, 1, 1, 1, 1, 1, 1, 1, 1, 1, 1, 1, 1, 1, 1, 1, 1, 1, 1, 1, 1, 1, 1, 0, 0, 0, 0, 0, 0, 0, 0, 0, 0, 0, 0, 0, 0, 0, 0, 0, 0, 0, 0, 0, 0, 0, 0, 0, 0, 0, 0, 0], [1, 1, 1, 1, 1, 1, 1, 1, 1, 1, 0, 0, 0, 0, 0, 0, 0, 0, 0, 0, 0, 0, 0, 0, 0, 0, 0, 0, 0, 0, 0, 0, 0, 0, 0, 0, 0, 0, 0, 0, 0, 0, 0, 0, 0, 0, 0, 0, 0, 0, 0, 0, 0, 0, 0, 0, 0, 0, 0, 0, 0, 0], [1, 1, 1, 1, 1, 1, 1, 1, 1, 1, 1, 1, 1, 1, 1, 1, 1, 1, 1, 1, 1, 1, 1, 1, 1, 1, 1, 1, 1, 1, 1, 1, 1, 1, 1, 0, 0, 0, 0, 0, 0, 0, 0, 0, 0, 0, 0, 0, 0, 0, 0, 0, 0, 0, 0, 0, 0, 0, 0, 0, 0, 0], [1, 1, 1, 1, 1, 1, 1, 1, 1, 1, 1, 1, 1, 1, 1, 1, 1, 1, 1, 1, 1, 1, 1, 1, 1, 1, 1, 1, 1, 1, 1, 1, 1, 1, 1, 1, 1, 1, 1, 1, 1, 1, 1, 1, 1, 1, 1, 1, 1, 1, 1, 0, 0, 0, 0, 0, 0, 0, 0, 0, 0, 0], [1, 1, 1, 1, 1, 1, 1, 1, 1, 1, 1, 1, 1, 1, 1, 1, 1, 0, 0, 0, 0, 0, 0, 0, 0, 0, 0, 0, 0, 0, 0, 0, 0, 0, 0, 0, 0, 0, 0, 0, 0, 0, 0, 0, 0, 0, 0, 0, 0, 0, 0, 0, 0, 0, 0, 0, 0, 0, 0, 0, 0, 0], [1, 1, 1, 1, 1, 1, 1, 1, 1, 1, 1, 1, 1, 1, 1, 1, 1, 1, 1, 1, 1, 1, 1, 1, 1, 1, 1, 1, 1, 1, 1, 1, 1, 1, 1, 0, 0, 0, 0, 0, 0, 0, 0, 0, 0, 0, 0, 0, 0, 0, 0, 0, 0, 0, 0, 0, 0, 0, 0, 0, 0, 0], [1, 1, 1, 1, 1, 1, 1, 1, 1, 1, 1, 1, 1, 1, 1, 1, 1, 1, 1, 1, 1, 1, 1, 1, 1, 1, 1, 1, 1, 1, 1, 1, 1, 1, 1, 1, 1, 0, 0, 0, 0, 0, 0, 0, 0, 0, 0, 0, 0, 0, 0, 0, 0, 0, 0, 0, 0, 0, 0, 0, 0, 0], [1, 1, 1, 1, 1, 1, 1, 1, 1, 1, 1, 1, 1, 1, 1, 1, 1, 1, 1, 1, 1, 1, 1, 1, 1, 1, 1, 1, 1, 1, 1, 1, 0, 0, 0, 0, 0, 0, 0, 0, 0, 0, 0, 0, 0, 0, 0, 0, 0, 0, 0, 0, 0, 0, 0, 0, 0, 0, 0, 0, 0, 0], [1, 1, 1, 1, 1, 1, 1, 1, 1, 1, 1, 1, 1, 1, 1, 1, 1, 1, 1, 1, 1, 1, 1, 1, 1, 1, 1, 1, 1, 1, 1, 1, 1, 1, 1, 1, 1, 1, 1, 1, 1, 1, 1, 1, 1, 1, 1, 1, 1, 1, 1, 1, 0, 0, 0, 0, 0, 0, 0, 0, 0, 0], [1, 1, 1, 1, 1, 1, 1, 1, 1, 1, 1, 1, 1, 1, 1, 1, 1, 1, 1, 1, 1, 1, 1, 1, 1, 0, 0, 0, 0, 0, 0, 0, 0, 0, 0, 0, 0, 0, 0, 0, 0, 0, 0, 0, 0, 0, 0, 0, 0, 0, 0, 0, 0, 0, 0, 0, 0, 0, 0, 0, 0, 0], [1, 1, 1, 1, 1, 1, 1, 1, 1, 1, 1, 1, 1, 1, 1, 1, 1, 1, 1, 1, 1, 1, 1, 1, 1, 1, 1, 1, 0, 0, 0, 0, 0, 0, 0, 0, 0, 0, 0, 0, 0, 0, 0, 0, 0, 0, 0, 0, 0, 0, 0, 0, 0, 0, 0, 0, 0, 0, 0, 0, 0, 0], [1, 1, 1, 1, 1, 1, 1, 1, 1, 1, 1, 1, 1, 1, 1, 1, 1, 1, 1, 1, 1, 1, 1, 1, 1, 1, 1, 1, 1, 1, 1, 1, 1, 1, 1, 0, 0, 0, 0, 0, 0, 0, 0, 0, 0, 0, 0, 0, 0, 0, 0, 0, 0, 0, 0, 0, 0, 0, 0, 0, 0, 0], [1, 1, 1, 1, 1, 1, 1, 1, 1, 1, 1, 1, 1, 1, 1, 1, 1, 1, 1, 1, 1, 1, 1, 1, 1, 1, 1, 1, 1, 1, 1, 1, 1, 1, 1, 1, 1, 1, 1, 0, 0, 0, 0, 0, 0, 0, 0, 0, 0, 0, 0, 0, 0, 0, 0, 0, 0, 0, 0, 0, 0, 0], [1, 1, 1, 1, 1, 1, 1, 1, 1, 1, 1, 1, 0, 0, 0, 0, 0, 0, 0, 0, 0, 0, 0, 0, 0, 0, 0, 0, 0, 0, 0, 0, 0, 0, 0, 0, 0, 0, 0, 0, 0, 0, 0, 0, 0, 0, 0, 0, 0, 0, 0, 0, 0, 0, 0, 0, 0, 0, 0, 0, 0, 0], [1, 1, 1, 1, 1, 1, 1, 1, 1, 1, 1, 1, 1, 1, 1, 1, 1, 1, 1, 1, 1, 1, 1, 1, 1, 1, 1, 1, 1, 1, 1, 1, 1, 1, 1, 1, 1, 1, 1, 1, 1, 1, 1, 1, 1, 1, 1, 1, 1, 1, 0, 0, 0, 0, 0, 0, 0, 0, 0, 0, 0, 0], [1, 1, 1, 1, 1, 1, 1, 1, 1, 1, 1, 1, 1, 1, 1, 0, 0, 0, 0, 0, 0, 0, 0, 0, 0, 0, 0, 0, 0, 0, 0, 0, 0, 0, 0, 0, 0, 0, 0, 0, 0, 0, 0, 0, 0, 0, 0, 0, 0, 0, 0, 0, 0, 0, 0, 0, 0, 0, 0, 0, 0, 0], [1, 1, 1, 1, 1, 1, 1, 1, 1, 1, 1, 1, 1, 1, 1, 1, 1, 1, 1, 1, 1, 1, 1, 1, 1, 1, 1, 1, 1, 1, 1, 1, 1, 1, 0, 0, 0, 0, 0, 0, 0, 0, 0, 0, 0, 0, 0, 0, 0, 0, 0, 0, 0, 0, 0, 0, 0, 0, 0, 0, 0, 0], [1, 1, 1, 1, 1, 1, 1, 1, 1, 1, 1, 1, 1, 1, 1, 1, 1, 1, 1, 1, 1, 1, 1, 1, 1, 1, 1, 1, 1, 1, 1, 0, 0, 0, 0, 0, 0, 0, 0, 0, 0, 0, 0, 0, 0, 0, 0, 0, 0, 0, 0, 0, 0, 0, 0, 0, 0, 0, 0, 0, 0, 0], [1, 1, 1, 1, 1, 1, 1, 1, 1, 1, 1, 1, 1, 1, 1, 1, 1, 1, 1, 1, 0, 0, 0, 0, 0, 0, 0, 0, 0, 0, 0, 0, 0, 0, 0, 0, 0, 0, 0, 0, 0, 0, 0, 0, 0, 0, 0, 0, 0, 0, 0, 0, 0, 0, 0, 0, 0, 0, 0, 0, 0, 0], [1, 1, 1, 1, 1, 1, 1, 1, 1, 1, 1, 1, 1, 1, 1, 1, 1, 1, 1, 1, 1, 1, 1, 1, 1, 1, 1, 1, 1, 1, 1, 1, 1, 1, 1, 1, 1, 1, 1, 1, 1, 1, 1, 1, 0, 0, 0, 0, 0, 0, 0, 0, 0, 0, 0, 0, 0, 0, 0, 0, 0, 0], [1, 1, 1, 1, 1, 1, 1, 1, 1, 1, 1, 1, 1, 1, 1, 1, 1, 1, 1, 1, 1, 1, 0, 0, 0, 0, 0, 0, 0, 0, 0, 0, 0, 0, 0, 0, 0, 0, 0, 0, 0, 0, 0, 0, 0, 0, 0, 0, 0, 0, 0, 0, 0, 0, 0, 0, 0, 0, 0, 0, 0, 0], [1, 1, 1, 1, 1, 1, 1, 1, 1, 1, 1, 1, 1, 1, 1, 1, 1, 1, 1, 1, 1, 1, 1, 1, 1, 1, 1, 1, 1, 1, 1, 1, 1, 1, 1, 1, 1, 1, 1, 1, 1, 1, 1, 1, 1, 0, 0, 0, 0, 0, 0, 0, 0, 0, 0, 0, 0, 0, 0, 0, 0, 0], [1, 1, 1, 1, 1, 1, 1, 1, 1, 1, 1, 1, 1, 1, 1, 0, 0, 0, 0, 0, 0, 0, 0, 0, 0, 0, 0, 0, 0, 0, 0, 0, 0, 0, 0, 0, 0, 0, 0, 0, 0, 0, 0, 0, 0, 0, 0, 0, 0, 0, 0, 0, 0, 0, 0, 0, 0, 0, 0, 0, 0, 0], [1, 1, 1, 1, 1, 1, 1, 1, 1, 1, 1, 1, 1, 1, 1, 1, 1, 1, 1, 1, 1, 1, 1, 1, 1, 1, 1, 1, 1, 1, 1, 1, 0, 0, 0, 0, 0, 0, 0, 0, 0, 0, 0, 0, 0, 0, 0, 0, 0, 0, 0, 0, 0, 0, 0, 0, 0, 0, 0, 0, 0, 0], [1, 1, 1, 1, 1, 1, 1, 1, 1, 1, 1, 1, 1, 1, 1, 1, 1, 1, 1, 1, 1, 1, 1, 1, 1, 1, 1, 1, 1, 1, 1, 0, 0, 0, 0, 0, 0, 0, 0, 0, 0, 0, 0, 0, 0, 0, 0, 0, 0, 0, 0, 0, 0, 0, 0, 0, 0, 0, 0, 0, 0, 0], [1, 1, 1, 1, 1, 1, 1, 1, 1, 1, 1, 1, 1, 1, 1, 1, 1, 1, 1, 1, 1, 1, 1, 1, 1, 1, 0, 0, 0, 0, 0, 0, 0, 0, 0, 0, 0, 0, 0, 0, 0, 0, 0, 0, 0, 0, 0, 0, 0, 0, 0, 0, 0, 0, 0, 0, 0, 0, 0, 0, 0, 0], [1, 1, 1, 1, 1, 1, 1, 1, 1, 1, 1, 1, 1, 1, 1, 1, 1, 1, 1, 1, 1, 1, 1, 1, 1, 1, 1, 1, 1, 1, 0, 0, 0, 0, 0, 0, 0, 0, 0, 0, 0, 0, 0, 0, 0, 0, 0, 0, 0, 0, 0, 0, 0, 0, 0, 0, 0, 0, 0, 0, 0, 0], [1, 1, 1, 1, 1, 1, 1, 1, 1, 1, 1, 1, 1, 1, 1, 1, 1, 1, 1, 1, 1, 1, 1, 1, 1, 1, 1, 1, 1, 1, 1, 1, 1, 1, 1, 1, 1, 1, 1, 1, 1, 0, 0, 0, 0, 0, 0, 0, 0, 0, 0, 0, 0, 0, 0, 0, 0, 0, 0, 0, 0, 0], [1, 1, 1, 1, 1, 1, 1, 1, 1, 1, 1, 1, 1, 1, 1, 1, 1, 1, 1, 1, 1, 1, 1, 1, 1, 1, 1, 1, 1, 1, 0, 0, 0, 0, 0, 0, 0, 0, 0, 0, 0, 0, 0, 0, 0, 0, 0, 0, 0, 0, 0, 0, 0, 0, 0, 0, 0, 0, 0, 0, 0, 0], [1, 1, 1, 1, 1, 1, 1, 1, 1, 1, 1, 1, 1, 1, 1, 1, 1, 1, 1, 1, 1, 1, 1, 1, 1, 1, 1, 1, 1, 1, 1, 0, 0, 0, 0, 0, 0, 0, 0, 0, 0, 0, 0, 0, 0, 0, 0, 0, 0, 0, 0, 0, 0, 0, 0, 0, 0, 0, 0, 0, 0, 0], [1, 1, 1, 1, 1, 1, 1, 1, 1, 1, 1, 1, 1, 1, 1, 1, 1, 1, 0, 0, 0, 0, 0, 0, 0, 0, 0, 0, 0, 0, 0, 0, 0, 0, 0, 0, 0, 0, 0, 0, 0, 0, 0, 0, 0, 0, 0, 0, 0, 0, 0, 0, 0, 0, 0, 0, 0, 0, 0, 0, 0, 0], [1, 1, 1, 1, 1, 1, 1, 1, 1, 1, 1, 1, 1, 1, 1, 1, 1, 1, 1, 1, 1, 1, 1, 1, 1, 1, 1, 1, 1, 1, 0, 0, 0, 0, 0, 0, 0, 0, 0, 0, 0, 0, 0, 0, 0, 0, 0, 0, 0, 0, 0, 0, 0, 0, 0, 0, 0, 0, 0, 0, 0, 0], [1, 1, 1, 1, 1, 1, 1, 1, 1, 1, 1, 1, 1, 1, 1, 1, 1, 1, 1, 1, 1, 1, 1, 1, 1, 1, 1, 1, 0, 0, 0, 0, 0, 0, 0, 0, 0, 0, 0, 0, 0, 0, 0, 0, 0, 0, 0, 0, 0, 0, 0, 0, 0, 0, 0, 0, 0, 0, 0, 0, 0, 0], [1, 1, 1, 1, 1, 1, 1, 1, 1, 1, 1, 1, 1, 1, 1, 1, 1, 1, 0, 0, 0, 0, 0, 0, 0, 0, 0, 0, 0, 0, 0, 0, 0, 0, 0, 0, 0, 0, 0, 0, 0, 0, 0, 0, 0, 0, 0, 0, 0, 0, 0, 0, 0, 0, 0, 0, 0, 0, 0, 0, 0, 0], [1, 1, 1, 1, 1, 1, 1, 1, 1, 1, 1, 1, 1, 1, 1, 1, 1, 1, 1, 1, 1, 1, 1, 1, 1, 1, 1, 1, 1, 1, 1, 1, 1, 1, 1, 1, 1, 1, 1, 1, 1, 1, 1, 1, 1, 1, 1, 1, 1, 1, 1, 1, 1, 1, 1, 1, 1, 1, 1, 1, 1, 1], [1, 1, 1, 1, 1, 1, 1, 1, 1, 1, 1, 1, 1, 1, 1, 1, 1, 1, 1, 1, 1, 1, 1, 1, 1, 1, 1, 1, 1, 1, 1, 1, 1, 1, 1, 1, 1, 1, 1, 1, 1, 1, 1, 1, 1, 1, 1, 1, 1, 0, 0, 0, 0, 0, 0, 0, 0, 0, 0, 0, 0, 0], [1, 1, 1, 1, 1, 1, 1, 1, 1, 1, 1, 1, 1, 1, 1, 1, 1, 1, 1, 1, 1, 1, 1, 1, 1, 0, 0, 0, 0, 0, 0, 0, 0, 0, 0, 0, 0, 0, 0, 0, 0, 0, 0, 0, 0, 0, 0, 0, 0, 0, 0, 0, 0, 0, 0, 0, 0, 0, 0, 0, 0, 0], [1, 1, 1, 1, 1, 1, 1, 1, 1, 1, 1, 1, 1, 1, 1, 1, 1, 1, 1, 1, 1, 1, 1, 1, 1, 1, 1, 1, 1, 1, 1, 1, 1, 1, 1, 1, 1, 1, 1, 1, 1, 1, 1, 1, 0, 0, 0, 0, 0, 0, 0, 0, 0, 0, 0, 0, 0, 0, 0, 0, 0, 0], [1, 1, 1, 1, 1, 1, 1, 1, 1, 1, 1, 1, 1, 1, 1, 1, 1, 1, 1, 1, 1, 1, 1, 1, 1, 1, 1, 1, 0, 0, 0, 0, 0, 0, 0, 0, 0, 0, 0, 0, 0, 0, 0, 0, 0, 0, 0, 0, 0, 0, 0, 0, 0, 0, 0, 0, 0, 0, 0, 0, 0, 0], [1, 1, 1, 1, 1, 1, 1, 1, 1, 1, 1, 1, 1, 1, 1, 1, 1, 1, 1, 1, 1, 1, 1, 1, 1, 1, 0, 0, 0, 0, 0, 0, 0, 0, 0, 0, 0, 0, 0, 0, 0, 0, 0, 0, 0, 0, 0, 0, 0, 0, 0, 0, 0, 0, 0, 0, 0, 0, 0, 0, 0, 0], [1, 1, 1, 1, 1, 1, 1, 1, 1, 1, 1, 1, 1, 1, 1, 1, 1, 1, 1, 1, 1, 1, 1, 1, 1, 1, 1, 1, 1, 1, 0, 0, 0, 0, 0, 0, 0, 0, 0, 0, 0, 0, 0, 0, 0, 0, 0, 0, 0, 0, 0, 0, 0, 0, 0, 0, 0, 0, 0, 0, 0, 0], [1, 1, 1, 1, 1, 1, 1, 1, 1, 1, 1, 1, 1, 1, 1, 1, 1, 1, 1, 1, 1, 1, 1, 1, 1, 1, 1, 0, 0, 0, 0, 0, 0, 0, 0, 0, 0, 0, 0, 0, 0, 0, 0, 0, 0, 0, 0, 0, 0, 0, 0, 0, 0, 0, 0, 0, 0, 0, 0, 0, 0, 0], [1, 1, 1, 1, 1, 1, 1, 1, 1, 1, 1, 1, 1, 1, 1, 1, 1, 1, 1, 1, 1, 1, 1, 1, 1, 1, 1, 1, 1, 1, 1, 1, 1, 1, 1, 1, 0, 0, 0, 0, 0, 0, 0, 0, 0, 0, 0, 0, 0, 0, 0, 0, 0, 0, 0, 0, 0, 0, 0, 0, 0, 0], [1, 1, 1, 1, 1, 1, 1, 1, 1, 1, 1, 1, 1, 1, 1, 1, 1, 1, 1, 1, 1, 1, 1, 1, 0, 0, 0, 0, 0, 0, 0, 0, 0, 0, 0, 0, 0, 0, 0, 0, 0, 0, 0, 0, 0, 0, 0, 0, 0, 0, 0, 0, 0, 0, 0, 0, 0, 0, 0, 0, 0, 0], [1, 1, 1, 1, 1, 1, 1, 1, 1, 1, 1, 1, 1, 1, 1, 1, 1, 1, 1, 1, 1, 1, 1, 1, 1, 1, 1, 1, 1, 1, 1, 1, 1, 1, 1, 1, 1, 1, 1, 1, 0, 0, 0, 0, 0, 0, 0, 0, 0, 0, 0, 0, 0, 0, 0, 0, 0, 0, 0, 0, 0, 0], [1, 1, 1, 1, 1, 1, 1, 1, 1, 1, 1, 1, 1, 1, 1, 1, 1, 1, 1, 1, 1, 1, 1, 1, 1, 1, 0, 0, 0, 0, 0, 0, 0, 0, 0, 0, 0, 0, 0, 0, 0, 0, 0, 0, 0, 0, 0, 0, 0, 0, 0, 0, 0, 0, 0, 0, 0, 0, 0, 0, 0, 0], [1, 1, 1, 1, 1, 1, 1, 1, 1, 1, 1, 1, 1, 1, 1, 1, 1, 1, 1, 1, 1, 1, 1, 1, 1, 1, 1, 1, 1, 1, 1, 1, 0, 0, 0, 0, 0, 0, 0, 0, 0, 0, 0, 0, 0, 0, 0, 0, 0, 0, 0, 0, 0, 0, 0, 0, 0, 0, 0, 0, 0, 0], [1, 1, 1, 1, 1, 1, 1, 1, 1, 1, 1, 1, 1, 1, 1, 1, 1, 1, 1, 0, 0, 0, 0, 0, 0, 0, 0, 0, 0, 0, 0, 0, 0, 0, 0, 0, 0, 0, 0, 0, 0, 0, 0, 0, 0, 0, 0, 0, 0, 0, 0, 0, 0, 0, 0, 0, 0, 0, 0, 0, 0, 0], [1, 1, 1, 1, 1, 1, 1, 1, 1, 1, 1, 1, 1, 1, 1, 1, 1, 1, 1, 1, 0, 0, 0, 0, 0, 0, 0, 0, 0, 0, 0, 0, 0, 0, 0, 0, 0, 0, 0, 0, 0, 0, 0, 0, 0, 0, 0, 0, 0, 0, 0, 0, 0, 0, 0, 0, 0, 0, 0, 0, 0, 0], [1, 1, 1, 1, 1, 1, 1, 1, 1, 1, 1, 1, 1, 1, 1, 1, 1, 1, 1, 1, 1, 1, 1, 0, 0, 0, 0, 0, 0, 0, 0, 0, 0, 0, 0, 0, 0, 0, 0, 0, 0, 0, 0, 0, 0, 0, 0, 0, 0, 0, 0, 0, 0, 0, 0, 0, 0, 0, 0, 0, 0, 0], [1, 1, 1, 1, 1, 1, 1, 1, 1, 1, 1, 1, 1, 1, 1, 1, 1, 1, 1, 1, 1, 1, 1, 1, 1, 1, 1, 1, 1, 1, 1, 1, 1, 1, 1, 1, 1, 1, 1, 1, 1, 1, 0, 0, 0, 0, 0, 0, 0, 0, 0, 0, 0, 0, 0, 0, 0, 0, 0, 0, 0, 0], [1, 1, 1, 1, 1, 1, 1, 1, 1, 1, 1, 1, 1, 1, 1, 1, 1, 1, 1, 1, 1, 1, 1, 1, 1, 0, 0, 0, 0, 0, 0, 0, 0, 0, 0, 0, 0, 0, 0, 0, 0, 0, 0, 0, 0, 0, 0, 0, 0, 0, 0, 0, 0, 0, 0, 0, 0, 0, 0, 0, 0, 0], [1, 1, 1, 1, 1, 1, 1, 1, 1, 1, 1, 1, 1, 1, 1, 1, 1, 1, 1, 1, 1, 1, 1, 1, 1, 1, 1, 1, 1, 0, 0, 0, 0, 0, 0, 0, 0, 0, 0, 0, 0, 0, 0, 0, 0, 0, 0, 0, 0, 0, 0, 0, 0, 0, 0, 0, 0, 0, 0, 0, 0, 0], [1, 1, 1, 1, 1, 1, 1, 1, 1, 1, 1, 1, 1, 1, 1, 1, 1, 1, 1, 1, 1, 1, 1, 1, 1, 1, 1, 1, 1, 1, 1, 1, 1, 1, 1, 1, 1, 1, 0, 0, 0, 0, 0, 0, 0, 0, 0, 0, 0, 0, 0, 0, 0, 0, 0, 0, 0, 0, 0, 0, 0, 0], [1, 1, 1, 1, 1, 1, 1, 1, 1, 1, 1, 1, 1, 1, 1, 1, 1, 1, 1, 1, 1, 1, 1, 1, 1, 1, 1, 1, 1, 1, 1, 1, 1, 1, 1, 1, 1, 1, 1, 1, 1, 1, 1, 1, 0, 0, 0, 0, 0, 0, 0, 0, 0, 0, 0, 0, 0, 0, 0, 0, 0, 0], [1, 1, 1, 1, 1, 1, 1, 1, 1, 1, 1, 1, 1, 1, 1, 1, 1, 1, 1, 1, 1, 1, 1, 0, 0, 0, 0, 0, 0, 0, 0, 0, 0, 0, 0, 0, 0, 0, 0, 0, 0, 0, 0, 0, 0, 0, 0, 0, 0, 0, 0, 0, 0, 0, 0, 0, 0, 0, 0, 0, 0, 0], [1, 1, 1, 1, 1, 1, 1, 1, 1, 1, 1, 1, 1, 1, 1, 1, 1, 1, 1, 1, 1, 1, 1, 1, 1, 1, 1, 1, 1, 0, 0, 0, 0, 0, 0, 0, 0, 0, 0, 0, 0, 0, 0, 0, 0, 0, 0, 0, 0, 0, 0, 0, 0, 0, 0, 0, 0, 0, 0, 0, 0, 0], [1, 1, 1, 1, 1, 1, 1, 1, 1, 1, 1, 1, 1, 1, 1, 1, 1, 1, 1, 1, 1, 1, 1, 1, 1, 1, 1, 1, 1, 1, 0, 0, 0, 0, 0, 0, 0, 0, 0, 0, 0, 0, 0, 0, 0, 0, 0, 0, 0, 0, 0, 0, 0, 0, 0, 0, 0, 0, 0, 0, 0, 0], [1, 1, 1, 1, 1, 1, 1, 1, 1, 1, 1, 1, 1, 1, 1, 1, 1, 1, 1, 1, 1, 1, 1, 1, 1, 1, 0, 0, 0, 0, 0, 0, 0, 0, 0, 0, 0, 0, 0, 0, 0, 0, 0, 0, 0, 0, 0, 0, 0, 0, 0, 0, 0, 0, 0, 0, 0, 0, 0, 0, 0, 0], [1, 1, 1, 1, 1, 1, 1, 1, 1, 1, 1, 1, 1, 1, 1, 1, 1, 1, 1, 1, 1, 1, 1, 1, 1, 1, 1, 1, 1, 1, 1, 1, 1, 1, 1, 1, 1, 1, 1, 1, 1, 1, 1, 1, 1, 1, 0, 0, 0, 0, 0, 0, 0, 0, 0, 0, 0, 0, 0, 0, 0, 0], [1, 1, 1, 1, 1, 1, 1, 1, 1, 1, 1, 1, 1, 1, 1, 1, 1, 1, 1, 1, 1, 1, 1, 1, 1, 1, 1, 1, 1, 1, 1, 1, 0, 0, 0, 0, 0, 0, 0, 0, 0, 0, 0, 0, 0, 0, 0, 0, 0, 0, 0, 0, 0, 0, 0, 0, 0, 0, 0, 0, 0, 0], [1, 1, 1, 1, 1, 1, 1, 1, 0, 0, 0, 0, 0, 0, 0, 0, 0, 0, 0, 0, 0, 0, 0, 0, 0, 0, 0, 0, 0, 0, 0, 0, 0, 0, 0, 0, 0, 0, 0, 0, 0, 0, 0, 0, 0, 0, 0, 0, 0, 0, 0, 0, 0, 0, 0, 0, 0, 0, 0, 0, 0, 0]]}"
            ]
          },
          "metadata": {},
          "execution_count": 13
        }
      ],
      "source": [
        "test_encodings"
      ]
    },
    {
      "cell_type": "markdown",
      "metadata": {
        "id": "jjSPt1J0s3_w"
      },
      "source": [
        "Después generamos los tensores:"
      ]
    },
    {
      "cell_type": "code",
      "execution_count": 14,
      "metadata": {
        "id": "BWh9HKB4s4Js"
      },
      "outputs": [],
      "source": [
        "train_dataset = tf.data.Dataset.from_tensor_slices((\n",
        "    dict(train_encodings),\n",
        "    train_labels\n",
        "))\n",
        "val_dataset = tf.data.Dataset.from_tensor_slices((\n",
        "    dict(val_encodings),\n",
        "    val_labels\n",
        "))\n",
        "test_dataset = tf.data.Dataset.from_tensor_slices((\n",
        "    dict(test_encodings),\n",
        "    test_labels\n",
        "))"
      ]
    },
    {
      "cell_type": "markdown",
      "metadata": {
        "id": "Xv5z9db9tHAn"
      },
      "source": [
        "### Entrenamiento"
      ]
    },
    {
      "cell_type": "markdown",
      "metadata": {
        "id": "yzrEsFmftJQP"
      },
      "source": [
        "En este fine-tuning utilizando [TFAutoModelForSequenceClassification](https://huggingface.co/transformers/v3.0.2/model_doc/auto.html#tfautomodelforsequenceclassification) vamos a:\n",
        "\n",
        "\n",
        "\n",
        "*   Especificar el número de clases de salida\n",
        "*   Especificar el learning_rate, número de epocas.\n",
        "*   Especificar optimizadores, Loss Functions y métricas de evaluación\n",
        "*   Entrenar el modelo\n",
        "\n",
        "\n"
      ]
    },
    {
      "cell_type": "code",
      "execution_count": 15,
      "metadata": {
        "id": "lVkyONGciBVp"
      },
      "outputs": [],
      "source": [
        "# Numero de etiquetas\n",
        "num_labels = 2\n",
        "# Numero de muestras de entrenamiento y validación\n",
        "num_train_examples = len(train_dataset)\n",
        "num_dev_examples = len(val_dataset)\n",
        "# Train steps\n",
        "train_steps_per_epoch = int(num_train_examples / train_batch_size)\n",
        "dev_steps_per_epoch = int(num_dev_examples / eval_batch_size)\n",
        "# LEarning rate y epochs\n",
        "learning_rate = 2e-5\n",
        "num_epochs = 1\n",
        "# Preparción del train y val dataset en batches con la configuración especificada.\n",
        "train_dataset = train_dataset.shuffle(100).batch(train_batch_size)\n",
        "val_dataset = val_dataset.shuffle(100).batch(eval_batch_size)"
      ]
    },
    {
      "cell_type": "code",
      "execution_count": 17,
      "metadata": {
        "colab": {
          "base_uri": "https://localhost:8080/",
          "height": 143,
          "referenced_widgets": [
            "2b81014eabf74a8f9e5a471788a82419",
            "c173b5a5702847849664ebbb84344b27",
            "80ccf49cfa0e48238edada58a34c60fb",
            "439fa1359f2b4f41b10d3511e082b208",
            "4db6c648911e42719303e95167afe2e2",
            "4ce70041363e48439c2fdd5634548743",
            "56afde48e774473a90dbb9065a3894f1",
            "7060f86789ac4b0ebbcf5330ec925c6f",
            "752ad4c497f14c94937546f808ab3622",
            "8c0cbaa10f7a4887b7ac0f75d590b0a6",
            "42a9f8dd8a8d4ce4bf1b70f18fe9fef8"
          ]
        },
        "id": "F3lR49ofhhFd",
        "outputId": "8460997c-e21d-4467-81ab-69638fa57894"
      },
      "outputs": [
        {
          "output_type": "display_data",
          "data": {
            "text/plain": [
              "Downloading:   0%|          | 0.00/511M [00:00<?, ?B/s]"
            ],
            "application/vnd.jupyter.widget-view+json": {
              "version_major": 2,
              "version_minor": 0,
              "model_id": "2b81014eabf74a8f9e5a471788a82419"
            }
          },
          "metadata": {}
        },
        {
          "output_type": "stream",
          "name": "stderr",
          "text": [
            "All model checkpoint layers were used when initializing TFBertForSequenceClassification.\n",
            "\n",
            "Some layers of TFBertForSequenceClassification were not initialized from the model checkpoint at bert-base-uncased and are newly initialized: ['classifier']\n",
            "You should probably TRAIN this model on a down-stream task to be able to use it for predictions and inference.\n"
          ]
        }
      ],
      "source": [
        "# Configuración del AutoModel para clasificación de secuencias (nuestro caso)\n",
        "config = AutoConfig.from_pretrained(model_name, num_labels=num_labels)\n",
        "model = TFAutoModelForSequenceClassification.from_pretrained(model_name, config=config)"
      ]
    },
    {
      "cell_type": "code",
      "execution_count": 18,
      "metadata": {
        "id": "ujk1LMlMiOlM"
      },
      "outputs": [],
      "source": [
        "# Building/compilación del modelo\n",
        "optimizer = tf.keras.optimizers.Adam(learning_rate=learning_rate)\n",
        "loss = tf.keras.losses.SparseCategoricalCrossentropy(from_logits=True)\n",
        "metrics = [tf.keras.metrics.SparseCategoricalAccuracy('accuracy', dtype=tf.float32)]\n",
        "\n",
        "model.compile(optimizer=optimizer, loss=loss, metrics=metrics)"
      ]
    },
    {
      "cell_type": "markdown",
      "metadata": {
        "id": "hqHU-nxhuBqU"
      },
      "source": [
        "Entrenamos el modelo compilado, que realmente será un fine-tuning:"
      ]
    },
    {
      "cell_type": "code",
      "execution_count": 19,
      "metadata": {
        "colab": {
          "base_uri": "https://localhost:8080/"
        },
        "id": "ZWwIfEnwuEhb",
        "outputId": "526e0a0d-47b8-40ac-f4c7-0aa92ff8834f"
      },
      "outputs": [
        {
          "output_type": "stream",
          "name": "stdout",
          "text": [
            "91/91 [==============================] - 36s 189ms/step - loss: 0.4457 - accuracy: 0.8077 - val_loss: 0.3407 - val_accuracy: 0.8478\n"
          ]
        }
      ],
      "source": [
        "history = model.fit(train_dataset, \n",
        "  epochs=num_epochs,\n",
        "  steps_per_epoch=train_steps_per_epoch,\n",
        "  validation_data=val_dataset,\n",
        "  validation_steps=dev_steps_per_epoch)"
      ]
    },
    {
      "cell_type": "markdown",
      "metadata": {
        "id": "LAnaXsq5ufGN"
      },
      "source": [
        "#### Test"
      ]
    },
    {
      "cell_type": "markdown",
      "metadata": {
        "id": "vUIoOUZXiO_F"
      },
      "source": [
        "Vamos a comprobar el resultado final del modelo. TAmbién vamos a hacer un classification report para ver FP y FN, y comprobar que las métricas en test son similares a las de development."
      ]
    },
    {
      "cell_type": "code",
      "source": [
        "test_loss, test_acc = model.evaluate(test_dataset.batch(test_batch_size),verbose=2)\n",
        "print('\\nTest accuracy:', test_acc)"
      ],
      "metadata": {
        "colab": {
          "base_uri": "https://localhost:8080/"
        },
        "id": "E5d__DArxYB3",
        "outputId": "bce66848-3d5c-41dc-b1de-1bf14a528883"
      },
      "execution_count": 20,
      "outputs": [
        {
          "output_type": "stream",
          "name": "stdout",
          "text": [
            "13/13 - 3s - loss: 0.2784 - accuracy: 0.9216 - 3s/epoch - 249ms/step\n",
            "\n",
            "Test accuracy: 0.9215686321258545\n"
          ]
        }
      ]
    },
    {
      "cell_type": "markdown",
      "source": [
        "Hacemos predicción del test set con el modelo (cogemos logits) y argmax.\n"
      ],
      "metadata": {
        "id": "xdvnF_Ijx7Ib"
      }
    },
    {
      "cell_type": "code",
      "execution_count": 21,
      "metadata": {
        "id": "GtFJ7OvDu4Ag"
      },
      "outputs": [],
      "source": [
        "import numpy as np\n",
        "y_pred = model.predict(test_dataset.batch(eval_batch_size)).logits\n",
        "y_pred = np.argmax(y_pred,axis=1)"
      ]
    },
    {
      "cell_type": "markdown",
      "source": [
        "Las true labels son:"
      ],
      "metadata": {
        "id": "WEedmtMgyNYO"
      }
    },
    {
      "cell_type": "code",
      "source": [
        "y_true = [y for x,y in test_dataset]"
      ],
      "metadata": {
        "id": "GjK4I3VByP_l"
      },
      "execution_count": 22,
      "outputs": []
    },
    {
      "cell_type": "code",
      "execution_count": 23,
      "metadata": {
        "id": "YHymQ3EZkhzR",
        "colab": {
          "base_uri": "https://localhost:8080/"
        },
        "outputId": "5119ebf1-0dfe-4877-809f-538d9260abf2"
      },
      "outputs": [
        {
          "output_type": "stream",
          "name": "stdout",
          "text": [
            "              precision    recall  f1-score   support\n",
            "\n",
            "           0       0.91      0.91      0.91        46\n",
            "           1       0.93      0.93      0.93        56\n",
            "\n",
            "    accuracy                           0.92       102\n",
            "   macro avg       0.92      0.92      0.92       102\n",
            "weighted avg       0.92      0.92      0.92       102\n",
            "\n"
          ]
        }
      ],
      "source": [
        "from sklearn.metrics import classification_report\n",
        "\n",
        "print(classification_report(y_true,y_pred))"
      ]
    },
    {
      "cell_type": "markdown",
      "source": [
        "También podemos predecir cualquier frase o tweet que quisiéramos:\n"
      ],
      "metadata": {
        "id": "J6hPb0NKygNR"
      }
    },
    {
      "cell_type": "code",
      "source": [
        "#@markdown >Escribe el texto que quieras clasificar\n",
        "input_text = 'I hate that dog'  #@param {type: \"string\"}\n",
        "\n",
        "# Tokenizamos esa frase (encode)\n",
        "input_ids = tf.constant(tokenizer.encode(input_text, add_special_tokens=True))[None, :]\n",
        "\n",
        "# PRedecimos\n",
        "pred = model.predict(input_ids)[\"logits\"]\n",
        "\n",
        "preds = np.argmax(pred,axis=1)\n",
        "\n",
        "# label_mapping = {0:\"no molesto\",1:\"molesto\"}\n"
      ],
      "metadata": {
        "id": "LrV_Zl6zys1N"
      },
      "execution_count": 24,
      "outputs": []
    }
  ]
}