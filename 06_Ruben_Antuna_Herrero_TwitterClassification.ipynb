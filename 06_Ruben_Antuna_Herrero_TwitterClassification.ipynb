{
  "nbformat": 4,
  "nbformat_minor": 0,
  "metadata": {
    "colab": {
      "name": "Copiar_antes_de_usar_TwitterClassification_copia_alumno.ipynb",
      "provenance": [],
      "collapsed_sections": [],
      "include_colab_link": true
    },
    "kernelspec": {
      "name": "python3",
      "display_name": "Python 3"
    }
  },
  "cells": [
    {
      "cell_type": "markdown",
      "metadata": {
        "id": "view-in-github",
        "colab_type": "text"
      },
      "source": [
        "<a href=\"https://colab.research.google.com/github/ruben9324/curso-series-temporales/blob/master/06_Ruben_Antuna_Herrero_TwitterClassification.ipynb\" target=\"_parent\"><img src=\"https://colab.research.google.com/assets/colab-badge.svg\" alt=\"Open In Colab\"/></a>"
      ]
    },
    {
      "cell_type": "code",
      "metadata": {
        "id": "tSCQn96RT3mU",
        "outputId": "f3029fd1-6512-4026-b85e-b0845abb92c7",
        "colab": {
          "base_uri": "https://localhost:8080/",
          "height": 1000
        }
      },
      "source": [
        "!wget https://github.com/luisgasco/ntic_master_datos/raw/main/datasets/datos_twitter_master.tsv\n",
        "!pip install emoji_extractor\n",
        "!pip install emoji\n",
        "import sys  \n",
        "!{sys.executable} -m pip install contractions\n",
        "!pip install spacy==3.2.1\n",
        "!python -m spacy download en_core_web_sm\n",
        "import nltk\n",
        "nltk.download('stopwords')\n",
        "# Download emoji sentiment\n",
        "!wget https://www.clarin.si/repository/xmlui/handle/11356/1048/allzip\n",
        "!unzip allzip"
      ],
      "execution_count": 1,
      "outputs": [
        {
          "output_type": "stream",
          "name": "stdout",
          "text": [
            "--2022-05-28 16:42:57--  https://github.com/luisgasco/ntic_master_datos/raw/main/datasets/datos_twitter_master.tsv\n",
            "Resolving github.com (github.com)... 140.82.112.3\n",
            "Connecting to github.com (github.com)|140.82.112.3|:443... connected.\n",
            "HTTP request sent, awaiting response... 302 Found\n",
            "Location: https://raw.githubusercontent.com/luisgasco/ntic_master_datos/main/datasets/datos_twitter_master.tsv [following]\n",
            "--2022-05-28 16:42:57--  https://raw.githubusercontent.com/luisgasco/ntic_master_datos/main/datasets/datos_twitter_master.tsv\n",
            "Resolving raw.githubusercontent.com (raw.githubusercontent.com)... 185.199.108.133, 185.199.110.133, 185.199.111.133, ...\n",
            "Connecting to raw.githubusercontent.com (raw.githubusercontent.com)|185.199.108.133|:443... connected.\n",
            "HTTP request sent, awaiting response... 200 OK\n",
            "Length: 113587 (111K) [text/plain]\n",
            "Saving to: ‘datos_twitter_master.tsv’\n",
            "\n",
            "datos_twitter_maste 100%[===================>] 110.92K  --.-KB/s    in 0.02s   \n",
            "\n",
            "2022-05-28 16:42:57 (5.16 MB/s) - ‘datos_twitter_master.tsv’ saved [113587/113587]\n",
            "\n",
            "Looking in indexes: https://pypi.org/simple, https://us-python.pkg.dev/colab-wheels/public/simple/\n",
            "Collecting emoji_extractor\n",
            "  Downloading emoji_extractor-1.0.20.tar.gz (34 kB)\n",
            "Building wheels for collected packages: emoji-extractor\n",
            "  Building wheel for emoji-extractor (setup.py) ... \u001b[?25l\u001b[?25hdone\n",
            "  Created wheel for emoji-extractor: filename=emoji_extractor-1.0.20-py3-none-any.whl size=63580 sha256=6e256efb7998ea9f8048cc12cfbab5d7b457dfee0abdedd10b5ca824ad8cecf2\n",
            "  Stored in directory: /root/.cache/pip/wheels/c9/3a/10/4d60270bd4c7b1569ee392d611fbcbefc2af7d7245163913e3\n",
            "Successfully built emoji-extractor\n",
            "Installing collected packages: emoji-extractor\n",
            "Successfully installed emoji-extractor-1.0.20\n",
            "Looking in indexes: https://pypi.org/simple, https://us-python.pkg.dev/colab-wheels/public/simple/\n",
            "Collecting emoji\n",
            "  Downloading emoji-1.7.0.tar.gz (175 kB)\n",
            "\u001b[K     |████████████████████████████████| 175 kB 4.4 MB/s \n",
            "\u001b[?25hBuilding wheels for collected packages: emoji\n",
            "  Building wheel for emoji (setup.py) ... \u001b[?25l\u001b[?25hdone\n",
            "  Created wheel for emoji: filename=emoji-1.7.0-py3-none-any.whl size=171046 sha256=9dd89cea60a35cfeec45bd9f1ac7e061933e612cdaa11adaed9edb18681784c6\n",
            "  Stored in directory: /root/.cache/pip/wheels/8a/4e/b6/57b01db010d17ef6ea9b40300af725ef3e210cb1acfb7ac8b6\n",
            "Successfully built emoji\n",
            "Installing collected packages: emoji\n",
            "Successfully installed emoji-1.7.0\n",
            "Looking in indexes: https://pypi.org/simple, https://us-python.pkg.dev/colab-wheels/public/simple/\n",
            "Collecting contractions\n",
            "  Downloading contractions-0.1.72-py2.py3-none-any.whl (8.3 kB)\n",
            "Collecting textsearch>=0.0.21\n",
            "  Downloading textsearch-0.0.21-py2.py3-none-any.whl (7.5 kB)\n",
            "Collecting pyahocorasick\n",
            "  Downloading pyahocorasick-1.4.4-cp37-cp37m-manylinux_2_17_x86_64.manylinux2014_x86_64.whl (106 kB)\n",
            "\u001b[K     |████████████████████████████████| 106 kB 6.2 MB/s \n",
            "\u001b[?25hCollecting anyascii\n",
            "  Downloading anyascii-0.3.1-py3-none-any.whl (287 kB)\n",
            "\u001b[K     |████████████████████████████████| 287 kB 55.4 MB/s \n",
            "\u001b[?25hInstalling collected packages: pyahocorasick, anyascii, textsearch, contractions\n",
            "Successfully installed anyascii-0.3.1 contractions-0.1.72 pyahocorasick-1.4.4 textsearch-0.0.21\n",
            "Looking in indexes: https://pypi.org/simple, https://us-python.pkg.dev/colab-wheels/public/simple/\n",
            "Collecting spacy==3.2.1\n",
            "  Downloading spacy-3.2.1-cp37-cp37m-manylinux_2_17_x86_64.manylinux2014_x86_64.whl (6.0 MB)\n",
            "\u001b[K     |████████████████████████████████| 6.0 MB 4.4 MB/s \n",
            "\u001b[?25hCollecting pydantic!=1.8,!=1.8.1,<1.9.0,>=1.7.4\n",
            "  Downloading pydantic-1.8.2-cp37-cp37m-manylinux2014_x86_64.whl (10.1 MB)\n",
            "\u001b[K     |████████████████████████████████| 10.1 MB 10.6 MB/s \n",
            "\u001b[?25hRequirement already satisfied: packaging>=20.0 in /usr/local/lib/python3.7/dist-packages (from spacy==3.2.1) (21.3)\n",
            "Requirement already satisfied: tqdm<5.0.0,>=4.38.0 in /usr/local/lib/python3.7/dist-packages (from spacy==3.2.1) (4.64.0)\n",
            "Collecting typing-extensions<4.0.0.0,>=3.7.4\n",
            "  Downloading typing_extensions-3.10.0.2-py3-none-any.whl (26 kB)\n",
            "Requirement already satisfied: jinja2 in /usr/local/lib/python3.7/dist-packages (from spacy==3.2.1) (2.11.3)\n",
            "Collecting spacy-legacy<3.1.0,>=3.0.8\n",
            "  Downloading spacy_legacy-3.0.9-py2.py3-none-any.whl (20 kB)\n",
            "Collecting spacy-loggers<2.0.0,>=1.0.0\n",
            "  Downloading spacy_loggers-1.0.2-py3-none-any.whl (7.2 kB)\n",
            "Collecting pathy>=0.3.5\n",
            "  Downloading pathy-0.6.1-py3-none-any.whl (42 kB)\n",
            "\u001b[K     |████████████████████████████████| 42 kB 1.4 MB/s \n",
            "\u001b[?25hCollecting srsly<3.0.0,>=2.4.1\n",
            "  Downloading srsly-2.4.3-cp37-cp37m-manylinux_2_17_x86_64.manylinux2014_x86_64.whl (457 kB)\n",
            "\u001b[K     |████████████████████████████████| 457 kB 65.8 MB/s \n",
            "\u001b[?25hCollecting catalogue<2.1.0,>=2.0.6\n",
            "  Downloading catalogue-2.0.7-py3-none-any.whl (17 kB)\n",
            "Requirement already satisfied: preshed<3.1.0,>=3.0.2 in /usr/local/lib/python3.7/dist-packages (from spacy==3.2.1) (3.0.6)\n",
            "Requirement already satisfied: murmurhash<1.1.0,>=0.28.0 in /usr/local/lib/python3.7/dist-packages (from spacy==3.2.1) (1.0.7)\n",
            "Collecting thinc<8.1.0,>=8.0.12\n",
            "  Downloading thinc-8.0.16-cp37-cp37m-manylinux_2_17_x86_64.manylinux2014_x86_64.whl (660 kB)\n",
            "\u001b[K     |████████████████████████████████| 660 kB 59.0 MB/s \n",
            "\u001b[?25hRequirement already satisfied: numpy>=1.15.0 in /usr/local/lib/python3.7/dist-packages (from spacy==3.2.1) (1.21.6)\n",
            "Requirement already satisfied: requests<3.0.0,>=2.13.0 in /usr/local/lib/python3.7/dist-packages (from spacy==3.2.1) (2.23.0)\n",
            "Requirement already satisfied: cymem<2.1.0,>=2.0.2 in /usr/local/lib/python3.7/dist-packages (from spacy==3.2.1) (2.0.6)\n",
            "Requirement already satisfied: wasabi<1.1.0,>=0.8.1 in /usr/local/lib/python3.7/dist-packages (from spacy==3.2.1) (0.9.1)\n",
            "Requirement already satisfied: blis<0.8.0,>=0.4.0 in /usr/local/lib/python3.7/dist-packages (from spacy==3.2.1) (0.4.1)\n",
            "Requirement already satisfied: setuptools in /usr/local/lib/python3.7/dist-packages (from spacy==3.2.1) (57.4.0)\n",
            "Collecting langcodes<4.0.0,>=3.2.0\n",
            "  Downloading langcodes-3.3.0-py3-none-any.whl (181 kB)\n",
            "\u001b[K     |████████████████████████████████| 181 kB 58.6 MB/s \n",
            "\u001b[?25hCollecting typer<0.5.0,>=0.3.0\n",
            "  Downloading typer-0.4.1-py3-none-any.whl (27 kB)\n",
            "Requirement already satisfied: zipp>=0.5 in /usr/local/lib/python3.7/dist-packages (from catalogue<2.1.0,>=2.0.6->spacy==3.2.1) (3.8.0)\n",
            "Requirement already satisfied: pyparsing!=3.0.5,>=2.0.2 in /usr/local/lib/python3.7/dist-packages (from packaging>=20.0->spacy==3.2.1) (3.0.9)\n",
            "Collecting smart-open<6.0.0,>=5.0.0\n",
            "  Downloading smart_open-5.2.1-py3-none-any.whl (58 kB)\n",
            "\u001b[K     |████████████████████████████████| 58 kB 4.9 MB/s \n",
            "\u001b[?25hRequirement already satisfied: idna<3,>=2.5 in /usr/local/lib/python3.7/dist-packages (from requests<3.0.0,>=2.13.0->spacy==3.2.1) (2.10)\n",
            "Requirement already satisfied: certifi>=2017.4.17 in /usr/local/lib/python3.7/dist-packages (from requests<3.0.0,>=2.13.0->spacy==3.2.1) (2022.5.18.1)\n",
            "Requirement already satisfied: chardet<4,>=3.0.2 in /usr/local/lib/python3.7/dist-packages (from requests<3.0.0,>=2.13.0->spacy==3.2.1) (3.0.4)\n",
            "Requirement already satisfied: urllib3!=1.25.0,!=1.25.1,<1.26,>=1.21.1 in /usr/local/lib/python3.7/dist-packages (from requests<3.0.0,>=2.13.0->spacy==3.2.1) (1.24.3)\n",
            "Requirement already satisfied: click<9.0.0,>=7.1.1 in /usr/local/lib/python3.7/dist-packages (from typer<0.5.0,>=0.3.0->spacy==3.2.1) (7.1.2)\n",
            "Requirement already satisfied: MarkupSafe>=0.23 in /usr/local/lib/python3.7/dist-packages (from jinja2->spacy==3.2.1) (2.0.1)\n",
            "Installing collected packages: typing-extensions, catalogue, typer, srsly, smart-open, pydantic, thinc, spacy-loggers, spacy-legacy, pathy, langcodes, spacy\n",
            "  Attempting uninstall: typing-extensions\n",
            "    Found existing installation: typing-extensions 4.2.0\n",
            "    Uninstalling typing-extensions-4.2.0:\n",
            "      Successfully uninstalled typing-extensions-4.2.0\n",
            "  Attempting uninstall: catalogue\n",
            "    Found existing installation: catalogue 1.0.0\n",
            "    Uninstalling catalogue-1.0.0:\n",
            "      Successfully uninstalled catalogue-1.0.0\n",
            "  Attempting uninstall: srsly\n",
            "    Found existing installation: srsly 1.0.5\n",
            "    Uninstalling srsly-1.0.5:\n",
            "      Successfully uninstalled srsly-1.0.5\n",
            "  Attempting uninstall: smart-open\n",
            "    Found existing installation: smart-open 6.0.0\n",
            "    Uninstalling smart-open-6.0.0:\n",
            "      Successfully uninstalled smart-open-6.0.0\n",
            "  Attempting uninstall: thinc\n",
            "    Found existing installation: thinc 7.4.0\n",
            "    Uninstalling thinc-7.4.0:\n",
            "      Successfully uninstalled thinc-7.4.0\n",
            "  Attempting uninstall: spacy\n",
            "    Found existing installation: spacy 2.2.4\n",
            "    Uninstalling spacy-2.2.4:\n",
            "      Successfully uninstalled spacy-2.2.4\n",
            "\u001b[31mERROR: pip's dependency resolver does not currently take into account all the packages that are installed. This behaviour is the source of the following dependency conflicts.\n",
            "tensorflow 2.8.0+zzzcolab20220506162203 requires tf-estimator-nightly==2.8.0.dev2021122109, which is not installed.\u001b[0m\n",
            "Successfully installed catalogue-2.0.7 langcodes-3.3.0 pathy-0.6.1 pydantic-1.8.2 smart-open-5.2.1 spacy-3.2.1 spacy-legacy-3.0.9 spacy-loggers-1.0.2 srsly-2.4.3 thinc-8.0.16 typer-0.4.1 typing-extensions-3.10.0.2\n"
          ]
        },
        {
          "output_type": "display_data",
          "data": {
            "application/vnd.colab-display-data+json": {
              "pip_warning": {
                "packages": [
                  "typing_extensions"
                ]
              }
            }
          },
          "metadata": {}
        },
        {
          "output_type": "stream",
          "name": "stdout",
          "text": [
            "Looking in indexes: https://pypi.org/simple, https://us-python.pkg.dev/colab-wheels/public/simple/\n",
            "Collecting en-core-web-sm==3.2.0\n",
            "  Downloading https://github.com/explosion/spacy-models/releases/download/en_core_web_sm-3.2.0/en_core_web_sm-3.2.0-py3-none-any.whl (13.9 MB)\n",
            "\u001b[K     |████████████████████████████████| 13.9 MB 5.3 MB/s \n",
            "\u001b[?25hRequirement already satisfied: spacy<3.3.0,>=3.2.0 in /usr/local/lib/python3.7/dist-packages (from en-core-web-sm==3.2.0) (3.2.1)\n",
            "Requirement already satisfied: murmurhash<1.1.0,>=0.28.0 in /usr/local/lib/python3.7/dist-packages (from spacy<3.3.0,>=3.2.0->en-core-web-sm==3.2.0) (1.0.7)\n",
            "Requirement already satisfied: setuptools in /usr/local/lib/python3.7/dist-packages (from spacy<3.3.0,>=3.2.0->en-core-web-sm==3.2.0) (57.4.0)\n",
            "Requirement already satisfied: pydantic!=1.8,!=1.8.1,<1.9.0,>=1.7.4 in /usr/local/lib/python3.7/dist-packages (from spacy<3.3.0,>=3.2.0->en-core-web-sm==3.2.0) (1.8.2)\n",
            "Requirement already satisfied: packaging>=20.0 in /usr/local/lib/python3.7/dist-packages (from spacy<3.3.0,>=3.2.0->en-core-web-sm==3.2.0) (21.3)\n",
            "Requirement already satisfied: pathy>=0.3.5 in /usr/local/lib/python3.7/dist-packages (from spacy<3.3.0,>=3.2.0->en-core-web-sm==3.2.0) (0.6.1)\n",
            "Requirement already satisfied: blis<0.8.0,>=0.4.0 in /usr/local/lib/python3.7/dist-packages (from spacy<3.3.0,>=3.2.0->en-core-web-sm==3.2.0) (0.4.1)\n",
            "Requirement already satisfied: langcodes<4.0.0,>=3.2.0 in /usr/local/lib/python3.7/dist-packages (from spacy<3.3.0,>=3.2.0->en-core-web-sm==3.2.0) (3.3.0)\n",
            "Requirement already satisfied: spacy-legacy<3.1.0,>=3.0.8 in /usr/local/lib/python3.7/dist-packages (from spacy<3.3.0,>=3.2.0->en-core-web-sm==3.2.0) (3.0.9)\n",
            "Requirement already satisfied: srsly<3.0.0,>=2.4.1 in /usr/local/lib/python3.7/dist-packages (from spacy<3.3.0,>=3.2.0->en-core-web-sm==3.2.0) (2.4.3)\n",
            "Requirement already satisfied: numpy>=1.15.0 in /usr/local/lib/python3.7/dist-packages (from spacy<3.3.0,>=3.2.0->en-core-web-sm==3.2.0) (1.21.6)\n",
            "Requirement already satisfied: typer<0.5.0,>=0.3.0 in /usr/local/lib/python3.7/dist-packages (from spacy<3.3.0,>=3.2.0->en-core-web-sm==3.2.0) (0.4.1)\n",
            "Requirement already satisfied: wasabi<1.1.0,>=0.8.1 in /usr/local/lib/python3.7/dist-packages (from spacy<3.3.0,>=3.2.0->en-core-web-sm==3.2.0) (0.9.1)\n",
            "Requirement already satisfied: requests<3.0.0,>=2.13.0 in /usr/local/lib/python3.7/dist-packages (from spacy<3.3.0,>=3.2.0->en-core-web-sm==3.2.0) (2.23.0)\n",
            "Requirement already satisfied: preshed<3.1.0,>=3.0.2 in /usr/local/lib/python3.7/dist-packages (from spacy<3.3.0,>=3.2.0->en-core-web-sm==3.2.0) (3.0.6)\n",
            "Requirement already satisfied: spacy-loggers<2.0.0,>=1.0.0 in /usr/local/lib/python3.7/dist-packages (from spacy<3.3.0,>=3.2.0->en-core-web-sm==3.2.0) (1.0.2)\n",
            "Requirement already satisfied: catalogue<2.1.0,>=2.0.6 in /usr/local/lib/python3.7/dist-packages (from spacy<3.3.0,>=3.2.0->en-core-web-sm==3.2.0) (2.0.7)\n",
            "Requirement already satisfied: typing-extensions<4.0.0.0,>=3.7.4 in /usr/local/lib/python3.7/dist-packages (from spacy<3.3.0,>=3.2.0->en-core-web-sm==3.2.0) (3.10.0.2)\n",
            "Requirement already satisfied: thinc<8.1.0,>=8.0.12 in /usr/local/lib/python3.7/dist-packages (from spacy<3.3.0,>=3.2.0->en-core-web-sm==3.2.0) (8.0.16)\n",
            "Requirement already satisfied: jinja2 in /usr/local/lib/python3.7/dist-packages (from spacy<3.3.0,>=3.2.0->en-core-web-sm==3.2.0) (2.11.3)\n",
            "Requirement already satisfied: cymem<2.1.0,>=2.0.2 in /usr/local/lib/python3.7/dist-packages (from spacy<3.3.0,>=3.2.0->en-core-web-sm==3.2.0) (2.0.6)\n",
            "Requirement already satisfied: tqdm<5.0.0,>=4.38.0 in /usr/local/lib/python3.7/dist-packages (from spacy<3.3.0,>=3.2.0->en-core-web-sm==3.2.0) (4.64.0)\n",
            "Requirement already satisfied: zipp>=0.5 in /usr/local/lib/python3.7/dist-packages (from catalogue<2.1.0,>=2.0.6->spacy<3.3.0,>=3.2.0->en-core-web-sm==3.2.0) (3.8.0)\n",
            "Requirement already satisfied: pyparsing!=3.0.5,>=2.0.2 in /usr/local/lib/python3.7/dist-packages (from packaging>=20.0->spacy<3.3.0,>=3.2.0->en-core-web-sm==3.2.0) (3.0.9)\n",
            "Requirement already satisfied: smart-open<6.0.0,>=5.0.0 in /usr/local/lib/python3.7/dist-packages (from pathy>=0.3.5->spacy<3.3.0,>=3.2.0->en-core-web-sm==3.2.0) (5.2.1)\n",
            "Requirement already satisfied: certifi>=2017.4.17 in /usr/local/lib/python3.7/dist-packages (from requests<3.0.0,>=2.13.0->spacy<3.3.0,>=3.2.0->en-core-web-sm==3.2.0) (2022.5.18.1)\n",
            "Requirement already satisfied: chardet<4,>=3.0.2 in /usr/local/lib/python3.7/dist-packages (from requests<3.0.0,>=2.13.0->spacy<3.3.0,>=3.2.0->en-core-web-sm==3.2.0) (3.0.4)\n",
            "Requirement already satisfied: urllib3!=1.25.0,!=1.25.1,<1.26,>=1.21.1 in /usr/local/lib/python3.7/dist-packages (from requests<3.0.0,>=2.13.0->spacy<3.3.0,>=3.2.0->en-core-web-sm==3.2.0) (1.24.3)\n",
            "Requirement already satisfied: idna<3,>=2.5 in /usr/local/lib/python3.7/dist-packages (from requests<3.0.0,>=2.13.0->spacy<3.3.0,>=3.2.0->en-core-web-sm==3.2.0) (2.10)\n",
            "Requirement already satisfied: click<9.0.0,>=7.1.1 in /usr/local/lib/python3.7/dist-packages (from typer<0.5.0,>=0.3.0->spacy<3.3.0,>=3.2.0->en-core-web-sm==3.2.0) (7.1.2)\n",
            "Requirement already satisfied: MarkupSafe>=0.23 in /usr/local/lib/python3.7/dist-packages (from jinja2->spacy<3.3.0,>=3.2.0->en-core-web-sm==3.2.0) (2.0.1)\n",
            "Installing collected packages: en-core-web-sm\n",
            "  Attempting uninstall: en-core-web-sm\n",
            "    Found existing installation: en-core-web-sm 2.2.5\n",
            "    Uninstalling en-core-web-sm-2.2.5:\n",
            "      Successfully uninstalled en-core-web-sm-2.2.5\n",
            "Successfully installed en-core-web-sm-3.2.0\n",
            "\u001b[38;5;2m✔ Download and installation successful\u001b[0m\n",
            "You can now load the package via spacy.load('en_core_web_sm')\n",
            "[nltk_data] Downloading package stopwords to /root/nltk_data...\n",
            "[nltk_data]   Unzipping corpora/stopwords.zip.\n",
            "--2022-05-28 16:44:11--  https://www.clarin.si/repository/xmlui/handle/11356/1048/allzip\n",
            "Resolving www.clarin.si (www.clarin.si)... 95.87.154.205\n",
            "Connecting to www.clarin.si (www.clarin.si)|95.87.154.205|:443... connected.\n",
            "HTTP request sent, awaiting response... 200 OK\n",
            "Length: unspecified [application/zip]\n",
            "Saving to: ‘allzip’\n",
            "\n",
            "allzip                  [  <=>               ]  94.61K   409KB/s    in 0.2s    \n",
            "\n",
            "2022-05-28 16:44:12 (409 KB/s) - ‘allzip’ saved [96878]\n",
            "\n",
            "Archive:  allzip\n",
            "  inflating: ESR_v1.0_format.txt     \n",
            "  inflating: Emoji_Sentiment_Data_v1.0.csv  \n",
            "  inflating: Emojitracker_20150604.csv  \n"
          ]
        }
      ]
    },
    {
      "cell_type": "markdown",
      "metadata": {
        "id": "LL_KPNOkORKV"
      },
      "source": [
        "# Imports"
      ]
    },
    {
      "cell_type": "code",
      "metadata": {
        "id": "dOe_gsA_x9Eh"
      },
      "source": [
        "import matplotlib.pyplot as plt\n",
        "import numpy as np\n",
        "import pandas as pd\n",
        "import seaborn as sns\n",
        "import contractions\n",
        "import re\n",
        "from emoji_extractor.extract import Extractor\n",
        "from nltk.tokenize import TweetTokenizer\n",
        "from nltk.corpus import stopwords\n",
        "import en_core_web_sm\n",
        "from sklearn.feature_extraction.text import TfidfVectorizer\n",
        "from sklearn.linear_model import LogisticRegression\n",
        "from sklearn.model_selection import train_test_split\n",
        "from sklearn.metrics import f1_score, confusion_matrix\n",
        "from sklearn.metrics import classification_report\n"
      ],
      "execution_count": 2,
      "outputs": []
    },
    {
      "cell_type": "markdown",
      "metadata": {
        "id": "m8WynRVxPU0z"
      },
      "source": [
        "# Funciones que se utilizarán"
      ]
    },
    {
      "cell_type": "code",
      "metadata": {
        "id": "EpGYyDY5x73m"
      },
      "source": [
        "# Preparar diccionario de emojis\n",
        "def load_emoji_sentiment(path):\n",
        "  # Cargamos el csv de emoji_sentiment\n",
        "  emoji_sent_df = pd.read_csv(path,sep=\",\")\n",
        "  # Calculamos los scores dividiendo el número de emojis negativos y entre el total\n",
        "  emoji_sent_df[\"Negative\"] = emoji_sent_df[\"Negative\"]/emoji_sent_df[\"Occurrences\"]\n",
        "  emoji_sent_df[\"Neutral\"] = emoji_sent_df[\"Neutral\"]/emoji_sent_df[\"Occurrences\"]\n",
        "  emoji_sent_df[\"Positive\"] = emoji_sent_df[\"Positive\"]/emoji_sent_df[\"Occurrences\"]\n",
        "  # Transformamos a dict\n",
        "  emoji_sent_df = emoji_sent_df.set_index('Emoji')\n",
        "  emoji_dict = emoji_sent_df.to_dict(orient=\"index\")\n",
        "  return emoji_dict"
      ],
      "execution_count": 3,
      "outputs": []
    },
    {
      "cell_type": "code",
      "metadata": {
        "id": "3xtfAvxiPmRM"
      },
      "source": [
        "# Reemplazar contracciones y slang en inglés usando la librería \"contractions\" https://github.com/kootenpv/contractions\n",
        "def replace_contraction(text):\n",
        "    expanded_words = []\n",
        "    # Divide el texto\n",
        "    for t in text.split():\n",
        "        # Aplica la función fix en cada sección o token del texto buscando contracciones y slang\n",
        "        expanded_words.append(contractions.fix(t, slang = True))\n",
        "    expanded_text = ' '.join(expanded_words) \n",
        "    return expanded_text\n",
        "\n",
        "# Hay un tokenizador guay para twitter https://github.com/jaredks/tweetokenize\n",
        "\n"
      ],
      "execution_count": 4,
      "outputs": []
    },
    {
      "cell_type": "code",
      "metadata": {
        "id": "n7fGZmT1QWxi"
      },
      "source": [
        "# Función para extraer emojis del texto en formato lista\n",
        "def extract_emojis(text):\n",
        "  extract = Extractor()\n",
        "  emojis = extract.count_emoji(text, check_first=False)\n",
        "  emojis_list = [key for key, _ in emojis.most_common()]\n",
        "  return emojis_list"
      ],
      "execution_count": 5,
      "outputs": []
    },
    {
      "cell_type": "code",
      "metadata": {
        "id": "wfDZavZWRrr2"
      },
      "source": [
        "# Calcula el sentimiento de los emojis de una lista utilizando el diccionario\n",
        "# de emoji sentiment score generado previamente con la función load_emoji_sentiment()\n",
        "# Se puede extraer el valor de positividad de los emojis con la option \"positive\"\n",
        "# Se puede extraer el valor de neutralidad de los emojis con la option \"neutral\"\"  \n",
        "# Se puede extraer el valor de e negatividad de los emojis con la option \"negative\"\"  \n",
        "\n",
        "def get_emoji_sentiment(lista, option = \"positive\"):\n",
        "  output = 0\n",
        "  for emoji in lista:\n",
        "    try:\n",
        "      if option == \"positive\":\n",
        "        output = output + emoji_sent_dict[emoji][\"Positive\"]\n",
        "      elif option ==\"negative\":\n",
        "        output = output + emoji_sent_dict[emoji][\"Negative\"]\n",
        "      elif option ==\"neutral\":\n",
        "        output = output + emoji_sent_dict[emoji][\"Neutral\"]\n",
        "    except Exception as e: \n",
        "      continue\n",
        "  return output"
      ],
      "execution_count": 6,
      "outputs": []
    },
    {
      "cell_type": "code",
      "metadata": {
        "id": "iidMorvfQX8g"
      },
      "source": [
        "# Eliminar los emojis de un texto. Esto es útil porque una vez extraido los emojis\n",
        "# puede interesarnos tener un texto sin presencia de emojis para mejor análisis.\n",
        "def clean_emoji(text):\n",
        "    # Poner todos los comandos de http://www.unicode.org/Public/emoji/1.0/emoji-data.txt\n",
        "    emoji_pattern = re.compile(\"[\"\n",
        "        u\"\\U0001F300-\\U0001F6FF\"  # symbols & pictographs\n",
        "        u\"\\U0001F1E0-\\U0001F1FF\"  # flags (iOS)\n",
        "        u'\\u2600-\\u26FF\\u2700-\\u27BF'\n",
        "        u'\\u2934' u'\\u2935' u'\\u2B05' u'\\u2B06' u'\\u2B07' u'\\u2B1B' u'\\u2B1C' \n",
        "        u'\\u2B50' u'\\u2B55' u'\\u3030' u'\\u303D' u'\\u3297' u'\\u3299' u'\\u00A9'\n",
        "        u'\\u00AE' u'\\u203C' u'\\u2049' u'\\u2122' u'\\u2139' u'\\u2194-\\u2199' \n",
        "        u'\\u21A9' u'\\u21AA' u'\\u231A' u'\\u231B' u'\\u2328' u'\\u23CF'\n",
        "        u'\\u23E9-\\u23F3' u'\\u23F8' u'\\u23F9' u'\\u23FA' u'\\u24C2' u'\\u25AA'\n",
        "        u'\\u25AB' u'\\u25B6' u'\\u25C0' u'\\u25FB' u'\\u25FD' u'\\u25FC' u'\\u25FE'\n",
        "        ']+', flags=re.UNICODE)\n",
        "    string2 = re.sub(emoji_pattern,r' ',text)\n",
        "    return string2"
      ],
      "execution_count": 7,
      "outputs": []
    },
    {
      "cell_type": "code",
      "metadata": {
        "id": "GFvpD7AoQ_BI"
      },
      "source": [
        "# Tokenizar los tweets con el tokenizador \"TweetTokenizer\" de NLTK\n",
        "def tokenize(texto):\n",
        "  tweet_tokenizer = TweetTokenizer()\n",
        "  tokens_list = tweet_tokenizer.tokenize(texto)\n",
        "  return tokens_list\n",
        "\n",
        "# Quitar stop words de una lista de tokens\n",
        "def quitar_stopwords(tokens):\n",
        "    stop_words = set(stopwords.words('english')) \n",
        "    filtered_sentence = [w for w in tokens if not w in stop_words]\n",
        "    return filtered_sentence\n",
        "\n",
        "\n",
        "# Eliminar signos de puntuación de una lista de tokens\n",
        "# (nos quedamos sólo lo alfanumérico en este caso)\n",
        "def quitar_puntuacion(tokens):\n",
        "    words=[word for word in tokens if word.isalnum()]\n",
        "    return words\n",
        "\n",
        "\n",
        "# Lemmatization de los tokens. Devuelve una string entera para hacer la tokenización\n",
        "# con NLTK\n",
        "nlp = en_core_web_sm.load(disable=['parser', 'ner'])\n",
        "def lematizar(tokens):\n",
        "    sentence = \" \".join(tokens)\n",
        "    mytokens = nlp(sentence)\n",
        "    # Lematizamos los tokens y los convertimos  a minusculas\n",
        "    mytokens = [ word.lemma_ if word.lemma_ != \"-PRON-\" else word.lower_ for word in mytokens ]\n",
        "    # Extraemos el text en una string\n",
        "    return \" \".join(mytokens)\n"
      ],
      "execution_count": 8,
      "outputs": []
    },
    {
      "cell_type": "markdown",
      "metadata": {
        "id": "mkJhe7nYTRVG"
      },
      "source": [
        "# Cargar y preparar los datos\n",
        "En primer lugar cargamos los datos que vamos a utilizar en este notebook (emoji_sentiment_data y datos de twitter)."
      ]
    },
    {
      "cell_type": "code",
      "metadata": {
        "id": "-ID1bUphyILE"
      },
      "source": [
        "emoji_sent_dict =load_emoji_sentiment(\"Emoji_Sentiment_Data_v1.0.csv\") # Emoji_Sentiment_Data_v1.0.csv"
      ],
      "execution_count": 9,
      "outputs": []
    },
    {
      "cell_type": "markdown",
      "source": [
        ""
      ],
      "metadata": {
        "id": "EHogjlih6cuT"
      }
    },
    {
      "cell_type": "markdown",
      "metadata": {
        "id": "sOvvCLWJT1Ll"
      },
      "source": [
        "Podemos textear que hemos obtenido un diccionario cuyas claves son los emojis presentes dentro de emoji sentiment score. Cada emoji tiene un score de negatividad, neutralidad, positividad y otros campos."
      ]
    },
    {
      "cell_type": "code",
      "metadata": {
        "id": "ok9ozYguVFMd",
        "outputId": "f72751de-d5e7-465d-e36d-be21a3d9f484",
        "colab": {
          "base_uri": "https://localhost:8080/"
        }
      },
      "source": [
        "emoji_sent_dict[\"😭\"]"
      ],
      "execution_count": 10,
      "outputs": [
        {
          "output_type": "execute_result",
          "data": {
            "text/plain": [
              "{'Negative': 0.4364820846905538,\n",
              " 'Neutral': 0.22041259500542887,\n",
              " 'Occurrences': 5526,\n",
              " 'Position': 0.803351976,\n",
              " 'Positive': 0.34310532030401736,\n",
              " 'Unicode block': 'Emoticons',\n",
              " 'Unicode codepoint': '0x1f62d',\n",
              " 'Unicode name': 'LOUDLY CRYING FACE'}"
            ]
          },
          "metadata": {},
          "execution_count": 10
        }
      ]
    },
    {
      "cell_type": "markdown",
      "metadata": {
        "id": "YTQVDcH7VpxO"
      },
      "source": [
        "Cargamos el fichero .tsv con los datos de Twitter:"
      ]
    },
    {
      "cell_type": "code",
      "metadata": {
        "colab": {
          "base_uri": "https://localhost:8080/",
          "height": 423
        },
        "id": "9Am6BD7ET-NB",
        "outputId": "f8ace766-2e89-4aab-bc6d-61bf93479125"
      },
      "source": [
        "dataset = pd.read_csv(\"datos_twitter_master.tsv\", sep=\"\\t\") # datos_twitter_master.tsv\n",
        "dataset"
      ],
      "execution_count": 13,
      "outputs": [
        {
          "output_type": "execute_result",
          "data": {
            "text/plain": [
              "                                             tweet_text  molestia\n",
              "0     Noise harassment is a sensation pain based tor...         1\n",
              "1     It's 4.30am and we still haven't slept because...         1\n",
              "2     These birds acting like I can't grab my chains...         1\n",
              "3     Why do people leave the annoying tap-tap keybo...         1\n",
              "4     Please would you keep the noise down? We're re...         1\n",
              "...                                                 ...       ...\n",
              "1015  I come alive when I hear your voice it's a bea...         0\n",
              "1016  I'm currently in Ripon, the noise of the thund...         0\n",
              "1017  Sitting down the weir and the noise of the wat...         0\n",
              "1018  The sound of a beer can being cracked open is ...         0\n",
              "1019  I feel so lucky that today is about the quiete...         0\n",
              "\n",
              "[1020 rows x 2 columns]"
            ],
            "text/html": [
              "\n",
              "  <div id=\"df-77663160-da2c-4553-a668-dbccc16ca7bc\">\n",
              "    <div class=\"colab-df-container\">\n",
              "      <div>\n",
              "<style scoped>\n",
              "    .dataframe tbody tr th:only-of-type {\n",
              "        vertical-align: middle;\n",
              "    }\n",
              "\n",
              "    .dataframe tbody tr th {\n",
              "        vertical-align: top;\n",
              "    }\n",
              "\n",
              "    .dataframe thead th {\n",
              "        text-align: right;\n",
              "    }\n",
              "</style>\n",
              "<table border=\"1\" class=\"dataframe\">\n",
              "  <thead>\n",
              "    <tr style=\"text-align: right;\">\n",
              "      <th></th>\n",
              "      <th>tweet_text</th>\n",
              "      <th>molestia</th>\n",
              "    </tr>\n",
              "  </thead>\n",
              "  <tbody>\n",
              "    <tr>\n",
              "      <th>0</th>\n",
              "      <td>Noise harassment is a sensation pain based tor...</td>\n",
              "      <td>1</td>\n",
              "    </tr>\n",
              "    <tr>\n",
              "      <th>1</th>\n",
              "      <td>It's 4.30am and we still haven't slept because...</td>\n",
              "      <td>1</td>\n",
              "    </tr>\n",
              "    <tr>\n",
              "      <th>2</th>\n",
              "      <td>These birds acting like I can't grab my chains...</td>\n",
              "      <td>1</td>\n",
              "    </tr>\n",
              "    <tr>\n",
              "      <th>3</th>\n",
              "      <td>Why do people leave the annoying tap-tap keybo...</td>\n",
              "      <td>1</td>\n",
              "    </tr>\n",
              "    <tr>\n",
              "      <th>4</th>\n",
              "      <td>Please would you keep the noise down? We're re...</td>\n",
              "      <td>1</td>\n",
              "    </tr>\n",
              "    <tr>\n",
              "      <th>...</th>\n",
              "      <td>...</td>\n",
              "      <td>...</td>\n",
              "    </tr>\n",
              "    <tr>\n",
              "      <th>1015</th>\n",
              "      <td>I come alive when I hear your voice it's a bea...</td>\n",
              "      <td>0</td>\n",
              "    </tr>\n",
              "    <tr>\n",
              "      <th>1016</th>\n",
              "      <td>I'm currently in Ripon, the noise of the thund...</td>\n",
              "      <td>0</td>\n",
              "    </tr>\n",
              "    <tr>\n",
              "      <th>1017</th>\n",
              "      <td>Sitting down the weir and the noise of the wat...</td>\n",
              "      <td>0</td>\n",
              "    </tr>\n",
              "    <tr>\n",
              "      <th>1018</th>\n",
              "      <td>The sound of a beer can being cracked open is ...</td>\n",
              "      <td>0</td>\n",
              "    </tr>\n",
              "    <tr>\n",
              "      <th>1019</th>\n",
              "      <td>I feel so lucky that today is about the quiete...</td>\n",
              "      <td>0</td>\n",
              "    </tr>\n",
              "  </tbody>\n",
              "</table>\n",
              "<p>1020 rows × 2 columns</p>\n",
              "</div>\n",
              "      <button class=\"colab-df-convert\" onclick=\"convertToInteractive('df-77663160-da2c-4553-a668-dbccc16ca7bc')\"\n",
              "              title=\"Convert this dataframe to an interactive table.\"\n",
              "              style=\"display:none;\">\n",
              "        \n",
              "  <svg xmlns=\"http://www.w3.org/2000/svg\" height=\"24px\"viewBox=\"0 0 24 24\"\n",
              "       width=\"24px\">\n",
              "    <path d=\"M0 0h24v24H0V0z\" fill=\"none\"/>\n",
              "    <path d=\"M18.56 5.44l.94 2.06.94-2.06 2.06-.94-2.06-.94-.94-2.06-.94 2.06-2.06.94zm-11 1L8.5 8.5l.94-2.06 2.06-.94-2.06-.94L8.5 2.5l-.94 2.06-2.06.94zm10 10l.94 2.06.94-2.06 2.06-.94-2.06-.94-.94-2.06-.94 2.06-2.06.94z\"/><path d=\"M17.41 7.96l-1.37-1.37c-.4-.4-.92-.59-1.43-.59-.52 0-1.04.2-1.43.59L10.3 9.45l-7.72 7.72c-.78.78-.78 2.05 0 2.83L4 21.41c.39.39.9.59 1.41.59.51 0 1.02-.2 1.41-.59l7.78-7.78 2.81-2.81c.8-.78.8-2.07 0-2.86zM5.41 20L4 18.59l7.72-7.72 1.47 1.35L5.41 20z\"/>\n",
              "  </svg>\n",
              "      </button>\n",
              "      \n",
              "  <style>\n",
              "    .colab-df-container {\n",
              "      display:flex;\n",
              "      flex-wrap:wrap;\n",
              "      gap: 12px;\n",
              "    }\n",
              "\n",
              "    .colab-df-convert {\n",
              "      background-color: #E8F0FE;\n",
              "      border: none;\n",
              "      border-radius: 50%;\n",
              "      cursor: pointer;\n",
              "      display: none;\n",
              "      fill: #1967D2;\n",
              "      height: 32px;\n",
              "      padding: 0 0 0 0;\n",
              "      width: 32px;\n",
              "    }\n",
              "\n",
              "    .colab-df-convert:hover {\n",
              "      background-color: #E2EBFA;\n",
              "      box-shadow: 0px 1px 2px rgba(60, 64, 67, 0.3), 0px 1px 3px 1px rgba(60, 64, 67, 0.15);\n",
              "      fill: #174EA6;\n",
              "    }\n",
              "\n",
              "    [theme=dark] .colab-df-convert {\n",
              "      background-color: #3B4455;\n",
              "      fill: #D2E3FC;\n",
              "    }\n",
              "\n",
              "    [theme=dark] .colab-df-convert:hover {\n",
              "      background-color: #434B5C;\n",
              "      box-shadow: 0px 1px 3px 1px rgba(0, 0, 0, 0.15);\n",
              "      filter: drop-shadow(0px 1px 2px rgba(0, 0, 0, 0.3));\n",
              "      fill: #FFFFFF;\n",
              "    }\n",
              "  </style>\n",
              "\n",
              "      <script>\n",
              "        const buttonEl =\n",
              "          document.querySelector('#df-77663160-da2c-4553-a668-dbccc16ca7bc button.colab-df-convert');\n",
              "        buttonEl.style.display =\n",
              "          google.colab.kernel.accessAllowed ? 'block' : 'none';\n",
              "\n",
              "        async function convertToInteractive(key) {\n",
              "          const element = document.querySelector('#df-77663160-da2c-4553-a668-dbccc16ca7bc');\n",
              "          const dataTable =\n",
              "            await google.colab.kernel.invokeFunction('convertToInteractive',\n",
              "                                                     [key], {});\n",
              "          if (!dataTable) return;\n",
              "\n",
              "          const docLinkHtml = 'Like what you see? Visit the ' +\n",
              "            '<a target=\"_blank\" href=https://colab.research.google.com/notebooks/data_table.ipynb>data table notebook</a>'\n",
              "            + ' to learn more about interactive tables.';\n",
              "          element.innerHTML = '';\n",
              "          dataTable['output_type'] = 'display_data';\n",
              "          await google.colab.output.renderOutput(dataTable, element);\n",
              "          const docLink = document.createElement('div');\n",
              "          docLink.innerHTML = docLinkHtml;\n",
              "          element.appendChild(docLink);\n",
              "        }\n",
              "      </script>\n",
              "    </div>\n",
              "  </div>\n",
              "  "
            ]
          },
          "metadata": {},
          "execution_count": 13
        }
      ]
    },
    {
      "cell_type": "markdown",
      "metadata": {
        "id": "PXS6rO_8X_gF"
      },
      "source": [
        "# Análisis preliminar "
      ]
    },
    {
      "cell_type": "markdown",
      "metadata": {
        "id": "mcxAkTt6RG2U"
      },
      "source": [
        "# Análisis exploratorio de los datos (EDA)\n",
        "\n",
        "\n"
      ]
    },
    {
      "cell_type": "markdown",
      "metadata": {
        "id": "O5ZZJJilSUbe"
      },
      "source": [
        "En este apartado pretendemos realizar un análisis de los datos previo a la normalización de los mismos. Este análisis nos va a permitir extraer información relevante del dataset, así como posibles inconvenientes que serán solucionados llegado el caso.\n"
      ]
    },
    {
      "cell_type": "markdown",
      "metadata": {
        "id": "BGFFWS9Q5uPg"
      },
      "source": [
        "* **Número de documentos y columnas:**\n",
        "\n",
        "Comenzamos mostrando el número de documentos, o lo que es lo mismo, el número de filas del data frame:"
      ]
    },
    {
      "cell_type": "code",
      "metadata": {
        "colab": {
          "base_uri": "https://localhost:8080/"
        },
        "id": "8cMr_JLnXyLv",
        "outputId": "7d4d5573-ab63-4e59-d1e9-7eb82c91363a"
      },
      "source": [
        "print(\"Tenemos un conjunto de {} documentos\".format(len(dataset)))\n",
        "print(\"El dataframe tiene {} columnas\".format(dataset.shape[1]))"
      ],
      "execution_count": 14,
      "outputs": [
        {
          "output_type": "stream",
          "name": "stdout",
          "text": [
            "Tenemos un conjunto de 1020 documentos\n",
            "El dataframe tiene 2 columnas\n"
          ]
        }
      ]
    },
    {
      "cell_type": "markdown",
      "source": [
        "* **Número de documentos duplicados:**"
      ],
      "metadata": {
        "id": "TOwki0MDKR9c"
      }
    },
    {
      "cell_type": "markdown",
      "metadata": {
        "id": "yUMrCNQLWnER"
      },
      "source": [
        "Despues, comprobamos y eliminamos las filas con algún valor vacío (NA) y quitaremos los duplicados."
      ]
    },
    {
      "cell_type": "code",
      "metadata": {
        "colab": {
          "base_uri": "https://localhost:8080/"
        },
        "id": "RlTJyjagXNIK",
        "outputId": "f2f95182-8034-441a-aed1-54c350ec9163"
      },
      "source": [
        "print(\"Existen {} noticias duplicadas\".format(np.sum(dataset.duplicated(subset=[\"tweet_text\"]))))\n",
        "# Quitaremos esos duplicados\n",
        "dataset = dataset.drop_duplicates()\n",
        "print(\"Despues de quitar duplicados tenemos un conjunto de {} noticias\".format(dataset.shape[0]))"
      ],
      "execution_count": 15,
      "outputs": [
        {
          "output_type": "stream",
          "name": "stdout",
          "text": [
            "Existen 1 noticias duplicadas\n",
            "Despues de quitar duplicados tenemos un conjunto de 1019 noticias\n"
          ]
        }
      ]
    },
    {
      "cell_type": "markdown",
      "metadata": {
        "id": "GR2fqxu6WrGo"
      },
      "source": [
        "Comprobaramos que no hayan quedado Nulls en ningunas de las dos columnas del dataset"
      ]
    },
    {
      "cell_type": "code",
      "metadata": {
        "colab": {
          "base_uri": "https://localhost:8080/"
        },
        "id": "aEvobTAsXmMy",
        "outputId": "d39d8614-eda0-4a3b-c20e-5295400a44b2"
      },
      "source": [
        "print(\"Hay {} valores vacíos en las noticias y {} valores vacíos en las etiquetas en los datos\".format(np.sum(dataset.isnull())[0],\n",
        "                                                                                                        np.sum(dataset.isnull())[1]))"
      ],
      "execution_count": 16,
      "outputs": [
        {
          "output_type": "stream",
          "name": "stdout",
          "text": [
            "Hay 0 valores vacíos en las noticias y 0 valores vacíos en las etiquetas en los datos\n"
          ]
        }
      ]
    },
    {
      "cell_type": "markdown",
      "source": [
        "* **Número de documentos por cada clase:**\n",
        "\n",
        "Contamos el número de elementos de cada clase. Vemos que en la columna \"molestia\" nos encontramos las etiquetas del dataset. En este caso nos encontramos dos tipos de documentos (tweets):\n",
        "\n",
        "- \"Molestia = 1\": Tweets con la palabra ruido que hacen referencia a molestias sufridas por ruido acústico proveniente de distintas fuentes (coches, vecinos, mascotas,...)\n",
        "- \"Molestia = 0\": Tweets que contienen la palabra ruido perso no expresan una molestia sufrida por el usuario que lo escribió (otras acpciones de ruido, noticias que hablan sobre ruido o uso de ruido como algo positivo) "
      ],
      "metadata": {
        "id": "h24AMcCZKnbw"
      }
    },
    {
      "cell_type": "markdown",
      "metadata": {
        "id": "rY8ksiYvZvqt"
      },
      "source": [
        "Comprobemos la distribución de las clases:"
      ]
    },
    {
      "cell_type": "code",
      "metadata": {
        "id": "U1AYyDfTZvqu",
        "outputId": "44d2ff08-2b29-405a-89a1-a014a00cbcc6",
        "colab": {
          "base_uri": "https://localhost:8080/"
        }
      },
      "source": [
        "dataset[\"molestia\"].value_counts()"
      ],
      "execution_count": 17,
      "outputs": [
        {
          "output_type": "execute_result",
          "data": {
            "text/plain": [
              "1    510\n",
              "0    509\n",
              "Name: molestia, dtype: int64"
            ]
          },
          "metadata": {},
          "execution_count": 17
        }
      ]
    },
    {
      "cell_type": "markdown",
      "metadata": {
        "id": "OvLsb-_gaFyH"
      },
      "source": [
        "¡¡Tenemos un dataset balanceado!! Esto nos evitará problemas en el entrenamiento de los modelos😀. \n"
      ]
    },
    {
      "cell_type": "markdown",
      "metadata": {
        "id": "Ors90Yon5aJf"
      },
      "source": [
        "* **Distribución de la longitud de los tweet en caracteres:**\n",
        "\n",
        "Para seguir con el análisis exploratorio, vamos a hacer un cálculo típico: la longitud de cada uno de los textos de los documentos para despues dibujar su histograma. \n",
        "\n",
        "Comenzamos creando las columnas que van a almacenar las longitud en caracteres y en tokens de los documentos del corpus:"
      ]
    },
    {
      "cell_type": "code",
      "metadata": {
        "id": "fVjO14rKXWXL",
        "outputId": "5bc09b10-9253-4758-81ef-baa7c80032dc",
        "colab": {
          "base_uri": "https://localhost:8080/"
        }
      },
      "source": [
        "dataset[\"char_len\"] = dataset[\"tweet_text\"].apply(lambda x: len(x)) #tweet_text"
      ],
      "execution_count": 18,
      "outputs": [
        {
          "output_type": "stream",
          "name": "stderr",
          "text": [
            "/usr/local/lib/python3.7/dist-packages/ipykernel_launcher.py:1: SettingWithCopyWarning: \n",
            "A value is trying to be set on a copy of a slice from a DataFrame.\n",
            "Try using .loc[row_indexer,col_indexer] = value instead\n",
            "\n",
            "See the caveats in the documentation: https://pandas.pydata.org/pandas-docs/stable/user_guide/indexing.html#returning-a-view-versus-a-copy\n",
            "  \"\"\"Entry point for launching an IPython kernel.\n"
          ]
        }
      ]
    },
    {
      "cell_type": "code",
      "source": [
        "# Importamos las librerías matplotlib y seaborn:\n",
        "import matplotlib.pyplot as plt\n",
        "import seaborn as sns\n",
        "\n",
        "fig = plt.figure(figsize=(14,12))\n",
        "sns.set_style(\"darkgrid\")\n",
        "# añadimos series para cada categoría (eligiendo la seríe de char_len\n",
        "plt1 = sns.distplot(dataset[dataset.molestia==0].char_len, hist=True, label=\"no_molestia\")\n",
        "plt2 = sns.distplot(dataset[dataset.molestia==1].char_len, hist=True, label=\"molestia\")\n",
        "fig.legend(labels=['no molestia','molestia'], loc = 5)\n",
        "\n",
        "\n",
        "# Definimos el título de los ejes:\n",
        "plt.xlabel('Caracteres', fontsize=16)\n",
        "plt.ylabel('Densidad', fontsize=16)\n",
        "\n",
        "# Finalmente mostramos el gráfico:\n",
        "plt.show()\n"
      ],
      "metadata": {
        "id": "9Qh8tMrcLSmY",
        "outputId": "f392177a-3ea0-47be-bfbd-ccba18a52f71",
        "colab": {
          "base_uri": "https://localhost:8080/",
          "height": 813
        }
      },
      "execution_count": 19,
      "outputs": [
        {
          "output_type": "stream",
          "name": "stderr",
          "text": [
            "/usr/local/lib/python3.7/dist-packages/seaborn/distributions.py:2619: FutureWarning: `distplot` is a deprecated function and will be removed in a future version. Please adapt your code to use either `displot` (a figure-level function with similar flexibility) or `histplot` (an axes-level function for histograms).\n",
            "  warnings.warn(msg, FutureWarning)\n",
            "/usr/local/lib/python3.7/dist-packages/seaborn/distributions.py:2619: FutureWarning: `distplot` is a deprecated function and will be removed in a future version. Please adapt your code to use either `displot` (a figure-level function with similar flexibility) or `histplot` (an axes-level function for histograms).\n",
            "  warnings.warn(msg, FutureWarning)\n"
          ]
        },
        {
          "output_type": "display_data",
          "data": {
            "text/plain": [
              "<Figure size 1008x864 with 1 Axes>"
            ],
            "image/png": "[encoded data removed]"
          },
          "metadata": {
            "needs_background": "light"
          }
        }
      ]
    },
    {
      "cell_type": "markdown",
      "metadata": {
        "id": "VKMCoo9-XnmX"
      },
      "source": [
        "En la figura se ve que no existen diferencias significativas entre las dos clases. Quizá los tweets en los que el usuario se queja sobre el ruido (molestia ==1)tienen una tendencia a ser más cortos, pero no se observa nada destacable."
      ]
    },
    {
      "cell_type": "markdown",
      "metadata": {
        "id": "YURv-wywYDpq"
      },
      "source": [
        "# Transformación \n",
        "\n",
        "Como hemos visto, está dividido en dos pasos Normalización o Preprocesado y Transformación\n"
      ]
    },
    {
      "cell_type": "markdown",
      "metadata": {
        "id": "cG9xxARQYJ_8"
      },
      "source": [
        "\n",
        "## Normalización\n",
        "Vamos a proceder a normalizar los datos. Para ello vamos a utilizar las funciones anteriormente definidas:\n",
        "\n",
        "- Por una parte vamos a extraer los emojis de los tweets, los vamos a guardar en una lista dentro de una nueva columna del dataframe y por último calcularemos un valor de sentimiento de emojis de positividad, negatividad y neutralidad.\n",
        "\n",
        "- Preprocesar los textos:\n",
        "    - Primero expanderemos las contracciones de los tweets\n",
        "    - Despues quitaremos los emojis, ya que antes habremos calculado los scores necesarios.\n",
        "    - Tokenizaremos\n",
        "    - Quitaremos stop words\n",
        "    - Quitaremos puntuación\n",
        "    - Lematizaremos"
      ]
    },
    {
      "cell_type": "markdown",
      "metadata": {
        "id": "Zi-MaTRZZQ3q"
      },
      "source": [
        "### Emojis\n",
        "En primer luigar vamos a trabajar con los emojis. \n",
        "\n",
        "Vamos a extraerlos con una función lambda aplicando la función extract_emojis() definida anteriormente en el dataframe"
      ]
    },
    {
      "cell_type": "code",
      "metadata": {
        "id": "KJ7t-9ZQYX6t",
        "outputId": "329c9f55-f763-4d86-d2fb-ef5fa855250e",
        "colab": {
          "base_uri": "https://localhost:8080/"
        }
      },
      "source": [
        "dataset[\"emoji_list\"] = dataset[\"tweet_text\"].apply(lambda x: extract_emojis(x))"
      ],
      "execution_count": 20,
      "outputs": [
        {
          "output_type": "stream",
          "name": "stderr",
          "text": [
            "/usr/local/lib/python3.7/dist-packages/ipykernel_launcher.py:1: SettingWithCopyWarning: \n",
            "A value is trying to be set on a copy of a slice from a DataFrame.\n",
            "Try using .loc[row_indexer,col_indexer] = value instead\n",
            "\n",
            "See the caveats in the documentation: https://pandas.pydata.org/pandas-docs/stable/user_guide/indexing.html#returning-a-view-versus-a-copy\n",
            "  \"\"\"Entry point for launching an IPython kernel.\n"
          ]
        }
      ]
    },
    {
      "cell_type": "markdown",
      "metadata": {
        "id": "od_3GHZsZwaz"
      },
      "source": [
        "Vemos que nos ha guardado los emojis en la columna \"emoji_list\":"
      ]
    },
    {
      "cell_type": "code",
      "metadata": {
        "colab": {
          "base_uri": "https://localhost:8080/"
        },
        "id": "oxW7SeDIZwAl",
        "outputId": "91e9d219-63cc-4f81-a278-f8a2d72327ba"
      },
      "source": [
        "dataset[\"emoji_list\"]"
      ],
      "execution_count": 21,
      "outputs": [
        {
          "output_type": "execute_result",
          "data": {
            "text/plain": [
              "0        []\n",
              "1        []\n",
              "2        []\n",
              "3        []\n",
              "4       [🎻]\n",
              "       ... \n",
              "1015     []\n",
              "1016     []\n",
              "1017     []\n",
              "1018     []\n",
              "1019     []\n",
              "Name: emoji_list, Length: 1019, dtype: object"
            ]
          },
          "metadata": {},
          "execution_count": 21
        }
      ]
    },
    {
      "cell_type": "markdown",
      "metadata": {
        "id": "akaI1mmAaHbl"
      },
      "source": [
        "A continuación, se calcula un score de sentimiento a los emojis asociados a cada tweet. Si no hay emojis, estos scores serán cero.\n",
        "Para calcular esto lo haremos de nuevo con funciones lambda aplicando la función get_emoji_sentiment() anteriormente generada:"
      ]
    },
    {
      "cell_type": "code",
      "metadata": {
        "id": "Uzdd6JrlaYeK",
        "outputId": "9e655ab7-0f69-4e5b-e5fd-59b7e3edc233",
        "colab": {
          "base_uri": "https://localhost:8080/"
        }
      },
      "source": [
        "dataset[\"sent_emoji_pos\"] = dataset[\"emoji_list\"].apply(lambda x: get_emoji_sentiment(x,\"positive\"))\n",
        "dataset[\"sent_emoji_neu\"] = dataset[\"emoji_list\"].apply(lambda x: get_emoji_sentiment(x,\"neutral\"))\n",
        "dataset[\"sent_emoji_neg\"] = dataset[\"emoji_list\"].apply(lambda x: get_emoji_sentiment(x,\"negative\"))"
      ],
      "execution_count": 36,
      "outputs": [
        {
          "output_type": "stream",
          "name": "stderr",
          "text": [
            "/usr/local/lib/python3.7/dist-packages/ipykernel_launcher.py:1: SettingWithCopyWarning: \n",
            "A value is trying to be set on a copy of a slice from a DataFrame.\n",
            "Try using .loc[row_indexer,col_indexer] = value instead\n",
            "\n",
            "See the caveats in the documentation: https://pandas.pydata.org/pandas-docs/stable/user_guide/indexing.html#returning-a-view-versus-a-copy\n",
            "  \"\"\"Entry point for launching an IPython kernel.\n",
            "/usr/local/lib/python3.7/dist-packages/ipykernel_launcher.py:2: SettingWithCopyWarning: \n",
            "A value is trying to be set on a copy of a slice from a DataFrame.\n",
            "Try using .loc[row_indexer,col_indexer] = value instead\n",
            "\n",
            "See the caveats in the documentation: https://pandas.pydata.org/pandas-docs/stable/user_guide/indexing.html#returning-a-view-versus-a-copy\n",
            "  \n",
            "/usr/local/lib/python3.7/dist-packages/ipykernel_launcher.py:3: SettingWithCopyWarning: \n",
            "A value is trying to be set on a copy of a slice from a DataFrame.\n",
            "Try using .loc[row_indexer,col_indexer] = value instead\n",
            "\n",
            "See the caveats in the documentation: https://pandas.pydata.org/pandas-docs/stable/user_guide/indexing.html#returning-a-view-versus-a-copy\n",
            "  This is separate from the ipykernel package so we can avoid doing imports until\n"
          ]
        }
      ]
    },
    {
      "cell_type": "code",
      "source": [
        "dataset"
      ],
      "metadata": {
        "id": "iukLPBCzmAUp",
        "outputId": "9476e2a6-4f77-4f81-9a1a-a63179c78539",
        "colab": {
          "base_uri": "https://localhost:8080/",
          "height": 1000
        }
      },
      "execution_count": 37,
      "outputs": [
        {
          "output_type": "execute_result",
          "data": {
            "text/plain": [
              "                                             tweet_text  molestia  char_len  \\\n",
              "0     Noise harassment is a sensation pain based tor...         1        50   \n",
              "1     It's 4.30am and we still haven't slept because...         1       106   \n",
              "2     These birds acting like I can't grab my chains...         1       143   \n",
              "3     Why do people leave the annoying tap-tap keybo...         1       136   \n",
              "4     Please would you keep the noise down? We're re...         1       109   \n",
              "...                                                 ...       ...       ...   \n",
              "1015  I come alive when I hear your voice it's a bea...         0        81   \n",
              "1016  I'm currently in Ripon, the noise of the thund...         0        61   \n",
              "1017  Sitting down the weir and the noise of the wat...         0        94   \n",
              "1018  The sound of a beer can being cracked open is ...         0        73   \n",
              "1019  I feel so lucky that today is about the quiete...         0       152   \n",
              "\n",
              "     emoji_list  sent_emoji_neg  \\\n",
              "0            []             0.0   \n",
              "1            []             0.0   \n",
              "2            []             0.0   \n",
              "3            []             0.0   \n",
              "4           [🎻]             0.0   \n",
              "...         ...             ...   \n",
              "1015         []             0.0   \n",
              "1016         []             0.0   \n",
              "1017         []             0.0   \n",
              "1018         []             0.0   \n",
              "1019         []             0.0   \n",
              "\n",
              "                                   tweet_text_processed  \\\n",
              "0     Noise harassment is a sensation pain based tor...   \n",
              "1     It is 4.30am and we still have not slept becau...   \n",
              "2     These birds acting like I cannot grab my chain...   \n",
              "3     Why do people leave the annoying tap-tap keybo...   \n",
              "4     Please would you keep the noise down? We are r...   \n",
              "...                                                 ...   \n",
              "1015  I come alive when I hear your voice it is a be...   \n",
              "1016  I am currently in Ripon, the noise of the thun...   \n",
              "1017  Sitting down the weir and the noise of the wat...   \n",
              "1018  The sound of a beer can being cracked open is ...   \n",
              "1019  I feel so lucky that today is about the quiete...   \n",
              "\n",
              "                                              tokenized  \\\n",
              "0     [Noise, harassment, is, a, sensation, pain, ba...   \n",
              "1     [It, is, 4.30, am, and, we, still, have, not, ...   \n",
              "2     [These, birds, acting, like, I, cannot, grab, ...   \n",
              "3     [Why, do, people, leave, the, annoying, tap-ta...   \n",
              "4     [Please, would, you, keep, the, noise, down, ?...   \n",
              "...                                                 ...   \n",
              "1015  [I, come, alive, when, I, hear, your, voice, i...   \n",
              "1016  [I, am, currently, in, Ripon, ,, the, noise, o...   \n",
              "1017  [Sitting, down, the, weir, and, the, noise, of...   \n",
              "1018  [The, sound, of, a, beer, can, being, cracked,...   \n",
              "1019  [I, feel, so, lucky, that, today, is, about, t...   \n",
              "\n",
              "                                        tokenized_clean  \\\n",
              "0     [Noise, harassment, sensation, pain, based, to...   \n",
              "1     [It, still, slept, noise, I, think, I, ever, c...   \n",
              "2     [These, birds, acting, like, I, cannot, grab, ...   \n",
              "3     [Why, people, leave, annoying, keyboard, noise...   \n",
              "4     [Please, would, keep, noise, We, rehearsing, D...   \n",
              "...                                                 ...   \n",
              "1015  [I, come, alive, I, hear, voice, beautiful, so...   \n",
              "1016   [I, currently, Ripon, noise, thunder, fantastic]   \n",
              "1017  [Sitting, weir, noise, water, almost, blocks, ...   \n",
              "1018  [The, sound, beer, cracked, open, greatest, no...   \n",
              "1019  [I, feel, lucky, today, quietest, ever, Fewer,...   \n",
              "\n",
              "                                           lematizacion  sent_emoji_pos  \\\n",
              "0          noise harassment sensation pain base torture        0.000000   \n",
              "1     it still sleep noise I think I ever city perso...        0.000000   \n",
              "2     these bird act like I can not grab chainsaw fa...        0.000000   \n",
              "3     why people leave annoying keyboard noise phone...        0.000000   \n",
              "4        please would keep noise we rehearse Dartington        0.444444   \n",
              "...                                                 ...             ...   \n",
              "1015  I come alive I hear voice beautiful sound beau...        0.000000   \n",
              "1016          I currently ripon noise thunder fantastic        0.000000   \n",
              "1017     sit weir noise water almost block thought head        0.000000   \n",
              "1018        the sound beer crack open great noise earth        0.000000   \n",
              "1019  I feel lucky today quiet ever few copter const...        0.000000   \n",
              "\n",
              "      sent_emoji_neu  \n",
              "0           0.000000  \n",
              "1           0.000000  \n",
              "2           0.000000  \n",
              "3           0.000000  \n",
              "4           0.555556  \n",
              "...              ...  \n",
              "1015        0.000000  \n",
              "1016        0.000000  \n",
              "1017        0.000000  \n",
              "1018        0.000000  \n",
              "1019        0.000000  \n",
              "\n",
              "[1019 rows x 11 columns]"
            ],
            "text/html": [
              "\n",
              "  <div id=\"df-9a979eea-7680-461e-b056-5cea8633d61a\">\n",
              "    <div class=\"colab-df-container\">\n",
              "      <div>\n",
              "<style scoped>\n",
              "    .dataframe tbody tr th:only-of-type {\n",
              "        vertical-align: middle;\n",
              "    }\n",
              "\n",
              "    .dataframe tbody tr th {\n",
              "        vertical-align: top;\n",
              "    }\n",
              "\n",
              "    .dataframe thead th {\n",
              "        text-align: right;\n",
              "    }\n",
              "</style>\n",
              "<table border=\"1\" class=\"dataframe\">\n",
              "  <thead>\n",
              "    <tr style=\"text-align: right;\">\n",
              "      <th></th>\n",
              "      <th>tweet_text</th>\n",
              "      <th>molestia</th>\n",
              "      <th>char_len</th>\n",
              "      <th>emoji_list</th>\n",
              "      <th>sent_emoji_neg</th>\n",
              "      <th>tweet_text_processed</th>\n",
              "      <th>tokenized</th>\n",
              "      <th>tokenized_clean</th>\n",
              "      <th>lematizacion</th>\n",
              "      <th>sent_emoji_pos</th>\n",
              "      <th>sent_emoji_neu</th>\n",
              "    </tr>\n",
              "  </thead>\n",
              "  <tbody>\n",
              "    <tr>\n",
              "      <th>0</th>\n",
              "      <td>Noise harassment is a sensation pain based tor...</td>\n",
              "      <td>1</td>\n",
              "      <td>50</td>\n",
              "      <td>[]</td>\n",
              "      <td>0.0</td>\n",
              "      <td>Noise harassment is a sensation pain based tor...</td>\n",
              "      <td>[Noise, harassment, is, a, sensation, pain, ba...</td>\n",
              "      <td>[Noise, harassment, sensation, pain, based, to...</td>\n",
              "      <td>noise harassment sensation pain base torture</td>\n",
              "      <td>0.000000</td>\n",
              "      <td>0.000000</td>\n",
              "    </tr>\n",
              "    <tr>\n",
              "      <th>1</th>\n",
              "      <td>It's 4.30am and we still haven't slept because...</td>\n",
              "      <td>1</td>\n",
              "      <td>106</td>\n",
              "      <td>[]</td>\n",
              "      <td>0.0</td>\n",
              "      <td>It is 4.30am and we still have not slept becau...</td>\n",
              "      <td>[It, is, 4.30, am, and, we, still, have, not, ...</td>\n",
              "      <td>[It, still, slept, noise, I, think, I, ever, c...</td>\n",
              "      <td>it still sleep noise I think I ever city perso...</td>\n",
              "      <td>0.000000</td>\n",
              "      <td>0.000000</td>\n",
              "    </tr>\n",
              "    <tr>\n",
              "      <th>2</th>\n",
              "      <td>These birds acting like I can't grab my chains...</td>\n",
              "      <td>1</td>\n",
              "      <td>143</td>\n",
              "      <td>[]</td>\n",
              "      <td>0.0</td>\n",
              "      <td>These birds acting like I cannot grab my chain...</td>\n",
              "      <td>[These, birds, acting, like, I, cannot, grab, ...</td>\n",
              "      <td>[These, birds, acting, like, I, cannot, grab, ...</td>\n",
              "      <td>these bird act like I can not grab chainsaw fa...</td>\n",
              "      <td>0.000000</td>\n",
              "      <td>0.000000</td>\n",
              "    </tr>\n",
              "    <tr>\n",
              "      <th>3</th>\n",
              "      <td>Why do people leave the annoying tap-tap keybo...</td>\n",
              "      <td>1</td>\n",
              "      <td>136</td>\n",
              "      <td>[]</td>\n",
              "      <td>0.0</td>\n",
              "      <td>Why do people leave the annoying tap-tap keybo...</td>\n",
              "      <td>[Why, do, people, leave, the, annoying, tap-ta...</td>\n",
              "      <td>[Why, people, leave, annoying, keyboard, noise...</td>\n",
              "      <td>why people leave annoying keyboard noise phone...</td>\n",
              "      <td>0.000000</td>\n",
              "      <td>0.000000</td>\n",
              "    </tr>\n",
              "    <tr>\n",
              "      <th>4</th>\n",
              "      <td>Please would you keep the noise down? We're re...</td>\n",
              "      <td>1</td>\n",
              "      <td>109</td>\n",
              "      <td>[🎻]</td>\n",
              "      <td>0.0</td>\n",
              "      <td>Please would you keep the noise down? We are r...</td>\n",
              "      <td>[Please, would, you, keep, the, noise, down, ?...</td>\n",
              "      <td>[Please, would, keep, noise, We, rehearsing, D...</td>\n",
              "      <td>please would keep noise we rehearse Dartington</td>\n",
              "      <td>0.444444</td>\n",
              "      <td>0.555556</td>\n",
              "    </tr>\n",
              "    <tr>\n",
              "      <th>...</th>\n",
              "      <td>...</td>\n",
              "      <td>...</td>\n",
              "      <td>...</td>\n",
              "      <td>...</td>\n",
              "      <td>...</td>\n",
              "      <td>...</td>\n",
              "      <td>...</td>\n",
              "      <td>...</td>\n",
              "      <td>...</td>\n",
              "      <td>...</td>\n",
              "      <td>...</td>\n",
              "    </tr>\n",
              "    <tr>\n",
              "      <th>1015</th>\n",
              "      <td>I come alive when I hear your voice it's a bea...</td>\n",
              "      <td>0</td>\n",
              "      <td>81</td>\n",
              "      <td>[]</td>\n",
              "      <td>0.0</td>\n",
              "      <td>I come alive when I hear your voice it is a be...</td>\n",
              "      <td>[I, come, alive, when, I, hear, your, voice, i...</td>\n",
              "      <td>[I, come, alive, I, hear, voice, beautiful, so...</td>\n",
              "      <td>I come alive I hear voice beautiful sound beau...</td>\n",
              "      <td>0.000000</td>\n",
              "      <td>0.000000</td>\n",
              "    </tr>\n",
              "    <tr>\n",
              "      <th>1016</th>\n",
              "      <td>I'm currently in Ripon, the noise of the thund...</td>\n",
              "      <td>0</td>\n",
              "      <td>61</td>\n",
              "      <td>[]</td>\n",
              "      <td>0.0</td>\n",
              "      <td>I am currently in Ripon, the noise of the thun...</td>\n",
              "      <td>[I, am, currently, in, Ripon, ,, the, noise, o...</td>\n",
              "      <td>[I, currently, Ripon, noise, thunder, fantastic]</td>\n",
              "      <td>I currently ripon noise thunder fantastic</td>\n",
              "      <td>0.000000</td>\n",
              "      <td>0.000000</td>\n",
              "    </tr>\n",
              "    <tr>\n",
              "      <th>1017</th>\n",
              "      <td>Sitting down the weir and the noise of the wat...</td>\n",
              "      <td>0</td>\n",
              "      <td>94</td>\n",
              "      <td>[]</td>\n",
              "      <td>0.0</td>\n",
              "      <td>Sitting down the weir and the noise of the wat...</td>\n",
              "      <td>[Sitting, down, the, weir, and, the, noise, of...</td>\n",
              "      <td>[Sitting, weir, noise, water, almost, blocks, ...</td>\n",
              "      <td>sit weir noise water almost block thought head</td>\n",
              "      <td>0.000000</td>\n",
              "      <td>0.000000</td>\n",
              "    </tr>\n",
              "    <tr>\n",
              "      <th>1018</th>\n",
              "      <td>The sound of a beer can being cracked open is ...</td>\n",
              "      <td>0</td>\n",
              "      <td>73</td>\n",
              "      <td>[]</td>\n",
              "      <td>0.0</td>\n",
              "      <td>The sound of a beer can being cracked open is ...</td>\n",
              "      <td>[The, sound, of, a, beer, can, being, cracked,...</td>\n",
              "      <td>[The, sound, beer, cracked, open, greatest, no...</td>\n",
              "      <td>the sound beer crack open great noise earth</td>\n",
              "      <td>0.000000</td>\n",
              "      <td>0.000000</td>\n",
              "    </tr>\n",
              "    <tr>\n",
              "      <th>1019</th>\n",
              "      <td>I feel so lucky that today is about the quiete...</td>\n",
              "      <td>0</td>\n",
              "      <td>152</td>\n",
              "      <td>[]</td>\n",
              "      <td>0.0</td>\n",
              "      <td>I feel so lucky that today is about the quiete...</td>\n",
              "      <td>[I, feel, so, lucky, that, today, is, about, t...</td>\n",
              "      <td>[I, feel, lucky, today, quietest, ever, Fewer,...</td>\n",
              "      <td>I feel lucky today quiet ever few copter const...</td>\n",
              "      <td>0.000000</td>\n",
              "      <td>0.000000</td>\n",
              "    </tr>\n",
              "  </tbody>\n",
              "</table>\n",
              "<p>1019 rows × 11 columns</p>\n",
              "</div>\n",
              "      <button class=\"colab-df-convert\" onclick=\"convertToInteractive('df-9a979eea-7680-461e-b056-5cea8633d61a')\"\n",
              "              title=\"Convert this dataframe to an interactive table.\"\n",
              "              style=\"display:none;\">\n",
              "        \n",
              "  <svg xmlns=\"http://www.w3.org/2000/svg\" height=\"24px\"viewBox=\"0 0 24 24\"\n",
              "       width=\"24px\">\n",
              "    <path d=\"M0 0h24v24H0V0z\" fill=\"none\"/>\n",
              "    <path d=\"M18.56 5.44l.94 2.06.94-2.06 2.06-.94-2.06-.94-.94-2.06-.94 2.06-2.06.94zm-11 1L8.5 8.5l.94-2.06 2.06-.94-2.06-.94L8.5 2.5l-.94 2.06-2.06.94zm10 10l.94 2.06.94-2.06 2.06-.94-2.06-.94-.94-2.06-.94 2.06-2.06.94z\"/><path d=\"M17.41 7.96l-1.37-1.37c-.4-.4-.92-.59-1.43-.59-.52 0-1.04.2-1.43.59L10.3 9.45l-7.72 7.72c-.78.78-.78 2.05 0 2.83L4 21.41c.39.39.9.59 1.41.59.51 0 1.02-.2 1.41-.59l7.78-7.78 2.81-2.81c.8-.78.8-2.07 0-2.86zM5.41 20L4 18.59l7.72-7.72 1.47 1.35L5.41 20z\"/>\n",
              "  </svg>\n",
              "      </button>\n",
              "      \n",
              "  <style>\n",
              "    .colab-df-container {\n",
              "      display:flex;\n",
              "      flex-wrap:wrap;\n",
              "      gap: 12px;\n",
              "    }\n",
              "\n",
              "    .colab-df-convert {\n",
              "      background-color: #E8F0FE;\n",
              "      border: none;\n",
              "      border-radius: 50%;\n",
              "      cursor: pointer;\n",
              "      display: none;\n",
              "      fill: #1967D2;\n",
              "      height: 32px;\n",
              "      padding: 0 0 0 0;\n",
              "      width: 32px;\n",
              "    }\n",
              "\n",
              "    .colab-df-convert:hover {\n",
              "      background-color: #E2EBFA;\n",
              "      box-shadow: 0px 1px 2px rgba(60, 64, 67, 0.3), 0px 1px 3px 1px rgba(60, 64, 67, 0.15);\n",
              "      fill: #174EA6;\n",
              "    }\n",
              "\n",
              "    [theme=dark] .colab-df-convert {\n",
              "      background-color: #3B4455;\n",
              "      fill: #D2E3FC;\n",
              "    }\n",
              "\n",
              "    [theme=dark] .colab-df-convert:hover {\n",
              "      background-color: #434B5C;\n",
              "      box-shadow: 0px 1px 3px 1px rgba(0, 0, 0, 0.15);\n",
              "      filter: drop-shadow(0px 1px 2px rgba(0, 0, 0, 0.3));\n",
              "      fill: #FFFFFF;\n",
              "    }\n",
              "  </style>\n",
              "\n",
              "      <script>\n",
              "        const buttonEl =\n",
              "          document.querySelector('#df-9a979eea-7680-461e-b056-5cea8633d61a button.colab-df-convert');\n",
              "        buttonEl.style.display =\n",
              "          google.colab.kernel.accessAllowed ? 'block' : 'none';\n",
              "\n",
              "        async function convertToInteractive(key) {\n",
              "          const element = document.querySelector('#df-9a979eea-7680-461e-b056-5cea8633d61a');\n",
              "          const dataTable =\n",
              "            await google.colab.kernel.invokeFunction('convertToInteractive',\n",
              "                                                     [key], {});\n",
              "          if (!dataTable) return;\n",
              "\n",
              "          const docLinkHtml = 'Like what you see? Visit the ' +\n",
              "            '<a target=\"_blank\" href=https://colab.research.google.com/notebooks/data_table.ipynb>data table notebook</a>'\n",
              "            + ' to learn more about interactive tables.';\n",
              "          element.innerHTML = '';\n",
              "          dataTable['output_type'] = 'display_data';\n",
              "          await google.colab.output.renderOutput(dataTable, element);\n",
              "          const docLink = document.createElement('div');\n",
              "          docLink.innerHTML = docLinkHtml;\n",
              "          element.appendChild(docLink);\n",
              "        }\n",
              "      </script>\n",
              "    </div>\n",
              "  </div>\n",
              "  "
            ]
          },
          "metadata": {},
          "execution_count": 37
        }
      ]
    },
    {
      "cell_type": "markdown",
      "metadata": {
        "id": "JMGuxTOkarOY"
      },
      "source": [
        "### Preprocesar textos\n",
        "Vamos a realizar los preprocesados indicados antes."
      ]
    },
    {
      "cell_type": "markdown",
      "metadata": {
        "id": "MPfOeLYua43J"
      },
      "source": [
        " En primer lugar expandimos las contracciones. Además, despues del proceso de extracción de emojis, los quitaremos de nuestros textos porque no nos serán útiles."
      ]
    },
    {
      "cell_type": "code",
      "metadata": {
        "id": "dru7LpIBZ31S",
        "outputId": "b6e1fff6-2dd1-4a05-ad61-b436aa2a7aac",
        "colab": {
          "base_uri": "https://localhost:8080/"
        }
      },
      "source": [
        "# Reemplazar contracciones\n",
        "dataset[\"tweet_text_processed\"] = dataset[\"tweet_text\"].apply(lambda x: replace_contraction(x))\n",
        "# Quitar emojis de los textos (CleanEmoji de tweet_text_processed)\n",
        "dataset[\"tweet_text_processed\"] = dataset[\"tweet_text_processed\"].apply(lambda x: clean_emoji(x))"
      ],
      "execution_count": 25,
      "outputs": [
        {
          "output_type": "stream",
          "name": "stderr",
          "text": [
            "/usr/local/lib/python3.7/dist-packages/ipykernel_launcher.py:2: SettingWithCopyWarning: \n",
            "A value is trying to be set on a copy of a slice from a DataFrame.\n",
            "Try using .loc[row_indexer,col_indexer] = value instead\n",
            "\n",
            "See the caveats in the documentation: https://pandas.pydata.org/pandas-docs/stable/user_guide/indexing.html#returning-a-view-versus-a-copy\n",
            "  \n",
            "/usr/local/lib/python3.7/dist-packages/ipykernel_launcher.py:4: SettingWithCopyWarning: \n",
            "A value is trying to be set on a copy of a slice from a DataFrame.\n",
            "Try using .loc[row_indexer,col_indexer] = value instead\n",
            "\n",
            "See the caveats in the documentation: https://pandas.pydata.org/pandas-docs/stable/user_guide/indexing.html#returning-a-view-versus-a-copy\n",
            "  after removing the cwd from sys.path.\n"
          ]
        }
      ]
    },
    {
      "cell_type": "markdown",
      "metadata": {
        "id": "TKfjjf0SbNKy"
      },
      "source": [
        "Despues tokenizamos el texto, y trabajaremos en limpiar los tokens que no son útiles en este problema para reducir dimensionalidad"
      ]
    },
    {
      "cell_type": "code",
      "metadata": {
        "id": "5zPH6Gwg6fWW",
        "outputId": "b11fc0b6-5b91-422d-a710-d602f712ee1f",
        "colab": {
          "base_uri": "https://localhost:8080/"
        }
      },
      "source": [
        "dataset[\"tokenized\"] = dataset[\"tweet_text_processed\"].apply(lambda x:tokenize(x))"
      ],
      "execution_count": 26,
      "outputs": [
        {
          "output_type": "stream",
          "name": "stderr",
          "text": [
            "/usr/local/lib/python3.7/dist-packages/ipykernel_launcher.py:1: SettingWithCopyWarning: \n",
            "A value is trying to be set on a copy of a slice from a DataFrame.\n",
            "Try using .loc[row_indexer,col_indexer] = value instead\n",
            "\n",
            "See the caveats in the documentation: https://pandas.pydata.org/pandas-docs/stable/user_guide/indexing.html#returning-a-view-versus-a-copy\n",
            "  \"\"\"Entry point for launching an IPython kernel.\n"
          ]
        }
      ]
    },
    {
      "cell_type": "markdown",
      "metadata": {
        "id": "qoiQr_02bcix"
      },
      "source": [
        "Procesamos los tokens:"
      ]
    },
    {
      "cell_type": "code",
      "metadata": {
        "id": "UjGlk7NPbeLs",
        "outputId": "7f19144a-bd06-41fe-ddc8-b3e439950523",
        "colab": {
          "base_uri": "https://localhost:8080/"
        }
      },
      "source": [
        "# Quitar stopwords (quitar_stopwords)\n",
        "dataset[\"tokenized_clean\"] = dataset[\"tokenized\"].apply(lambda x: quitar_stopwords(x))\n",
        "# Quitamos los símbolos de puntuación (quitar_puntuacion)\n",
        "dataset[\"tokenized_clean\"] = dataset[\"tokenized_clean\"].apply(lambda x: quitar_puntuacion(x))\n",
        "# Lematizamos (lematizar)\n",
        "dataset[\"lematizacion\"] = dataset[\"tokenized_clean\"].apply(lambda x: lematizar(x))"
      ],
      "execution_count": 27,
      "outputs": [
        {
          "output_type": "stream",
          "name": "stderr",
          "text": [
            "/usr/local/lib/python3.7/dist-packages/ipykernel_launcher.py:2: SettingWithCopyWarning: \n",
            "A value is trying to be set on a copy of a slice from a DataFrame.\n",
            "Try using .loc[row_indexer,col_indexer] = value instead\n",
            "\n",
            "See the caveats in the documentation: https://pandas.pydata.org/pandas-docs/stable/user_guide/indexing.html#returning-a-view-versus-a-copy\n",
            "  \n",
            "/usr/local/lib/python3.7/dist-packages/ipykernel_launcher.py:4: SettingWithCopyWarning: \n",
            "A value is trying to be set on a copy of a slice from a DataFrame.\n",
            "Try using .loc[row_indexer,col_indexer] = value instead\n",
            "\n",
            "See the caveats in the documentation: https://pandas.pydata.org/pandas-docs/stable/user_guide/indexing.html#returning-a-view-versus-a-copy\n",
            "  after removing the cwd from sys.path.\n",
            "/usr/local/lib/python3.7/dist-packages/ipykernel_launcher.py:6: SettingWithCopyWarning: \n",
            "A value is trying to be set on a copy of a slice from a DataFrame.\n",
            "Try using .loc[row_indexer,col_indexer] = value instead\n",
            "\n",
            "See the caveats in the documentation: https://pandas.pydata.org/pandas-docs/stable/user_guide/indexing.html#returning-a-view-versus-a-copy\n",
            "  \n"
          ]
        }
      ]
    },
    {
      "cell_type": "markdown",
      "metadata": {
        "id": "XLlebJJSfQFR"
      },
      "source": [
        "En este paso también podríamos generar nuevas características para mejorar el funcionamiento del algoritmo. Por ejemplo, podríamos utilizar TextBlob para obtener el sentimiento (tanto subjetividad y polaridad) de cada twitter. Esto se hace de la siguiente forma:\n",
        "\n",
        "\n",
        "```\n",
        "from textblob import TextBlob\n",
        "Textblob(tweet_text).sentiment.subjectivity\n",
        "Textblob(tweet_text).sentiment.polarity\n",
        "```\n",
        "\n",
        "PAra aplicarlo a cada texto de un dataframe habría que utilizar funciones Lambda."
      ]
    },
    {
      "cell_type": "markdown",
      "metadata": {
        "id": "8g_TfWEycll6"
      },
      "source": [
        "## Vectorización\n",
        "\n",
        "Una vez hemos limpiado y procesado el texto, vamos a extraer características utilizando TFIDFVectorizer:\n",
        "- Queremos utilizar como máximo *30* features\n",
        "- unigramas, bigramas y trigramas\n",
        "- Que el sistema no considere los elementos que salgan en menos del 5% de los documentos."
      ]
    },
    {
      "cell_type": "code",
      "metadata": {
        "id": "Pm7g3CEKfuzm"
      },
      "source": [
        "# BoW Features\n",
        "vectorizador = TfidfVectorizer(min_df=0.05 ,ngram_range=(1,3), max_features=30)\n",
        "vector_data = vectorizador.fit_transform(dataset[\"lematizacion\"])"
      ],
      "execution_count": 28,
      "outputs": []
    },
    {
      "cell_type": "markdown",
      "metadata": {
        "id": "EOyoWLDrdbM0"
      },
      "source": [
        "# Entrenar/testear el clasificador\n",
        "\n",
        "En esta ocasión, además de utilizar las características de *Bag of Ngramas* generadas con TfidfVectorizer, nos interesa utilizar otro conjunto de características que podrían ser de interés para mejorar el rendimiento del clasificador.\n",
        "\n",
        "En este caso, vamos a introducir como ejemplo las variables de sentimiento de emojis que hemos calculado.\n",
        "\n",
        "La forma más sencilla de hacer esto es utilizar la librería *scipy* y generar una matriz sparse, comprensible por scikit-learn, que contenga tanto las características de TFIDF como las calculadas manualmente. \n",
        "\n",
        "En primer lugar, debemos seleccionar el conjunto de variables que queremos considerar en el entrenamiento. PAra ello hacemos uso del selector `dataframe[[\"nombre_columna1\", \"nombre_columna2\"]]`:"
      ]
    },
    {
      "cell_type": "code",
      "metadata": {
        "id": "5przO751gKhT"
      },
      "source": [
        "extra_features = dataset[[\"sent_emoji_pos\", \"sent_emoji_neg\", \"sent_emoji_neu\"]]"
      ],
      "execution_count": 35,
      "outputs": []
    },
    {
      "cell_type": "code",
      "source": [
        "dataset"
      ],
      "metadata": {
        "id": "T_8rglxmn4Ri",
        "outputId": "5f01c60c-15e0-4ae7-9c8d-a56ea2d8eecf",
        "colab": {
          "base_uri": "https://localhost:8080/",
          "height": 1000
        }
      },
      "execution_count": 33,
      "outputs": [
        {
          "output_type": "execute_result",
          "data": {
            "text/plain": [
              "                                             tweet_text  molestia  char_len  \\\n",
              "0     Noise harassment is a sensation pain based tor...         1        50   \n",
              "1     It's 4.30am and we still haven't slept because...         1       106   \n",
              "2     These birds acting like I can't grab my chains...         1       143   \n",
              "3     Why do people leave the annoying tap-tap keybo...         1       136   \n",
              "4     Please would you keep the noise down? We're re...         1       109   \n",
              "...                                                 ...       ...       ...   \n",
              "1015  I come alive when I hear your voice it's a bea...         0        81   \n",
              "1016  I'm currently in Ripon, the noise of the thund...         0        61   \n",
              "1017  Sitting down the weir and the noise of the wat...         0        94   \n",
              "1018  The sound of a beer can being cracked open is ...         0        73   \n",
              "1019  I feel so lucky that today is about the quiete...         0       152   \n",
              "\n",
              "     emoji_list  sent_emoji_neg  \\\n",
              "0            []             0.0   \n",
              "1            []             0.0   \n",
              "2            []             0.0   \n",
              "3            []             0.0   \n",
              "4           [🎻]             0.0   \n",
              "...         ...             ...   \n",
              "1015         []             0.0   \n",
              "1016         []             0.0   \n",
              "1017         []             0.0   \n",
              "1018         []             0.0   \n",
              "1019         []             0.0   \n",
              "\n",
              "                                   tweet_text_processed  \\\n",
              "0     Noise harassment is a sensation pain based tor...   \n",
              "1     It is 4.30am and we still have not slept becau...   \n",
              "2     These birds acting like I cannot grab my chain...   \n",
              "3     Why do people leave the annoying tap-tap keybo...   \n",
              "4     Please would you keep the noise down? We are r...   \n",
              "...                                                 ...   \n",
              "1015  I come alive when I hear your voice it is a be...   \n",
              "1016  I am currently in Ripon, the noise of the thun...   \n",
              "1017  Sitting down the weir and the noise of the wat...   \n",
              "1018  The sound of a beer can being cracked open is ...   \n",
              "1019  I feel so lucky that today is about the quiete...   \n",
              "\n",
              "                                              tokenized  \\\n",
              "0     [Noise, harassment, is, a, sensation, pain, ba...   \n",
              "1     [It, is, 4.30, am, and, we, still, have, not, ...   \n",
              "2     [These, birds, acting, like, I, cannot, grab, ...   \n",
              "3     [Why, do, people, leave, the, annoying, tap-ta...   \n",
              "4     [Please, would, you, keep, the, noise, down, ?...   \n",
              "...                                                 ...   \n",
              "1015  [I, come, alive, when, I, hear, your, voice, i...   \n",
              "1016  [I, am, currently, in, Ripon, ,, the, noise, o...   \n",
              "1017  [Sitting, down, the, weir, and, the, noise, of...   \n",
              "1018  [The, sound, of, a, beer, can, being, cracked,...   \n",
              "1019  [I, feel, so, lucky, that, today, is, about, t...   \n",
              "\n",
              "                                        tokenized_clean  \\\n",
              "0     [Noise, harassment, sensation, pain, based, to...   \n",
              "1     [It, still, slept, noise, I, think, I, ever, c...   \n",
              "2     [These, birds, acting, like, I, cannot, grab, ...   \n",
              "3     [Why, people, leave, annoying, keyboard, noise...   \n",
              "4     [Please, would, keep, noise, We, rehearsing, D...   \n",
              "...                                                 ...   \n",
              "1015  [I, come, alive, I, hear, voice, beautiful, so...   \n",
              "1016   [I, currently, Ripon, noise, thunder, fantastic]   \n",
              "1017  [Sitting, weir, noise, water, almost, blocks, ...   \n",
              "1018  [The, sound, beer, cracked, open, greatest, no...   \n",
              "1019  [I, feel, lucky, today, quietest, ever, Fewer,...   \n",
              "\n",
              "                                           lematizacion  \n",
              "0          noise harassment sensation pain base torture  \n",
              "1     it still sleep noise I think I ever city perso...  \n",
              "2     these bird act like I can not grab chainsaw fa...  \n",
              "3     why people leave annoying keyboard noise phone...  \n",
              "4        please would keep noise we rehearse Dartington  \n",
              "...                                                 ...  \n",
              "1015  I come alive I hear voice beautiful sound beau...  \n",
              "1016          I currently ripon noise thunder fantastic  \n",
              "1017     sit weir noise water almost block thought head  \n",
              "1018        the sound beer crack open great noise earth  \n",
              "1019  I feel lucky today quiet ever few copter const...  \n",
              "\n",
              "[1019 rows x 9 columns]"
            ],
            "text/html": [
              "\n",
              "  <div id=\"df-37ce2c7b-dc32-4f8e-a1c5-6befbcd14452\">\n",
              "    <div class=\"colab-df-container\">\n",
              "      <div>\n",
              "<style scoped>\n",
              "    .dataframe tbody tr th:only-of-type {\n",
              "        vertical-align: middle;\n",
              "    }\n",
              "\n",
              "    .dataframe tbody tr th {\n",
              "        vertical-align: top;\n",
              "    }\n",
              "\n",
              "    .dataframe thead th {\n",
              "        text-align: right;\n",
              "    }\n",
              "</style>\n",
              "<table border=\"1\" class=\"dataframe\">\n",
              "  <thead>\n",
              "    <tr style=\"text-align: right;\">\n",
              "      <th></th>\n",
              "      <th>tweet_text</th>\n",
              "      <th>molestia</th>\n",
              "      <th>char_len</th>\n",
              "      <th>emoji_list</th>\n",
              "      <th>sent_emoji_neg</th>\n",
              "      <th>tweet_text_processed</th>\n",
              "      <th>tokenized</th>\n",
              "      <th>tokenized_clean</th>\n",
              "      <th>lematizacion</th>\n",
              "    </tr>\n",
              "  </thead>\n",
              "  <tbody>\n",
              "    <tr>\n",
              "      <th>0</th>\n",
              "      <td>Noise harassment is a sensation pain based tor...</td>\n",
              "      <td>1</td>\n",
              "      <td>50</td>\n",
              "      <td>[]</td>\n",
              "      <td>0.0</td>\n",
              "      <td>Noise harassment is a sensation pain based tor...</td>\n",
              "      <td>[Noise, harassment, is, a, sensation, pain, ba...</td>\n",
              "      <td>[Noise, harassment, sensation, pain, based, to...</td>\n",
              "      <td>noise harassment sensation pain base torture</td>\n",
              "    </tr>\n",
              "    <tr>\n",
              "      <th>1</th>\n",
              "      <td>It's 4.30am and we still haven't slept because...</td>\n",
              "      <td>1</td>\n",
              "      <td>106</td>\n",
              "      <td>[]</td>\n",
              "      <td>0.0</td>\n",
              "      <td>It is 4.30am and we still have not slept becau...</td>\n",
              "      <td>[It, is, 4.30, am, and, we, still, have, not, ...</td>\n",
              "      <td>[It, still, slept, noise, I, think, I, ever, c...</td>\n",
              "      <td>it still sleep noise I think I ever city perso...</td>\n",
              "    </tr>\n",
              "    <tr>\n",
              "      <th>2</th>\n",
              "      <td>These birds acting like I can't grab my chains...</td>\n",
              "      <td>1</td>\n",
              "      <td>143</td>\n",
              "      <td>[]</td>\n",
              "      <td>0.0</td>\n",
              "      <td>These birds acting like I cannot grab my chain...</td>\n",
              "      <td>[These, birds, acting, like, I, cannot, grab, ...</td>\n",
              "      <td>[These, birds, acting, like, I, cannot, grab, ...</td>\n",
              "      <td>these bird act like I can not grab chainsaw fa...</td>\n",
              "    </tr>\n",
              "    <tr>\n",
              "      <th>3</th>\n",
              "      <td>Why do people leave the annoying tap-tap keybo...</td>\n",
              "      <td>1</td>\n",
              "      <td>136</td>\n",
              "      <td>[]</td>\n",
              "      <td>0.0</td>\n",
              "      <td>Why do people leave the annoying tap-tap keybo...</td>\n",
              "      <td>[Why, do, people, leave, the, annoying, tap-ta...</td>\n",
              "      <td>[Why, people, leave, annoying, keyboard, noise...</td>\n",
              "      <td>why people leave annoying keyboard noise phone...</td>\n",
              "    </tr>\n",
              "    <tr>\n",
              "      <th>4</th>\n",
              "      <td>Please would you keep the noise down? We're re...</td>\n",
              "      <td>1</td>\n",
              "      <td>109</td>\n",
              "      <td>[🎻]</td>\n",
              "      <td>0.0</td>\n",
              "      <td>Please would you keep the noise down? We are r...</td>\n",
              "      <td>[Please, would, you, keep, the, noise, down, ?...</td>\n",
              "      <td>[Please, would, keep, noise, We, rehearsing, D...</td>\n",
              "      <td>please would keep noise we rehearse Dartington</td>\n",
              "    </tr>\n",
              "    <tr>\n",
              "      <th>...</th>\n",
              "      <td>...</td>\n",
              "      <td>...</td>\n",
              "      <td>...</td>\n",
              "      <td>...</td>\n",
              "      <td>...</td>\n",
              "      <td>...</td>\n",
              "      <td>...</td>\n",
              "      <td>...</td>\n",
              "      <td>...</td>\n",
              "    </tr>\n",
              "    <tr>\n",
              "      <th>1015</th>\n",
              "      <td>I come alive when I hear your voice it's a bea...</td>\n",
              "      <td>0</td>\n",
              "      <td>81</td>\n",
              "      <td>[]</td>\n",
              "      <td>0.0</td>\n",
              "      <td>I come alive when I hear your voice it is a be...</td>\n",
              "      <td>[I, come, alive, when, I, hear, your, voice, i...</td>\n",
              "      <td>[I, come, alive, I, hear, voice, beautiful, so...</td>\n",
              "      <td>I come alive I hear voice beautiful sound beau...</td>\n",
              "    </tr>\n",
              "    <tr>\n",
              "      <th>1016</th>\n",
              "      <td>I'm currently in Ripon, the noise of the thund...</td>\n",
              "      <td>0</td>\n",
              "      <td>61</td>\n",
              "      <td>[]</td>\n",
              "      <td>0.0</td>\n",
              "      <td>I am currently in Ripon, the noise of the thun...</td>\n",
              "      <td>[I, am, currently, in, Ripon, ,, the, noise, o...</td>\n",
              "      <td>[I, currently, Ripon, noise, thunder, fantastic]</td>\n",
              "      <td>I currently ripon noise thunder fantastic</td>\n",
              "    </tr>\n",
              "    <tr>\n",
              "      <th>1017</th>\n",
              "      <td>Sitting down the weir and the noise of the wat...</td>\n",
              "      <td>0</td>\n",
              "      <td>94</td>\n",
              "      <td>[]</td>\n",
              "      <td>0.0</td>\n",
              "      <td>Sitting down the weir and the noise of the wat...</td>\n",
              "      <td>[Sitting, down, the, weir, and, the, noise, of...</td>\n",
              "      <td>[Sitting, weir, noise, water, almost, blocks, ...</td>\n",
              "      <td>sit weir noise water almost block thought head</td>\n",
              "    </tr>\n",
              "    <tr>\n",
              "      <th>1018</th>\n",
              "      <td>The sound of a beer can being cracked open is ...</td>\n",
              "      <td>0</td>\n",
              "      <td>73</td>\n",
              "      <td>[]</td>\n",
              "      <td>0.0</td>\n",
              "      <td>The sound of a beer can being cracked open is ...</td>\n",
              "      <td>[The, sound, of, a, beer, can, being, cracked,...</td>\n",
              "      <td>[The, sound, beer, cracked, open, greatest, no...</td>\n",
              "      <td>the sound beer crack open great noise earth</td>\n",
              "    </tr>\n",
              "    <tr>\n",
              "      <th>1019</th>\n",
              "      <td>I feel so lucky that today is about the quiete...</td>\n",
              "      <td>0</td>\n",
              "      <td>152</td>\n",
              "      <td>[]</td>\n",
              "      <td>0.0</td>\n",
              "      <td>I feel so lucky that today is about the quiete...</td>\n",
              "      <td>[I, feel, so, lucky, that, today, is, about, t...</td>\n",
              "      <td>[I, feel, lucky, today, quietest, ever, Fewer,...</td>\n",
              "      <td>I feel lucky today quiet ever few copter const...</td>\n",
              "    </tr>\n",
              "  </tbody>\n",
              "</table>\n",
              "<p>1019 rows × 9 columns</p>\n",
              "</div>\n",
              "      <button class=\"colab-df-convert\" onclick=\"convertToInteractive('df-37ce2c7b-dc32-4f8e-a1c5-6befbcd14452')\"\n",
              "              title=\"Convert this dataframe to an interactive table.\"\n",
              "              style=\"display:none;\">\n",
              "        \n",
              "  <svg xmlns=\"http://www.w3.org/2000/svg\" height=\"24px\"viewBox=\"0 0 24 24\"\n",
              "       width=\"24px\">\n",
              "    <path d=\"M0 0h24v24H0V0z\" fill=\"none\"/>\n",
              "    <path d=\"M18.56 5.44l.94 2.06.94-2.06 2.06-.94-2.06-.94-.94-2.06-.94 2.06-2.06.94zm-11 1L8.5 8.5l.94-2.06 2.06-.94-2.06-.94L8.5 2.5l-.94 2.06-2.06.94zm10 10l.94 2.06.94-2.06 2.06-.94-2.06-.94-.94-2.06-.94 2.06-2.06.94z\"/><path d=\"M17.41 7.96l-1.37-1.37c-.4-.4-.92-.59-1.43-.59-.52 0-1.04.2-1.43.59L10.3 9.45l-7.72 7.72c-.78.78-.78 2.05 0 2.83L4 21.41c.39.39.9.59 1.41.59.51 0 1.02-.2 1.41-.59l7.78-7.78 2.81-2.81c.8-.78.8-2.07 0-2.86zM5.41 20L4 18.59l7.72-7.72 1.47 1.35L5.41 20z\"/>\n",
              "  </svg>\n",
              "      </button>\n",
              "      \n",
              "  <style>\n",
              "    .colab-df-container {\n",
              "      display:flex;\n",
              "      flex-wrap:wrap;\n",
              "      gap: 12px;\n",
              "    }\n",
              "\n",
              "    .colab-df-convert {\n",
              "      background-color: #E8F0FE;\n",
              "      border: none;\n",
              "      border-radius: 50%;\n",
              "      cursor: pointer;\n",
              "      display: none;\n",
              "      fill: #1967D2;\n",
              "      height: 32px;\n",
              "      padding: 0 0 0 0;\n",
              "      width: 32px;\n",
              "    }\n",
              "\n",
              "    .colab-df-convert:hover {\n",
              "      background-color: #E2EBFA;\n",
              "      box-shadow: 0px 1px 2px rgba(60, 64, 67, 0.3), 0px 1px 3px 1px rgba(60, 64, 67, 0.15);\n",
              "      fill: #174EA6;\n",
              "    }\n",
              "\n",
              "    [theme=dark] .colab-df-convert {\n",
              "      background-color: #3B4455;\n",
              "      fill: #D2E3FC;\n",
              "    }\n",
              "\n",
              "    [theme=dark] .colab-df-convert:hover {\n",
              "      background-color: #434B5C;\n",
              "      box-shadow: 0px 1px 3px 1px rgba(0, 0, 0, 0.15);\n",
              "      filter: drop-shadow(0px 1px 2px rgba(0, 0, 0, 0.3));\n",
              "      fill: #FFFFFF;\n",
              "    }\n",
              "  </style>\n",
              "\n",
              "      <script>\n",
              "        const buttonEl =\n",
              "          document.querySelector('#df-37ce2c7b-dc32-4f8e-a1c5-6befbcd14452 button.colab-df-convert');\n",
              "        buttonEl.style.display =\n",
              "          google.colab.kernel.accessAllowed ? 'block' : 'none';\n",
              "\n",
              "        async function convertToInteractive(key) {\n",
              "          const element = document.querySelector('#df-37ce2c7b-dc32-4f8e-a1c5-6befbcd14452');\n",
              "          const dataTable =\n",
              "            await google.colab.kernel.invokeFunction('convertToInteractive',\n",
              "                                                     [key], {});\n",
              "          if (!dataTable) return;\n",
              "\n",
              "          const docLinkHtml = 'Like what you see? Visit the ' +\n",
              "            '<a target=\"_blank\" href=https://colab.research.google.com/notebooks/data_table.ipynb>data table notebook</a>'\n",
              "            + ' to learn more about interactive tables.';\n",
              "          element.innerHTML = '';\n",
              "          dataTable['output_type'] = 'display_data';\n",
              "          await google.colab.output.renderOutput(dataTable, element);\n",
              "          const docLink = document.createElement('div');\n",
              "          docLink.innerHTML = docLinkHtml;\n",
              "          element.appendChild(docLink);\n",
              "        }\n",
              "      </script>\n",
              "    </div>\n",
              "  </div>\n",
              "  "
            ]
          },
          "metadata": {},
          "execution_count": 33
        }
      ]
    },
    {
      "cell_type": "markdown",
      "metadata": {
        "id": "qrIyNSnkekfC"
      },
      "source": [
        "Utilizamos la librería scipy (función sparse.hstack) para unir las características TFIDF (contenidas en ´vector_data´) con las que acabamos de seleccionar (´extra_features´). Esta unión nos generará una matriz X que utilizaremos para hacer el train-test split posteriormente:"
      ]
    },
    {
      "cell_type": "code",
      "metadata": {
        "id": "d5-G9GaxCg3e"
      },
      "source": [
        "import scipy as sp\n",
        "# Extraemos las etiquetas y las asignamos a la variable y\n",
        "y = dataset[\"molestia\"].values.astype(np.float32) \n",
        "# Unimos las características TFIDF con las características previamente seleccionadas\n",
        "# Extraemos los valores (values) de las extra_features, que es un dataframe  \n",
        "# Hay que guardar vector_data (que es una sparse matrix) con extra_features.\n",
        "# Elegimos el formato \"csr\", Compressed Sparse Row matrix, que es el formato de\n",
        "# resultado de tfidfVectorizer \n",
        "# https://scikit-learn.org/stable/modules/generated/sklearn.feature_extraction.text.TfidfVectorizer.html#sklearn.feature_extraction.text.TfidfVectorizer.fit_transform\n",
        "X = sp.sparse.hstack((vector_data,extra_features.values),format='csr')"
      ],
      "execution_count": 38,
      "outputs": []
    },
    {
      "cell_type": "markdown",
      "metadata": {
        "id": "VojEshiwfjG2"
      },
      "source": [
        "También vamos a extraer el nombre de las caracteríticas por si quisieramos utilizarlos con posterioridad."
      ]
    },
    {
      "cell_type": "code",
      "metadata": {
        "id": "w2e09VPeft_g",
        "colab": {
          "base_uri": "https://localhost:8080/"
        },
        "outputId": "de8e8471-9fbf-4207-ed92-e549ff52e4b0"
      },
      "source": [
        "X_columns=vectorizador.get_feature_names()+extra_features.columns.tolist()"
      ],
      "execution_count": 39,
      "outputs": [
        {
          "output_type": "stream",
          "name": "stderr",
          "text": [
            "/usr/local/lib/python3.7/dist-packages/sklearn/utils/deprecation.py:87: FutureWarning: Function get_feature_names is deprecated; get_feature_names is deprecated in 1.0 and will be removed in 1.2. Please use get_feature_names_out instead.\n",
            "  warnings.warn(msg, category=FutureWarning)\n"
          ]
        }
      ]
    },
    {
      "cell_type": "markdown",
      "metadata": {
        "id": "lgaXlfF9f9Q5"
      },
      "source": [
        "Vamos a dividir nuestros datos en Train y Test, como habitualmente se hace. En este caso probablemente tuvieramos demasiadas características (303 características para 764 datos nos va a dar problemas de overfitting, así que en los ejercicios deberías tener esto en cuenta [bajas el número de características])"
      ]
    },
    {
      "cell_type": "code",
      "metadata": {
        "colab": {
          "base_uri": "https://localhost:8080/"
        },
        "id": "JlbpqmfXfuj9",
        "outputId": "12db4259-b0de-49b9-9da5-8d240c4fe236"
      },
      "source": [
        "X_train, X_test, y_train, y_test = train_test_split(X, y, random_state=0)\n",
        "print(X_train.shape)\n",
        "print(X_test.shape)"
      ],
      "execution_count": 40,
      "outputs": [
        {
          "output_type": "stream",
          "name": "stdout",
          "text": [
            "(764, 16)\n",
            "(255, 16)\n"
          ]
        }
      ]
    },
    {
      "cell_type": "markdown",
      "metadata": {
        "id": "692437DAeiyy"
      },
      "source": [
        "**Decision de modelo de ML a utilizar**\n",
        "\n",
        "En primer lugar se ha generado una función para medir la calidad de varios modelos estándar de forma fácil y ver sus resultados. \n",
        "\n",
        "La función hace un KFold y evalua diferentes modelos con una métrica de evblauación:"
      ]
    },
    {
      "cell_type": "code",
      "source": [
        "# Definimos las funcionalidades pertinentes de sklearn:\n",
        "from sklearn.model_selection import KFold\n",
        "from sklearn.model_selection import cross_val_score\n",
        "from sklearn.model_selection import GridSearchCV, RandomizedSearchCV\n",
        "import warnings \n",
        "# Definimos la función encargada de evaluar los modelos:\n",
        "def model_evaluation(models, score, X, y):\n",
        "      results = []\n",
        "      names = []\n",
        "      #PAra cada modelo\n",
        "      for name, model in models:\n",
        "          warnings.filterwarnings('ignore') \n",
        "          # Generamos un Kfold\n",
        "          KF = KFold(n_splits = 10, shuffle = True, random_state = 98)\n",
        "\n",
        "          # hacemos croos_val\n",
        "          cv_results = cross_val_score(model, X, y, cv = KF, scoring = score, verbose = False)\n",
        "          \n",
        "          # Guardamos los resultados:\n",
        "          results.append(cv_results)\n",
        "          names.append(name)\n",
        "          \n",
        "          # Mostramos los resultados numéricamente:\n",
        "          print('Metric: {} , KFold '.format(str(score)))\n",
        "          print(\"%s: %f (%f) \" % (name, cv_results.mean(), cv_results.std()))\n",
        "\n",
        "      return results, names"
      ],
      "metadata": {
        "id": "5m_42mDgO5s-"
      },
      "execution_count": 42,
      "outputs": []
    },
    {
      "cell_type": "markdown",
      "source": [
        "Una vez definida la función, podemos definir los modelos con los que hacer la evaluación. En este caso hemos incorporado la regresión logística y una naive bayes. "
      ],
      "metadata": {
        "id": "R_KYX8MRSzhJ"
      }
    },
    {
      "cell_type": "code",
      "source": [
        "# Cargamos los modelos\n",
        "from sklearn.linear_model import LogisticRegression\n",
        "from sklearn.tree import DecisionTreeClassifier\n",
        "from sklearn.naive_bayes import GaussianNB\n",
        "\n",
        "# Definimos los modelos y generamos una lista con cada uno de ellos:\n",
        "models = [\n",
        "         (\"Logistic\",LogisticRegression(random_state=30)),\n",
        "         (\"GaussianNB\",GaussianNB())\n",
        "]\n",
        "\n",
        "evaluation_score = \"accuracy\"\n",
        "\n",
        "model_evaluation(models,  evaluation_score, X.toarray(), y)   "
      ],
      "metadata": {
        "colab": {
          "base_uri": "https://localhost:8080/"
        },
        "id": "ujjjeM69OU05",
        "outputId": "2e72ce0a-709f-4081-e53b-f2193cd34e99"
      },
      "execution_count": 43,
      "outputs": [
        {
          "output_type": "stream",
          "name": "stdout",
          "text": [
            "Metric: accuracy , KFold \n",
            "Logistic: 0.724209 (0.027862) \n",
            "Metric: accuracy , KFold \n",
            "GaussianNB: 0.712444 (0.021306) \n"
          ]
        },
        {
          "output_type": "execute_result",
          "data": {
            "text/plain": [
              "([array([0.71568627, 0.69607843, 0.75490196, 0.76470588, 0.74509804,\n",
              "         0.67647059, 0.74509804, 0.73529412, 0.71568627, 0.69306931]),\n",
              "  array([0.70588235, 0.69607843, 0.74509804, 0.71568627, 0.68627451,\n",
              "         0.68627451, 0.74509804, 0.7254902 , 0.7254902 , 0.69306931])],\n",
              " ['Logistic', 'GaussianNB'])"
            ]
          },
          "metadata": {},
          "execution_count": 43
        }
      ]
    },
    {
      "cell_type": "markdown",
      "metadata": {
        "id": "hJu0sOIggTbi"
      },
      "source": [
        "Definimos las variables para hacer una grid_search:"
      ]
    },
    {
      "cell_type": "code",
      "metadata": {
        "id": "_1OKzEElg44Z"
      },
      "source": [
        "from sklearn.model_selection import KFold\n",
        "from sklearn.model_selection import GridSearchCV\n",
        "# define models and parameters\n",
        "model = LogisticRegression()\n",
        "solvers = ['newton-cg', 'liblinear']\n",
        "penalty = ['l2']\n",
        "c_values = [100, 10, 1.0, 0.1, 0.01]\n"
      ],
      "execution_count": 44,
      "outputs": []
    },
    {
      "cell_type": "code",
      "metadata": {
        "id": "hbK9YtNig7Fz"
      },
      "source": [
        "grid = dict(solver=solvers,penalty=penalty,C=c_values)\n",
        "cv = KFold(n_splits=10)\n",
        "grid_search = GridSearchCV(estimator=model, param_grid=grid, n_jobs=-1, cv=cv, scoring='accuracy',error_score=0)"
      ],
      "execution_count": 45,
      "outputs": []
    },
    {
      "cell_type": "markdown",
      "metadata": {
        "id": "QONMSvrbghg0"
      },
      "source": [
        "Vamos a entrenar el grid_search para obtener el mejor parámetro para nuestro conjunto de datos."
      ]
    },
    {
      "cell_type": "code",
      "metadata": {
        "colab": {
          "base_uri": "https://localhost:8080/"
        },
        "id": "EL41eC6sg96m",
        "outputId": "34ace858-bc83-4a9e-9d69-256ec9ce6e4a"
      },
      "source": [
        "grid_result = grid_search.fit(X_train, y_train)\n",
        "# summarize results\n",
        "print(\"Mejor accuracy: %f usando los parámetros %s\" % (grid_result.best_score_, grid_result.best_params_))\n"
      ],
      "execution_count": 46,
      "outputs": [
        {
          "output_type": "stream",
          "name": "stdout",
          "text": [
            "Mejor accuracy: 0.709740 usando los parámetros {'C': 100, 'penalty': 'l2', 'solver': 'newton-cg'}\n"
          ]
        }
      ]
    },
    {
      "cell_type": "markdown",
      "metadata": {
        "id": "Ha9YcRp-grU7"
      },
      "source": [
        "Entrenamos el modelo con los resultados ofrecidos por la grid_search:"
      ]
    },
    {
      "cell_type": "code",
      "metadata": {
        "colab": {
          "base_uri": "https://localhost:8080/"
        },
        "id": "x-9g5DOMhBeE",
        "outputId": "75697979-3e97-4b8b-9673-2dcf1dd6ebd5"
      },
      "source": [
        "from sklearn.model_selection import (KFold, cross_val_score,cross_validate)\n",
        "from sklearn.metrics import make_scorer, accuracy_score, precision_score, recall_score, f1_score\n",
        "\n",
        "model=LogisticRegression(C=10, penalty=\"l2\", solver = \"newton-cg\")\n",
        "model.fit(X_train,y_train)\n"
      ],
      "execution_count": 47,
      "outputs": [
        {
          "output_type": "execute_result",
          "data": {
            "text/plain": [
              "LogisticRegression(C=10, solver='newton-cg')"
            ]
          },
          "metadata": {},
          "execution_count": 47
        }
      ]
    },
    {
      "cell_type": "markdown",
      "metadata": {
        "id": "DLGMMi1Ng0na"
      },
      "source": [
        "Vamos a ver como funciona el modelo haciendo el predict del test y mostrando la matriz de confusióñn y el classifciation_Report:"
      ]
    },
    {
      "cell_type": "code",
      "metadata": {
        "colab": {
          "base_uri": "https://localhost:8080/"
        },
        "id": "h43h7-Upg04e",
        "outputId": "4b0f9680-8bd8-44cf-f158-9e4117fb0afe"
      },
      "source": [
        "y_pred = model.predict(X_test)\n",
        "print(confusion_matrix(y_test,y_pred))\n",
        "print(classification_report(y_test,y_pred))"
      ],
      "execution_count": 48,
      "outputs": [
        {
          "output_type": "stream",
          "name": "stdout",
          "text": [
            "[[109  24]\n",
            " [ 44  78]]\n",
            "              precision    recall  f1-score   support\n",
            "\n",
            "         0.0       0.71      0.82      0.76       133\n",
            "         1.0       0.76      0.64      0.70       122\n",
            "\n",
            "    accuracy                           0.73       255\n",
            "   macro avg       0.74      0.73      0.73       255\n",
            "weighted avg       0.74      0.73      0.73       255\n",
            "\n"
          ]
        }
      ]
    },
    {
      "cell_type": "markdown",
      "metadata": {
        "id": "jja7IS6vg_dp"
      },
      "source": [
        "Además, podríamos mostrar el grado de importancia relativa de las variables dle modelo. Aquí hago el listado, pero lo ideal sería seleccionar las más importantes dentro del modelo para saber cuales están teniendo más influencia:"
      ]
    },
    {
      "cell_type": "code",
      "metadata": {
        "id": "cb0sU6ANFBUa"
      },
      "source": [
        "# Obtener la importancia de las variables del modelo\n",
        "importance = model.coef_[0]\n"
      ],
      "execution_count": 49,
      "outputs": []
    },
    {
      "cell_type": "markdown",
      "metadata": {
        "id": "2VAyddZlhbjh"
      },
      "source": [
        "A continuación utilizamos esa variable de importancia de variables, junto a los nombres de las características almacenadas anteriormente en X_columns, para listar la importancia de cada una de las variables."
      ]
    },
    {
      "cell_type": "code",
      "metadata": {
        "colab": {
          "base_uri": "https://localhost:8080/",
          "height": 560
        },
        "id": "xxj-SgYChb3_",
        "outputId": "50311085-fe35-4dd0-8a65-304646331edb"
      },
      "source": [
        "# Mostrar el número de la característica, con su nombre, y su score de importancia\n",
        "for i,v in enumerate(importance):\n",
        " print('Feature: %0d, Name: %s , Score: %.5f' % (i,X_columns[i],v))\n",
        "# plot feature importance\n",
        "plt.bar([x for x in range(len(importance))], importance)\n",
        "plt.show()"
      ],
      "execution_count": 50,
      "outputs": [
        {
          "output_type": "stream",
          "name": "stdout",
          "text": [
            "Feature: 0, Name: get , Score: 1.74240\n",
            "Feature: 1, Name: hear , Score: 1.32724\n",
            "Feature: 2, Name: like , Score: 1.59452\n",
            "Feature: 3, Name: loud , Score: 2.45021\n",
            "Feature: 4, Name: make , Score: 2.18632\n",
            "Feature: 5, Name: make much , Score: 2.61380\n",
            "Feature: 6, Name: make noise , Score: 1.87583\n",
            "Feature: 7, Name: much , Score: 2.06476\n",
            "Feature: 8, Name: much noise , Score: 2.15463\n",
            "Feature: 9, Name: noise , Score: 1.09210\n",
            "Feature: 10, Name: noise pollution , Score: -0.50153\n",
            "Feature: 11, Name: not , Score: 1.52675\n",
            "Feature: 12, Name: pollution , Score: -0.61671\n",
            "Feature: 13, Name: sleep , Score: 2.52549\n",
            "Feature: 14, Name: the , Score: 1.58061\n",
            "Feature: 15, Name: sent_emoji_neg , Score: 3.13159\n"
          ]
        },
        {
          "output_type": "display_data",
          "data": {
            "text/plain": [
              "<Figure size 432x288 with 1 Axes>"
            ],
            "image/png": "[encoded data removed]"
          },
          "metadata": {}
        }
      ]
    }
  ]
}