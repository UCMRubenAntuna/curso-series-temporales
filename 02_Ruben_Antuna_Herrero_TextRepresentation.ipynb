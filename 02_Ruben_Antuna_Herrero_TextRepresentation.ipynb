{
  "nbformat": 4,
  "nbformat_minor": 0,
  "metadata": {
    "colab": {
      "name": "Copiar_antes_de_usar_TextRepresentation_copia_alumno.ipynb",
      "provenance": [],
      "collapsed_sections": [
        "fdk6YyUjvbHW"
      ],
      "include_colab_link": true
    },
    "kernelspec": {
      "name": "python3",
      "display_name": "Python 3"
    }
  },
  "cells": [
    {
      "cell_type": "markdown",
      "metadata": {
        "id": "view-in-github",
        "colab_type": "text"
      },
      "source": [
        "<a href=\"https://colab.research.google.com/github/ruben9324/curso-series-temporales/blob/master/02_Ruben_Antuna_Herrero_TextRepresentation.ipynb\" target=\"_parent\"><img src=\"https://colab.research.google.com/assets/colab-badge.svg\" alt=\"Open In Colab\"/></a>"
      ]
    },
    {
      "cell_type": "markdown",
      "metadata": {
        "id": "A48-kUHmOmQZ"
      },
      "source": [
        "\n",
        "# Representación numérica de textos\n",
        "En la mayoría de técnicas comúnmente utilizadas en Text Mining y NLP es necesario representar los textos en forma de vectores numéricos para que puedan ser procesados por modelos estadísticos o modelos de aprendizaje automático. Existen diferentes formas de representar el texto de esta manera, todas de ellas consisten en mapear la información a un espacio vectorial, numérico, aunque difieren en la manera de modelar los datos.\n",
        "\n",
        "Por una parte, nos encontramos estrategias para representar documentos completos en el espacio vectorial. Estas estrategias se basan en construir una matriz de términos y documentos, que representan el contenido del texto en vectores de manera que puedan ser utilizados como fuente de datos de entrada para tareas de clasificación, topic modelling o búsqueda de información. \n",
        "\n",
        "\n",
        "Por otra parte, existen estrategias para representar los documentos a nivel de palabra. Es decir, que cada token del vocabulario tenga asociada un vector específico. Estas estrategias, comúnmente denominadas como embeddings, permiten capturar la semántica de los términos y realizar de forma muy competente tareas más complejas como la extracción y linkeo de entidades, aunque también pueden ser utilizadas para otro tipo de tareas. \n",
        "\n",
        "\n",
        "\n"
      ]
    },
    {
      "cell_type": "markdown",
      "source": [
        "\n",
        "## 1. Representación numérica de documentos\n",
        "\n",
        "En este notebook vamos a aprender a representar numéricamente documentos a través de los métodos de representación Bag Of Words (BoW) y TF-IDF.\n",
        "\n",
        "\n",
        "Para este ejercicio trabajaremos con un corpus muy sencillo, para visualizar bien los resultados:"
      ],
      "metadata": {
        "id": "OW1pFXcKTOMB"
      }
    },
    {
      "cell_type": "code",
      "source": [
        "corpus = [\"yo quiero agua\",\n",
        "          \"yo quiero cocacola\",\n",
        "          \"yo quiero agua y un agua\",\n",
        "          \"yo no quiero vino\",\n",
        "          \"yo quiero un entrecot\"]"
      ],
      "metadata": {
        "id": "9EkfSTy3pxsb"
      },
      "execution_count": null,
      "outputs": []
    },
    {
      "cell_type": "markdown",
      "source": [
        "Vamos a tokenizar cada una de las frases, para trabajar comodamente más adelante:"
      ],
      "metadata": {
        "id": "V7yGud8qqP8N"
      }
    },
    {
      "cell_type": "code",
      "source": [
        "corpus_tok = [_____________ for i in corpus]  #Corpus conocido y sencillo, podemos dividir palabras con split()\n",
        "corpus_tok"
      ],
      "metadata": {
        "id": "fp3fAT8ppwl6"
      },
      "execution_count": null,
      "outputs": []
    },
    {
      "cell_type": "markdown",
      "source": [
        "### Bag of Words\n",
        "Como hemos visto anterioremente, Bag Of Words es uno de los modelos de representación de texto más intuitivos. Para implementarlo, se construye un vocabulario de tamaño N con los tokens únicos del corpus de trabajo, para despues representar cada documento con un vector del mismo tamaño en el que cada elemento será el nº de veces que aparece el token en cuestión en el documento.\n",
        "\n"
      ],
      "metadata": {
        "id": "FhnCPAKiqFLH"
      }
    },
    {
      "cell_type": "markdown",
      "source": [
        "En primer lugar, construimos el vocabulario que se utilizará para representar nuestro corpus:"
      ],
      "metadata": {
        "id": "2eQnwDb5qjA9"
      }
    },
    {
      "cell_type": "code",
      "source": [
        "# El vocabulario de nuestro corpus son los tokens únicos utilizados en nuestro conjunto de documentos\n",
        "import itertools\n",
        "import numpy as np\n",
        "\n",
        "all_tokens = itertools.chain(*corpus_tok)\n",
        "vocab = sorted(set(all_tokens))\n",
        "\n",
        "print(\"Nuestro vocabulario contiene {} tokens. Que son: {}\".format(len(vocab),vocab))"
      ],
      "metadata": {
        "colab": {
          "base_uri": "https://localhost:8080/"
        },
        "id": "CAsGf7eOqI-C",
        "outputId": "902d391a-8aff-46f5-903e-63adca13128c"
      },
      "execution_count": null,
      "outputs": [
        {
          "output_type": "stream",
          "name": "stdout",
          "text": [
            "Nuestro vocabulario contiene 9 tokens. Que son: ['agua', 'cocacola', 'entrecot', 'no', 'quiero', 'un', 'vino', 'y', 'yo']\n"
          ]
        }
      ]
    },
    {
      "cell_type": "markdown",
      "source": [
        "Cada uno de los documentos del corpus estará representado por un vector de 9 elementos. El elemento 0 representará la presencia del token agua en el documento, el elemento 1 representará la presencia de \"cocacola\" en el documento... etc\n",
        "\n",
        "A continuación, vamos a construir esos vectores:"
      ],
      "metadata": {
        "id": "ox-OKbnNraUS"
      }
    },
    {
      "cell_type": "code",
      "source": [
        "import collections\n",
        "# Creamos un vector de salida\n",
        "doc_vectors = list()\n",
        "# Iteramos en cada uno de los documentos del corpus\n",
        "for doc in corpus_tok:\n",
        "  # Contamos las ocurrencias de cada uno de los tokens. Counter devuelve un diccionario\n",
        "  counter_doc = ___________________\n",
        "  # Creamos el vector que representará al documento\n",
        "  doc_vec = list()\n",
        "  # Iteramos por los términos del voabulario\n",
        "  for word in vocab:\n",
        "    # Si el término está en el diccionario de conteo, introducimos el valor en\n",
        "    # esa posición del vector. Si no está, introducimos un 0\n",
        "    if word in counter_doc:\n",
        "      doc_vec.append(__________________) #counter_doc[word]\n",
        "    else:\n",
        "      doc_vec.append(0)\n",
        "  # Añadimos al vector de salida el vector del documento\n",
        "  doc_vectors.append(doc_vec)"
      ],
      "metadata": {
        "id": "0J0ven0arZpl"
      },
      "execution_count": null,
      "outputs": []
    },
    {
      "cell_type": "code",
      "source": [
        "for frase, vector in zip(corpus, doc_vectors):\n",
        "  print(\"La frase '{}' está representada por el vector {}\".format(frase, vector))"
      ],
      "metadata": {
        "id": "Lg7a8t2As-61"
      },
      "execution_count": null,
      "outputs": []
    },
    {
      "cell_type": "markdown",
      "source": [
        "En Bag Of Words: \n",
        "\n",
        "- Los términos que aparecen varias veces en el documento tienen un número mayor, lo que se puede traducir en que esos términos (caracteristicas) tienen un mayor peso en el documento.\n",
        "- Si un término ocurre muchas veces en todos los documentos, tendrá gran importancia en cada uno de ellos, a pesar de que no será útil para clasificar o agrupar textos.\n",
        "\n",
        "\n",
        "El método de representación TF-IDF intenta precisamente  compensar este efecto mediante la aplicación de una penalización a palabras comunes en muchos documentos."
      ],
      "metadata": {
        "id": "Xi8aGcOouXTU"
      }
    },
    {
      "cell_type": "markdown",
      "source": [
        "### TF-IDF  (intuición)\n"
      ],
      "metadata": {
        "id": "fdk6YyUjvbHW"
      }
    },
    {
      "cell_type": "markdown",
      "source": [
        "Para realizar los cáculos de forma más eficiente generaremos un diccionario que asocie a cada una de las palabras de nuestro corpus un índice numérico.\n"
      ],
      "metadata": {
        "id": "ct4pM7F6RfZ-"
      }
    },
    {
      "cell_type": "markdown",
      "source": [
        "Para calcular TF-IDF realizaremos los siguientes pasos:\n",
        "\n",
        "1. Calcular el Term Frequency (TF). Que se calcula como:\n",
        "  $$TF(w) = n_{w-in-d} / N_d$$\n",
        "\n",
        "Anteriormente hemos calculado para cada documento el número de veces que aparecía cada token del vocabulario. Para calcular el TF bastaría con dividir cada uno de los elementos del vector con la suma total de tokens de cada documento.\n"
      ],
      "metadata": {
        "id": "PR2pB-QDzfzs"
      }
    },
    {
      "cell_type": "markdown",
      "source": [
        "2. Calcular el componente Inverse-Document Frequency (IDF). Que se calcula como:\n",
        "$$ IDF(w) = ln(N/n_w)$$\n",
        "\n",
        "donde n_w  es el número de documentos que contiene el token w y N es el número total de documentos. \n",
        "En el código incluimos una versión simplificada, para simplificar el código, en el que n_w es el número de veces que el token aparece \n"
      ],
      "metadata": {
        "id": "q832rwMH0klF"
      }
    },
    {
      "cell_type": "markdown",
      "source": [
        "En primer lugar generamos una función que permita calcular el número de vees que un token aparece en un documento d enuestro corpus."
      ],
      "metadata": {
        "id": "7xZDRIuTUZAu"
      }
    },
    {
      "cell_type": "markdown",
      "source": [
        "Depsues, unimos ambas expresiones para calcular el TF-IDF de una frase:"
      ],
      "metadata": {
        "id": "HVrOHtSZUtJt"
      }
    },
    {
      "cell_type": "code",
      "source": [
        "def tf_idf_calc(doc, N_corpus):\n",
        "  # Generamos vector salida\n",
        "  tf_idf_vec = np.zeros((len(vocab),))\n",
        "  for word in doc:\n",
        "    # Calculamoes el valor tf para el token en cuestion\n",
        "    tf = TF_calc(doc, word)\n",
        "    # Calculamos el valor idf para el token en cuestion\n",
        "    idf = idf_calc(doc, N_corpus)\n",
        "\n",
        "    tf_idf = tf * idf\n",
        "    tf_idf_vec[index_dict[word]] = tf_idf \n",
        "  return tf_idf_vec"
      ],
      "metadata": {
        "id": "FfKEr-y3TBv5"
      },
      "execution_count": null,
      "outputs": []
    },
    {
      "cell_type": "markdown",
      "source": [
        "Por ultimo lo calculamos para todo el corpus"
      ],
      "metadata": {
        "id": "PKV7tHzHU_5S"
      }
    },
    {
      "cell_type": "code",
      "source": [
        "#TF-IDF Encoded text corpus\n",
        "tf_idf_result = []\n",
        "for sent in corpus_tok:\n",
        "    vec = tf_idf_calc(sent,len(corpus_tok))\n",
        "    tf_idf_result.append(vec)"
      ],
      "metadata": {
        "id": "2rmTJUUmVEUq"
      },
      "execution_count": null,
      "outputs": []
    },
    {
      "cell_type": "markdown",
      "metadata": {
        "id": "IvFyVzubOmJM"
      },
      "source": [
        "### Cálculo con scikit-learn\n",
        "\n",
        "\n"
      ]
    },
    {
      "cell_type": "markdown",
      "source": [
        "Aunque hemos mostrado una manera de aplicar el BoW y Tf-IDF a un corpus de documentos. Existen varias modificaciones que pueden mejorar los resultados (modificaciones en el cálculo de la componente IDF, por ejemplo). Además, las librerías de ML están preapradas para transformar documentos de forma más inmedianta, eficiente e incorporando funciones que pueden ser de utilidad\n",
        "\n",
        "\n",
        "En scikit-learn podemos utilizar distintas funciones para obtener el vocabulario de un corpus de documentos. Ambas están presentes dentro del módulo feature_extraction.text y son [`CountVectorizer`](https://scikit-learn.org/stable/modules/generated/sklearn.feature_extraction.text.CountVectorizer.html) y  [`TfidfVectorizer`](https://scikit-learn.org/stable/modules/generated/sklearn.feature_extraction.text.TfidfVectorizer.html#sklearn.feature_extraction.text.TfidfVectorizer). \n",
        "Vamos a crear un objeto con cada una de esas clases para introducir nuestro corpus y extraer el vocabulario."
      ],
      "metadata": {
        "id": "Hfx5yjcoYOPA"
      }
    },
    {
      "cell_type": "markdown",
      "metadata": {
        "id": "TJl8IO50AKBp"
      },
      "source": [
        "\n",
        "**Tanto las funciones CountVectorizer como TfidfVectorizer cuentan con muchos parámetros personalizables. Algunos de los más relevantes son:**\n",
        "\n",
        "\n",
        "*   *strip_accents*: Elimina los acentos en codificación ascii o unicode. Por defecto es None. Es preferible hacer una gestión de acentos previas.\n",
        "*   *lowercase*: Transforma todos los caracteres a minúsculas antes de hacer la tokenización.\n",
        "*   *tokenizer*: Utiliza un tokenizador específico. Se puede utilizar una de NLTK o de Spacy(computacionalmente menos eficiente).\n",
        "*   *stop_words*: Si se pone el valor \"english\" eliminara la lista de stop_words definida en scikit-learn. Se puede utilizar la lista de stopwords de otras librerías o definir unas propias.\n",
        "*   *ngram_range*: Cálculo de n-gramas en el proceso. Mediante la tubla (min_n, max_n) se pueden incorporar n-gramas al cálculo de la matriz tfidf.\n",
        "*   *max_df*: Valor por defecto 1.  Ignora los tokens (o n-gramas) que aparecen en más del X % de documentos cuando es menor de 1. Si max_df es mayor que uno se ignorarán los términos que aparecen en más de X documentos.\n",
        "*   *min_df*: Valor por defecto 1. Ignora los tokens que aparecen  en menos del X % de los documentos. Siendo X el valor de X. (0.01 = 1%, por ejemplo)\n",
        "*   *max_features*: Máximas características que devuelve la función TfidfVectorizer. Valor mayor que 1. Representa las caracaterísticas más importantes (las más repetidas o comunes) Esto es muy interesante para no sobreentrenar el sistema.\n",
        "*   *norm*: Valores \"l1\" y \"l2\", por defecto \"l2\". Normaliza los valores entre 0 y 1.\n",
        "*   *use_idf*: Habilita el uso del inverse-document frequency en la función. Por defecto es True.\n",
        "*   *smooth_idf*: Suaviza los pesos de IDF sumando una unidad a cada frecuencia. Es muy importante para evitar divisiones por cero.\n",
        "\n"
      ]
    },
    {
      "cell_type": "code",
      "metadata": {
        "id": "PiDKf5zHT-Rm"
      },
      "source": [
        "from sklearn.feature_extraction.text import CountVectorizer,TfidfVectorizer\n",
        "from sklearn.feature_extraction import text\n",
        "\n",
        "# Creamos los objetos\n",
        "count_vectorizer = CountVectorizer(__________________)\n",
        "tfidf_vectorizer = TfidfVectorizer(___________________) # Re-escribimos los valores por defecto para tener el tf-idf básico\n",
        "\n",
        "# Hacemos Fit con nuestro corpus\n",
        "count_data = _______________________________________\n",
        "tfidf_data = ________________________________________\n"
      ],
      "execution_count": null,
      "outputs": []
    },
    {
      "cell_type": "code",
      "metadata": {
        "id": "4tUVaA_-UItk"
      },
      "source": [
        "# Obtenemos los vocabularios de dos formas:\n",
        "print(\"COUNT VECTORIZER\")\n",
        "print(\"Obtenemos un dictionario que mapea las palabras con su posición en el vector del vocabulario\")\n",
        "print(count_data.vocabulary_)\n",
        "print(\"Obtenemos el vocabulario en si mismo como una lista\")\n",
        "print(count_data.get_feature_names())\n",
        "print(\"Numero de características:\")\n",
        "print(len(count_data.get_feature_names()))"
      ],
      "execution_count": null,
      "outputs": []
    },
    {
      "cell_type": "code",
      "metadata": {
        "id": "o1Xi6tt1DH-0"
      },
      "source": [
        "# Obviamente, dado que hemos utilizado el mismo corpus, obtenemos el mismo resultado con el tfidf_vectorizer.\n",
        "print(\"\\n\\n TF-IDF VECTORIZER\")\n",
        "print(\"Obtenemos un dictionario que mapea las palabras con su posición en el vector del vocabulario\")\n",
        "print(tfidf_data.___________________________)\n",
        "print(\"Obtenemos el vocabulario en si mismo como una lista\")\n",
        "print(tfidf_data._____________________________)\n",
        "print(\"Numero de características:\")\n",
        "print(len(tfidf_data._______________________________))"
      ],
      "execution_count": null,
      "outputs": []
    },
    {
      "cell_type": "markdown",
      "metadata": {
        "id": "bQabDt3aDJ4-"
      },
      "source": [
        "Si imprimimos el objeto tfidf_data podemos ver la configuración de los parámetros de TfidfVectorizer:"
      ]
    },
    {
      "cell_type": "code",
      "metadata": {
        "colab": {
          "base_uri": "https://localhost:8080/"
        },
        "id": "UhHyIi8JUiLn",
        "outputId": "3835e21d-2ef7-430d-dabe-6b5fdb958684"
      },
      "source": [
        "tfidf_data"
      ],
      "execution_count": null,
      "outputs": [
        {
          "output_type": "execute_result",
          "data": {
            "text/plain": [
              "TfidfVectorizer(norm=None, smooth_idf=False)"
            ]
          },
          "metadata": {},
          "execution_count": 65
        }
      ]
    },
    {
      "cell_type": "markdown",
      "metadata": {
        "id": "lBUeudl0Ol8L"
      },
      "source": [
        "A continuación se muestra el resultado de transformar nuestro corpus con lso métodos de scikit-learn. El `CountVectorizer` mostrará el conteo de veces que una palabra del vocabulario está presente dentro del documento, el `TfidfVectorizer` mostrará el resultado con la métrica TF-IDF mostrada en los apuntes."
      ]
    },
    {
      "cell_type": "code",
      "metadata": {
        "id": "y7BGfa8UAEvE",
        "colab": {
          "base_uri": "https://localhost:8080/"
        },
        "outputId": "b4804d02-2b0e-4dc5-8919-50d690653ccb"
      },
      "source": [
        "# Resultado del CountVectorizer\n",
        "count_data_result = count_data.transform(corpus).toarray()\n",
        "print(count_data_result)"
      ],
      "execution_count": null,
      "outputs": [
        {
          "output_type": "stream",
          "name": "stdout",
          "text": [
            "[[1 0 0 0 1 0 0 1]\n",
            " [0 1 0 0 1 0 0 1]\n",
            " [2 0 0 0 1 1 0 1]\n",
            " [0 0 0 1 1 0 1 1]\n",
            " [0 0 1 0 1 1 0 1]]\n"
          ]
        }
      ]
    },
    {
      "cell_type": "code",
      "metadata": {
        "id": "fnvyxz32DdUG"
      },
      "source": [
        "# Resultado del TfidfVectorizer\n",
        "tfidf_data_result = tfidf_data._____________________________.toarray()\n",
        "print(tfidf_data_result)"
      ],
      "execution_count": null,
      "outputs": []
    },
    {
      "cell_type": "markdown",
      "metadata": {
        "id": "_xm5fMDoY-nR"
      },
      "source": [
        "Vamos a mostrar los resultados con seaborn para que se vean mejor. Importante mencionar que esto se puede hacer cuando el vocabulario es muy reducido, si no podría ocasionar problemas en la memoria."
      ]
    },
    {
      "cell_type": "code",
      "metadata": {
        "id": "Cck6bfUBZBrb"
      },
      "source": [
        "import matplotlib.pyplot as plt\n",
        "import seaborn as sns\n",
        "plt.figure(figsize=(16, 6))\n",
        "# Figura CountVectorizer\n",
        "sns.heatmap(count_data_result, annot=True,cbar=False,\n",
        "            xticklabels=count_data.get_feature_names(),\n",
        "            yticklabels = [\"Frase 1\", \"Frase 2\", \"Frase 3\",\"Frase 4\", \"Frase 5\"])\n",
        "\n"
      ],
      "execution_count": null,
      "outputs": []
    },
    {
      "cell_type": "code",
      "metadata": {
        "id": "X4viXEKmD1FT"
      },
      "source": [
        "plt.figure(figsize=(16, 6))\n",
        "sns.heatmap(tfidf_data_result, annot=True,cbar=False,\n",
        "            xticklabels=_____________________________,\n",
        "            yticklabels = [\"Frase 1\", \"Frase 2\", \"Frase 3\",\"Frase 4\", \"Frase 5\"])"
      ],
      "execution_count": null,
      "outputs": []
    },
    {
      "cell_type": "markdown",
      "metadata": {
        "id": "JFJMRxoQNK4J"
      },
      "source": [
        "### Uso de preprocesadores externos a scikit-learn\n",
        "\n",
        "\n"
      ]
    },
    {
      "cell_type": "markdown",
      "metadata": {
        "id": "Vov1rGLIDjr9"
      },
      "source": [
        "En primer lugar, dado que vamos a utilizar spacy, instalaremos la librería y el modelo:"
      ]
    },
    {
      "cell_type": "code",
      "metadata": {
        "id": "ZshEoLThWJDt"
      },
      "source": [
        "!pip install spacy\n",
        "!python -m spacy download es_core_news_sm"
      ],
      "execution_count": null,
      "outputs": []
    },
    {
      "cell_type": "markdown",
      "metadata": {
        "id": "aNiPnKMIDqVA"
      },
      "source": [
        "Importamos las librerías y creamos el objeto \"nlp\" para procesar los textos\n",
        "\n",
        "\n"
      ]
    },
    {
      "cell_type": "code",
      "metadata": {
        "id": "FQLM1Ja1Wtak"
      },
      "source": [
        "import spacy\n",
        "import es_core_news_sm\n",
        "nlp = _____________________________"
      ],
      "execution_count": null,
      "outputs": []
    },
    {
      "cell_type": "markdown",
      "metadata": {
        "id": "2YKq_qpdDxHA"
      },
      "source": [
        "Guardamos las stop words de Spacy en una variable llamada \"stop_words\". También cogemos los tokens considerados símbolos de punctuación en la variable \"punctuations\":"
      ]
    },
    {
      "cell_type": "code",
      "metadata": {
        "id": "x_Rnj35hXCH_"
      },
      "source": [
        "import string\n",
        "spacy_stopwords = spacy.lang.es.stop_words.STOP_WORDS\n",
        "stop_words = spacy_stopwords\n",
        "punctuations=string.punctuation"
      ],
      "execution_count": null,
      "outputs": []
    },
    {
      "cell_type": "markdown",
      "metadata": {
        "id": "0NFUlkdsEBUu"
      },
      "source": [
        "Generamos una función \"spacy_tokenizer\" que:"
      ]
    },
    {
      "cell_type": "code",
      "metadata": {
        "id": "k6pGl_YBO7uZ"
      },
      "source": [
        "def spacy_tokenizer(sentence):\n",
        "    # Pasamos la frase por el objeto nlp para procesarla\n",
        "    mytokens = nlp(sentence)\n",
        "\n",
        "    # Lematizamos los tokens y los convertimos  a minusculas\n",
        "    mytokens = [ word.lemma_.lower().strip() if word.lemma_ != \"-PRON-\" else word.lower_ for word in mytokens ]\n",
        "\n",
        "    # Quitamos las stopwords y los signos de puntuacion\n",
        "    mytokens = [ word for word in mytokens if word not in stop_words and word not in punctuations ]\n",
        "\n",
        "    # devolver una lsita de tokens\n",
        "    return mytokens"
      ],
      "execution_count": null,
      "outputs": []
    },
    {
      "cell_type": "markdown",
      "metadata": {
        "id": "zzZbGtGaD-Vt"
      },
      "source": [
        "Utilizamos esa función como tokenizador en TfidfVectorizer:\n"
      ]
    },
    {
      "cell_type": "code",
      "metadata": {
        "id": "niPHblSRO7jM"
      },
      "source": [
        "tfidf_vectorizer = TfidfVectorizer(norm=None, smooth_idf=False, tokenizer = spacy_tokenizer) # Re-escribimos los valores por defecto para tener el tf-idf básico\n",
        "tfidf_data = tfidf_vectorizer.fit(corpus)"
      ],
      "execution_count": null,
      "outputs": []
    },
    {
      "cell_type": "code",
      "metadata": {
        "id": "BjKhD6FJEY7G"
      },
      "source": [
        "print(\"\\n\\n TF-IDF VECTORIZER\")\n",
        "print(\"Obtenemos un dictionario que mapea las palabras con su posición en el vector del vocabulario\")\n",
        "print(tfidf_data._____________________)\n",
        "print(\"Obtenemos el vocabulario en si mismo como una lista\")\n",
        "print(tfidf_data.___________________________)\n",
        "print(\"Numero de características:\")\n",
        "print(len(tfidf_data._______________________))"
      ],
      "execution_count": null,
      "outputs": []
    },
    {
      "cell_type": "markdown",
      "metadata": {
        "id": "70q1LsT6BnQ_"
      },
      "source": [
        "**Ejercicio**: \n",
        "\n",
        "Queremos transformar nuestro dataset de noticias con las siguientes especificaciones:\n",
        " - Transformar los primeros 3000 documentos \n",
        " - Se utilice idf y el valor de norm por defecto.\n",
        " - Se utilice la función de preprocesado de spacy utilizada anteriormente\n",
        " - Se consideren unigramas, bigramas, trigramas\n",
        " - Se consideren un máximo de 250 características (max_features)\n",
        " - El vectorizador no debe considerar los elementos que aparezcan en menos del 5% de documentos."
      ]
    },
    {
      "cell_type": "code",
      "metadata": {
        "id": "EdgVDoaZBmdI"
      },
      "source": [
        "# Dataset de noticias\n",
        "!wget \"https://github.com/luisgasco/ntic_master_datos/raw/main/datasets/news_summary.csv\""
      ],
      "execution_count": null,
      "outputs": []
    },
    {
      "cell_type": "code",
      "metadata": {
        "id": "e0AlbRlGCzBp"
      },
      "source": [
        "import pandas as pd\n",
        "news_summary = pd.read_csv('../content/news_summary.csv', encoding='latin-1')\n",
        "news_subset = news_summary[\"text\"].to_list()[0:3000]"
      ],
      "execution_count": null,
      "outputs": []
    },
    {
      "cell_type": "code",
      "metadata": {
        "id": "Wa7l5c_51DpI"
      },
      "source": [
        "tfidf_vect = TfidfVectorizer(________________________________)\n",
        "tfidf_data = tfidf_vectorizer.fit(____________________________)"
      ],
      "execution_count": null,
      "outputs": []
    },
    {
      "cell_type": "code",
      "metadata": {
        "id": "DYkkGStl2dRk"
      },
      "source": [
        "tfidf_data.get_feature_names()"
      ],
      "execution_count": null,
      "outputs": []
    },
    {
      "cell_type": "markdown",
      "source": [
        "### Diferencias entre BoW y TF-IDF\n"
      ],
      "metadata": {
        "id": "WCrHf9PfL4rE"
      }
    },
    {
      "cell_type": "markdown",
      "source": [
        "Hasta el momento hemos visto diferente maneras de realizar la representación de documentos utilizando el método BoW y TF-IDF. \n",
        "Sin embargo, ¿Qué implica realmente utilizar un método u otro? \n",
        "\n",
        "La clave de TF-IDF es su penalización de palabras comunes en todos los documentos. Para ver su efecto, en este apartado vamos a:\n",
        "1. Descargar un conjunto de documentos de wikipedia\n",
        "2. Preprocesarlos\n",
        "3. Mostrar los 10 términos más importantes para BoW y Tf-IDF, y ver las diferencias"
      ],
      "metadata": {
        "id": "FOE0JENtaEAc"
      }
    },
    {
      "cell_type": "markdown",
      "source": [
        "En primer lugar importanmos y descargamos las librerías que utilizaremos\n"
      ],
      "metadata": {
        "id": "hsmWpxPhbxuI"
      }
    },
    {
      "cell_type": "code",
      "source": [
        "!pip install wikipedia\n",
        "import wikipedia\n",
        "import spacy\n",
        "import collections\n",
        "import math\n",
        "from sklearn.feature_extraction.text import CountVectorizer,TfidfVectorizer\n",
        "from sklearn.feature_extraction import text\n",
        "import string\n",
        "import numpy as np\n",
        "import re\n",
        "\n",
        "nlp = spacy.load('en')\n",
        "spacy_stopwords = spacy.lang.en.stop_words.STOP_WORDS\n",
        "stop_words = spacy_stopwords\n",
        "punctuations=string.punctuation\n",
        "RE_WHITESPACE = re.compile(r\"\\s+\")\n"
      ],
      "metadata": {
        "id": "Mr63VVHsMZCw"
      },
      "execution_count": null,
      "outputs": []
    },
    {
      "cell_type": "markdown",
      "source": [
        "Definimos una función de procesado similar a la anteriormente definida. En este caso eliminarmos los números (no los sustitumos por un caracter vacío). Además, eliminamos posibles espacios extras despues del proceso de tokenización"
      ],
      "metadata": {
        "id": "HhaSP7W9cC0m"
      }
    },
    {
      "cell_type": "code",
      "source": [
        "def spacy_tokenizer(sentence):\n",
        "    # Pasamos la frase por el objeto nlp para procesarla\n",
        "    mytokens = nlp(sentence)\n",
        "\n",
        "    mytokens = [ word.text.lower()   if word.pos_ == 'PRON' or word.lemma_ == '-PRON-' else word.lemma_.lower() for word in mytokens]\n",
        "  \n",
        "    # Quitamos las stopwords y los signos de puntuacion\n",
        "    mytokens = [ word for word in mytokens if word not in stop_words and word not in punctuations ]\n",
        "\n",
        "    # Quitamos números:\n",
        "    mytokens = [word  for word in mytokens if not word.isdigit()]\n",
        "    # Remove extra spaces\n",
        "    mytokens = [token.strip() for token in mytokens]\n",
        "    # devolver una lsita de tokens\n",
        "    return mytokens\n"
      ],
      "metadata": {
        "id": "FctYfGP7MA99"
      },
      "execution_count": null,
      "outputs": []
    },
    {
      "cell_type": "markdown",
      "source": [
        "Vamos a descargar el texto de descripción de varios guitarristas históricos. Para ello definiremos una lista de strings con sus nombres y los obtendremos utilizando la función \"page\" de la librería wikipedia. \n"
      ],
      "metadata": {
        "id": "9MJ44YYJcKb7"
      }
    },
    {
      "cell_type": "code",
      "source": [
        "pages =  [\n",
        "  \"Brian May\",\"jimmy page\",\"eddie van halen\",\"david gilmour\",\n",
        "  \"Jeff Beck\",\"mark knopfler\",\"Billy Gibbons\",\"Carlos Santana\", \n",
        "  \"Stevie Ray Vaughan\",\"BB king\",\"Buddy Guy\",\"Albert King\",\"Rory Gallagher\",\n",
        "  \"Joe Satriani\", \"jimi hendrix\",\"George Harrison\"\n",
        "    ]\n",
        "documentes = [RE_WHITESPACE.sub(\" \",wikipedia.page(page, auto_suggest=False).content).strip() for page in pages]"
      ],
      "metadata": {
        "id": "Zv4V4SbkaLfu"
      },
      "execution_count": null,
      "outputs": []
    },
    {
      "cell_type": "markdown",
      "source": [
        "Calculamos y entrenamos vectorizadores TFIDF y BoW (CountVectorizer) para el corpus descargado y preprocesado:"
      ],
      "metadata": {
        "id": "JIoXIw21cekC"
      }
    },
    {
      "cell_type": "code",
      "source": [
        "tfidf_vect = TfidfVectorizer(lowercase = False, stop_words = None, use_idf = True, smooth_idf = False,\n",
        "                             norm = \"l2\", tokenizer=spacy_tokenizer)\n",
        "count_vect = CountVectorizer(lowercase = False, stop_words = None, tokenizer=spacy_tokenizer)\n",
        "\n",
        "tfidf_data = ________________________\n",
        "count_data = ________________________"
      ],
      "metadata": {
        "colab": {
          "base_uri": "https://localhost:8080/"
        },
        "id": "kKH3O6NwMris",
        "outputId": "3ee19d22-e1f9-4552-ba5f-f41fbfe17f32"
      },
      "execution_count": null,
      "outputs": [
        {
          "output_type": "stream",
          "name": "stderr",
          "text": [
            "/usr/local/lib/python3.7/dist-packages/sklearn/feature_extraction/text.py:517: UserWarning: The parameter 'token_pattern' will not be used since 'tokenizer' is not None'\n",
            "  \"The parameter 'token_pattern' will not be used\"\n"
          ]
        }
      ]
    },
    {
      "cell_type": "markdown",
      "source": [
        "Generamos funciones para obtener las palabras más importantes del vectorizador:\n"
      ],
      "metadata": {
        "id": "qSNTuC2GcxzL"
      }
    },
    {
      "cell_type": "code",
      "source": [
        "tfidf_feature_names = np.array(tfidf_data.get_feature_names())\n",
        "count_feature_names = np.array(count_data.get_feature_names())\n",
        "\n",
        "def get_top_vect_words(response, top_n=2,feature_name_array=tfidf_feature_names):\n",
        "  # De la respuesta del vectorizador, cogemos los datos en bruto del array, los ordenamos\n",
        "  # de mayor a menor y cogemos los índices de los top_n terminos. Que se seleccionarán del \n",
        "  # los nombres de las caracteristicas (tokens) del vectorizador.\n",
        "    sorted_nzs = np.argsort(response.data)[:-(top_n+1):-1]\n",
        "    return feature_name_array[response.indices[sorted_nzs]]\n",
        "  "
      ],
      "metadata": {
        "colab": {
          "base_uri": "https://localhost:8080/"
        },
        "id": "armdlrKJMWoG",
        "outputId": "41443a56-50d1-41b0-a839-d46d7672c35f"
      },
      "execution_count": null,
      "outputs": [
        {
          "output_type": "stream",
          "name": "stderr",
          "text": [
            "/usr/local/lib/python3.7/dist-packages/sklearn/utils/deprecation.py:87: FutureWarning: Function get_feature_names is deprecated; get_feature_names is deprecated in 1.0 and will be removed in 1.2. Please use get_feature_names_out instead.\n",
            "  warnings.warn(msg, category=FutureWarning)\n"
          ]
        }
      ]
    },
    {
      "cell_type": "markdown",
      "source": [
        "Generamos está función para mostrar los 10 términos más importantes de un documento vectorizado con TF-IDF y BoW para ver sus diferencias. "
      ],
      "metadata": {
        "id": "FaBwKqfpdTBW"
      }
    },
    {
      "cell_type": "code",
      "source": [
        "def show_doc_results(doc,top_n):\n",
        "  # Transformamos documento\n",
        "  responses_tfidf = tfidf_vect.transform([doc])\n",
        "  responses_count = count_vect.transform([doc])\n",
        "  # Cogemos palabras más prefuentes (mas importrantes) y más inmportantes en tfidf\n",
        "  most_frequent = list(get_top_vect_words(responses_count,top_n,count_feature_names))\n",
        "  tfidf = list(get_top_vect_words(responses_tfidf,top_n,tfidf_feature_names))\n",
        "  print(\"Tokens más frecuentes: {}\".format(most_frequent))\n",
        "  print(\"Tokens con mayor TF-IDF: {}\".format(tfidf))"
      ],
      "metadata": {
        "id": "X1fO7JoYc7-e"
      },
      "execution_count": null,
      "outputs": []
    },
    {
      "cell_type": "code",
      "source": [
        "for i in range(0, len(pages)):\n",
        "  print(pages[i])\n",
        "  show_doc_results(documentes[i],10)"
      ],
      "metadata": {
        "colab": {
          "base_uri": "https://localhost:8080/"
        },
        "id": "Tf7C8FC6gH-N",
        "outputId": "ae7ce801-2089-47b8-9718-9a1ef11a2761"
      },
      "execution_count": null,
      "outputs": [
        {
          "output_type": "stream",
          "name": "stdout",
          "text": [
            "Brian May\n",
            "Tokens más frecuentes: ['queen', 'guitar', 'album', 'use', 'band', 'rock', 'song', 'work', 'perform', 'tour']\n",
            "Tokens con mayor TF-IDF: ['queen', 'guitar', 'badger', 'mercury', 'lambert', 'album', 'animal', 'use', 'band', 'rodgers']\n",
            "jimmy page\n",
            "Tokens más frecuentes: ['page', 'zeppelin', 'led', 'guitar', 'play', 'record', 'album', 'use', 'session', 'band']\n",
            "Tokens con mayor TF-IDF: ['page', 'zeppelin', 'led', 'guitar', 'plant', 'play', 'record', 'album', 'yardbirds', 'use']\n",
            "eddie van halen\n",
            "Tokens más frecuentes: ['van', 'halen', 'guitar', 'eddie', 'band', 'solo', 'play', 'gene', 'alex', 'time']\n",
            "Tokens con mayor TF-IDF: ['halen', 'van', 'eddie', 'evh', 'guitar', 'wolfgang', 'gene', 'bertinelli', 'band', 'pasadena']\n",
            "david gilmour\n",
            "Tokens más frecuentes: ['gilmour', 'album', 'guitar', 'floyd', 'pink', 'tour', 'release', 'use', 'live', 'david']\n",
            "Tokens con mayor TF-IDF: ['gilmour', 'pink', 'floyd', 'album', 'guitar', 'barrett', 'strat', 'wall', 'tour', 'release']\n",
            "Jeff Beck\n",
            "Tokens más frecuentes: ['beck', 'album', 'rock', 'guitar', 'record', 'release', 'instrumental', 'jeff', 'tour', 'performance']\n",
            "Tokens con mayor TF-IDF: ['beck', 'album', 'appice', 'bogert', 'rock', 'instrumental', 'jeff', 'guitar', 'record', 'yardbirds']\n",
            "mark knopfler\n",
            "Tokens más frecuentes: ['knopfler', 'album', 'dire', 'straits', 'release', 'tour', 'music', 'band', 'mark', 'solo']\n",
            "Tokens con mayor TF-IDF: ['knopfler', 'dire', 'straits', 'album', 'newcastle', 'release', 'country', 'fletcher', 'illsley', 'mark']\n",
            "Billy Gibbons\n",
            "Tokens más frecuentes: ['gibbon', 'gibbons', 'guitar', 'album', 'zz', 'play', 'song', 'hodgins', 'angela', 'appear']\n",
            "Tokens con mayor TF-IDF: ['gibbon', 'gibbons', 'zz', 'hodgins', 'sidewalks', 'moving', 'guitar', 'angela', 'album', 'bfg']\n",
            "Carlos Santana\n",
            "Tokens más frecuentes: ['santana', 'album', 'band', 'guitar', 'carlos', 'record', 'year', 'use', 'release', 'rock']\n",
            "Tokens con mayor TF-IDF: ['santana', 'carlos', 'album', 'prs', 'band', 'latin', 'guitar', 'supernatural', 'isbn', 'deborah']\n",
            "Stevie Ray Vaughan\n",
            "Tokens más frecuentes: ['vaughan', 'guitar', 'play', 'album', 'double', 'trouble', 'stevie', 'band', 'texas', 'record']\n",
            "Tokens con mayor TF-IDF: ['vaughan', 'trouble', 'stevie', 'texas', 'double', 'guitar', 'play', 'ray', 'shannon', 'lenny']\n",
            "BB king\n",
            "Tokens más frecuentes: ['king', 'b.b.', 'music', 'blues', 'guitar', 'mississippi', 'play', 'blue', 'award', 'later']\n",
            "Tokens con mayor TF-IDF: ['king', 'mississippi', 'b.b.', 'blues', 'memphis', 'music', 'diabetes', 'indianola', 'beale', 'guitar']\n",
            "Buddy Guy\n",
            "Tokens más frecuentes: ['guy', 'blue', 'guitar', 'buddy', 'play', 'record', 'chess', 'award', 'perform', 'records']\n",
            "Tokens con mayor TF-IDF: ['guy', 'chess', 'buddy', 'blue', 'guitar', 'chicago', 'louisiana', 'legends', 'lettsworth', 'cobra']\n",
            "Albert King\n",
            "Tokens más frecuentes: ['king', 'album', 'blue', 'guitar', 'albert', 'release', 'record', 'play', 'year', 'blues']\n",
            "Tokens con mayor TF-IDF: ['king', 'stax', 'album', 'blue', 'albert', 'c', 'guitar', 'e', 'indianola', 'louis']\n",
            "Rory Gallagher\n",
            "Tokens más frecuentes: ['gallagher', 'guitar', 'rory', 'album', '–', 'play', 'band', 'year', 'include', 'use']\n",
            "Tokens con mayor TF-IDF: ['gallagher', 'rory', 'cork', 'taste', 'mcavoy', 'ireland', 'guitar', '–', 'ballyshannon', 'irish']\n",
            "Joe Satriani\n",
            "Tokens más frecuentes: ['satriani', 'album', 'guitar', 'release', 'use', 'song', 'joe', 'feature', 'guitarist', 'music']\n",
            "Tokens con mayor TF-IDF: ['satriani', 'chickenfoot', 'album', 'guitar', 'release', 'js', 'use', 'joe', 'peavey', 'colossal']\n",
            "jimi hendrix\n",
            "Tokens más frecuentes: ['hendrix', 'guitar', 'experience', 'play', 'band', 'use', 'rock', 'jimi', 'album', 'performance']\n",
            "Tokens con mayor TF-IDF: ['hendrix', 'chandler', 'experience', 'guitar', 'redding', 'cox', 'mitchell', 'play', 'ladyland', 'band']\n",
            "George Harrison\n",
            "Tokens más frecuentes: ['harrison', 'album', 'beatles', 'song', 'guitar', 'music', 'release', 'include', 'george', 'lennon']\n",
            "Tokens con mayor TF-IDF: ['harrison', 'beatles', 'shankar', 'album', 'lennon', 'mccartney', 'indian', 'song', 'guitar', 'starr']\n"
          ]
        }
      ]
    },
    {
      "cell_type": "markdown",
      "source": [
        "Observar diferencias de palabras muy comunes en documentos de guitarristas como \"guitar\", \"release\",\"play\" o \"album\". En BoW aparecen como términos muy importantes porque son comunes en este tipo de documentos. Sin embargo, al calcular el TF-IDF, como estos términos aparecen en muchos documentos su importancia se ve disminuida.\n"
      ],
      "metadata": {
        "id": "v_1diBNEdfn5"
      }
    },
    {
      "cell_type": "markdown",
      "source": [
        "# Representación numérica de palabras\n"
      ],
      "metadata": {
        "id": "pm78IkxdeERw"
      }
    },
    {
      "cell_type": "markdown",
      "source": [
        "También se puede hacer una representación de un documento obteniendo una representación de los vectores de las palabras que lo componen, y haciendo algún tipo de combinación sobre éstas (suma, concatenación..).\n",
        "\n",
        "En este caso presentaremos el One Hot Encoding y los word embeddings."
      ],
      "metadata": {
        "id": "KfioSUWmeJdc"
      }
    },
    {
      "cell_type": "markdown",
      "source": [
        "## One-hot encoder\n"
      ],
      "metadata": {
        "id": "gQSLUU8TeJsv"
      }
    },
    {
      "cell_type": "markdown",
      "source": [
        "Probablemente sea la técnica más elemental para representar datos textuales numéricamente. En este modelo de representación cada palabra del vocabulario se representa mediante un vector único en el que cada posición del vector representa una palabra del vocabulario, siendo 0 todos los valores menos el índice del token al que representa el vector. \n",
        "\n",
        "En este caso, trabajaremos con el método [OneHotEncoder](https://scikit-learn.org/stable/modules/generated/sklearn.preprocessing.OneHotEncoder.html) de Scikit-learn."
      ],
      "metadata": {
        "id": "p4Z-XZ6cWGrW"
      }
    },
    {
      "cell_type": "markdown",
      "source": [
        "En primer lugar, es necesario obtener un índice único para cada una de las palabras de nuestro vocabulario. \n",
        "\n",
        "Podemos hacerlo de forma manual o utilizando un LabelEncoder de scikit-learn:"
      ],
      "metadata": {
        "id": "TaaclO3FWWXK"
      }
    },
    {
      "cell_type": "code",
      "source": [
        "from sklearn.preprocessing import OneHotEncoder, LabelEncoder\n",
        "\n",
        "# integer encode\n",
        "label_encoder = __________________ # usar LabelEncoder vacío\n",
        "integer_encoded = label_encoder._________________  # fit_transform sobre vocab\n",
        "\n",
        "for elem, index in zip(vocab, integer_encoded): \n",
        "  print(\"Al token `{}` del vocabulario se le ha asignado el índice {}\".format(elem,  index))\n"
      ],
      "metadata": {
        "id": "MGOrp1T1WiQa"
      },
      "execution_count": null,
      "outputs": []
    },
    {
      "cell_type": "markdown",
      "source": [
        "Una vez asignados estos índices, los utilizaremos para crear un vector único de tamaño del vocabulario. \n",
        "\n",
        "Para ello, utilizarmeos el método OneHotEncoder:"
      ],
      "metadata": {
        "id": "D2e2zDGcWhyV"
      }
    },
    {
      "cell_type": "code",
      "source": [
        "onehot_encoder = ______________________ # usra OneHotEncoder con atributo sparse=False"
      ],
      "metadata": {
        "id": "kvJhbn1_eMa8"
      },
      "execution_count": null,
      "outputs": []
    },
    {
      "cell_type": "markdown",
      "source": [
        "Cambiamos las dimensiones del vector de índices, y los transformamos utilizando el onehot_encoder:"
      ],
      "metadata": {
        "id": "R5VSSbroXKy2"
      }
    },
    {
      "cell_type": "code",
      "source": [
        "integer_encoded = integer_encoded.reshape(len(integer_encoded), 1) \n",
        "onehot_encoded = onehot_encoder.fit_transform(integer_encoded)\n",
        "\n",
        "for elem, index in zip(vocab, onehot_encoded): \n",
        "  print(\"Al token `{}` del vocabulario se le ha asignado el onehot vector: {}\".format(elem,  index))"
      ],
      "metadata": {
        "id": "SOWjnt40XKVr"
      },
      "execution_count": null,
      "outputs": []
    },
    {
      "cell_type": "markdown",
      "source": [
        "Después de definir esto podemos generar funciones para transformar un conjunto de tokens a su versión one-hot. Así como el paso inverso. "
      ],
      "metadata": {
        "id": "W1W9FoXlWVlO"
      }
    },
    {
      "cell_type": "code",
      "source": [
        "def using_to_categorical(doc,label_encoder, onehot_encoder):\n",
        "    # Transformamos los tokens a índices\n",
        "    data = label_encoder.transform(doc)\n",
        "    # Adaptamos los indices al formato adecuado\n",
        "    data = data.reshape(len(data), 1)\n",
        "    # Les aplicamos one hot encoder\n",
        "    encoded = onehot_encoder.transform(data)\n",
        "    return encoded\n",
        "\n",
        "\n",
        "def invert_encoding(vectores_onehot,label_encoder):\n",
        "    inverted = label_encoder.inverse_transform(list(np.argmax(vectores_onehot,axis=1)))\n",
        "    return list(inverted)"
      ],
      "metadata": {
        "id": "k2o1USGafU8G"
      },
      "execution_count": null,
      "outputs": []
    },
    {
      "cell_type": "markdown",
      "source": [
        "Utilicemos las funciones:"
      ],
      "metadata": {
        "id": "m9j0ejmYYSfv"
      }
    },
    {
      "cell_type": "code",
      "source": [
        "documento_ejemplo = \"yo quiero agua\".split()\n",
        "documento_ejemplo"
      ],
      "metadata": {
        "colab": {
          "base_uri": "https://localhost:8080/"
        },
        "id": "pZ4zrqhnf6sp",
        "outputId": "43c5a671-2fd2-454a-e53a-de30f2a137a5"
      },
      "execution_count": null,
      "outputs": [
        {
          "output_type": "execute_result",
          "data": {
            "text/plain": [
              "['yo', 'quiero', 'agua']"
            ]
          },
          "metadata": {},
          "execution_count": 15
        }
      ]
    },
    {
      "cell_type": "code",
      "source": [
        "a_hot_enc=using_to_categorical(documento_ejemplo,label_encoder, onehot_encoder)\n",
        "a_hot_enc"
      ],
      "metadata": {
        "colab": {
          "base_uri": "https://localhost:8080/"
        },
        "id": "qpLBdvRrgicy",
        "outputId": "6e404299-0de3-4ea0-adf8-3d548c480b15"
      },
      "execution_count": null,
      "outputs": [
        {
          "output_type": "execute_result",
          "data": {
            "text/plain": [
              "array([[0., 0., 0., 0., 0., 0., 0., 0., 1.],\n",
              "       [0., 0., 0., 0., 1., 0., 0., 0., 0.],\n",
              "       [1., 0., 0., 0., 0., 0., 0., 0., 0.]])"
            ]
          },
          "metadata": {},
          "execution_count": 16
        }
      ]
    },
    {
      "cell_type": "code",
      "source": [
        "invert_encoding(a_hot_enc,label_encoder)"
      ],
      "metadata": {
        "colab": {
          "base_uri": "https://localhost:8080/"
        },
        "id": "JGIcOXUNg5t4",
        "outputId": "5be3462f-8014-48db-82bc-8e0e97f0a2e8"
      },
      "execution_count": null,
      "outputs": [
        {
          "output_type": "execute_result",
          "data": {
            "text/plain": [
              "['yo', 'quiero', 'agua']"
            ]
          },
          "metadata": {},
          "execution_count": 17
        }
      ]
    },
    {
      "cell_type": "markdown",
      "source": [
        "## Embeddings"
      ],
      "metadata": {
        "id": "DKkDHxmgeMl3"
      }
    },
    {
      "cell_type": "markdown",
      "source": [
        "Los embeddings son una técnica de modelización de lenguaje que permite representar palabras mediante vectores densos (*dense vectors*), de menor tamaño que los obtenidos tras _one-hot enconding_, y que además tienen capacidad de representar ontenido semántico. \n",
        "\n",
        "A lo largo del tiempo han aparecido diferentes formas de obtener estos embeddings. Pero en este curso aprendermeos a utilizar y a entrenar embeddings estáticos, especificamente word2vec, utilizando la librería [gensim](https://radimrehurek.com/gensim/models/word2vec.html). Hay que mencionar que los actuales embeddings contextuales, como Elmo o BERT, serán utilizados en el futuro para poder mostrar su uso, que en esencia es similar al del embedding estático. \n",
        "\n",
        "![image.png](data:image/png;base64,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)"
      ],
      "metadata": {
        "id": "m0wlIoDMlJBq"
      }
    },
    {
      "cell_type": "markdown",
      "source": [
        "### Carga de embeddings pre-entrenados con ``gensim``\n",
        "\n",
        "\n",
        "\n",
        "\n"
      ],
      "metadata": {
        "id": "hbvlDgVKl-CU"
      }
    },
    {
      "cell_type": "markdown",
      "source": [
        "Los embeddings suelen ser entrenados con grandes conjuntos de datos y suele ser costoso su entrenamiento a nivel temporal. Por ese motivo, una de las posibilidades cuando se trabaja con embeddings, es la búsqueda de recursos ya entrenados con textos similares a los que vayamos a trabajar (como contenido de noticias o redes sociales), y utilizarlo para representar nuestros documentos. \n",
        "\n",
        "\n",
        "Cuando se busca este tipo de recurso es evidente la influencia anglosajona en el desarrollo de las tecnologías del lenguaje, ya que la mayoría de los recursos se encuentran en este idioma y son fácilmente aplicables desde las librerías de NLP más comunes, en este caso Gensim. Si se quieren utilizar recursos en otros idiomas, hay que buscarlos en repositorios externos para descargarlos manualmente y cargarlos en la librería en cuestión. \n",
        "\n",
        "Aunque en este notebook trabajaremos exclusivamente con Gensim, este problema de acceso a recursos se está viendo parcialmente solventado con el incremento de popularidad de librerías como [Hugginface](https://huggingface.co/models) que favorecen el intercambio de recursos en múltiples lenguas\n"
      ],
      "metadata": {
        "id": "Fl-_vJxxnX8a"
      }
    },
    {
      "cell_type": "markdown",
      "source": [
        "#### Carga de pre-trained embeddings de gensim\n"
      ],
      "metadata": {
        "id": "UxPhAyf2mWwj"
      }
    },
    {
      "cell_type": "markdown",
      "source": [
        "La librería Gensim cuenta con un conjunto de embeddings pre-entrenados accesibles desde la propia librería mediante una API.\n",
        "\n",
        "Para acceder a estos modelos basta con utilizar el comando ```gensim.downloader.info()```, que nos permitirá ver la lista de modelos disponibles:"
      ],
      "metadata": {
        "id": "8U93nlbzp8i4"
      }
    },
    {
      "cell_type": "code",
      "source": [
        "import gensim.downloader as api\n",
        "print(\"Este es el listado de modelos disponibles en Gensim: \\n {}\".format(list(api.info()[\"models\"].keys())))\n"
      ],
      "metadata": {
        "colab": {
          "base_uri": "https://localhost:8080/"
        },
        "id": "wPkq7KxbqT61",
        "outputId": "5dd7bf73-c391-4332-a54a-a4aebd93731e"
      },
      "execution_count": null,
      "outputs": [
        {
          "output_type": "stream",
          "name": "stdout",
          "text": [
            "Este es el listado de modelos disponibles en Gensim: \n",
            " ['fasttext-wiki-news-subwords-300', 'conceptnet-numberbatch-17-06-300', 'word2vec-ruscorpora-300', 'word2vec-google-news-300', 'glove-wiki-gigaword-50', 'glove-wiki-gigaword-100', 'glove-wiki-gigaword-200', 'glove-wiki-gigaword-300', 'glove-twitter-25', 'glove-twitter-50', 'glove-twitter-100', 'glove-twitter-200', '__testing_word2vec-matrix-synopsis']\n"
          ]
        }
      ]
    },
    {
      "cell_type": "markdown",
      "source": [
        "Se puede observar que no sólo hay embeddings word2vec. También los hay glove, fasttext y conceptnet, todos estáticos. En este caso vamos a cargar un embedding Glove por ocupar menos espacio en memoria. "
      ],
      "metadata": {
        "id": "JVawh6YYrnoE"
      }
    },
    {
      "cell_type": "code",
      "source": [
        "glove_emb = api.load(__________________) # Descargamos y cargamosel embedding de \"glove-twitter-25\""
      ],
      "metadata": {
        "colab": {
          "base_uri": "https://localhost:8080/"
        },
        "id": "wAMFYJzfr35N",
        "outputId": "e0ee0283-2622-49ab-b0f1-c4d350f52f6d"
      },
      "execution_count": null,
      "outputs": [
        {
          "output_type": "stream",
          "name": "stdout",
          "text": [
            "[==================================================] 100.0% 104.8/104.8MB downloaded\n"
          ]
        }
      ]
    },
    {
      "cell_type": "markdown",
      "source": [
        "Una vez hayamos cargado el embedding, podemos aplicar diferentes funciones de gensim para obtener información útil:\n",
        "\n",
        "- Listado de palabras más similares a una dada\n"
      ],
      "metadata": {
        "id": "_fgzxNYDr-eK"
      }
    },
    {
      "cell_type": "code",
      "source": [
        "glove_emb._________________________   # apalabras más similares se hace con most_similar y marcando topn a 3"
      ],
      "metadata": {
        "colab": {
          "base_uri": "https://localhost:8080/"
        },
        "id": "-wlexjYbsOVc",
        "outputId": "fb1b0a3d-ebd3-4ec0-c347-efc7e08901fb"
      },
      "execution_count": null,
      "outputs": [
        {
          "output_type": "execute_result",
          "data": {
            "text/plain": [
              "[('panic', 0.8954888582229614),\n",
              " ('loud', 0.8835636377334595),\n",
              " ('sudden', 0.8579897880554199)]"
            ]
          },
          "metadata": {},
          "execution_count": 118
        }
      ]
    },
    {
      "cell_type": "markdown",
      "source": [
        "-  Operación matemática con vectores para obtener resultados"
      ],
      "metadata": {
        "id": "9N6omDRTsl8y"
      }
    },
    {
      "cell_type": "code",
      "source": [
        "glove_emb.most_similar(positive=[\"france\",\"italy\"],negative=[\"rome\"])"
      ],
      "metadata": {
        "colab": {
          "base_uri": "https://localhost:8080/"
        },
        "id": "gw0W_VdbtA4e",
        "outputId": "91b3839e-b745-4cfd-b75e-a568a61ae8a7"
      },
      "execution_count": null,
      "outputs": [
        {
          "output_type": "execute_result",
          "data": {
            "text/plain": [
              "[('paris', 0.7654449939727783),\n",
              " ('vote', 0.7570202946662903),\n",
              " ('gagne', 0.7432006001472473),\n",
              " ('psg', 0.7362562417984009),\n",
              " ('spain', 0.729026734828949),\n",
              " ('team', 0.7250774502754211),\n",
              " ('attend', 0.7223680019378662),\n",
              " ('europe', 0.720014214515686),\n",
              " ('canada', 0.7170059680938721),\n",
              " ('match', 0.7135623097419739)]"
            ]
          },
          "metadata": {},
          "execution_count": 123
        }
      ]
    },
    {
      "cell_type": "markdown",
      "source": [
        "-  Detectar término \"intruso\""
      ],
      "metadata": {
        "id": "QtzlCNDqtujt"
      }
    },
    {
      "cell_type": "code",
      "source": [
        "glove_emb.doesnt_match(['spain', 'italy', 'paris'])"
      ],
      "metadata": {
        "colab": {
          "base_uri": "https://localhost:8080/",
          "height": 93
        },
        "id": "K9nW_i_Htusj",
        "outputId": "1a4cebc8-cca3-43fb-86a6-ed7becc029dd"
      },
      "execution_count": null,
      "outputs": [
        {
          "output_type": "stream",
          "name": "stderr",
          "text": [
            "/usr/local/lib/python3.7/dist-packages/gensim/models/keyedvectors.py:895: FutureWarning: arrays to stack must be passed as a \"sequence\" type such as list or tuple. Support for non-sequence iterables such as generators is deprecated as of NumPy 1.16 and will raise an error in the future.\n",
            "  vectors = vstack(self.word_vec(word, use_norm=True) for word in used_words).astype(REAL)\n"
          ]
        },
        {
          "output_type": "execute_result",
          "data": {
            "application/vnd.google.colaboratory.intrinsic+json": {
              "type": "string"
            },
            "text/plain": [
              "'paris'"
            ]
          },
          "metadata": {},
          "execution_count": 127
        }
      ]
    },
    {
      "cell_type": "markdown",
      "source": [
        "-  Obtener el vector que representa a una palabra para utilizarlo posteriormente en otras tareas"
      ],
      "metadata": {
        "id": "MVfsDlxUt25B"
      }
    },
    {
      "cell_type": "code",
      "source": [
        "glove_emb.______________________  # get_vector(token)"
      ],
      "metadata": {
        "colab": {
          "base_uri": "https://localhost:8080/"
        },
        "id": "eDWqs0k9sFPl",
        "outputId": "3409b53e-3e7c-488f-9b20-f81d43064d08"
      },
      "execution_count": null,
      "outputs": [
        {
          "output_type": "execute_result",
          "data": {
            "text/plain": [
              "array([ 0.31968 ,  0.74266 , -0.20431 , -1.4012  , -0.86315 ,  0.79216 ,\n",
              "       -1.0295  ,  2.638   , -0.39319 , -0.47535 ,  1.2023  , -0.95062 ,\n",
              "       -2.4912  ,  1.3536  ,  1.4055  , -0.38844 , -0.95007 , -0.43883 ,\n",
              "        0.05267 , -0.083568, -0.92105 ,  0.18917 , -0.20303 , -1.0173  ,\n",
              "        0.20116 ], dtype=float32)"
            ]
          },
          "metadata": {},
          "execution_count": 128
        }
      ]
    },
    {
      "cell_type": "markdown",
      "source": [
        "#### Carga de pre-trained embedding de otras fuentes\n"
      ],
      "metadata": {
        "id": "eaOWtFAvmUYg"
      }
    },
    {
      "cell_type": "markdown",
      "source": [
        "Como hemos visto anteriormente, no siempre se encuentran embeddings en el idioma en el que estamos trabajando. Aunque hoy en día existen mejores opciones para representar palabras en diferentes idiomas  que el uso de Word2Vec (como el [Universal Sentence Encoder](https://tfhub.dev/google/universal-sentence-encoder/1)]), en este apartado vamos a cargar un [Word2Vec embedding en español](https://github.com/aitoralmeida/spanish_word2vec)l creado con datos de noticias, Wilipedia y el BOE entre otros y no disponible de forma nativa en la librería de Gensim.\n"
      ],
      "metadata": {
        "id": "rd-oldTUoZQk"
      }
    },
    {
      "cell_type": "markdown",
      "source": [
        "En primer lugar descargamos y hacemos unzip del modelo:"
      ],
      "metadata": {
        "id": "W9eU9vuVoZUf"
      }
    },
    {
      "cell_type": "code",
      "source": [
        "!wget https://zenodo.org/record/1410403/files/keyed_vectors.zip?download=1\n",
        "!unzip /content/keyed_vectors.zip?download=1"
      ],
      "metadata": {
        "colab": {
          "base_uri": "https://localhost:8080/"
        },
        "id": "iKLmbomPmTlA",
        "outputId": "20ac1149-f497-4ed7-ded4-74d44f6f9e97"
      },
      "execution_count": null,
      "outputs": [
        {
          "output_type": "stream",
          "name": "stdout",
          "text": [
            "--2022-02-20 10:19:40--  https://zenodo.org/record/1410403/files/keyed_vectors.zip?download=1\n",
            "Resolving zenodo.org (zenodo.org)... 137.138.76.77\n",
            "Connecting to zenodo.org (zenodo.org)|137.138.76.77|:443... connected.\n",
            "HTTP request sent, awaiting response... 200 OK\n",
            "Length: 2933030481 (2.7G) [application/octet-stream]\n",
            "Saving to: ‘keyed_vectors.zip?download=1’\n",
            "\n",
            "keyed_vectors.zip?d 100%[===================>]   2.73G  12.3MB/s    in 4m 28s  \n",
            "\n",
            "2022-02-20 10:24:09 (10.4 MB/s) - ‘keyed_vectors.zip?download=1’ saved [2933030481/2933030481]\n",
            "\n",
            "Archive:  /content/keyed_vectors.zip?download=1\n",
            "  inflating: complete.kv             \n",
            "  inflating: complete.kv.vectors.npy  \n"
          ]
        }
      ]
    },
    {
      "cell_type": "markdown",
      "source": [
        "Una vez descargado y descomprimido, cargamos los ``KeyedVectors``, una manera de almacenar un embedding como un diccionario que permite ahorrar espacio de almacenamiento y memoria.\n"
      ],
      "metadata": {
        "id": "acKSCMVdpXFw"
      }
    },
    {
      "cell_type": "code",
      "source": [
        "word_vectors = KeyedVectors.load('complete.kv', mmap='r')\n"
      ],
      "metadata": {
        "id": "D9JYzEgXpflg"
      },
      "execution_count": null,
      "outputs": []
    },
    {
      "cell_type": "markdown",
      "source": [
        "Una vez cargado, podemos aplicar las funciones del embedding disponibles en Gensim, además de obtener la representación vectorial de cada palabra."
      ],
      "metadata": {
        "id": "VurIInUuqtfw"
      }
    },
    {
      "cell_type": "code",
      "source": [
        "word_vectors.most_similar(positive=[\"mujer\",\"rey\"],negative=[\"hombre\"])"
      ],
      "metadata": {
        "colab": {
          "base_uri": "https://localhost:8080/"
        },
        "id": "21kuM_Qvq09L",
        "outputId": "e2f5d050-ecf2-4658-ddf5-c1764f8ff18f"
      },
      "execution_count": null,
      "outputs": [
        {
          "output_type": "execute_result",
          "data": {
            "text/plain": [
              "[('reina', 0.7011107802391052),\n",
              " ('princesa', 0.6539173126220703),\n",
              " ('emperatriz', 0.6132392883300781),\n",
              " ('esposa', 0.5980263948440552),\n",
              " ('doncella', 0.596245527267456),\n",
              " ('dama', 0.5885013341903687),\n",
              " ('infanta', 0.5754831433296204),\n",
              " ('concubina', 0.5528373122215271),\n",
              " ('hija', 0.5507358312606812),\n",
              " ('viuda', 0.538551390171051)]"
            ]
          },
          "metadata": {},
          "execution_count": 107
        }
      ]
    },
    {
      "cell_type": "code",
      "source": [
        "word_vectors.similar_by_word(\"virus\")"
      ],
      "metadata": {
        "colab": {
          "base_uri": "https://localhost:8080/"
        },
        "id": "yKCglNDLrELb",
        "outputId": "0d1eae2b-0ee2-40e7-85d3-7d8237910de9"
      },
      "execution_count": null,
      "outputs": [
        {
          "output_type": "execute_result",
          "data": {
            "text/plain": [
              "[('retrovirus', 0.759166955947876),\n",
              " ('bacilo', 0.6934126615524292),\n",
              " ('patógeno', 0.6908407211303711),\n",
              " ('Ébola', 0.6901521682739258),\n",
              " ('microorganismo', 0.6858637928962708),\n",
              " ('microbio', 0.68221116065979),\n",
              " ('ántrax', 0.6744674444198608),\n",
              " ('filovirus', 0.6674036979675293),\n",
              " ('parásito', 0.6608957052230835),\n",
              " ('carbunco', 0.6542395949363708)]"
            ]
          },
          "metadata": {},
          "execution_count": 108
        }
      ]
    },
    {
      "cell_type": "code",
      "source": [
        "word_vectors.get_vector(\"hola\")"
      ],
      "metadata": {
        "id": "Jvpt2dHurLoi"
      },
      "execution_count": null,
      "outputs": []
    },
    {
      "cell_type": "markdown",
      "source": [
        "### Entrenamiento de nuestro propio embedding"
      ],
      "metadata": {
        "id": "H6GvKoGbmZmg"
      }
    },
    {
      "cell_type": "markdown",
      "source": [
        "Los embeddings generalistas son populares para trabajar con cualquier tipo de datos. Sin embargo, es posible que en aplicaciones específicas no funcionen de forma óptima. \n",
        "\n",
        "Hoy en día se pueden construir embeddings contextuales que tienen un mejor funcionamiento, pero requieren una mayor capacidad de cómputo y recursos. \n",
        "\n",
        "En este subapartado vamos a ver como entrenar un embedding con un conjunto de datos público y vamos a comprobar su funcionamiento. "
      ],
      "metadata": {
        "id": "Nbap1cuourZg"
      }
    },
    {
      "cell_type": "markdown",
      "source": [
        "En primer lugar descargamos y descomprimimos el conjunto de datos de entrenamiento de la [Tarea MESINESP (MEdical Semantic Indexing in Spanish)](https://temu.bsc.es/mesinesp2/). Este conjunto de datos está compuesto por un conjunto de abstracts de artículos científicos extraidos de repositorios en español. "
      ],
      "metadata": {
        "id": "q8nf7CqPbHFe"
      }
    },
    {
      "cell_type": "code",
      "source": [
        "import nltk\n",
        "from nltk.corpus import stopwords\n",
        "from gensim.models import Word2Vec,KeyedVectors\n",
        "from gensim.test.utils import datapath\n",
        "import re\n",
        "import unicodedata\n",
        "from tqdm import tqdm\n",
        "import gensim\n",
        "import multiprocessing\n",
        "import random\n",
        "from gensim.models.phrases import Phrases, Phraser\n",
        "\n",
        "nltk.download('stopwords')\n",
        "\n",
        "!wget https://zenodo.org/record/5602914/files/Subtrack1-Scientific_Literature.zip?download=1\n",
        "!unzip /content/Subtrack1-Scientific_Literature.zip?download=1"
      ],
      "metadata": {
        "colab": {
          "base_uri": "https://localhost:8080/"
        },
        "id": "W87q8yuph6RQ",
        "outputId": "a63d9c24-36db-4ab0-fa33-ed766c05654d"
      },
      "execution_count": null,
      "outputs": [
        {
          "output_type": "stream",
          "name": "stdout",
          "text": [
            "--2022-02-20 18:37:03--  https://zenodo.org/record/5602914/files/Subtrack1-Scientific_Literature.zip?download=1\n",
            "Resolving zenodo.org (zenodo.org)... 137.138.76.77\n",
            "Connecting to zenodo.org (zenodo.org)|137.138.76.77|:443... connected.\n",
            "HTTP request sent, awaiting response... 200 OK\n",
            "Length: 222445275 (212M) [application/octet-stream]\n",
            "Saving to: ‘Subtrack1-Scientific_Literature.zip?download=1’\n",
            "\n",
            "Subtrack1-Scientifi 100%[===================>] 212.14M  6.52MB/s    in 23s     \n",
            "\n",
            "2022-02-20 18:37:28 (9.30 MB/s) - ‘Subtrack1-Scientific_Literature.zip?download=1’ saved [222445275/222445275]\n",
            "\n",
            "Archive:  /content/Subtrack1-Scientific_Literature.zip?download=1\n",
            "   creating: Subtrack1-Scientific_Literature/\n",
            "   creating: Subtrack1-Scientific_Literature/Development/\n",
            "  inflating: Subtrack1-Scientific_Literature/Development/development_set_subtrack1.json  \n",
            "   creating: Subtrack1-Scientific_Literature/Test/\n",
            "  inflating: Subtrack1-Scientific_Literature/Test/test_set_subtrack1.json  \n",
            "   creating: Subtrack1-Scientific_Literature/Train/\n",
            "  inflating: Subtrack1-Scientific_Literature/Train/training_set_subtrack1_all.json  \n",
            "  inflating: Subtrack1-Scientific_Literature/Train/training_set_subtrack1_only_articles.json  \n"
          ]
        }
      ]
    },
    {
      "cell_type": "markdown",
      "source": [
        "Después cargamos el archivo _*.json_ en un diccionario, e iteramos por cada elemento de la lista cogiendo el campo \"abstractText\", que contiene el abstract de cada artículo.\n",
        "\n",
        "Para acelerar el proceso de cálculo, solo trabajaremos con los primeros 2500 artículos (el corpus tiene más de 200000)"
      ],
      "metadata": {
        "id": "BtqTMMHNcUZK"
      }
    },
    {
      "cell_type": "code",
      "source": [
        "import json\n",
        "with open(\"/content/Subtrack1-Scientific_Literature/Train/training_set_subtrack1_only_articles.json\", 'r') as f:\n",
        "  biomed_dict = json.load(f)\n",
        "\n",
        "documentos = [doc[\"abstractText\"] for doc in biomed_dict[\"articles\"]][:2500]\n"
      ],
      "metadata": {
        "id": "lkmMzIgph6aN"
      },
      "execution_count": null,
      "outputs": []
    },
    {
      "cell_type": "markdown",
      "source": [
        "Creamos la función ``clean_data`` que realizará un preprocesado a un documento de entrada: pasará a minúsculas, sustituirá dígitos por espacios, tokenizará, eliminará stopwords y quitará tokens menores o iguales de 2 caracteres."
      ],
      "metadata": {
        "id": "GR0qFNY1cyMJ"
      }
    },
    {
      "cell_type": "code",
      "source": [
        "stopwords_list=stopwords.words('spanish')\n",
        "def clean_data(w):\n",
        "    w = w.lower()\n",
        "    w=re.sub(r'[^\\w\\s]','',w)\n",
        "    w=re.sub(r\"([0-9])\", r\" \",w)\n",
        "    words = w.split() \n",
        "    clean_words = [word for word in words if (word not in stopwords_list) and len(word) > 2]\n",
        "    return \" \".join(clean_words)"
      ],
      "metadata": {
        "id": "H3zo1cdlkWrW"
      },
      "execution_count": null,
      "outputs": []
    },
    {
      "cell_type": "markdown",
      "source": [
        "Creamos una función generator para trabajar más eficientemente en memoria"
      ],
      "metadata": {
        "id": "IoqWDMCZdBWa"
      }
    },
    {
      "cell_type": "code",
      "source": [
        "def get_inp(documentos):\n",
        "    sent=list(map(clean_data,documentos))\n",
        "    for lines in tqdm(sent):\n",
        "        yield lines.split()\n"
      ],
      "metadata": {
        "id": "XMgr90kxkfyb"
      },
      "execution_count": null,
      "outputs": []
    },
    {
      "cell_type": "markdown",
      "source": [
        "Aplicamos función sobre documentos:"
      ],
      "metadata": {
        "id": "ZldJgTOJdna3"
      }
    },
    {
      "cell_type": "code",
      "source": [
        "sent = [row for row in get_inp(documentos)]"
      ],
      "metadata": {
        "colab": {
          "base_uri": "https://localhost:8080/"
        },
        "id": "-sI8WZ3YdWLH",
        "outputId": "1ec57069-955a-46ca-8a8c-2405835aa431"
      },
      "execution_count": null,
      "outputs": [
        {
          "output_type": "stream",
          "name": "stderr",
          "text": [
            "100%|██████████| 2500/2500 [00:00<00:00, 29587.94it/s]\n"
          ]
        }
      ]
    },
    {
      "cell_type": "markdown",
      "source": [
        "Entrenamos el modelo [Phrases](https://radimrehurek.com/gensim/models/phrases.html#gensim.models.phrases.FrozenPhrases) de gensim para detectar bigramas presentes en nuestros datos. En este caso se considerarán conjutos de tokens que al menos aparezcan 20 veces en nuestro corpus. \n",
        "\n",
        "Además, utilizamos el método Phraser para mejorar el rendimiento de Gensim en pasos posteriores. "
      ],
      "metadata": {
        "id": "X0VyP-iQdvHw"
      }
    },
    {
      "cell_type": "code",
      "source": [
        "phrases = Phraser(Phrases(sent, min_count=20, progress_per=10000))\n"
      ],
      "metadata": {
        "id": "770MFAIaUv7V"
      },
      "execution_count": null,
      "outputs": []
    },
    {
      "cell_type": "markdown",
      "source": [
        "Aplicamos el modelo a nuestro conjunto de datos:"
      ],
      "metadata": {
        "id": "YS_QCKJfelIw"
      }
    },
    {
      "cell_type": "code",
      "source": [
        "sentences = phrases[sent]"
      ],
      "metadata": {
        "id": "wf3HqoQ-edLV"
      },
      "execution_count": null,
      "outputs": []
    },
    {
      "cell_type": "markdown",
      "source": [
        "En el documento del índice 3, se puede observar que se ha aplicado con éxito. El término \"atención_primaria\" es la unión de los tokens \"atención\" y \"primaria\" que aparecía de forma continua en al menos 20 ocasiones dentro del corpus"
      ],
      "metadata": {
        "id": "7MEuAeHzev6C"
      }
    },
    {
      "cell_type": "code",
      "source": [
        "sentences[3]"
      ],
      "metadata": {
        "id": "-Mmoa0EQVB1H"
      },
      "execution_count": null,
      "outputs": []
    },
    {
      "cell_type": "markdown",
      "source": [
        "Una vez preparado el corpus, vamos a proceder con el entrenamiento del modelo [Word2Vec](https://radimrehurek.com/gensim/models/word2vec.html#gensim.models.word2vec.Word2Vec). Para ello utilizaremos las capacidades multiprocesador de Gensim y utilizaremos unos parámetros típicos en este tipo de modelo.\n",
        "\n",
        "En la estrategia de entrenamiento CBOW especificada en el paper de Word2Vec, se toman ventanas de tamaño N de cada documento. Entonces, se extrae la palabra central del enventanado y se entrena un modelo capaz de predecir esa palabra central a partir del resto (el contexto).\n",
        "\n",
        "El término \"window\" indica el tamaño de la ventana elegido para subdividir cada uno de nuestros documentos. La función se encarga de transformar todo el corpus (train/test, transformación de las palabras en vectores, backprogataion...), pero al final internamente se tendrá el siguiente formato de dato:\n",
        "\n",
        "\n",
        "Palabras de contexto | Word vector dle contexto | Palabra central | vector de la palabra central|\n",
        "-----|----------|----------|----------------------|\n",
        "yo quiero y un agua | media de los one-hot vectors |agua |[ 0 0 0 .... 1.... 0 |"
      ],
      "metadata": {
        "id": "ZOflx1G3gjax"
      }
    },
    {
      "cell_type": "code",
      "source": [
        "import multiprocessing\n",
        "from gensim.models import Word2Vec\n",
        "cores = multiprocessing.cpu_count() # Count the number of cores in a computer\n",
        "w2v_model = Word2Vec(min_count=20,\n",
        "                     window=5,\n",
        "                     size=300,\n",
        "                     sample=6e-5, \n",
        "                     alpha=0.03, \n",
        "                     min_alpha=0.0007, \n",
        "                     negative=20, \n",
        "                     workers=cores-1)"
      ],
      "metadata": {
        "id": "muoHAtGBVgfs"
      },
      "execution_count": null,
      "outputs": []
    },
    {
      "cell_type": "markdown",
      "source": [
        "Una vez creado el objeto Word2Vec, procedemos a generar un vocabulario para el embedding, que será extraido a partir de nuestro corpus."
      ],
      "metadata": {
        "id": "J6av18Oth___"
      }
    },
    {
      "cell_type": "code",
      "source": [
        "w2v_model.build_vocab(sentences, progress_per=10000)"
      ],
      "metadata": {
        "id": "al2bclCviAOY"
      },
      "execution_count": null,
      "outputs": []
    },
    {
      "cell_type": "markdown",
      "source": [
        "Por último se procede a entrenar el embedding, para posteriormente guardarlo (y cargarlo para verificar que se ha aplicado correctamete)"
      ],
      "metadata": {
        "id": "l5AgVSubiKIf"
      }
    },
    {
      "cell_type": "code",
      "source": [
        "w2v_model.train(sentences, total_examples=w2v_model.corpus_count, epochs=30, report_delay=1)"
      ],
      "metadata": {
        "colab": {
          "base_uri": "https://localhost:8080/"
        },
        "id": "ZbIsBtsuiKcA",
        "outputId": "d6753697-11b0-441d-e743-3171ff19ccf2"
      },
      "execution_count": null,
      "outputs": [
        {
          "output_type": "execute_result",
          "data": {
            "text/plain": [
              "(2111923, 7027980)"
            ]
          },
          "metadata": {},
          "execution_count": 38
        }
      ]
    },
    {
      "cell_type": "code",
      "source": [
        "w2v_model.wv.save_word2vec_format(\"guardar.bin\",binary=True)\n",
        "saved_model_path='/content/guardar.bin'\n",
        "trained_model = KeyedVectors.load_word2vec_format(saved_model_path, binary=True)\n"
      ],
      "metadata": {
        "id": "heJafBoDapzx"
      },
      "execution_count": null,
      "outputs": []
    },
    {
      "cell_type": "markdown",
      "source": [
        "Procedemos a ver el funcionamiento del embedding buscando sinónimos a algunas palabras de ejemplo presentes en el corpus."
      ],
      "metadata": {
        "id": "x2_IHs-QiY0U"
      }
    },
    {
      "cell_type": "code",
      "source": [
        "trained_model.wv.most_similar(positive=[\"virus\"], topn=3)"
      ],
      "metadata": {
        "colab": {
          "base_uri": "https://localhost:8080/"
        },
        "id": "tlgKA3JwWJo9",
        "outputId": "dbdd0ba8-fbf9-4a26-dcf1-a3e46e7f9764"
      },
      "execution_count": null,
      "outputs": [
        {
          "output_type": "stream",
          "name": "stderr",
          "text": [
            "/usr/local/lib/python3.7/dist-packages/ipykernel_launcher.py:1: DeprecationWarning: Call to deprecated `wv` (Attribute will be removed in 4.0.0, use self instead).\n",
            "  \"\"\"Entry point for launching an IPython kernel.\n"
          ]
        },
        {
          "output_type": "execute_result",
          "data": {
            "text/plain": [
              "[('inmunodeficiencia', 0.9789665341377258),\n",
              " ('hepatitis', 0.9154753684997559),\n",
              " ('humana', 0.9111756086349487)]"
            ]
          },
          "metadata": {},
          "execution_count": 40
        }
      ]
    },
    {
      "cell_type": "code",
      "source": [
        "trained_model.wv.most_similar(positive=[\"vph\"], topn=10)"
      ],
      "metadata": {
        "colab": {
          "base_uri": "https://localhost:8080/"
        },
        "id": "yPLTRucra81c",
        "outputId": "a90bdd07-d7ac-4711-9c34-e27abe42b34c"
      },
      "execution_count": null,
      "outputs": [
        {
          "output_type": "stream",
          "name": "stderr",
          "text": [
            "/usr/local/lib/python3.7/dist-packages/ipykernel_launcher.py:1: DeprecationWarning: Call to deprecated `wv` (Attribute will be removed in 4.0.0, use self instead).\n",
            "  \"\"\"Entry point for launching an IPython kernel.\n"
          ]
        },
        {
          "output_type": "execute_result",
          "data": {
            "text/plain": [
              "[('fecha', 0.9419602155685425),\n",
              " ('objetivo_trabajo', 0.9394668936729431),\n",
              " ('emergencia', 0.9371947050094604),\n",
              " ('objetivo_presente', 0.9356416463851929),\n",
              " ('cabo', 0.934323787689209),\n",
              " ('infecciosas', 0.9314664602279663),\n",
              " ('analizan', 0.9275550246238708),\n",
              " ('trata', 0.9270995855331421),\n",
              " ('existente', 0.9224140644073486),\n",
              " ('conocer', 0.9185357093811035)]"
            ]
          },
          "metadata": {},
          "execution_count": 56
        }
      ]
    },
    {
      "cell_type": "code",
      "source": [
        "print(trained_model.similarity('virus', 'covid'))"
      ],
      "metadata": {
        "colab": {
          "base_uri": "https://localhost:8080/"
        },
        "id": "mmeRC4Lsj2Et",
        "outputId": "3b6dfbcc-5ee7-40f7-cf71-6cbc3c384b48"
      },
      "execution_count": null,
      "outputs": [
        {
          "output_type": "stream",
          "name": "stdout",
          "text": [
            "0.62501436\n"
          ]
        }
      ]
    },
    {
      "cell_type": "markdown",
      "source": [
        "Otra opción es visualizar el embedding, para ver si palabras similares están cercanas entre si. Para ello, vamos a extraer el vocabulario del modelo e introducir en una matriz X los vectores de todas las palabras"
      ],
      "metadata": {
        "id": "m39ZDuK7i2Ei"
      }
    },
    {
      "cell_type": "code",
      "source": [
        "vocab = list(trained_model.wv.vocab.keys())\n",
        "X = trained_model.wv[vocab]"
      ],
      "metadata": {
        "colab": {
          "base_uri": "https://localhost:8080/"
        },
        "id": "FvWAJE4mYUaX",
        "outputId": "e4a2515b-a20a-4bf5-bcb5-8be2aed79b72"
      },
      "execution_count": null,
      "outputs": [
        {
          "output_type": "stream",
          "name": "stderr",
          "text": [
            "/usr/local/lib/python3.7/dist-packages/ipykernel_launcher.py:1: DeprecationWarning: Call to deprecated `wv` (Attribute will be removed in 4.0.0, use self instead).\n",
            "  \"\"\"Entry point for launching an IPython kernel.\n",
            "/usr/local/lib/python3.7/dist-packages/ipykernel_launcher.py:2: DeprecationWarning: Call to deprecated `wv` (Attribute will be removed in 4.0.0, use self instead).\n",
            "  \n"
          ]
        }
      ]
    },
    {
      "cell_type": "markdown",
      "source": [
        "Hacemos una reducciónn de dimensionalidad con t-sne a dos dimensiones, para poder mostrar cada posición en un espacio 2D."
      ],
      "metadata": {
        "id": "1hQkdTJUjXeZ"
      }
    },
    {
      "cell_type": "code",
      "source": [
        "from sklearn.manifold import TSNE\n",
        "import re\n",
        "import matplotlib.pyplot as plt\n",
        "tsne = TSNE(n_components=2)\n",
        "X_tsne = tsne.fit_transform(X)\n",
        "# Transformamos a dataframe para facilitar su plotting\n",
        "import pandas as pd\n",
        "df = pd.DataFrame(X_tsne, index=vocab, columns=['x', 'y'])"
      ],
      "metadata": {
        "colab": {
          "base_uri": "https://localhost:8080/"
        },
        "id": "_Cy5hIwXYUeE",
        "outputId": "9bdbe542-4bfe-4261-8890-71c35c658bc1"
      },
      "execution_count": null,
      "outputs": [
        {
          "output_type": "stream",
          "name": "stderr",
          "text": [
            "/usr/local/lib/python3.7/dist-packages/sklearn/manifold/_t_sne.py:783: FutureWarning: The default initialization in TSNE will change from 'random' to 'pca' in 1.2.\n",
            "  FutureWarning,\n",
            "/usr/local/lib/python3.7/dist-packages/sklearn/manifold/_t_sne.py:793: FutureWarning: The default learning rate in TSNE will change from 200.0 to 'auto' in 1.2.\n",
            "  FutureWarning,\n"
          ]
        }
      ]
    },
    {
      "cell_type": "markdown",
      "source": [
        "Cogemos una muestra, para visualizarlo de forma más clara."
      ],
      "metadata": {
        "id": "MruZ92l7jmx5"
      }
    },
    {
      "cell_type": "code",
      "source": [
        "df_2 = df.sample(200)"
      ],
      "metadata": {
        "id": "qVxWsUV9bac8"
      },
      "execution_count": null,
      "outputs": []
    },
    {
      "cell_type": "code",
      "source": [
        "fig = plt.figure(figsize=(24,16))\n",
        "\n",
        "ax = fig.add_subplot(1, 1, 1)\n",
        "\n",
        "ax.scatter(df_2['x'], df_2['y'])\n",
        "\n",
        "for word, pos in df_2.iterrows():\n",
        "    ax.annotate(word, pos)\n"
      ],
      "metadata": {
        "colab": {
          "base_uri": "https://localhost:8080/",
          "height": 921
        },
        "id": "MAUKuAs8Ye8H",
        "outputId": "c495241e-f362-48de-97ef-5e3a1d12a3ca"
      },
      "execution_count": null,
      "outputs": [
        {
          "output_type": "display_data",
          "data": {
            "image/png": "[encoded data removed]",
            "text/plain": [
              "<Figure size 1728x1152 with 1 Axes>"
            ]
          },
          "metadata": {
            "needs_background": "light"
          }
        }
      ]
    }
  ]
}