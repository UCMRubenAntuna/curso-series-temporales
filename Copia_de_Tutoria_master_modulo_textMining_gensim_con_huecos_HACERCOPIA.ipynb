{
  "nbformat": 4,
  "nbformat_minor": 0,
  "metadata": {
    "colab": {
      "name": "Copia de Tutoria_master_modulo_textMining_gensim_con_huecos_HACERCOPIA.ipynb",
      "provenance": [],
      "collapsed_sections": [
        "PE0HuHhmoW0V",
        "D-PDFlMwoqpn",
        "1ElV1zGKq7hk"
      ],
      "include_colab_link": true
    },
    "kernelspec": {
      "name": "python3",
      "display_name": "Python 3"
    },
    "language_info": {
      "name": "python"
    }
  },
  "cells": [
    {
      "cell_type": "markdown",
      "metadata": {
        "id": "view-in-github",
        "colab_type": "text"
      },
      "source": [
        "<a href=\"https://colab.research.google.com/github/ruben9324/curso-series-temporales/blob/master/Copia_de_Tutoria_master_modulo_textMining_gensim_con_huecos_HACERCOPIA.ipynb\" target=\"_parent\"><img src=\"https://colab.research.google.com/assets/colab-badge.svg\" alt=\"Open In Colab\"/></a>"
      ]
    },
    {
      "cell_type": "markdown",
      "source": [
        "Puntos a tener en cuenta cuando nos enfrentamos a un problema de Text Mining:\n",
        " \n",
        "\n",
        "*   Idioma\n",
        "*   Origen de los datos\n",
        "    - ¿Textos cortos? ¿Redes sociales?\n",
        "    - ¿Disponemos de datos etiquetados?\n",
        "*   Preprocesado/normalización de los datos\n",
        "    - Mejor consejo: **Consultar bibliografía** [Link ejemplo](https://journals.plos.org/plosone/article?id=10.1371/journal.pone.0232525)\n",
        "    - El preprocesado es diferente según el origen de los datos.\n",
        "\n",
        "\n",
        "Vamos a hacer un ejercicio de ejemplo para ver estos datos.\n",
        "\n",
        "\n",
        "\n",
        "\n",
        "\n",
        "\n"
      ],
      "metadata": {
        "id": "HsD1TU4kU_SN"
      }
    },
    {
      "cell_type": "markdown",
      "source": [
        "### Descarga de datos:\n",
        "\n",
        "Vamos a descargar los datos proporcionados por la compañia [sentiment140](http://help.sentiment140.com/for-students). "
      ],
      "metadata": {
        "id": "KXtQUW24U_bW"
      }
    },
    {
      "cell_type": "code",
      "source": [
        "!wget http://cs.stanford.edu/people/alecmgo/trainingandtestdata.zip\n",
        "!unzip trainingandtestdata.zip"
      ],
      "metadata": {
        "id": "tnUVsu_ZdAFp",
        "colab": {
          "base_uri": "https://localhost:8080/"
        },
        "outputId": "9bb55a77-7421-47bf-a8e9-05f1797139ef"
      },
      "execution_count": null,
      "outputs": [
        {
          "output_type": "stream",
          "name": "stdout",
          "text": [
            "URL transformed to HTTPS due to an HSTS policy\n",
            "--2022-05-26 19:06:49--  https://cs.stanford.edu/people/alecmgo/trainingandtestdata.zip\n",
            "Resolving cs.stanford.edu (cs.stanford.edu)... 171.64.64.64\n",
            "Connecting to cs.stanford.edu (cs.stanford.edu)|171.64.64.64|:443... connected.\n",
            "HTTP request sent, awaiting response... 200 OK\n",
            "Length: 81363704 (78M) [application/zip]\n",
            "Saving to: ‘trainingandtestdata.zip.1’\n",
            "\n",
            "trainingandtestdata 100%[===================>]  77.59M  19.8MB/s    in 5.0s    \n",
            "\n",
            "2022-05-26 19:06:55 (15.6 MB/s) - ‘trainingandtestdata.zip.1’ saved [81363704/81363704]\n",
            "\n",
            "Archive:  trainingandtestdata.zip\n",
            "replace testdata.manual.2009.06.14.csv? [y]es, [n]o, [A]ll, [N]one, [r]ename: N\n"
          ]
        }
      ]
    },
    {
      "cell_type": "markdown",
      "source": [
        "Los datos con los que vamos a trabajar están contenidos en el archivo csv llamado \"testdata.manual.2009.06.14.csv\". El archivo tiene 6 campos:\n",
        "\n",
        "\n",
        "\n",
        "*   Polaridad del tweet:\n",
        "    - 0 --> Negativo\n",
        "    - 2 --> Neutral \n",
        "    - 4 --> Positivo\n",
        "*   Identificador\n",
        "*   Fecha del tweet\n",
        "*   Campo no utilizado\n",
        "*   Usuario autor del tweet\n",
        "*   Texto del tweet\n",
        "\n"
      ],
      "metadata": {
        "id": "B5heCQtFdhiu"
      }
    },
    {
      "cell_type": "markdown",
      "source": [
        "### Importación de datos\n"
      ],
      "metadata": {
        "id": "laBZ_X6Re3ps"
      }
    },
    {
      "cell_type": "code",
      "source": [
        "import numpy as np\n",
        "import pandas as pd\n",
        "\n",
        "datos = pd.read_csv(\"training.1600000.processed.noemoticon.csv\",sep=\",\",\n",
        "                    names=[\"label\",\"id\",\"fecha\",\"not_used\",\"autor\",\"texto\"],\n",
        "                    header=None, encoding='latin-1')\n"
      ],
      "metadata": {
        "id": "tmUp-ltjdRBB"
      },
      "execution_count": null,
      "outputs": []
    },
    {
      "cell_type": "code",
      "source": [
        "datos"
      ],
      "metadata": {
        "colab": {
          "base_uri": "https://localhost:8080/",
          "height": 423
        },
        "id": "cLTHetV4w-Ae",
        "outputId": "89bfd6a4-5225-446c-847c-1bb62e22f292"
      },
      "execution_count": null,
      "outputs": [
        {
          "output_type": "execute_result",
          "data": {
            "text/plain": [
              "         label          id                         fecha  not_used  \\\n",
              "0            0  1467810369  Mon Apr 06 22:19:45 PDT 2009  NO_QUERY   \n",
              "1            0  1467810672  Mon Apr 06 22:19:49 PDT 2009  NO_QUERY   \n",
              "2            0  1467810917  Mon Apr 06 22:19:53 PDT 2009  NO_QUERY   \n",
              "3            0  1467811184  Mon Apr 06 22:19:57 PDT 2009  NO_QUERY   \n",
              "4            0  1467811193  Mon Apr 06 22:19:57 PDT 2009  NO_QUERY   \n",
              "...        ...         ...                           ...       ...   \n",
              "1599995      4  2193601966  Tue Jun 16 08:40:49 PDT 2009  NO_QUERY   \n",
              "1599996      4  2193601969  Tue Jun 16 08:40:49 PDT 2009  NO_QUERY   \n",
              "1599997      4  2193601991  Tue Jun 16 08:40:49 PDT 2009  NO_QUERY   \n",
              "1599998      4  2193602064  Tue Jun 16 08:40:49 PDT 2009  NO_QUERY   \n",
              "1599999      4  2193602129  Tue Jun 16 08:40:50 PDT 2009  NO_QUERY   \n",
              "\n",
              "                   autor                                              texto  \n",
              "0        _TheSpecialOne_  @switchfoot http://twitpic.com/2y1zl - Awww, t...  \n",
              "1          scotthamilton  is upset that he can't update his Facebook by ...  \n",
              "2               mattycus  @Kenichan I dived many times for the ball. Man...  \n",
              "3                ElleCTF    my whole body feels itchy and like its on fire   \n",
              "4                 Karoli  @nationwideclass no, it's not behaving at all....  \n",
              "...                  ...                                                ...  \n",
              "1599995  AmandaMarie1028  Just woke up. Having no school is the best fee...  \n",
              "1599996      TheWDBoards  TheWDB.com - Very cool to hear old Walt interv...  \n",
              "1599997           bpbabe  Are you ready for your MoJo Makeover? Ask me f...  \n",
              "1599998     tinydiamondz  Happy 38th Birthday to my boo of alll time!!! ...  \n",
              "1599999   RyanTrevMorris  happy #charitytuesday @theNSPCC @SparksCharity...  \n",
              "\n",
              "[1600000 rows x 6 columns]"
            ],
            "text/html": [
              "\n",
              "  <div id=\"df-5ace78d8-8de8-407c-901b-a2abab0fc06c\">\n",
              "    <div class=\"colab-df-container\">\n",
              "      <div>\n",
              "<style scoped>\n",
              "    .dataframe tbody tr th:only-of-type {\n",
              "        vertical-align: middle;\n",
              "    }\n",
              "\n",
              "    .dataframe tbody tr th {\n",
              "        vertical-align: top;\n",
              "    }\n",
              "\n",
              "    .dataframe thead th {\n",
              "        text-align: right;\n",
              "    }\n",
              "</style>\n",
              "<table border=\"1\" class=\"dataframe\">\n",
              "  <thead>\n",
              "    <tr style=\"text-align: right;\">\n",
              "      <th></th>\n",
              "      <th>label</th>\n",
              "      <th>id</th>\n",
              "      <th>fecha</th>\n",
              "      <th>not_used</th>\n",
              "      <th>autor</th>\n",
              "      <th>texto</th>\n",
              "    </tr>\n",
              "  </thead>\n",
              "  <tbody>\n",
              "    <tr>\n",
              "      <th>0</th>\n",
              "      <td>0</td>\n",
              "      <td>1467810369</td>\n",
              "      <td>Mon Apr 06 22:19:45 PDT 2009</td>\n",
              "      <td>NO_QUERY</td>\n",
              "      <td>_TheSpecialOne_</td>\n",
              "      <td>@switchfoot http://twitpic.com/2y1zl - Awww, t...</td>\n",
              "    </tr>\n",
              "    <tr>\n",
              "      <th>1</th>\n",
              "      <td>0</td>\n",
              "      <td>1467810672</td>\n",
              "      <td>Mon Apr 06 22:19:49 PDT 2009</td>\n",
              "      <td>NO_QUERY</td>\n",
              "      <td>scotthamilton</td>\n",
              "      <td>is upset that he can't update his Facebook by ...</td>\n",
              "    </tr>\n",
              "    <tr>\n",
              "      <th>2</th>\n",
              "      <td>0</td>\n",
              "      <td>1467810917</td>\n",
              "      <td>Mon Apr 06 22:19:53 PDT 2009</td>\n",
              "      <td>NO_QUERY</td>\n",
              "      <td>mattycus</td>\n",
              "      <td>@Kenichan I dived many times for the ball. Man...</td>\n",
              "    </tr>\n",
              "    <tr>\n",
              "      <th>3</th>\n",
              "      <td>0</td>\n",
              "      <td>1467811184</td>\n",
              "      <td>Mon Apr 06 22:19:57 PDT 2009</td>\n",
              "      <td>NO_QUERY</td>\n",
              "      <td>ElleCTF</td>\n",
              "      <td>my whole body feels itchy and like its on fire</td>\n",
              "    </tr>\n",
              "    <tr>\n",
              "      <th>4</th>\n",
              "      <td>0</td>\n",
              "      <td>1467811193</td>\n",
              "      <td>Mon Apr 06 22:19:57 PDT 2009</td>\n",
              "      <td>NO_QUERY</td>\n",
              "      <td>Karoli</td>\n",
              "      <td>@nationwideclass no, it's not behaving at all....</td>\n",
              "    </tr>\n",
              "    <tr>\n",
              "      <th>...</th>\n",
              "      <td>...</td>\n",
              "      <td>...</td>\n",
              "      <td>...</td>\n",
              "      <td>...</td>\n",
              "      <td>...</td>\n",
              "      <td>...</td>\n",
              "    </tr>\n",
              "    <tr>\n",
              "      <th>1599995</th>\n",
              "      <td>4</td>\n",
              "      <td>2193601966</td>\n",
              "      <td>Tue Jun 16 08:40:49 PDT 2009</td>\n",
              "      <td>NO_QUERY</td>\n",
              "      <td>AmandaMarie1028</td>\n",
              "      <td>Just woke up. Having no school is the best fee...</td>\n",
              "    </tr>\n",
              "    <tr>\n",
              "      <th>1599996</th>\n",
              "      <td>4</td>\n",
              "      <td>2193601969</td>\n",
              "      <td>Tue Jun 16 08:40:49 PDT 2009</td>\n",
              "      <td>NO_QUERY</td>\n",
              "      <td>TheWDBoards</td>\n",
              "      <td>TheWDB.com - Very cool to hear old Walt interv...</td>\n",
              "    </tr>\n",
              "    <tr>\n",
              "      <th>1599997</th>\n",
              "      <td>4</td>\n",
              "      <td>2193601991</td>\n",
              "      <td>Tue Jun 16 08:40:49 PDT 2009</td>\n",
              "      <td>NO_QUERY</td>\n",
              "      <td>bpbabe</td>\n",
              "      <td>Are you ready for your MoJo Makeover? Ask me f...</td>\n",
              "    </tr>\n",
              "    <tr>\n",
              "      <th>1599998</th>\n",
              "      <td>4</td>\n",
              "      <td>2193602064</td>\n",
              "      <td>Tue Jun 16 08:40:49 PDT 2009</td>\n",
              "      <td>NO_QUERY</td>\n",
              "      <td>tinydiamondz</td>\n",
              "      <td>Happy 38th Birthday to my boo of alll time!!! ...</td>\n",
              "    </tr>\n",
              "    <tr>\n",
              "      <th>1599999</th>\n",
              "      <td>4</td>\n",
              "      <td>2193602129</td>\n",
              "      <td>Tue Jun 16 08:40:50 PDT 2009</td>\n",
              "      <td>NO_QUERY</td>\n",
              "      <td>RyanTrevMorris</td>\n",
              "      <td>happy #charitytuesday @theNSPCC @SparksCharity...</td>\n",
              "    </tr>\n",
              "  </tbody>\n",
              "</table>\n",
              "<p>1600000 rows × 6 columns</p>\n",
              "</div>\n",
              "      <button class=\"colab-df-convert\" onclick=\"convertToInteractive('df-5ace78d8-8de8-407c-901b-a2abab0fc06c')\"\n",
              "              title=\"Convert this dataframe to an interactive table.\"\n",
              "              style=\"display:none;\">\n",
              "        \n",
              "  <svg xmlns=\"http://www.w3.org/2000/svg\" height=\"24px\"viewBox=\"0 0 24 24\"\n",
              "       width=\"24px\">\n",
              "    <path d=\"M0 0h24v24H0V0z\" fill=\"none\"/>\n",
              "    <path d=\"M18.56 5.44l.94 2.06.94-2.06 2.06-.94-2.06-.94-.94-2.06-.94 2.06-2.06.94zm-11 1L8.5 8.5l.94-2.06 2.06-.94-2.06-.94L8.5 2.5l-.94 2.06-2.06.94zm10 10l.94 2.06.94-2.06 2.06-.94-2.06-.94-.94-2.06-.94 2.06-2.06.94z\"/><path d=\"M17.41 7.96l-1.37-1.37c-.4-.4-.92-.59-1.43-.59-.52 0-1.04.2-1.43.59L10.3 9.45l-7.72 7.72c-.78.78-.78 2.05 0 2.83L4 21.41c.39.39.9.59 1.41.59.51 0 1.02-.2 1.41-.59l7.78-7.78 2.81-2.81c.8-.78.8-2.07 0-2.86zM5.41 20L4 18.59l7.72-7.72 1.47 1.35L5.41 20z\"/>\n",
              "  </svg>\n",
              "      </button>\n",
              "      \n",
              "  <style>\n",
              "    .colab-df-container {\n",
              "      display:flex;\n",
              "      flex-wrap:wrap;\n",
              "      gap: 12px;\n",
              "    }\n",
              "\n",
              "    .colab-df-convert {\n",
              "      background-color: #E8F0FE;\n",
              "      border: none;\n",
              "      border-radius: 50%;\n",
              "      cursor: pointer;\n",
              "      display: none;\n",
              "      fill: #1967D2;\n",
              "      height: 32px;\n",
              "      padding: 0 0 0 0;\n",
              "      width: 32px;\n",
              "    }\n",
              "\n",
              "    .colab-df-convert:hover {\n",
              "      background-color: #E2EBFA;\n",
              "      box-shadow: 0px 1px 2px rgba(60, 64, 67, 0.3), 0px 1px 3px 1px rgba(60, 64, 67, 0.15);\n",
              "      fill: #174EA6;\n",
              "    }\n",
              "\n",
              "    [theme=dark] .colab-df-convert {\n",
              "      background-color: #3B4455;\n",
              "      fill: #D2E3FC;\n",
              "    }\n",
              "\n",
              "    [theme=dark] .colab-df-convert:hover {\n",
              "      background-color: #434B5C;\n",
              "      box-shadow: 0px 1px 3px 1px rgba(0, 0, 0, 0.15);\n",
              "      filter: drop-shadow(0px 1px 2px rgba(0, 0, 0, 0.3));\n",
              "      fill: #FFFFFF;\n",
              "    }\n",
              "  </style>\n",
              "\n",
              "      <script>\n",
              "        const buttonEl =\n",
              "          document.querySelector('#df-5ace78d8-8de8-407c-901b-a2abab0fc06c button.colab-df-convert');\n",
              "        buttonEl.style.display =\n",
              "          google.colab.kernel.accessAllowed ? 'block' : 'none';\n",
              "\n",
              "        async function convertToInteractive(key) {\n",
              "          const element = document.querySelector('#df-5ace78d8-8de8-407c-901b-a2abab0fc06c');\n",
              "          const dataTable =\n",
              "            await google.colab.kernel.invokeFunction('convertToInteractive',\n",
              "                                                     [key], {});\n",
              "          if (!dataTable) return;\n",
              "\n",
              "          const docLinkHtml = 'Like what you see? Visit the ' +\n",
              "            '<a target=\"_blank\" href=https://colab.research.google.com/notebooks/data_table.ipynb>data table notebook</a>'\n",
              "            + ' to learn more about interactive tables.';\n",
              "          element.innerHTML = '';\n",
              "          dataTable['output_type'] = 'display_data';\n",
              "          await google.colab.output.renderOutput(dataTable, element);\n",
              "          const docLink = document.createElement('div');\n",
              "          docLink.innerHTML = docLinkHtml;\n",
              "          element.appendChild(docLink);\n",
              "        }\n",
              "      </script>\n",
              "    </div>\n",
              "  </div>\n",
              "  "
            ]
          },
          "metadata": {},
          "execution_count": 4
        }
      ]
    },
    {
      "cell_type": "markdown",
      "source": [
        "Nos vamos a quedar sólo con los tweets con etiqueta positivo (4) y negativo (0):"
      ],
      "metadata": {
        "id": "9opWMwHgksoq"
      }
    },
    {
      "cell_type": "code",
      "source": [
        "datos = datos[datos.label.isin([0,4])]  #[0,4]"
      ],
      "metadata": {
        "id": "PHnWr96mgrcN"
      },
      "execution_count": null,
      "outputs": []
    },
    {
      "cell_type": "markdown",
      "source": [
        "Vamos a trabajar con una muestra más reducida (un total de 20000 tweets). \"Desbalanceando\" el conjunto de datos para tener que gestionar el desbalanceo de clases."
      ],
      "metadata": {
        "id": "iznPbn9ekz8J"
      }
    },
    {
      "cell_type": "code",
      "source": [
        "neg_tweets = datos[datos.label==0].sample(13000)  #0\n",
        "pos_tweets = datos[datos.label==4].sample(7000)  #4\n",
        "datos = pd.concat([neg_tweets,pos_tweets ], ignore_index=True)"
      ],
      "metadata": {
        "id": "rvkVKHYUk0HY"
      },
      "execution_count": null,
      "outputs": []
    },
    {
      "cell_type": "code",
      "source": [
        "datos"
      ],
      "metadata": {
        "colab": {
          "base_uri": "https://localhost:8080/",
          "height": 423
        },
        "id": "Mo1LRp0QxULe",
        "outputId": "112a9d7d-8a02-40df-80e4-ed750222edf2"
      },
      "execution_count": null,
      "outputs": [
        {
          "output_type": "execute_result",
          "data": {
            "text/plain": [
              "       label          id                         fecha  not_used  \\\n",
              "0          0  2003084512  Tue Jun 02 05:50:44 PDT 2009  NO_QUERY   \n",
              "1          0  1984738467  Sun May 31 15:42:34 PDT 2009  NO_QUERY   \n",
              "2          0  2068037535  Sun Jun 07 13:23:27 PDT 2009  NO_QUERY   \n",
              "3          0  1833613005  Sun May 17 23:51:40 PDT 2009  NO_QUERY   \n",
              "4          0  1974397212  Sat May 30 13:03:15 PDT 2009  NO_QUERY   \n",
              "...      ...         ...                           ...       ...   \n",
              "19995      4  1960315077  Fri May 29 07:46:10 PDT 2009  NO_QUERY   \n",
              "19996      4  2186697869  Mon Jun 15 19:12:29 PDT 2009  NO_QUERY   \n",
              "19997      4  1883133555  Fri May 22 08:03:42 PDT 2009  NO_QUERY   \n",
              "19998      4  1556569855  Sat Apr 18 23:22:25 PDT 2009  NO_QUERY   \n",
              "19999      4  1969689572  Sat May 30 00:52:39 PDT 2009  NO_QUERY   \n",
              "\n",
              "               autor                                              texto  \n",
              "0           llanelwy  Time to head to work. Doing the late shift tod...  \n",
              "1            srcohen                            Thunderstorm in Boston   \n",
              "2           mdltbird  What a beautiful day. Going to see my friend t...  \n",
              "3           kiraling  @pursebuzz Finally someone admits it! Storylin...  \n",
              "4        Clintendo64  Were passing lake travis right now. I want to ...  \n",
              "...              ...                                                ...  \n",
              "19995      Sharky909  @ThisIsRobThomas hey, what are you working on ...  \n",
              "19996  EtrntyNTwlght  @KalebNation  I love the quote thing, but musi...  \n",
              "19997   CrystalHebel    @msrachelriley I need my fat girl beauty rest    \n",
              "19998         buzzvn  some nice presentations up on slideshare, when...  \n",
              "19999       Araselle  My mum's here til monday morning, say hello to...  \n",
              "\n",
              "[20000 rows x 6 columns]"
            ],
            "text/html": [
              "\n",
              "  <div id=\"df-352be741-7446-4928-932e-3e579ba3325a\">\n",
              "    <div class=\"colab-df-container\">\n",
              "      <div>\n",
              "<style scoped>\n",
              "    .dataframe tbody tr th:only-of-type {\n",
              "        vertical-align: middle;\n",
              "    }\n",
              "\n",
              "    .dataframe tbody tr th {\n",
              "        vertical-align: top;\n",
              "    }\n",
              "\n",
              "    .dataframe thead th {\n",
              "        text-align: right;\n",
              "    }\n",
              "</style>\n",
              "<table border=\"1\" class=\"dataframe\">\n",
              "  <thead>\n",
              "    <tr style=\"text-align: right;\">\n",
              "      <th></th>\n",
              "      <th>label</th>\n",
              "      <th>id</th>\n",
              "      <th>fecha</th>\n",
              "      <th>not_used</th>\n",
              "      <th>autor</th>\n",
              "      <th>texto</th>\n",
              "    </tr>\n",
              "  </thead>\n",
              "  <tbody>\n",
              "    <tr>\n",
              "      <th>0</th>\n",
              "      <td>0</td>\n",
              "      <td>2003084512</td>\n",
              "      <td>Tue Jun 02 05:50:44 PDT 2009</td>\n",
              "      <td>NO_QUERY</td>\n",
              "      <td>llanelwy</td>\n",
              "      <td>Time to head to work. Doing the late shift tod...</td>\n",
              "    </tr>\n",
              "    <tr>\n",
              "      <th>1</th>\n",
              "      <td>0</td>\n",
              "      <td>1984738467</td>\n",
              "      <td>Sun May 31 15:42:34 PDT 2009</td>\n",
              "      <td>NO_QUERY</td>\n",
              "      <td>srcohen</td>\n",
              "      <td>Thunderstorm in Boston</td>\n",
              "    </tr>\n",
              "    <tr>\n",
              "      <th>2</th>\n",
              "      <td>0</td>\n",
              "      <td>2068037535</td>\n",
              "      <td>Sun Jun 07 13:23:27 PDT 2009</td>\n",
              "      <td>NO_QUERY</td>\n",
              "      <td>mdltbird</td>\n",
              "      <td>What a beautiful day. Going to see my friend t...</td>\n",
              "    </tr>\n",
              "    <tr>\n",
              "      <th>3</th>\n",
              "      <td>0</td>\n",
              "      <td>1833613005</td>\n",
              "      <td>Sun May 17 23:51:40 PDT 2009</td>\n",
              "      <td>NO_QUERY</td>\n",
              "      <td>kiraling</td>\n",
              "      <td>@pursebuzz Finally someone admits it! Storylin...</td>\n",
              "    </tr>\n",
              "    <tr>\n",
              "      <th>4</th>\n",
              "      <td>0</td>\n",
              "      <td>1974397212</td>\n",
              "      <td>Sat May 30 13:03:15 PDT 2009</td>\n",
              "      <td>NO_QUERY</td>\n",
              "      <td>Clintendo64</td>\n",
              "      <td>Were passing lake travis right now. I want to ...</td>\n",
              "    </tr>\n",
              "    <tr>\n",
              "      <th>...</th>\n",
              "      <td>...</td>\n",
              "      <td>...</td>\n",
              "      <td>...</td>\n",
              "      <td>...</td>\n",
              "      <td>...</td>\n",
              "      <td>...</td>\n",
              "    </tr>\n",
              "    <tr>\n",
              "      <th>19995</th>\n",
              "      <td>4</td>\n",
              "      <td>1960315077</td>\n",
              "      <td>Fri May 29 07:46:10 PDT 2009</td>\n",
              "      <td>NO_QUERY</td>\n",
              "      <td>Sharky909</td>\n",
              "      <td>@ThisIsRobThomas hey, what are you working on ...</td>\n",
              "    </tr>\n",
              "    <tr>\n",
              "      <th>19996</th>\n",
              "      <td>4</td>\n",
              "      <td>2186697869</td>\n",
              "      <td>Mon Jun 15 19:12:29 PDT 2009</td>\n",
              "      <td>NO_QUERY</td>\n",
              "      <td>EtrntyNTwlght</td>\n",
              "      <td>@KalebNation  I love the quote thing, but musi...</td>\n",
              "    </tr>\n",
              "    <tr>\n",
              "      <th>19997</th>\n",
              "      <td>4</td>\n",
              "      <td>1883133555</td>\n",
              "      <td>Fri May 22 08:03:42 PDT 2009</td>\n",
              "      <td>NO_QUERY</td>\n",
              "      <td>CrystalHebel</td>\n",
              "      <td>@msrachelriley I need my fat girl beauty rest</td>\n",
              "    </tr>\n",
              "    <tr>\n",
              "      <th>19998</th>\n",
              "      <td>4</td>\n",
              "      <td>1556569855</td>\n",
              "      <td>Sat Apr 18 23:22:25 PDT 2009</td>\n",
              "      <td>NO_QUERY</td>\n",
              "      <td>buzzvn</td>\n",
              "      <td>some nice presentations up on slideshare, when...</td>\n",
              "    </tr>\n",
              "    <tr>\n",
              "      <th>19999</th>\n",
              "      <td>4</td>\n",
              "      <td>1969689572</td>\n",
              "      <td>Sat May 30 00:52:39 PDT 2009</td>\n",
              "      <td>NO_QUERY</td>\n",
              "      <td>Araselle</td>\n",
              "      <td>My mum's here til monday morning, say hello to...</td>\n",
              "    </tr>\n",
              "  </tbody>\n",
              "</table>\n",
              "<p>20000 rows × 6 columns</p>\n",
              "</div>\n",
              "      <button class=\"colab-df-convert\" onclick=\"convertToInteractive('df-352be741-7446-4928-932e-3e579ba3325a')\"\n",
              "              title=\"Convert this dataframe to an interactive table.\"\n",
              "              style=\"display:none;\">\n",
              "        \n",
              "  <svg xmlns=\"http://www.w3.org/2000/svg\" height=\"24px\"viewBox=\"0 0 24 24\"\n",
              "       width=\"24px\">\n",
              "    <path d=\"M0 0h24v24H0V0z\" fill=\"none\"/>\n",
              "    <path d=\"M18.56 5.44l.94 2.06.94-2.06 2.06-.94-2.06-.94-.94-2.06-.94 2.06-2.06.94zm-11 1L8.5 8.5l.94-2.06 2.06-.94-2.06-.94L8.5 2.5l-.94 2.06-2.06.94zm10 10l.94 2.06.94-2.06 2.06-.94-2.06-.94-.94-2.06-.94 2.06-2.06.94z\"/><path d=\"M17.41 7.96l-1.37-1.37c-.4-.4-.92-.59-1.43-.59-.52 0-1.04.2-1.43.59L10.3 9.45l-7.72 7.72c-.78.78-.78 2.05 0 2.83L4 21.41c.39.39.9.59 1.41.59.51 0 1.02-.2 1.41-.59l7.78-7.78 2.81-2.81c.8-.78.8-2.07 0-2.86zM5.41 20L4 18.59l7.72-7.72 1.47 1.35L5.41 20z\"/>\n",
              "  </svg>\n",
              "      </button>\n",
              "      \n",
              "  <style>\n",
              "    .colab-df-container {\n",
              "      display:flex;\n",
              "      flex-wrap:wrap;\n",
              "      gap: 12px;\n",
              "    }\n",
              "\n",
              "    .colab-df-convert {\n",
              "      background-color: #E8F0FE;\n",
              "      border: none;\n",
              "      border-radius: 50%;\n",
              "      cursor: pointer;\n",
              "      display: none;\n",
              "      fill: #1967D2;\n",
              "      height: 32px;\n",
              "      padding: 0 0 0 0;\n",
              "      width: 32px;\n",
              "    }\n",
              "\n",
              "    .colab-df-convert:hover {\n",
              "      background-color: #E2EBFA;\n",
              "      box-shadow: 0px 1px 2px rgba(60, 64, 67, 0.3), 0px 1px 3px 1px rgba(60, 64, 67, 0.15);\n",
              "      fill: #174EA6;\n",
              "    }\n",
              "\n",
              "    [theme=dark] .colab-df-convert {\n",
              "      background-color: #3B4455;\n",
              "      fill: #D2E3FC;\n",
              "    }\n",
              "\n",
              "    [theme=dark] .colab-df-convert:hover {\n",
              "      background-color: #434B5C;\n",
              "      box-shadow: 0px 1px 3px 1px rgba(0, 0, 0, 0.15);\n",
              "      filter: drop-shadow(0px 1px 2px rgba(0, 0, 0, 0.3));\n",
              "      fill: #FFFFFF;\n",
              "    }\n",
              "  </style>\n",
              "\n",
              "      <script>\n",
              "        const buttonEl =\n",
              "          document.querySelector('#df-352be741-7446-4928-932e-3e579ba3325a button.colab-df-convert');\n",
              "        buttonEl.style.display =\n",
              "          google.colab.kernel.accessAllowed ? 'block' : 'none';\n",
              "\n",
              "        async function convertToInteractive(key) {\n",
              "          const element = document.querySelector('#df-352be741-7446-4928-932e-3e579ba3325a');\n",
              "          const dataTable =\n",
              "            await google.colab.kernel.invokeFunction('convertToInteractive',\n",
              "                                                     [key], {});\n",
              "          if (!dataTable) return;\n",
              "\n",
              "          const docLinkHtml = 'Like what you see? Visit the ' +\n",
              "            '<a target=\"_blank\" href=https://colab.research.google.com/notebooks/data_table.ipynb>data table notebook</a>'\n",
              "            + ' to learn more about interactive tables.';\n",
              "          element.innerHTML = '';\n",
              "          dataTable['output_type'] = 'display_data';\n",
              "          await google.colab.output.renderOutput(dataTable, element);\n",
              "          const docLink = document.createElement('div');\n",
              "          docLink.innerHTML = docLinkHtml;\n",
              "          element.appendChild(docLink);\n",
              "        }\n",
              "      </script>\n",
              "    </div>\n",
              "  </div>\n",
              "  "
            ]
          },
          "metadata": {},
          "execution_count": 8
        }
      ]
    },
    {
      "cell_type": "markdown",
      "source": [
        "### Análisis exploratorio de los datos (EDA)\n"
      ],
      "metadata": {
        "id": "OqyjyVj_fEpX"
      }
    },
    {
      "cell_type": "markdown",
      "source": [
        "Como es habitual, vamos a hacer un pequeño análisis exploratorio de los datos.\n"
      ],
      "metadata": {
        "id": "_VexUkssedri"
      }
    },
    {
      "cell_type": "markdown",
      "source": [
        "\n",
        "*   **Nº de documentos y columnas**\n",
        "\n"
      ],
      "metadata": {
        "id": "p-j5f6aUfNCA"
      }
    },
    {
      "cell_type": "code",
      "source": [
        "print(\"Tenemos un conjunto de {} documentos\".format(len(datos)))\n",
        "print(\"El dataframe tiene {} columnas\".format(datos.shape[1]))"
      ],
      "metadata": {
        "id": "c7WAq6i-fMgx",
        "colab": {
          "base_uri": "https://localhost:8080/"
        },
        "outputId": "d93f7187-52f9-46e1-8b2b-7061506cbf9f"
      },
      "execution_count": null,
      "outputs": [
        {
          "output_type": "stream",
          "name": "stdout",
          "text": [
            "Tenemos un conjunto de 20000 documentos\n",
            "El dataframe tiene 6 columnas\n"
          ]
        }
      ]
    },
    {
      "cell_type": "markdown",
      "source": [
        "\n",
        "*   **Análisis simple de duplicados**\n",
        "\n"
      ],
      "metadata": {
        "id": "sAcv2IwSfyi_"
      }
    },
    {
      "cell_type": "code",
      "metadata": {
        "id": "RlTJyjagXNIK",
        "colab": {
          "base_uri": "https://localhost:8080/"
        },
        "outputId": "1ab4bb52-6a49-4594-e93c-73fc1d75c774"
      },
      "source": [
        "print(\"Existen {} tweets que están duplicados. Procedemos a eliminarlos...\".format(np.sum(datos.duplicated(subset=[\"texto\"]))))\n",
        "# Quitaremos esos duplicados\n",
        "datos = datos.drop_duplicates(subset=\"texto\")\n",
        "print(\"Despues de quitar duplicados tenemos un conjunto de {} noticias\".format(datos.shape[0]))"
      ],
      "execution_count": null,
      "outputs": [
        {
          "output_type": "stream",
          "name": "stdout",
          "text": [
            "Existen 26 tweets que están duplicados. Procedemos a eliminarlos...\n",
            "Despues de quitar duplicados tenemos un conjunto de 19974 noticias\n"
          ]
        }
      ]
    },
    {
      "cell_type": "markdown",
      "source": [
        "*   **Análisis de etiquetas**\n",
        "\n",
        "Anteriormente hemos seleccionado unicamente las etiquetas 0 y 4 para simplificar el clasificador que generemos. Vamos a ver la distribución de estas:\n",
        "\n",
        "\n",
        "\n"
      ],
      "metadata": {
        "id": "JxwK6hmVgf9R"
      }
    },
    {
      "cell_type": "code",
      "source": [
        "datos[\"label\"].value_counts() #value_counts()"
      ],
      "metadata": {
        "id": "PLg-YyWChWpF",
        "colab": {
          "base_uri": "https://localhost:8080/"
        },
        "outputId": "fcabd415-5c36-4ebc-f328-55318da1e0d3"
      },
      "execution_count": null,
      "outputs": [
        {
          "output_type": "execute_result",
          "data": {
            "text/plain": [
              "0    12977\n",
              "4     6997\n",
              "Name: label, dtype: int64"
            ]
          },
          "metadata": {},
          "execution_count": 11
        }
      ]
    },
    {
      "cell_type": "markdown",
      "source": [
        "Como hemos visto antes, es un desdataset balanceado. Nuestra clase de interes (clase positiva,4) es claramente minoritaria. Tendremos que gestionar el desbalanceo de clases en pasos posteriores.\n",
        "\n",
        "\n",
        "_importante para el ejercicio propuesto!!!_"
      ],
      "metadata": {
        "id": "KEcYcvKrham8"
      }
    },
    {
      "cell_type": "markdown",
      "source": [
        "*   **Contenido de los tweets**\n",
        "\n",
        "Antes de empezar a procesar, vamos a revisar algunos tweets de cada una de las dos clases"
      ],
      "metadata": {
        "id": "CqrHTK1Jityz"
      }
    },
    {
      "cell_type": "markdown",
      "source": [
        "Tweets positivos:"
      ],
      "metadata": {
        "id": "1sIVi1ORjBVs"
      }
    },
    {
      "cell_type": "code",
      "source": [
        "datos[datos.label==4].sample(3).texto.to_list()"
      ],
      "metadata": {
        "id": "7k_sACZ9dZ0b",
        "colab": {
          "base_uri": "https://localhost:8080/"
        },
        "outputId": "4fbc1738-9efe-4856-d2ff-1c18f87b15c5"
      },
      "execution_count": null,
      "outputs": [
        {
          "output_type": "execute_result",
          "data": {
            "text/plain": [
              "['@ruSh_Me Lollzz Really... I dont track my readers so would never know ',\n",
              " 'Is Watching A Movie With Dill. ',\n",
              " \"@blueholly I luv you too and no you hadn't! I was waiting fooooorrrreeeevvveeerrrr! \"]"
            ]
          },
          "metadata": {},
          "execution_count": 12
        }
      ]
    },
    {
      "cell_type": "markdown",
      "source": [
        "Tweets negativos:"
      ],
      "metadata": {
        "id": "mXdxY5IAjC-0"
      }
    },
    {
      "cell_type": "code",
      "source": [
        "datos[datos.label==0].sample(3).texto.to_list()"
      ],
      "metadata": {
        "id": "udKxuOuReyLA",
        "colab": {
          "base_uri": "https://localhost:8080/"
        },
        "outputId": "225044d8-a75b-4c7b-ed7a-6987a2664458"
      },
      "execution_count": null,
      "outputs": [
        {
          "output_type": "execute_result",
          "data": {
            "text/plain": [
              "[\"@nsane8 I hate that u won't be able to tweet at work anymore \",\n",
              " '@templon I personally know so many people/agencies which could have built these sites. It is like a Pres candidate buying a Honda. ',\n",
              " \"Just realised I can't find my sonic screwdriver! I &lt;3 my screwdriver \"]"
            ]
          },
          "metadata": {},
          "execution_count": 13
        }
      ]
    },
    {
      "cell_type": "markdown",
      "metadata": {
        "id": "Ors90Yon5aJf"
      },
      "source": [
        "* **Distribución de la longitud de los tweets en caracteres:**\n",
        "\n",
        "Para seguir con el análisis exploratorio, vamos a hacer un cálculo típico: la longitud de cada uno de los textos de los documentos para despues dibujar su histograma. \n",
        "\n",
        "Comenzamos creando las columnas que van a almacenar las longitud en caracteres y en tokens de los documentos del corpus:"
      ]
    },
    {
      "cell_type": "code",
      "metadata": {
        "id": "fVjO14rKXWXL",
        "colab": {
          "base_uri": "https://localhost:8080/"
        },
        "outputId": "f540f9ee-bf98-4678-8b46-9a5c346701b6"
      },
      "source": [
        "datos[\"char_len\"] = datos[\"texto\"].apply(lambda x: len(x))  #len(x)"
      ],
      "execution_count": null,
      "outputs": [
        {
          "output_type": "stream",
          "name": "stderr",
          "text": [
            "/usr/local/lib/python3.7/dist-packages/ipykernel_launcher.py:1: SettingWithCopyWarning: \n",
            "A value is trying to be set on a copy of a slice from a DataFrame.\n",
            "Try using .loc[row_indexer,col_indexer] = value instead\n",
            "\n",
            "See the caveats in the documentation: https://pandas.pydata.org/pandas-docs/stable/user_guide/indexing.html#returning-a-view-versus-a-copy\n",
            "  \"\"\"Entry point for launching an IPython kernel.\n"
          ]
        }
      ]
    },
    {
      "cell_type": "markdown",
      "source": [
        "Vemos que todos los tweets  menos de 150 caracteres. Si quisiéramos utilizar con un modelo nuevo, deberíamos entrenar con datos más recientes."
      ],
      "metadata": {
        "id": "1lK-wYcM8Mb5"
      }
    },
    {
      "cell_type": "code",
      "source": [
        "# Importamos las librerías matplotlib y seaborn:\n",
        "import matplotlib.pyplot as plt\n",
        "import seaborn as sns\n",
        "\n",
        "fig = plt.figure(figsize=(14,6))\n",
        "sns.set_style(\"darkgrid\")\n",
        "# añadimos series para cada categoría (eligiendo la seríe de char_len\n",
        "plt1 = sns.distplot(datos[datos[\"label\"]==0].char_len, hist=True, label=\"negativos\")\n",
        "plt2 = sns.distplot(datos[datos[\"label\"]==4].char_len, hist=True, label=\"positivos\")\n",
        "fig.legend(labels=['negativos','positivos'], loc = 5)\n",
        "\n",
        "\n",
        "# Definimos el título de los ejes:\n",
        "plt.xlabel('Caracteres', fontsize=16)\n",
        "plt.ylabel('Densidad', fontsize=16)\n",
        "\n",
        "# Finalmente mostramos el gráfico:\n",
        "plt.show()\n"
      ],
      "metadata": {
        "id": "9Qh8tMrcLSmY",
        "colab": {
          "base_uri": "https://localhost:8080/",
          "height": 486
        },
        "outputId": "4eb71675-0c70-49a9-9e46-118d7c604616"
      },
      "execution_count": null,
      "outputs": [
        {
          "output_type": "stream",
          "name": "stderr",
          "text": [
            "/usr/local/lib/python3.7/dist-packages/seaborn/distributions.py:2619: FutureWarning: `distplot` is a deprecated function and will be removed in a future version. Please adapt your code to use either `displot` (a figure-level function with similar flexibility) or `histplot` (an axes-level function for histograms).\n",
            "  warnings.warn(msg, FutureWarning)\n",
            "/usr/local/lib/python3.7/dist-packages/seaborn/distributions.py:2619: FutureWarning: `distplot` is a deprecated function and will be removed in a future version. Please adapt your code to use either `displot` (a figure-level function with similar flexibility) or `histplot` (an axes-level function for histograms).\n",
            "  warnings.warn(msg, FutureWarning)\n"
          ]
        },
        {
          "output_type": "display_data",
          "data": {
            "text/plain": [
              "<Figure size 1008x432 with 1 Axes>"
            ],
            "image/png": "[encoded data removed]"
          },
          "metadata": {
            "needs_background": "light"
          }
        }
      ]
    },
    {
      "cell_type": "markdown",
      "metadata": {
        "id": "YURv-wywYDpq"
      },
      "source": [
        "### Transformación\n"
      ]
    },
    {
      "cell_type": "markdown",
      "metadata": {
        "id": "cG9xxARQYJ_8"
      },
      "source": [
        "Vamos a proceder a normalizar los datos. Para ello vamos a utilizar las funciones anteriormente definidas:\n",
        "\n",
        "- Preprocesar los textos:\n",
        "    - Primero expanderemos las contracciones de los tweets\n",
        "    - En esta ocasión no extraeremos los emojis.\n",
        "    - Tokenizaremos\n",
        "    - Quitaremos stop words\n",
        "    - Quitaremos puntuación\n",
        "    - Lematizaremos"
      ]
    },
    {
      "cell_type": "markdown",
      "source": [
        "#### Expandir contracciones.\n",
        "Este paso sólo se hace con contenido en inglés!! "
      ],
      "metadata": {
        "id": "9ZG1TFVXmvs3"
      }
    },
    {
      "cell_type": "code",
      "source": [
        "!pip install contractions\n",
        "import contractions"
      ],
      "metadata": {
        "colab": {
          "base_uri": "https://localhost:8080/"
        },
        "id": "71cLBTpJyb2A",
        "outputId": "95f0fc29-bcc6-44b3-9d8a-2b87f29e3f91"
      },
      "execution_count": null,
      "outputs": [
        {
          "output_type": "stream",
          "name": "stdout",
          "text": [
            "Looking in indexes: https://pypi.org/simple, https://us-python.pkg.dev/colab-wheels/public/simple/\n",
            "Collecting contractions\n",
            "  Downloading contractions-0.1.72-py2.py3-none-any.whl (8.3 kB)\n",
            "Collecting textsearch>=0.0.21\n",
            "  Downloading textsearch-0.0.21-py2.py3-none-any.whl (7.5 kB)\n",
            "Collecting pyahocorasick\n",
            "  Downloading pyahocorasick-1.4.4-cp37-cp37m-manylinux_2_17_x86_64.manylinux2014_x86_64.whl (106 kB)\n",
            "\u001b[K     |████████████████████████████████| 106 kB 21.6 MB/s \n",
            "\u001b[?25hCollecting anyascii\n",
            "  Downloading anyascii-0.3.1-py3-none-any.whl (287 kB)\n",
            "\u001b[K     |████████████████████████████████| 287 kB 78.0 MB/s \n",
            "\u001b[?25hInstalling collected packages: pyahocorasick, anyascii, textsearch, contractions\n",
            "Successfully installed anyascii-0.3.1 contractions-0.1.72 pyahocorasick-1.4.4 textsearch-0.0.21\n"
          ]
        }
      ]
    },
    {
      "cell_type": "code",
      "source": [
        "# Reemplazar contracciones y slang en inglés usando la librería \"contractions\" https://github.com/kootenpv/contractions\n",
        "def replace_contraction(text):\n",
        "    expanded_words = []\n",
        "    # Divide el texto\n",
        "    for t in text.split():\n",
        "        # Aplica la función fix en cada sección o token del texto buscando contracciones y slang\n",
        "        expanded_words.append(contractions.fix(t,slang=True))#fix(t, slang = True)\n",
        "    expanded_text = ' '.join(expanded_words) \n",
        "    return expanded_text"
      ],
      "metadata": {
        "id": "wsAt-y10m5v-"
      },
      "execution_count": null,
      "outputs": []
    },
    {
      "cell_type": "markdown",
      "source": [
        "Comprobamos su funcionamiento"
      ],
      "metadata": {
        "id": "DEop9GA48lGj"
      }
    },
    {
      "cell_type": "code",
      "source": [
        "replace_contraction(\"I'm very happy, I luv it\")"
      ],
      "metadata": {
        "id": "X63C9M7nndZb",
        "colab": {
          "base_uri": "https://localhost:8080/",
          "height": 36
        },
        "outputId": "ca3e9123-d1b9-4f5b-ac88-d3c82fce4295"
      },
      "execution_count": null,
      "outputs": [
        {
          "output_type": "execute_result",
          "data": {
            "text/plain": [
              "'I am very happy, I love it'"
            ],
            "application/vnd.google.colaboratory.intrinsic+json": {
              "type": "string"
            }
          },
          "metadata": {},
          "execution_count": 19
        }
      ]
    },
    {
      "cell_type": "markdown",
      "source": [
        "Ejecutamos la función"
      ],
      "metadata": {
        "id": "Lgpp4fBBnP3B"
      }
    },
    {
      "cell_type": "code",
      "source": [
        "datos[\"tweet_texto_processed\"] = datos[\"texto\"].apply(lambda x: replace_contraction(x))"
      ],
      "metadata": {
        "id": "V2Gbxbj9mvF2",
        "colab": {
          "base_uri": "https://localhost:8080/"
        },
        "outputId": "6b2972b2-5114-47ed-9dd7-c67f857e5d2f"
      },
      "execution_count": null,
      "outputs": [
        {
          "output_type": "stream",
          "name": "stderr",
          "text": [
            "/usr/local/lib/python3.7/dist-packages/ipykernel_launcher.py:1: SettingWithCopyWarning: \n",
            "A value is trying to be set on a copy of a slice from a DataFrame.\n",
            "Try using .loc[row_indexer,col_indexer] = value instead\n",
            "\n",
            "See the caveats in the documentation: https://pandas.pydata.org/pandas-docs/stable/user_guide/indexing.html#returning-a-view-versus-a-copy\n",
            "  \"\"\"Entry point for launching an IPython kernel.\n"
          ]
        }
      ]
    },
    {
      "cell_type": "code",
      "source": [
        "datos[\"tweet_texto_processed\"].iloc[0]"
      ],
      "metadata": {
        "id": "5lOkTkaZ8uwb",
        "colab": {
          "base_uri": "https://localhost:8080/",
          "height": 36
        },
        "outputId": "54e9ba21-9910-42c1-9f2a-0910f702c338"
      },
      "execution_count": null,
      "outputs": [
        {
          "output_type": "execute_result",
          "data": {
            "text/plain": [
              "'Time to head to work. Doing the late shift today to cover. Working till 6pm'"
            ],
            "application/vnd.google.colaboratory.intrinsic+json": {
              "type": "string"
            }
          },
          "metadata": {},
          "execution_count": 27
        }
      ]
    },
    {
      "cell_type": "markdown",
      "source": [
        "#### Transformamos a minúsculas\n",
        "Así reducimos dimensionalidad"
      ],
      "metadata": {
        "id": "NjwdLXOcnr82"
      }
    },
    {
      "cell_type": "code",
      "source": [
        "datos[\"tweet_texto_processed\"] = datos[\"tweet_texto_processed\"].apply(lambda x: x.lower()) #lower()"
      ],
      "metadata": {
        "id": "ckueIS2wnrV0",
        "colab": {
          "base_uri": "https://localhost:8080/"
        },
        "outputId": "5c02101d-0ef2-49fa-cf40-5287fbd991b9"
      },
      "execution_count": null,
      "outputs": [
        {
          "output_type": "stream",
          "name": "stderr",
          "text": [
            "/usr/local/lib/python3.7/dist-packages/ipykernel_launcher.py:1: SettingWithCopyWarning: \n",
            "A value is trying to be set on a copy of a slice from a DataFrame.\n",
            "Try using .loc[row_indexer,col_indexer] = value instead\n",
            "\n",
            "See the caveats in the documentation: https://pandas.pydata.org/pandas-docs/stable/user_guide/indexing.html#returning-a-view-versus-a-copy\n",
            "  \"\"\"Entry point for launching an IPython kernel.\n"
          ]
        }
      ]
    },
    {
      "cell_type": "code",
      "source": [
        "datos[\"tweet_texto_processed\"].iloc[0]"
      ],
      "metadata": {
        "id": "VJg1LfhpmoYC",
        "colab": {
          "base_uri": "https://localhost:8080/",
          "height": 36
        },
        "outputId": "0267b4fa-67e7-4651-d0a2-f325d3cfc691"
      },
      "execution_count": null,
      "outputs": [
        {
          "output_type": "execute_result",
          "data": {
            "text/plain": [
              "'time to head to work. doing the late shift today to cover. working till 6pm'"
            ],
            "application/vnd.google.colaboratory.intrinsic+json": {
              "type": "string"
            }
          },
          "metadata": {},
          "execution_count": 29
        }
      ]
    },
    {
      "cell_type": "markdown",
      "source": [
        "#### Tokenizamos\n",
        "Utilizando un tokenizador específico para TWITTER!!"
      ],
      "metadata": {
        "id": "MoJ4HXafoB8D"
      }
    },
    {
      "cell_type": "code",
      "source": [
        "from nltk.tokenize import TweetTokenizer\n",
        "# Tokenizar los tweets con el tokenizador \"TweetTokenizer\" de NLTK\n",
        "def tokenize(texto):\n",
        "  tweet_tokenizer = TweetTokenizer()#TweetTokenizer\n",
        "  tokens_list = tweet_tokenizer.tokenize(texto)\n",
        "  return tokens_list"
      ],
      "metadata": {
        "id": "xPP6JGt6moa2"
      },
      "execution_count": null,
      "outputs": []
    },
    {
      "cell_type": "code",
      "source": [
        "tokenize(\"@mencion #very happy, I luv it\")"
      ],
      "metadata": {
        "colab": {
          "base_uri": "https://localhost:8080/"
        },
        "id": "2XHWiJKozZcX",
        "outputId": "991cc036-436c-4558-9268-9ef4060fcada"
      },
      "execution_count": null,
      "outputs": [
        {
          "output_type": "execute_result",
          "data": {
            "text/plain": [
              "['@mencion', '#very', 'happy', ',', 'I', 'luv', 'it']"
            ]
          },
          "metadata": {},
          "execution_count": 33
        }
      ]
    },
    {
      "cell_type": "code",
      "source": [
        "datos[\"tweet_texto_processed\"] = datos[\"tweet_texto_processed\"].apply(lambda x: tokenize(x))"
      ],
      "metadata": {
        "id": "JOdyd50ro8wL",
        "colab": {
          "base_uri": "https://localhost:8080/"
        },
        "outputId": "f6806c2b-0cff-4ae3-da6d-e5b12feca16b"
      },
      "execution_count": null,
      "outputs": [
        {
          "output_type": "stream",
          "name": "stderr",
          "text": [
            "/usr/local/lib/python3.7/dist-packages/ipykernel_launcher.py:1: SettingWithCopyWarning: \n",
            "A value is trying to be set on a copy of a slice from a DataFrame.\n",
            "Try using .loc[row_indexer,col_indexer] = value instead\n",
            "\n",
            "See the caveats in the documentation: https://pandas.pydata.org/pandas-docs/stable/user_guide/indexing.html#returning-a-view-versus-a-copy\n",
            "  \"\"\"Entry point for launching an IPython kernel.\n"
          ]
        }
      ]
    },
    {
      "cell_type": "code",
      "source": [
        "datos[\"tweet_texto_processed\"].iloc[0]"
      ],
      "metadata": {
        "id": "t1D-WoRipEh3",
        "colab": {
          "base_uri": "https://localhost:8080/"
        },
        "outputId": "f6dd9df3-f9e9-483a-fa72-5c59c3ada022"
      },
      "execution_count": null,
      "outputs": [
        {
          "output_type": "execute_result",
          "data": {
            "text/plain": [
              "['time',\n",
              " 'to',\n",
              " 'head',\n",
              " 'to',\n",
              " 'work',\n",
              " '.',\n",
              " 'doing',\n",
              " 'the',\n",
              " 'late',\n",
              " 'shift',\n",
              " 'today',\n",
              " 'to',\n",
              " 'cover',\n",
              " '.',\n",
              " 'working',\n",
              " 'till',\n",
              " '6pm']"
            ]
          },
          "metadata": {},
          "execution_count": 35
        }
      ]
    },
    {
      "cell_type": "markdown",
      "source": [
        "#### Quitamos stopwords\n",
        "Las stopwords cambian entre idiomas!"
      ],
      "metadata": {
        "id": "6eidhFfioWQ1"
      }
    },
    {
      "cell_type": "code",
      "source": [
        "import nltk\n",
        "nltk.download('stopwords')\n",
        "from nltk.corpus import stopwords\n",
        "# Quitar stop words de una lista de tokens\n",
        "def quitar_stopwords(tokens):\n",
        "    stop_words = set(stopwords.words('english')) \n",
        "    filtered_sentence = [w for w in tokens if not w in stop_words]\n",
        "    return filtered_sentence"
      ],
      "metadata": {
        "id": "5U34CQ1joWQ1",
        "colab": {
          "base_uri": "https://localhost:8080/"
        },
        "outputId": "cf9591b1-79a6-44ba-cc70-9491a5dd5180"
      },
      "execution_count": null,
      "outputs": [
        {
          "output_type": "stream",
          "name": "stdout",
          "text": [
            "[nltk_data] Downloading package stopwords to /root/nltk_data...\n",
            "[nltk_data]   Unzipping corpora/stopwords.zip.\n"
          ]
        }
      ]
    },
    {
      "cell_type": "code",
      "source": [
        "datos[\"tweet_texto_processed\"] = datos[\"tweet_texto_processed\"].apply(lambda x: quitar_stopwords(x))"
      ],
      "metadata": {
        "id": "1uj5VR5CpHQQ",
        "colab": {
          "base_uri": "https://localhost:8080/"
        },
        "outputId": "3d3853df-cfd6-4470-c5f6-e6313082de17"
      },
      "execution_count": null,
      "outputs": [
        {
          "output_type": "stream",
          "name": "stderr",
          "text": [
            "/usr/local/lib/python3.7/dist-packages/ipykernel_launcher.py:1: SettingWithCopyWarning: \n",
            "A value is trying to be set on a copy of a slice from a DataFrame.\n",
            "Try using .loc[row_indexer,col_indexer] = value instead\n",
            "\n",
            "See the caveats in the documentation: https://pandas.pydata.org/pandas-docs/stable/user_guide/indexing.html#returning-a-view-versus-a-copy\n",
            "  \"\"\"Entry point for launching an IPython kernel.\n"
          ]
        }
      ]
    },
    {
      "cell_type": "code",
      "source": [
        "datos[\"tweet_texto_processed\"].iloc[0]"
      ],
      "metadata": {
        "id": "lyOgNH8MpHQR",
        "colab": {
          "base_uri": "https://localhost:8080/"
        },
        "outputId": "f6470a69-36cb-4a84-df3c-9feb9aa3f310"
      },
      "execution_count": null,
      "outputs": [
        {
          "output_type": "execute_result",
          "data": {
            "text/plain": [
              "['time',\n",
              " 'head',\n",
              " 'work',\n",
              " '.',\n",
              " 'late',\n",
              " 'shift',\n",
              " 'today',\n",
              " 'cover',\n",
              " '.',\n",
              " 'working',\n",
              " 'till',\n",
              " '6pm']"
            ]
          },
          "metadata": {},
          "execution_count": 38
        }
      ]
    },
    {
      "cell_type": "markdown",
      "source": [
        "#### Puntuación\n",
        "Podríamos quitarla, pero en ese caso vamos a mantenerla, para ver si hay algún conjunto de caracteres como \":)\" que formen alguna característica."
      ],
      "metadata": {
        "id": "PE0HuHhmoW0V"
      }
    },
    {
      "cell_type": "markdown",
      "source": [
        "#### Lematizamos\n",
        "De nuevo, DEPENDIENTE del idioma"
      ],
      "metadata": {
        "id": "D-PDFlMwoqpn"
      }
    },
    {
      "cell_type": "code",
      "source": [
        "!pip install spacy==3.2.1\n",
        "!python -m spacy download en_core_web_sm"
      ],
      "metadata": {
        "id": "66u-mtFF0Wtj"
      },
      "execution_count": null,
      "outputs": []
    },
    {
      "cell_type": "code",
      "source": [
        "\n",
        "import en_core_web_sm\n",
        "from tqdm import tqdm\n",
        "tqdm.pandas()\n",
        "\n",
        "# Lemmatization de los tokens. Devuelve una string entera para hacer la tokenización\n",
        "# con NLTK\n",
        "nlp = en_core_web_sm.load(disable=['parser', 'ner'])\n",
        "def lematizar(tokens):\n",
        "    sentence = \" \".join(tokens) #tokens\n",
        "    mytokens = nlp(sentence)\n",
        "    # Lematizamos los tokens y los convertimos  a minusculas\n",
        "    mytokens = [ word.lemma_ for word in mytokens ]\n",
        "    # Extraemos el text en una string\n",
        "    return \" \".join(mytokens)"
      ],
      "metadata": {
        "id": "bfFXLKfhoW0V"
      },
      "execution_count": null,
      "outputs": []
    },
    {
      "cell_type": "code",
      "source": [
        "sp_obj = nlp(\"fifth time\")\n",
        "mytokens = [ word.lemma_ for word in sp_obj ]\n",
        "mytokens"
      ],
      "metadata": {
        "colab": {
          "base_uri": "https://localhost:8080/"
        },
        "id": "TzTEOEoH0neA",
        "outputId": "bf8208b6-5fb8-4f88-dfa2-8e41381254e8"
      },
      "execution_count": null,
      "outputs": [
        {
          "output_type": "execute_result",
          "data": {
            "text/plain": [
              "['fifth', 'time']"
            ]
          },
          "metadata": {},
          "execution_count": 48
        }
      ]
    },
    {
      "cell_type": "code",
      "source": [
        "datos[\"tweet_texto_processed\"] = datos[\"tweet_texto_processed\"].progress_apply(lambda x: lematizar(x)) #lematizar"
      ],
      "metadata": {
        "id": "HDRiLt-FpbHz",
        "colab": {
          "base_uri": "https://localhost:8080/"
        },
        "outputId": "a5d9b487-be2e-4b29-cc4f-09546806066c"
      },
      "execution_count": null,
      "outputs": [
        {
          "output_type": "stream",
          "name": "stderr",
          "text": [
            "100%|██████████| 19974/19974 [02:01<00:00, 164.68it/s]\n",
            "/usr/local/lib/python3.7/dist-packages/ipykernel_launcher.py:1: SettingWithCopyWarning: \n",
            "A value is trying to be set on a copy of a slice from a DataFrame.\n",
            "Try using .loc[row_indexer,col_indexer] = value instead\n",
            "\n",
            "See the caveats in the documentation: https://pandas.pydata.org/pandas-docs/stable/user_guide/indexing.html#returning-a-view-versus-a-copy\n",
            "  \"\"\"Entry point for launching an IPython kernel.\n"
          ]
        }
      ]
    },
    {
      "cell_type": "code",
      "source": [
        "datos[\"tweet_texto_processed\"].iloc[0]"
      ],
      "metadata": {
        "id": "PnQKlj1MpbH0",
        "colab": {
          "base_uri": "https://localhost:8080/",
          "height": 36
        },
        "outputId": "f0de933e-71e9-4286-811e-ecb672c9153b"
      },
      "execution_count": null,
      "outputs": [
        {
          "output_type": "execute_result",
          "data": {
            "text/plain": [
              "'time head work . late shift today cover . work till 6 pm'"
            ],
            "application/vnd.google.colaboratory.intrinsic+json": {
              "type": "string"
            }
          },
          "metadata": {},
          "execution_count": 49
        }
      ]
    },
    {
      "cell_type": "markdown",
      "source": [
        "#### Extraemos sentimiento de los tweets\n",
        "De nuevo, DEPENDIENTE del idioma. Utilizaremos [textblob](https://textblob.readthedocs.io/en/dev/quickstart.html?highlight=polarity#sentiment-analysis). Para español hay que buscar alternativas."
      ],
      "metadata": {
        "id": "1ElV1zGKq7hk"
      }
    },
    {
      "cell_type": "code",
      "source": [
        "from textblob import TextBlob\n",
        "datos[\"sent_subjectivity_str\"] = datos[\"tweet_texto_processed\"].progress_apply(lambda x: TextBlob(x).sentiment.subjectivity) #TextBlob(x).sentiment.subjectivity\n",
        "datos[\"sent_polarity_str\"] = datos[\"tweet_texto_processed\"].progress_apply(lambda x: TextBlob(x).sentiment.polarity) # TextBlob(x).sentiment.polarity"
      ],
      "metadata": {
        "id": "ni4QcWmyq7qM",
        "colab": {
          "base_uri": "https://localhost:8080/"
        },
        "outputId": "5a4ee58b-54a9-4b3d-aefa-82a872901bc5"
      },
      "execution_count": null,
      "outputs": [
        {
          "output_type": "stream",
          "name": "stderr",
          "text": [
            "100%|██████████| 19974/19974 [00:03<00:00, 5373.88it/s]\n",
            "/usr/local/lib/python3.7/dist-packages/ipykernel_launcher.py:2: SettingWithCopyWarning: \n",
            "A value is trying to be set on a copy of a slice from a DataFrame.\n",
            "Try using .loc[row_indexer,col_indexer] = value instead\n",
            "\n",
            "See the caveats in the documentation: https://pandas.pydata.org/pandas-docs/stable/user_guide/indexing.html#returning-a-view-versus-a-copy\n",
            "  \n",
            "100%|██████████| 19974/19974 [00:03<00:00, 5487.98it/s]\n",
            "/usr/local/lib/python3.7/dist-packages/ipykernel_launcher.py:3: SettingWithCopyWarning: \n",
            "A value is trying to be set on a copy of a slice from a DataFrame.\n",
            "Try using .loc[row_indexer,col_indexer] = value instead\n",
            "\n",
            "See the caveats in the documentation: https://pandas.pydata.org/pandas-docs/stable/user_guide/indexing.html#returning-a-view-versus-a-copy\n",
            "  This is separate from the ipykernel package so we can avoid doing imports until\n"
          ]
        }
      ]
    },
    {
      "cell_type": "code",
      "source": [
        "datos[\"sent_polarity_str\"].hist(bins=80)"
      ],
      "metadata": {
        "id": "98LZMjNDrq5y",
        "colab": {
          "base_uri": "https://localhost:8080/",
          "height": 284
        },
        "outputId": "d93495d8-04be-48ee-f87d-a115c7471549"
      },
      "execution_count": null,
      "outputs": [
        {
          "output_type": "execute_result",
          "data": {
            "text/plain": [
              "<matplotlib.axes._subplots.AxesSubplot at 0x7f3ed442f890>"
            ]
          },
          "metadata": {},
          "execution_count": 51
        },
        {
          "output_type": "display_data",
          "data": {
            "text/plain": [
              "<Figure size 432x288 with 1 Axes>"
            ],
            "image/png": "[encoded data removed]"
          },
          "metadata": {}
        }
      ]
    },
    {
      "cell_type": "markdown",
      "metadata": {
        "id": "8g_TfWEycll6"
      },
      "source": [
        "#### Vectorización y unión  características\n",
        "\n",
        "Una vez hemos limpiado y procesado el texto, vamos a extraer características utilizando embeddings:"
      ]
    },
    {
      "cell_type": "code",
      "source": [
        "import gensim.downloader as api\n",
        "glove_emb = api.load('glove-twitter-25') # Descargamos y cargamosel embedding de \"glove-twitter-25\""
      ],
      "metadata": {
        "id": "tXQBVhZgqwex",
        "colab": {
          "base_uri": "https://localhost:8080/"
        },
        "outputId": "f50f9f8c-9203-43c8-ba07-6f8271d3e7b9"
      },
      "execution_count": null,
      "outputs": [
        {
          "output_type": "stream",
          "name": "stdout",
          "text": [
            "[==================================================] 100.0% 104.8/104.8MB downloaded\n"
          ]
        }
      ]
    },
    {
      "cell_type": "code",
      "source": [
        "glove_emb.get_vector(\"noise\")"
      ],
      "metadata": {
        "colab": {
          "base_uri": "https://localhost:8080/"
        },
        "id": "1VS9fso02qK2",
        "outputId": "20370de6-2274-4703-ee22-f9b44ec8f2bf"
      },
      "execution_count": null,
      "outputs": [
        {
          "output_type": "execute_result",
          "data": {
            "text/plain": [
              "array([-0.050552 ,  0.27055  ,  0.30356  ,  1.0229   ,  0.57149  ,\n",
              "        0.27212  ,  1.6912   , -0.99853  ,  0.62921  ,  0.52536  ,\n",
              "       -0.54987  ,  0.7222   , -2.5744   , -0.10722  ,  0.44174  ,\n",
              "        1.3168   ,  0.0051252,  0.22816  ,  0.49579  , -0.20978  ,\n",
              "        0.045845 ,  0.015175 ,  1.2758   , -0.21152  ,  0.42562  ],\n",
              "      dtype=float32)"
            ]
          },
          "metadata": {},
          "execution_count": 54
        }
      ]
    },
    {
      "cell_type": "code",
      "source": [
        "[\"perro gato amor odio\"]\n",
        "[\"perro\", \"gato\",  \"amor\", \"odio\"]\n",
        "[V1, V2, V3, V4]\n",
        "[((v1+v2+v3+v4)/4)] --> 25d"
      ],
      "metadata": {
        "id": "oJg6VhoK2vrG"
      },
      "execution_count": null,
      "outputs": []
    },
    {
      "cell_type": "code",
      "source": [
        "def get_average_vector(sentence):\n",
        "  #retokenizamos con nuestra función tokenize\n",
        "  tokens = tokenize(sentence) #tokenize\n",
        "  lista = list()\n",
        "  # Iteramos por cada token\n",
        "  for i in tokens:\n",
        "    # Introducimos cada token en un lista\n",
        "    try:\n",
        "      lista.append(glove_emb.get_vector(i) )\n",
        "    except:\n",
        "      continue\n",
        "    # Calculamos su media\n",
        "  try:\n",
        "    resultado = np.mean(lista, axis=0)\n",
        "  except:\n",
        "    # Si no ha encontrado ningún valor, creamos un array de  0 (mismo tamaño que el vector)\n",
        "    resultado = np.zeros(25)\n",
        "  return resultado"
      ],
      "metadata": {
        "id": "Ja8FETzexCGE"
      },
      "execution_count": null,
      "outputs": []
    },
    {
      "cell_type": "code",
      "metadata": {
        "id": "Pm7g3CEKfuzm",
        "colab": {
          "base_uri": "https://localhost:8080/"
        },
        "outputId": "efa3f370-4e7e-4a70-f539-aa3f22ab6964"
      },
      "source": [
        "datos[\"embeddings\"] = datos[\"tweet_texto_processed\"].progress_apply(lambda x: get_average_vector(x))"
      ],
      "execution_count": null,
      "outputs": [
        {
          "output_type": "stream",
          "name": "stderr",
          "text": [
            "  0%|          | 0/19974 [00:00<?, ?it/s]/usr/local/lib/python3.7/dist-packages/numpy/core/fromnumeric.py:3441: RuntimeWarning: Mean of empty slice.\n",
            "  out=out, **kwargs)\n",
            "100%|██████████| 19974/19974 [00:03<00:00, 6185.75it/s]\n",
            "/usr/local/lib/python3.7/dist-packages/ipykernel_launcher.py:1: SettingWithCopyWarning: \n",
            "A value is trying to be set on a copy of a slice from a DataFrame.\n",
            "Try using .loc[row_indexer,col_indexer] = value instead\n",
            "\n",
            "See the caveats in the documentation: https://pandas.pydata.org/pandas-docs/stable/user_guide/indexing.html#returning-a-view-versus-a-copy\n",
            "  \"\"\"Entry point for launching an IPython kernel.\n"
          ]
        }
      ]
    },
    {
      "cell_type": "code",
      "source": [
        "datos"
      ],
      "metadata": {
        "colab": {
          "base_uri": "https://localhost:8080/",
          "height": 988
        },
        "id": "F4iwsnih30TI",
        "outputId": "2694b4bd-acfb-4653-d42e-30479d1e4d8c"
      },
      "execution_count": null,
      "outputs": [
        {
          "output_type": "execute_result",
          "data": {
            "text/plain": [
              "       label          id                         fecha  not_used  \\\n",
              "0          0  2003084512  Tue Jun 02 05:50:44 PDT 2009  NO_QUERY   \n",
              "1          0  1984738467  Sun May 31 15:42:34 PDT 2009  NO_QUERY   \n",
              "2          0  2068037535  Sun Jun 07 13:23:27 PDT 2009  NO_QUERY   \n",
              "3          0  1833613005  Sun May 17 23:51:40 PDT 2009  NO_QUERY   \n",
              "4          0  1974397212  Sat May 30 13:03:15 PDT 2009  NO_QUERY   \n",
              "...      ...         ...                           ...       ...   \n",
              "19995      4  1960315077  Fri May 29 07:46:10 PDT 2009  NO_QUERY   \n",
              "19996      4  2186697869  Mon Jun 15 19:12:29 PDT 2009  NO_QUERY   \n",
              "19997      4  1883133555  Fri May 22 08:03:42 PDT 2009  NO_QUERY   \n",
              "19998      4  1556569855  Sat Apr 18 23:22:25 PDT 2009  NO_QUERY   \n",
              "19999      4  1969689572  Sat May 30 00:52:39 PDT 2009  NO_QUERY   \n",
              "\n",
              "               autor                                              texto  \\\n",
              "0           llanelwy  Time to head to work. Doing the late shift tod...   \n",
              "1            srcohen                            Thunderstorm in Boston    \n",
              "2           mdltbird  What a beautiful day. Going to see my friend t...   \n",
              "3           kiraling  @pursebuzz Finally someone admits it! Storylin...   \n",
              "4        Clintendo64  Were passing lake travis right now. I want to ...   \n",
              "...              ...                                                ...   \n",
              "19995      Sharky909  @ThisIsRobThomas hey, what are you working on ...   \n",
              "19996  EtrntyNTwlght  @KalebNation  I love the quote thing, but musi...   \n",
              "19997   CrystalHebel    @msrachelriley I need my fat girl beauty rest     \n",
              "19998         buzzvn  some nice presentations up on slideshare, when...   \n",
              "19999       Araselle  My mum's here til monday morning, say hello to...   \n",
              "\n",
              "       char_len                              tweet_texto_processed  \\\n",
              "0            76  time head work . late shift today cover . work...   \n",
              "1            23                                thunderstorm boston   \n",
              "2            76    beautiful day . go see friend move back atlanta   \n",
              "3           138  @pursebuzz finally someone admit ! storyline u...   \n",
              "4            59                 pass lake travis right . want go !   \n",
              "...         ...                                                ...   \n",
              "19995        58                  @thisisrobthomas hey , work day ?   \n",
              "19996       111  @kalebnation love quote thing , music would go...   \n",
              "19997        47           @msrachelriley need fat girl beauty rest   \n",
              "19998       134  nice presentation slideshare , publish , pleas...   \n",
              "19999        51              mum 's til monday morning , say hello   \n",
              "\n",
              "       sent_subjectivity_str  sent_polarity_str  \\\n",
              "0                   0.600000          -0.300000   \n",
              "1                   0.000000           0.000000   \n",
              "2                   0.500000           0.425000   \n",
              "3                   0.841667          -0.078125   \n",
              "4                   0.535714           0.357143   \n",
              "...                      ...                ...   \n",
              "19995               0.000000           0.000000   \n",
              "19996               0.600000           0.600000   \n",
              "19997               0.000000           0.000000   \n",
              "19998               1.000000           0.600000   \n",
              "19999               0.000000           0.000000   \n",
              "\n",
              "                                              embeddings  \n",
              "0      [-0.2321889, 0.2617234, 0.21522419, -0.4278685...  \n",
              "1      [-0.659604, 0.332735, -0.338069, -0.416915, -0...  \n",
              "2      [-0.51539975, 0.34349442, 0.06187967, -0.25352...  \n",
              "3      [-0.141791, -0.22610395, -0.11560659, -0.07265...  \n",
              "4      [-0.30933747, 0.038952723, -0.07252906, -0.153...  \n",
              "...                                                  ...  \n",
              "19995  [0.1114846, 0.136812, 0.0825306, -0.14505401, ...  \n",
              "19996  [0.15743838, -0.131611, 0.07432609, 0.04223253...  \n",
              "19997  [-0.57030964, 0.21832399, -0.12012621, 0.16282...  \n",
              "19998  [0.34383157, 0.21123411, -0.15816733, -0.26114...  \n",
              "19999  [-0.23140447, 0.34094667, 0.13726145, -0.01370...  \n",
              "\n",
              "[19974 rows x 11 columns]"
            ],
            "text/html": [
              "\n",
              "  <div id=\"df-088b8ecd-e1da-4259-94dc-3530f9f6814f\">\n",
              "    <div class=\"colab-df-container\">\n",
              "      <div>\n",
              "<style scoped>\n",
              "    .dataframe tbody tr th:only-of-type {\n",
              "        vertical-align: middle;\n",
              "    }\n",
              "\n",
              "    .dataframe tbody tr th {\n",
              "        vertical-align: top;\n",
              "    }\n",
              "\n",
              "    .dataframe thead th {\n",
              "        text-align: right;\n",
              "    }\n",
              "</style>\n",
              "<table border=\"1\" class=\"dataframe\">\n",
              "  <thead>\n",
              "    <tr style=\"text-align: right;\">\n",
              "      <th></th>\n",
              "      <th>label</th>\n",
              "      <th>id</th>\n",
              "      <th>fecha</th>\n",
              "      <th>not_used</th>\n",
              "      <th>autor</th>\n",
              "      <th>texto</th>\n",
              "      <th>char_len</th>\n",
              "      <th>tweet_texto_processed</th>\n",
              "      <th>sent_subjectivity_str</th>\n",
              "      <th>sent_polarity_str</th>\n",
              "      <th>embeddings</th>\n",
              "    </tr>\n",
              "  </thead>\n",
              "  <tbody>\n",
              "    <tr>\n",
              "      <th>0</th>\n",
              "      <td>0</td>\n",
              "      <td>2003084512</td>\n",
              "      <td>Tue Jun 02 05:50:44 PDT 2009</td>\n",
              "      <td>NO_QUERY</td>\n",
              "      <td>llanelwy</td>\n",
              "      <td>Time to head to work. Doing the late shift tod...</td>\n",
              "      <td>76</td>\n",
              "      <td>time head work . late shift today cover . work...</td>\n",
              "      <td>0.600000</td>\n",
              "      <td>-0.300000</td>\n",
              "      <td>[-0.2321889, 0.2617234, 0.21522419, -0.4278685...</td>\n",
              "    </tr>\n",
              "    <tr>\n",
              "      <th>1</th>\n",
              "      <td>0</td>\n",
              "      <td>1984738467</td>\n",
              "      <td>Sun May 31 15:42:34 PDT 2009</td>\n",
              "      <td>NO_QUERY</td>\n",
              "      <td>srcohen</td>\n",
              "      <td>Thunderstorm in Boston</td>\n",
              "      <td>23</td>\n",
              "      <td>thunderstorm boston</td>\n",
              "      <td>0.000000</td>\n",
              "      <td>0.000000</td>\n",
              "      <td>[-0.659604, 0.332735, -0.338069, -0.416915, -0...</td>\n",
              "    </tr>\n",
              "    <tr>\n",
              "      <th>2</th>\n",
              "      <td>0</td>\n",
              "      <td>2068037535</td>\n",
              "      <td>Sun Jun 07 13:23:27 PDT 2009</td>\n",
              "      <td>NO_QUERY</td>\n",
              "      <td>mdltbird</td>\n",
              "      <td>What a beautiful day. Going to see my friend t...</td>\n",
              "      <td>76</td>\n",
              "      <td>beautiful day . go see friend move back atlanta</td>\n",
              "      <td>0.500000</td>\n",
              "      <td>0.425000</td>\n",
              "      <td>[-0.51539975, 0.34349442, 0.06187967, -0.25352...</td>\n",
              "    </tr>\n",
              "    <tr>\n",
              "      <th>3</th>\n",
              "      <td>0</td>\n",
              "      <td>1833613005</td>\n",
              "      <td>Sun May 17 23:51:40 PDT 2009</td>\n",
              "      <td>NO_QUERY</td>\n",
              "      <td>kiraling</td>\n",
              "      <td>@pursebuzz Finally someone admits it! Storylin...</td>\n",
              "      <td>138</td>\n",
              "      <td>@pursebuzz finally someone admit ! storyline u...</td>\n",
              "      <td>0.841667</td>\n",
              "      <td>-0.078125</td>\n",
              "      <td>[-0.141791, -0.22610395, -0.11560659, -0.07265...</td>\n",
              "    </tr>\n",
              "    <tr>\n",
              "      <th>4</th>\n",
              "      <td>0</td>\n",
              "      <td>1974397212</td>\n",
              "      <td>Sat May 30 13:03:15 PDT 2009</td>\n",
              "      <td>NO_QUERY</td>\n",
              "      <td>Clintendo64</td>\n",
              "      <td>Were passing lake travis right now. I want to ...</td>\n",
              "      <td>59</td>\n",
              "      <td>pass lake travis right . want go !</td>\n",
              "      <td>0.535714</td>\n",
              "      <td>0.357143</td>\n",
              "      <td>[-0.30933747, 0.038952723, -0.07252906, -0.153...</td>\n",
              "    </tr>\n",
              "    <tr>\n",
              "      <th>...</th>\n",
              "      <td>...</td>\n",
              "      <td>...</td>\n",
              "      <td>...</td>\n",
              "      <td>...</td>\n",
              "      <td>...</td>\n",
              "      <td>...</td>\n",
              "      <td>...</td>\n",
              "      <td>...</td>\n",
              "      <td>...</td>\n",
              "      <td>...</td>\n",
              "      <td>...</td>\n",
              "    </tr>\n",
              "    <tr>\n",
              "      <th>19995</th>\n",
              "      <td>4</td>\n",
              "      <td>1960315077</td>\n",
              "      <td>Fri May 29 07:46:10 PDT 2009</td>\n",
              "      <td>NO_QUERY</td>\n",
              "      <td>Sharky909</td>\n",
              "      <td>@ThisIsRobThomas hey, what are you working on ...</td>\n",
              "      <td>58</td>\n",
              "      <td>@thisisrobthomas hey , work day ?</td>\n",
              "      <td>0.000000</td>\n",
              "      <td>0.000000</td>\n",
              "      <td>[0.1114846, 0.136812, 0.0825306, -0.14505401, ...</td>\n",
              "    </tr>\n",
              "    <tr>\n",
              "      <th>19996</th>\n",
              "      <td>4</td>\n",
              "      <td>2186697869</td>\n",
              "      <td>Mon Jun 15 19:12:29 PDT 2009</td>\n",
              "      <td>NO_QUERY</td>\n",
              "      <td>EtrntyNTwlght</td>\n",
              "      <td>@KalebNation  I love the quote thing, but musi...</td>\n",
              "      <td>111</td>\n",
              "      <td>@kalebnation love quote thing , music would go...</td>\n",
              "      <td>0.600000</td>\n",
              "      <td>0.600000</td>\n",
              "      <td>[0.15743838, -0.131611, 0.07432609, 0.04223253...</td>\n",
              "    </tr>\n",
              "    <tr>\n",
              "      <th>19997</th>\n",
              "      <td>4</td>\n",
              "      <td>1883133555</td>\n",
              "      <td>Fri May 22 08:03:42 PDT 2009</td>\n",
              "      <td>NO_QUERY</td>\n",
              "      <td>CrystalHebel</td>\n",
              "      <td>@msrachelriley I need my fat girl beauty rest</td>\n",
              "      <td>47</td>\n",
              "      <td>@msrachelriley need fat girl beauty rest</td>\n",
              "      <td>0.000000</td>\n",
              "      <td>0.000000</td>\n",
              "      <td>[-0.57030964, 0.21832399, -0.12012621, 0.16282...</td>\n",
              "    </tr>\n",
              "    <tr>\n",
              "      <th>19998</th>\n",
              "      <td>4</td>\n",
              "      <td>1556569855</td>\n",
              "      <td>Sat Apr 18 23:22:25 PDT 2009</td>\n",
              "      <td>NO_QUERY</td>\n",
              "      <td>buzzvn</td>\n",
              "      <td>some nice presentations up on slideshare, when...</td>\n",
              "      <td>134</td>\n",
              "      <td>nice presentation slideshare , publish , pleas...</td>\n",
              "      <td>1.000000</td>\n",
              "      <td>0.600000</td>\n",
              "      <td>[0.34383157, 0.21123411, -0.15816733, -0.26114...</td>\n",
              "    </tr>\n",
              "    <tr>\n",
              "      <th>19999</th>\n",
              "      <td>4</td>\n",
              "      <td>1969689572</td>\n",
              "      <td>Sat May 30 00:52:39 PDT 2009</td>\n",
              "      <td>NO_QUERY</td>\n",
              "      <td>Araselle</td>\n",
              "      <td>My mum's here til monday morning, say hello to...</td>\n",
              "      <td>51</td>\n",
              "      <td>mum 's til monday morning , say hello</td>\n",
              "      <td>0.000000</td>\n",
              "      <td>0.000000</td>\n",
              "      <td>[-0.23140447, 0.34094667, 0.13726145, -0.01370...</td>\n",
              "    </tr>\n",
              "  </tbody>\n",
              "</table>\n",
              "<p>19974 rows × 11 columns</p>\n",
              "</div>\n",
              "      <button class=\"colab-df-convert\" onclick=\"convertToInteractive('df-088b8ecd-e1da-4259-94dc-3530f9f6814f')\"\n",
              "              title=\"Convert this dataframe to an interactive table.\"\n",
              "              style=\"display:none;\">\n",
              "        \n",
              "  <svg xmlns=\"http://www.w3.org/2000/svg\" height=\"24px\"viewBox=\"0 0 24 24\"\n",
              "       width=\"24px\">\n",
              "    <path d=\"M0 0h24v24H0V0z\" fill=\"none\"/>\n",
              "    <path d=\"M18.56 5.44l.94 2.06.94-2.06 2.06-.94-2.06-.94-.94-2.06-.94 2.06-2.06.94zm-11 1L8.5 8.5l.94-2.06 2.06-.94-2.06-.94L8.5 2.5l-.94 2.06-2.06.94zm10 10l.94 2.06.94-2.06 2.06-.94-2.06-.94-.94-2.06-.94 2.06-2.06.94z\"/><path d=\"M17.41 7.96l-1.37-1.37c-.4-.4-.92-.59-1.43-.59-.52 0-1.04.2-1.43.59L10.3 9.45l-7.72 7.72c-.78.78-.78 2.05 0 2.83L4 21.41c.39.39.9.59 1.41.59.51 0 1.02-.2 1.41-.59l7.78-7.78 2.81-2.81c.8-.78.8-2.07 0-2.86zM5.41 20L4 18.59l7.72-7.72 1.47 1.35L5.41 20z\"/>\n",
              "  </svg>\n",
              "      </button>\n",
              "      \n",
              "  <style>\n",
              "    .colab-df-container {\n",
              "      display:flex;\n",
              "      flex-wrap:wrap;\n",
              "      gap: 12px;\n",
              "    }\n",
              "\n",
              "    .colab-df-convert {\n",
              "      background-color: #E8F0FE;\n",
              "      border: none;\n",
              "      border-radius: 50%;\n",
              "      cursor: pointer;\n",
              "      display: none;\n",
              "      fill: #1967D2;\n",
              "      height: 32px;\n",
              "      padding: 0 0 0 0;\n",
              "      width: 32px;\n",
              "    }\n",
              "\n",
              "    .colab-df-convert:hover {\n",
              "      background-color: #E2EBFA;\n",
              "      box-shadow: 0px 1px 2px rgba(60, 64, 67, 0.3), 0px 1px 3px 1px rgba(60, 64, 67, 0.15);\n",
              "      fill: #174EA6;\n",
              "    }\n",
              "\n",
              "    [theme=dark] .colab-df-convert {\n",
              "      background-color: #3B4455;\n",
              "      fill: #D2E3FC;\n",
              "    }\n",
              "\n",
              "    [theme=dark] .colab-df-convert:hover {\n",
              "      background-color: #434B5C;\n",
              "      box-shadow: 0px 1px 3px 1px rgba(0, 0, 0, 0.15);\n",
              "      filter: drop-shadow(0px 1px 2px rgba(0, 0, 0, 0.3));\n",
              "      fill: #FFFFFF;\n",
              "    }\n",
              "  </style>\n",
              "\n",
              "      <script>\n",
              "        const buttonEl =\n",
              "          document.querySelector('#df-088b8ecd-e1da-4259-94dc-3530f9f6814f button.colab-df-convert');\n",
              "        buttonEl.style.display =\n",
              "          google.colab.kernel.accessAllowed ? 'block' : 'none';\n",
              "\n",
              "        async function convertToInteractive(key) {\n",
              "          const element = document.querySelector('#df-088b8ecd-e1da-4259-94dc-3530f9f6814f');\n",
              "          const dataTable =\n",
              "            await google.colab.kernel.invokeFunction('convertToInteractive',\n",
              "                                                     [key], {});\n",
              "          if (!dataTable) return;\n",
              "\n",
              "          const docLinkHtml = 'Like what you see? Visit the ' +\n",
              "            '<a target=\"_blank\" href=https://colab.research.google.com/notebooks/data_table.ipynb>data table notebook</a>'\n",
              "            + ' to learn more about interactive tables.';\n",
              "          element.innerHTML = '';\n",
              "          dataTable['output_type'] = 'display_data';\n",
              "          await google.colab.output.renderOutput(dataTable, element);\n",
              "          const docLink = document.createElement('div');\n",
              "          docLink.innerHTML = docLinkHtml;\n",
              "          element.appendChild(docLink);\n",
              "        }\n",
              "      </script>\n",
              "    </div>\n",
              "  </div>\n",
              "  "
            ]
          },
          "metadata": {},
          "execution_count": 58
        }
      ]
    },
    {
      "cell_type": "code",
      "source": [
        "datos.embeddings.apply(pd.Series)"
      ],
      "metadata": {
        "colab": {
          "base_uri": "https://localhost:8080/",
          "height": 487
        },
        "id": "Q0Fi_xNk3762",
        "outputId": "d57ba06e-be3f-4e41-8ef7-22a112f8acec"
      },
      "execution_count": null,
      "outputs": [
        {
          "output_type": "execute_result",
          "data": {
            "text/plain": [
              "             0         1         2         3         4         5         6   \\\n",
              "0     -0.232189  0.261723  0.215224 -0.427868  0.120584  0.212565  1.121391   \n",
              "1     -0.659604  0.332735 -0.338069 -0.416915 -0.653490 -0.020535  1.035755   \n",
              "2     -0.515400  0.343494  0.061880 -0.253524 -0.443283  0.102148  1.432266   \n",
              "3     -0.141791 -0.226104 -0.115607 -0.072659  0.031219  0.422990  1.117511   \n",
              "4     -0.309337  0.038953 -0.072529 -0.153503 -0.676618  0.132819  1.032468   \n",
              "...         ...       ...       ...       ...       ...       ...       ...   \n",
              "19995  0.111485  0.136812  0.082531 -0.145054 -0.189791  0.255918  1.225154   \n",
              "19996  0.157438 -0.131611  0.074326  0.042233 -0.051705 -0.004547  1.500238   \n",
              "19997 -0.570310  0.218324 -0.120126  0.162825  0.315950  0.204860  1.330174   \n",
              "19998  0.343832  0.211234 -0.158167 -0.261144  0.278003 -0.373227  0.643868   \n",
              "19999 -0.231404  0.340947  0.137261 -0.013708 -0.293744 -0.031219  0.929947   \n",
              "\n",
              "             7         8         9   ...        15        16        17  \\\n",
              "0      0.084327 -0.042849  0.245770  ... -0.028615  0.203336 -0.397603   \n",
              "1     -0.539739  0.263326 -0.070995  ... -0.272225  0.127330  0.537179   \n",
              "2      0.524044 -0.343071  0.090551  ... -0.186029  0.025263 -0.868781   \n",
              "3      0.084177 -0.352062 -0.094482  ...  0.253470  0.054387 -0.184900   \n",
              "4      0.309064 -0.262884  0.157560  ... -0.151953  0.008528 -0.557043   \n",
              "...         ...       ...       ...  ...       ...       ...       ...   \n",
              "19995  0.816562 -0.239335  0.354956  ... -0.396984 -0.035984 -0.534611   \n",
              "19996  0.430268 -0.280528 -0.035502  ...  0.096839 -0.011705 -0.271454   \n",
              "19997 -0.197323 -0.348449  0.056185  ...  0.027962  0.531756 -0.644337   \n",
              "19998  0.345242  0.029097 -0.115146  ...  0.078786  0.047032 -0.344249   \n",
              "19999  0.518884 -0.316407  0.412492  ... -0.293821  0.122012 -0.412456   \n",
              "\n",
              "             18        19        20        21        22        23        24  \n",
              "0     -0.597665 -0.712730 -0.376684 -0.152915  0.195330  0.407673  0.235021  \n",
              "1      0.096027 -0.392830 -0.071890 -0.591190  0.903494 -1.104282  0.067780  \n",
              "2     -0.383925 -0.249479 -0.036232 -0.223755  0.050030  0.121496 -0.039780  \n",
              "3     -0.098012 -0.369416  0.054812  0.165126 -0.231927  0.272753 -0.263473  \n",
              "4     -0.500515 -0.154218 -0.008716 -0.001188  0.287774  0.214864  0.264228  \n",
              "...         ...       ...       ...       ...       ...       ...       ...  \n",
              "19995 -0.771244 -0.223836  0.021302 -0.050976 -0.566850  0.844590  0.204168  \n",
              "19996 -0.298857 -0.148460 -0.076827 -0.012476 -0.406805  0.295401 -0.030419  \n",
              "19997 -0.073191  0.012032 -0.034819  0.452876 -0.091920  0.268417 -0.065963  \n",
              "19998 -0.478705 -0.300399 -0.329041 -0.644899 -0.383577  0.217160 -0.446475  \n",
              "19999 -1.120279 -0.208244  0.004284  0.046144 -0.240202  0.512676  0.220741  \n",
              "\n",
              "[19974 rows x 25 columns]"
            ],
            "text/html": [
              "\n",
              "  <div id=\"df-f8b16cee-d233-4b75-bed7-9b2a3b3a8fb6\">\n",
              "    <div class=\"colab-df-container\">\n",
              "      <div>\n",
              "<style scoped>\n",
              "    .dataframe tbody tr th:only-of-type {\n",
              "        vertical-align: middle;\n",
              "    }\n",
              "\n",
              "    .dataframe tbody tr th {\n",
              "        vertical-align: top;\n",
              "    }\n",
              "\n",
              "    .dataframe thead th {\n",
              "        text-align: right;\n",
              "    }\n",
              "</style>\n",
              "<table border=\"1\" class=\"dataframe\">\n",
              "  <thead>\n",
              "    <tr style=\"text-align: right;\">\n",
              "      <th></th>\n",
              "      <th>0</th>\n",
              "      <th>1</th>\n",
              "      <th>2</th>\n",
              "      <th>3</th>\n",
              "      <th>4</th>\n",
              "      <th>5</th>\n",
              "      <th>6</th>\n",
              "      <th>7</th>\n",
              "      <th>8</th>\n",
              "      <th>9</th>\n",
              "      <th>...</th>\n",
              "      <th>15</th>\n",
              "      <th>16</th>\n",
              "      <th>17</th>\n",
              "      <th>18</th>\n",
              "      <th>19</th>\n",
              "      <th>20</th>\n",
              "      <th>21</th>\n",
              "      <th>22</th>\n",
              "      <th>23</th>\n",
              "      <th>24</th>\n",
              "    </tr>\n",
              "  </thead>\n",
              "  <tbody>\n",
              "    <tr>\n",
              "      <th>0</th>\n",
              "      <td>-0.232189</td>\n",
              "      <td>0.261723</td>\n",
              "      <td>0.215224</td>\n",
              "      <td>-0.427868</td>\n",
              "      <td>0.120584</td>\n",
              "      <td>0.212565</td>\n",
              "      <td>1.121391</td>\n",
              "      <td>0.084327</td>\n",
              "      <td>-0.042849</td>\n",
              "      <td>0.245770</td>\n",
              "      <td>...</td>\n",
              "      <td>-0.028615</td>\n",
              "      <td>0.203336</td>\n",
              "      <td>-0.397603</td>\n",
              "      <td>-0.597665</td>\n",
              "      <td>-0.712730</td>\n",
              "      <td>-0.376684</td>\n",
              "      <td>-0.152915</td>\n",
              "      <td>0.195330</td>\n",
              "      <td>0.407673</td>\n",
              "      <td>0.235021</td>\n",
              "    </tr>\n",
              "    <tr>\n",
              "      <th>1</th>\n",
              "      <td>-0.659604</td>\n",
              "      <td>0.332735</td>\n",
              "      <td>-0.338069</td>\n",
              "      <td>-0.416915</td>\n",
              "      <td>-0.653490</td>\n",
              "      <td>-0.020535</td>\n",
              "      <td>1.035755</td>\n",
              "      <td>-0.539739</td>\n",
              "      <td>0.263326</td>\n",
              "      <td>-0.070995</td>\n",
              "      <td>...</td>\n",
              "      <td>-0.272225</td>\n",
              "      <td>0.127330</td>\n",
              "      <td>0.537179</td>\n",
              "      <td>0.096027</td>\n",
              "      <td>-0.392830</td>\n",
              "      <td>-0.071890</td>\n",
              "      <td>-0.591190</td>\n",
              "      <td>0.903494</td>\n",
              "      <td>-1.104282</td>\n",
              "      <td>0.067780</td>\n",
              "    </tr>\n",
              "    <tr>\n",
              "      <th>2</th>\n",
              "      <td>-0.515400</td>\n",
              "      <td>0.343494</td>\n",
              "      <td>0.061880</td>\n",
              "      <td>-0.253524</td>\n",
              "      <td>-0.443283</td>\n",
              "      <td>0.102148</td>\n",
              "      <td>1.432266</td>\n",
              "      <td>0.524044</td>\n",
              "      <td>-0.343071</td>\n",
              "      <td>0.090551</td>\n",
              "      <td>...</td>\n",
              "      <td>-0.186029</td>\n",
              "      <td>0.025263</td>\n",
              "      <td>-0.868781</td>\n",
              "      <td>-0.383925</td>\n",
              "      <td>-0.249479</td>\n",
              "      <td>-0.036232</td>\n",
              "      <td>-0.223755</td>\n",
              "      <td>0.050030</td>\n",
              "      <td>0.121496</td>\n",
              "      <td>-0.039780</td>\n",
              "    </tr>\n",
              "    <tr>\n",
              "      <th>3</th>\n",
              "      <td>-0.141791</td>\n",
              "      <td>-0.226104</td>\n",
              "      <td>-0.115607</td>\n",
              "      <td>-0.072659</td>\n",
              "      <td>0.031219</td>\n",
              "      <td>0.422990</td>\n",
              "      <td>1.117511</td>\n",
              "      <td>0.084177</td>\n",
              "      <td>-0.352062</td>\n",
              "      <td>-0.094482</td>\n",
              "      <td>...</td>\n",
              "      <td>0.253470</td>\n",
              "      <td>0.054387</td>\n",
              "      <td>-0.184900</td>\n",
              "      <td>-0.098012</td>\n",
              "      <td>-0.369416</td>\n",
              "      <td>0.054812</td>\n",
              "      <td>0.165126</td>\n",
              "      <td>-0.231927</td>\n",
              "      <td>0.272753</td>\n",
              "      <td>-0.263473</td>\n",
              "    </tr>\n",
              "    <tr>\n",
              "      <th>4</th>\n",
              "      <td>-0.309337</td>\n",
              "      <td>0.038953</td>\n",
              "      <td>-0.072529</td>\n",
              "      <td>-0.153503</td>\n",
              "      <td>-0.676618</td>\n",
              "      <td>0.132819</td>\n",
              "      <td>1.032468</td>\n",
              "      <td>0.309064</td>\n",
              "      <td>-0.262884</td>\n",
              "      <td>0.157560</td>\n",
              "      <td>...</td>\n",
              "      <td>-0.151953</td>\n",
              "      <td>0.008528</td>\n",
              "      <td>-0.557043</td>\n",
              "      <td>-0.500515</td>\n",
              "      <td>-0.154218</td>\n",
              "      <td>-0.008716</td>\n",
              "      <td>-0.001188</td>\n",
              "      <td>0.287774</td>\n",
              "      <td>0.214864</td>\n",
              "      <td>0.264228</td>\n",
              "    </tr>\n",
              "    <tr>\n",
              "      <th>...</th>\n",
              "      <td>...</td>\n",
              "      <td>...</td>\n",
              "      <td>...</td>\n",
              "      <td>...</td>\n",
              "      <td>...</td>\n",
              "      <td>...</td>\n",
              "      <td>...</td>\n",
              "      <td>...</td>\n",
              "      <td>...</td>\n",
              "      <td>...</td>\n",
              "      <td>...</td>\n",
              "      <td>...</td>\n",
              "      <td>...</td>\n",
              "      <td>...</td>\n",
              "      <td>...</td>\n",
              "      <td>...</td>\n",
              "      <td>...</td>\n",
              "      <td>...</td>\n",
              "      <td>...</td>\n",
              "      <td>...</td>\n",
              "      <td>...</td>\n",
              "    </tr>\n",
              "    <tr>\n",
              "      <th>19995</th>\n",
              "      <td>0.111485</td>\n",
              "      <td>0.136812</td>\n",
              "      <td>0.082531</td>\n",
              "      <td>-0.145054</td>\n",
              "      <td>-0.189791</td>\n",
              "      <td>0.255918</td>\n",
              "      <td>1.225154</td>\n",
              "      <td>0.816562</td>\n",
              "      <td>-0.239335</td>\n",
              "      <td>0.354956</td>\n",
              "      <td>...</td>\n",
              "      <td>-0.396984</td>\n",
              "      <td>-0.035984</td>\n",
              "      <td>-0.534611</td>\n",
              "      <td>-0.771244</td>\n",
              "      <td>-0.223836</td>\n",
              "      <td>0.021302</td>\n",
              "      <td>-0.050976</td>\n",
              "      <td>-0.566850</td>\n",
              "      <td>0.844590</td>\n",
              "      <td>0.204168</td>\n",
              "    </tr>\n",
              "    <tr>\n",
              "      <th>19996</th>\n",
              "      <td>0.157438</td>\n",
              "      <td>-0.131611</td>\n",
              "      <td>0.074326</td>\n",
              "      <td>0.042233</td>\n",
              "      <td>-0.051705</td>\n",
              "      <td>-0.004547</td>\n",
              "      <td>1.500238</td>\n",
              "      <td>0.430268</td>\n",
              "      <td>-0.280528</td>\n",
              "      <td>-0.035502</td>\n",
              "      <td>...</td>\n",
              "      <td>0.096839</td>\n",
              "      <td>-0.011705</td>\n",
              "      <td>-0.271454</td>\n",
              "      <td>-0.298857</td>\n",
              "      <td>-0.148460</td>\n",
              "      <td>-0.076827</td>\n",
              "      <td>-0.012476</td>\n",
              "      <td>-0.406805</td>\n",
              "      <td>0.295401</td>\n",
              "      <td>-0.030419</td>\n",
              "    </tr>\n",
              "    <tr>\n",
              "      <th>19997</th>\n",
              "      <td>-0.570310</td>\n",
              "      <td>0.218324</td>\n",
              "      <td>-0.120126</td>\n",
              "      <td>0.162825</td>\n",
              "      <td>0.315950</td>\n",
              "      <td>0.204860</td>\n",
              "      <td>1.330174</td>\n",
              "      <td>-0.197323</td>\n",
              "      <td>-0.348449</td>\n",
              "      <td>0.056185</td>\n",
              "      <td>...</td>\n",
              "      <td>0.027962</td>\n",
              "      <td>0.531756</td>\n",
              "      <td>-0.644337</td>\n",
              "      <td>-0.073191</td>\n",
              "      <td>0.012032</td>\n",
              "      <td>-0.034819</td>\n",
              "      <td>0.452876</td>\n",
              "      <td>-0.091920</td>\n",
              "      <td>0.268417</td>\n",
              "      <td>-0.065963</td>\n",
              "    </tr>\n",
              "    <tr>\n",
              "      <th>19998</th>\n",
              "      <td>0.343832</td>\n",
              "      <td>0.211234</td>\n",
              "      <td>-0.158167</td>\n",
              "      <td>-0.261144</td>\n",
              "      <td>0.278003</td>\n",
              "      <td>-0.373227</td>\n",
              "      <td>0.643868</td>\n",
              "      <td>0.345242</td>\n",
              "      <td>0.029097</td>\n",
              "      <td>-0.115146</td>\n",
              "      <td>...</td>\n",
              "      <td>0.078786</td>\n",
              "      <td>0.047032</td>\n",
              "      <td>-0.344249</td>\n",
              "      <td>-0.478705</td>\n",
              "      <td>-0.300399</td>\n",
              "      <td>-0.329041</td>\n",
              "      <td>-0.644899</td>\n",
              "      <td>-0.383577</td>\n",
              "      <td>0.217160</td>\n",
              "      <td>-0.446475</td>\n",
              "    </tr>\n",
              "    <tr>\n",
              "      <th>19999</th>\n",
              "      <td>-0.231404</td>\n",
              "      <td>0.340947</td>\n",
              "      <td>0.137261</td>\n",
              "      <td>-0.013708</td>\n",
              "      <td>-0.293744</td>\n",
              "      <td>-0.031219</td>\n",
              "      <td>0.929947</td>\n",
              "      <td>0.518884</td>\n",
              "      <td>-0.316407</td>\n",
              "      <td>0.412492</td>\n",
              "      <td>...</td>\n",
              "      <td>-0.293821</td>\n",
              "      <td>0.122012</td>\n",
              "      <td>-0.412456</td>\n",
              "      <td>-1.120279</td>\n",
              "      <td>-0.208244</td>\n",
              "      <td>0.004284</td>\n",
              "      <td>0.046144</td>\n",
              "      <td>-0.240202</td>\n",
              "      <td>0.512676</td>\n",
              "      <td>0.220741</td>\n",
              "    </tr>\n",
              "  </tbody>\n",
              "</table>\n",
              "<p>19974 rows × 25 columns</p>\n",
              "</div>\n",
              "      <button class=\"colab-df-convert\" onclick=\"convertToInteractive('df-f8b16cee-d233-4b75-bed7-9b2a3b3a8fb6')\"\n",
              "              title=\"Convert this dataframe to an interactive table.\"\n",
              "              style=\"display:none;\">\n",
              "        \n",
              "  <svg xmlns=\"http://www.w3.org/2000/svg\" height=\"24px\"viewBox=\"0 0 24 24\"\n",
              "       width=\"24px\">\n",
              "    <path d=\"M0 0h24v24H0V0z\" fill=\"none\"/>\n",
              "    <path d=\"M18.56 5.44l.94 2.06.94-2.06 2.06-.94-2.06-.94-.94-2.06-.94 2.06-2.06.94zm-11 1L8.5 8.5l.94-2.06 2.06-.94-2.06-.94L8.5 2.5l-.94 2.06-2.06.94zm10 10l.94 2.06.94-2.06 2.06-.94-2.06-.94-.94-2.06-.94 2.06-2.06.94z\"/><path d=\"M17.41 7.96l-1.37-1.37c-.4-.4-.92-.59-1.43-.59-.52 0-1.04.2-1.43.59L10.3 9.45l-7.72 7.72c-.78.78-.78 2.05 0 2.83L4 21.41c.39.39.9.59 1.41.59.51 0 1.02-.2 1.41-.59l7.78-7.78 2.81-2.81c.8-.78.8-2.07 0-2.86zM5.41 20L4 18.59l7.72-7.72 1.47 1.35L5.41 20z\"/>\n",
              "  </svg>\n",
              "      </button>\n",
              "      \n",
              "  <style>\n",
              "    .colab-df-container {\n",
              "      display:flex;\n",
              "      flex-wrap:wrap;\n",
              "      gap: 12px;\n",
              "    }\n",
              "\n",
              "    .colab-df-convert {\n",
              "      background-color: #E8F0FE;\n",
              "      border: none;\n",
              "      border-radius: 50%;\n",
              "      cursor: pointer;\n",
              "      display: none;\n",
              "      fill: #1967D2;\n",
              "      height: 32px;\n",
              "      padding: 0 0 0 0;\n",
              "      width: 32px;\n",
              "    }\n",
              "\n",
              "    .colab-df-convert:hover {\n",
              "      background-color: #E2EBFA;\n",
              "      box-shadow: 0px 1px 2px rgba(60, 64, 67, 0.3), 0px 1px 3px 1px rgba(60, 64, 67, 0.15);\n",
              "      fill: #174EA6;\n",
              "    }\n",
              "\n",
              "    [theme=dark] .colab-df-convert {\n",
              "      background-color: #3B4455;\n",
              "      fill: #D2E3FC;\n",
              "    }\n",
              "\n",
              "    [theme=dark] .colab-df-convert:hover {\n",
              "      background-color: #434B5C;\n",
              "      box-shadow: 0px 1px 3px 1px rgba(0, 0, 0, 0.15);\n",
              "      filter: drop-shadow(0px 1px 2px rgba(0, 0, 0, 0.3));\n",
              "      fill: #FFFFFF;\n",
              "    }\n",
              "  </style>\n",
              "\n",
              "      <script>\n",
              "        const buttonEl =\n",
              "          document.querySelector('#df-f8b16cee-d233-4b75-bed7-9b2a3b3a8fb6 button.colab-df-convert');\n",
              "        buttonEl.style.display =\n",
              "          google.colab.kernel.accessAllowed ? 'block' : 'none';\n",
              "\n",
              "        async function convertToInteractive(key) {\n",
              "          const element = document.querySelector('#df-f8b16cee-d233-4b75-bed7-9b2a3b3a8fb6');\n",
              "          const dataTable =\n",
              "            await google.colab.kernel.invokeFunction('convertToInteractive',\n",
              "                                                     [key], {});\n",
              "          if (!dataTable) return;\n",
              "\n",
              "          const docLinkHtml = 'Like what you see? Visit the ' +\n",
              "            '<a target=\"_blank\" href=https://colab.research.google.com/notebooks/data_table.ipynb>data table notebook</a>'\n",
              "            + ' to learn more about interactive tables.';\n",
              "          element.innerHTML = '';\n",
              "          dataTable['output_type'] = 'display_data';\n",
              "          await google.colab.output.renderOutput(dataTable, element);\n",
              "          const docLink = document.createElement('div');\n",
              "          docLink.innerHTML = docLinkHtml;\n",
              "          element.appendChild(docLink);\n",
              "        }\n",
              "      </script>\n",
              "    </div>\n",
              "  </div>\n",
              "  "
            ]
          },
          "metadata": {},
          "execution_count": 60
        }
      ]
    },
    {
      "cell_type": "markdown",
      "source": [
        "Concatenamos embeddings, y características extras:"
      ],
      "metadata": {
        "id": "8c3B18EN0PIi"
      }
    },
    {
      "cell_type": "code",
      "source": [
        "vector_data = pd.concat([datos.embeddings.apply(pd.Series),\n",
        "                datos[[\"sent_polarity_str\",\"sent_subjectivity_str\"]]], axis=1)"
      ],
      "metadata": {
        "id": "e-g8b4ZWyAwA"
      },
      "execution_count": null,
      "outputs": []
    },
    {
      "cell_type": "code",
      "source": [
        "vector_data.shape"
      ],
      "metadata": {
        "id": "HO_VKwcQ0GkR",
        "colab": {
          "base_uri": "https://localhost:8080/"
        },
        "outputId": "13c093a6-f4a8-48c6-c073-8eb9fdc78c36"
      },
      "execution_count": null,
      "outputs": [
        {
          "output_type": "execute_result",
          "data": {
            "text/plain": [
              "(19974, 27)"
            ]
          },
          "metadata": {},
          "execution_count": 62
        }
      ]
    },
    {
      "cell_type": "code",
      "source": [
        "vector_data = vector_data.fillna(0)"
      ],
      "metadata": {
        "id": "R8yFiC3V1EXT"
      },
      "execution_count": null,
      "outputs": []
    },
    {
      "cell_type": "markdown",
      "metadata": {
        "id": "qrIyNSnkekfC"
      },
      "source": [
        "Utilizamos la librería scipy (función sparse.hstack) para unir las características TFIDF (contenidas en ´vector_data´) con las que acabamos de seleccionar (´extra_features´). Esta unión nos generará una matriz X que utilizaremos para hacer el train-test split posteriormente:"
      ]
    },
    {
      "cell_type": "code",
      "metadata": {
        "id": "d5-G9GaxCg3e"
      },
      "source": [
        "import scipy as sp\n",
        "# Extraemos las etiquetas y las asignamos a la variable y\n",
        "y = datos[\"label\"].values.astype(np.float32) \n",
        "X = sp.sparse.csc_matrix(vector_data)"
      ],
      "execution_count": null,
      "outputs": []
    },
    {
      "cell_type": "markdown",
      "source": [
        "#### Rebalanceo de clases:\n",
        "\n",
        "\n"
      ],
      "metadata": {
        "id": "cuNRfMyssLSp"
      }
    },
    {
      "cell_type": "markdown",
      "source": [
        "\n",
        "1. Entrenar un modelo sencillo para verificar que el desbalanceo provoca problemas de rendimiento. \n",
        "\n",
        "2. Utilizar librerías existentes para hacer esa gestión, como por ejemplo [**imlearn**](https://imbalanced-learn.org/stable/references/generated/imblearn.over_sampling.SMOTE.html#imblearn.over_sampling.SMOTE). La gestión es mejor hacerla despues del análisis exploratorio. [link to smote](https://imbalanced-learn.org/stable/references/generated/imblearn.over_sampling.SMOTE.html#imblearn.over_sampling.SMOTE)\n",
        "\n",
        "El código es muy simple: \n",
        "\n",
        "```\n",
        "# Cargamos\n",
        "from imblearn.over_sampling import SMOTE \n",
        "# Creamos objetos\n",
        "sm = SMOTE(random_state=42)\n",
        "# Retransformamos\n",
        "X_res, y_res = sm.fit_resample(X, y)\n",
        "```"
      ],
      "metadata": {
        "id": "zcEk-NhDmGmr"
      }
    },
    {
      "cell_type": "code",
      "source": [
        "# Cargamos\n",
        "from imblearn.over_sampling import SMOTE \n",
        "# Creamos objetos\n",
        "sm = SMOTE(random_state=42)\n",
        "# Retransformamos\n",
        "X_res, y_res = sm.fit_resample(X, y)  # fit_resample"
      ],
      "metadata": {
        "id": "COzn3zIzsPYi"
      },
      "execution_count": null,
      "outputs": []
    },
    {
      "cell_type": "markdown",
      "source": [
        "Observamos el resultado del rebalanceo:"
      ],
      "metadata": {
        "id": "ZfNhh4yzs11P"
      }
    },
    {
      "cell_type": "code",
      "source": [
        "np.array(np.unique(y_res, return_counts=True)).T"
      ],
      "metadata": {
        "id": "54ciX3VDsVuy",
        "colab": {
          "base_uri": "https://localhost:8080/"
        },
        "outputId": "c3e8c54b-2adb-4e48-8ce2-4d5a2808a550"
      },
      "execution_count": null,
      "outputs": [
        {
          "output_type": "execute_result",
          "data": {
            "text/plain": [
              "array([[0.0000e+00, 1.2977e+04],\n",
              "       [4.0000e+00, 1.2977e+04]])"
            ]
          },
          "metadata": {},
          "execution_count": 66
        }
      ]
    },
    {
      "cell_type": "markdown",
      "source": [
        "COn esos datos ya podemos entrenar con mayor tranquilidad."
      ],
      "metadata": {
        "id": "Q0P1pN-Q9z7B"
      }
    },
    {
      "cell_type": "markdown",
      "source": [
        "#### Entrenamiento/testeo modelo"
      ],
      "metadata": {
        "id": "pRhS3ftas95k"
      }
    },
    {
      "cell_type": "markdown",
      "source": [
        "**División train/text**"
      ],
      "metadata": {
        "id": "4Yu8Bp-OtXh1"
      }
    },
    {
      "cell_type": "code",
      "source": [
        "from sklearn.model_selection import train_test_split\n",
        "X_train, X_test, y_train, y_test = train_test_split(X_res, y_res, random_state=0)\n",
        "print(X_train.shape)\n",
        "print(X_test.shape)"
      ],
      "metadata": {
        "colab": {
          "base_uri": "https://localhost:8080/"
        },
        "id": "NjoCtSuwtW9w",
        "outputId": "d70b6846-fc77-48c4-8587-701b5d53f195"
      },
      "execution_count": null,
      "outputs": [
        {
          "output_type": "stream",
          "name": "stdout",
          "text": [
            "(19465, 27)\n",
            "(6489, 27)\n"
          ]
        }
      ]
    },
    {
      "cell_type": "markdown",
      "metadata": {
        "id": "692437DAeiyy"
      },
      "source": [
        "**Decision de modelo de ML a utilizar**\n",
        "\n",
        "En primer lugar se ha generado una función para medir la calidad de varios modelos estándar de forma fácil y ver sus resultados. \n",
        "\n",
        "La función hace un KFold y evalua diferentes modelos con una métrica de evblauación:"
      ]
    },
    {
      "cell_type": "code",
      "source": [
        "# Definimos las funcionalidades pertinentes de sklearn:\n",
        "from sklearn.model_selection import KFold\n",
        "from sklearn.model_selection import cross_val_score\n",
        "from sklearn.model_selection import GridSearchCV, RandomizedSearchCV\n",
        "import warnings \n",
        "# Definimos la función encargada de evaluar los modelos:\n",
        "def model_evaluation(models, score, X, y):\n",
        "      results = []\n",
        "      names = []\n",
        "      #PAra cada modelo\n",
        "      for name, model in models:\n",
        "          warnings.filterwarnings('ignore') \n",
        "          # Generamos un Kfold\n",
        "          KF = KFold(n_splits = 10, shuffle = True, random_state = 98)\n",
        "\n",
        "          # hacemos croos_val\n",
        "          cv_results = cross_val_score(model, X, y, cv = KF, scoring = score, verbose = False)\n",
        "          \n",
        "          # Guardamos los resultados:\n",
        "          results.append(cv_results)\n",
        "          names.append(name)\n",
        "          \n",
        "          # Mostramos los resultados numéricamente:\n",
        "          print('Metric: {} , KFold '.format(str(score)))\n",
        "          print(\"%s: %f (%f) \" % (name, cv_results.mean(), cv_results.std()))\n",
        "\n",
        "      return results, names"
      ],
      "metadata": {
        "id": "5m_42mDgO5s-"
      },
      "execution_count": null,
      "outputs": []
    },
    {
      "cell_type": "markdown",
      "source": [
        "Una vez definida la función, podemos definir los modelos con los que hacer la evaluación. En este caso hemos incorporado la regresión logística y una naive bayes. "
      ],
      "metadata": {
        "id": "R_KYX8MRSzhJ"
      }
    },
    {
      "cell_type": "code",
      "source": [
        "# Cargamos los modelos\n",
        "from sklearn.linear_model import LogisticRegression\n",
        "from sklearn.tree import DecisionTreeClassifier\n",
        "from sklearn.naive_bayes import GaussianNB\n",
        "\n",
        "# Definimos los modelos y generamos una lista con cada uno de ellos:\n",
        "models = [\n",
        "         (\"Logistic\",LogisticRegression(random_state=30)),\n",
        "         (\"GaussianNB\",GaussianNB())\n",
        "]\n",
        "\n",
        "evaluation_score = \"accuracy\"\n",
        "\n",
        "model_evaluation(models,  evaluation_score, X_train.toarray(), y_train)   "
      ],
      "metadata": {
        "id": "ujjjeM69OU05",
        "colab": {
          "base_uri": "https://localhost:8080/"
        },
        "outputId": "38c063ca-e421-47f9-9b3b-c04ab78f346e"
      },
      "execution_count": null,
      "outputs": [
        {
          "output_type": "stream",
          "name": "stdout",
          "text": [
            "Metric: accuracy , KFold \n",
            "Logistic: 0.687542 (0.008811) \n",
            "Metric: accuracy , KFold \n",
            "GaussianNB: 0.668481 (0.008996) \n"
          ]
        },
        {
          "output_type": "execute_result",
          "data": {
            "text/plain": [
              "([array([0.68669748, 0.68156138, 0.67334361, 0.69388803, 0.68875193,\n",
              "         0.69373073, 0.67882837, 0.67934224, 0.6963001 , 0.70298047]),\n",
              "  array([0.67745249, 0.66153056, 0.66666667, 0.66563945, 0.68053416,\n",
              "         0.67368962, 0.6618705 , 0.65313464, 0.66238438, 0.68191161])],\n",
              " ['Logistic', 'GaussianNB'])"
            ]
          },
          "metadata": {},
          "execution_count": 69
        }
      ]
    },
    {
      "cell_type": "markdown",
      "metadata": {
        "id": "hJu0sOIggTbi"
      },
      "source": [
        "Definimos las variables para hacer una grid_searc:"
      ]
    },
    {
      "cell_type": "code",
      "metadata": {
        "id": "_1OKzEElg44Z"
      },
      "source": [
        "from sklearn.model_selection import KFold\n",
        "from sklearn.model_selection import GridSearchCV\n",
        "# define models and parameters\n",
        "model = LogisticRegression()\n",
        "solvers = ['newton-cg', 'liblinear']\n",
        "penalty = ['l2']\n",
        "c_values = [100, 10, 1.0, 0.1, 0.01]\n"
      ],
      "execution_count": null,
      "outputs": []
    },
    {
      "cell_type": "code",
      "metadata": {
        "id": "hbK9YtNig7Fz"
      },
      "source": [
        "grid = dict(solver=solvers,penalty=penalty,C=c_values)\n",
        "cv = KFold(n_splits=10)\n",
        "grid_search = GridSearchCV(estimator=model, param_grid=grid, n_jobs=-1, cv=cv, scoring='accuracy',error_score=0)"
      ],
      "execution_count": null,
      "outputs": []
    },
    {
      "cell_type": "markdown",
      "metadata": {
        "id": "QONMSvrbghg0"
      },
      "source": [
        "Vamos a entrenar el grid_search para obtener el mejor parámetro para nuestro conjunto de datos."
      ]
    },
    {
      "cell_type": "code",
      "metadata": {
        "colab": {
          "base_uri": "https://localhost:8080/"
        },
        "id": "EL41eC6sg96m",
        "outputId": "69815c84-a5b3-4143-f06f-4fa6ef15e4b2"
      },
      "source": [
        "grid_result = grid_search.fit(X_train, y_train)\n",
        "# summarize results\n",
        "print(\"Mejor accuracy: %f usando los parámetros %s\" % (grid_result.best_score_, grid_result.best_params_))\n"
      ],
      "execution_count": null,
      "outputs": [
        {
          "output_type": "stream",
          "name": "stdout",
          "text": [
            "Mejor accuracy: 0.688158 usando los parámetros {'C': 0.1, 'penalty': 'l2', 'solver': 'liblinear'}\n"
          ]
        }
      ]
    },
    {
      "cell_type": "markdown",
      "metadata": {
        "id": "Ha9YcRp-grU7"
      },
      "source": [
        "Entrenamos el modelo con los resultados ofrecidos por la grid_search:"
      ]
    },
    {
      "cell_type": "code",
      "metadata": {
        "colab": {
          "base_uri": "https://localhost:8080/"
        },
        "id": "x-9g5DOMhBeE",
        "outputId": "0c2991d9-b4c7-4556-a300-9261a87e9512"
      },
      "source": [
        "from sklearn.model_selection import (KFold, cross_val_score,cross_validate)\n",
        "from sklearn.metrics import make_scorer, accuracy_score, precision_score, recall_score, f1_score\n",
        "\n",
        "model=LogisticRegression(C=10, penalty=\"l2\", solver = \"newton-cg\")\n",
        "model.fit(X_train,y_train)\n"
      ],
      "execution_count": null,
      "outputs": [
        {
          "output_type": "execute_result",
          "data": {
            "text/plain": [
              "LogisticRegression(C=10, solver='newton-cg')"
            ]
          },
          "metadata": {},
          "execution_count": 73
        }
      ]
    },
    {
      "cell_type": "markdown",
      "metadata": {
        "id": "DLGMMi1Ng0na"
      },
      "source": [
        "Vamos a ver como funciona el modelo haciendo el predict del test y mostrando la matriz de confusióñn y el classifciation_Report:"
      ]
    },
    {
      "cell_type": "code",
      "metadata": {
        "id": "h43h7-Upg04e",
        "colab": {
          "base_uri": "https://localhost:8080/"
        },
        "outputId": "74d20b09-32c5-493d-d146-61561337efb1"
      },
      "source": [
        "from sklearn.metrics import f1_score, confusion_matrix\n",
        "from sklearn.metrics import classification_report\n",
        "y_pred = model.predict(X_test)\n",
        "print(confusion_matrix(y_test,y_pred))\n",
        "print(classification_report(y_test,y_pred))"
      ],
      "execution_count": null,
      "outputs": [
        {
          "output_type": "stream",
          "name": "stdout",
          "text": [
            "[[2223  987]\n",
            " [1028 2251]]\n",
            "              precision    recall  f1-score   support\n",
            "\n",
            "         0.0       0.68      0.69      0.69      3210\n",
            "         4.0       0.70      0.69      0.69      3279\n",
            "\n",
            "    accuracy                           0.69      6489\n",
            "   macro avg       0.69      0.69      0.69      6489\n",
            "weighted avg       0.69      0.69      0.69      6489\n",
            "\n"
          ]
        }
      ]
    },
    {
      "cell_type": "markdown",
      "source": [
        ""
      ],
      "metadata": {
        "id": "xgjatCnD5YgO"
      }
    },
    {
      "cell_type": "code",
      "source": [
        "              precision    recall  f1-score   support\n",
        "\n",
        "         0.0       0.68      0.69      0.69      3210\n",
        "         1.0       0.01      0.02      0.00      3279\n",
        "\n",
        "    accuracy                           0.69      6489\n",
        "   macro avg       0.69      0.69      0.69      6489\n",
        "weighted avg       0.69      0.69      0.69      6489"
      ],
      "metadata": {
        "id": "nE_qNWkT5X-8"
      },
      "execution_count": null,
      "outputs": []
    },
    {
      "cell_type": "markdown",
      "source": [
        "### Importancia variables:\n"
      ],
      "metadata": {
        "id": "csaE4vEyt82k"
      }
    },
    {
      "cell_type": "markdown",
      "metadata": {
        "id": "jja7IS6vg_dp"
      },
      "source": [
        "Además, podríamos mostrar el grado de importancia relativa de las variables dle modelo. Aquí hago el listado, pero lo ideal sería seleccionar las más importantes dentro del modelo para saber cuales están teniendo más influencia:"
      ]
    },
    {
      "cell_type": "code",
      "metadata": {
        "id": "cb0sU6ANFBUa"
      },
      "source": [
        "# Obtener la importancia de las variables del modelo\n",
        "importance = model.coef_[0]\n"
      ],
      "execution_count": null,
      "outputs": []
    },
    {
      "cell_type": "markdown",
      "source": [
        "En este caso, para el modelo de regreisón logística la importancia viene dada por los coeficientes de las características del modelo. Si el coeficiente tiene coeficiente positivo, indica que la presencia de esa característica nos ayua a a clasificar el tweet a nuestra clase positiva (clase de interés), si el coeficiente (importancia) es negativa indica que la presencia de ese tweet \"empuja\" al clasificador a clasificar el tweet en nuestra clase negativa. "
      ],
      "metadata": {
        "id": "-3MApLoCudlA"
      }
    },
    {
      "cell_type": "markdown",
      "metadata": {
        "id": "2VAyddZlhbjh"
      },
      "source": [
        "A continuación utilizamos esa variable de importancia de variables, junto a los nombres de las características almacenadas anteriormente en X_columns, para listar la importancia de cada una de las variables."
      ]
    },
    {
      "cell_type": "code",
      "metadata": {
        "id": "xxj-SgYChb3_"
      },
      "source": [
        "# Mostrar el número de la característica, con su nombre, y su score de importancia\n",
        "for i,v in enumerate(importance):\n",
        " print('Feature: %0d, Name: %s , Score: %.5f' % (i,X_columns[i],v))\n",
        "# plot feature importance\n",
        "plt.bar([x for x in range(len(importance))], importance)\n",
        "plt.show()"
      ],
      "execution_count": null,
      "outputs": []
    }
  ]
}